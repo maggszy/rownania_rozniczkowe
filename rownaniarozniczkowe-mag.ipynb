{
 "cells": [
  {
   "cell_type": "code",
   "execution_count": 1,
   "metadata": {},
   "outputs": [],
   "source": [
    "from scipy.integrate import odeint\n",
    "import numpy as np\n",
    "import matplotlib.pyplot as plt"
   ]
  },
  {
   "cell_type": "code",
   "execution_count": 2,
   "metadata": {},
   "outputs": [],
   "source": [
    "def x_prime(v,b): #pochodna x\n",
    "    dxdb= v*np.cos(b)\n",
    "    return dxdb\n",
    "    \n",
    "def y_prime(v,b): #pierwsza pochodna y\n",
    "    dydb= v*np.sin(b)\n",
    "    return dydb"
   ]
  },
  {
   "cell_type": "code",
   "execution_count": 3,
   "metadata": {},
   "outputs": [
    {
     "data": {
      "text/plain": [
       "-0.8322936730942848"
      ]
     },
     "execution_count": 3,
     "metadata": {},
     "output_type": "execute_result"
    }
   ],
   "source": [
    "x_prime(2,2)"
   ]
  },
  {
   "cell_type": "code",
   "execution_count": 4,
   "metadata": {},
   "outputs": [],
   "source": [
    "def x_bis(v,b,k1,k2,omega0,t,tał): #2pochodna x\n",
    "    x_pr=x_prime(v,b)\n",
    "    y_pr=y_prime(v,b)\n",
    "    k=k1+(k2-k1)/(np.cos(omega0))*(-y_prime(v,b)/v)\n",
    "    #w=k*v**2\n",
    "    omega=omega0*(1-np.exp(-t/tał))\n",
    "    \n",
    "    ddx=-(1/m)*k*v*(x_pr*np.sin(omega)+y_pr*np.cos(omega))\n",
    "    return ddx"
   ]
  },
  {
   "cell_type": "code",
   "execution_count": 5,
   "metadata": {},
   "outputs": [],
   "source": [
    "def y_bis(v,b,k1,k2,omega0,t,tał): #2pochodna y\n",
    "    x_pr=x_prime(v,b)\n",
    "    y_pr=y_prime(v,b)\n",
    "    g=9.81\n",
    "    k=k1+(k2-k1)/(np.cos(omega0))*(-y_prime(v,b)/v)\n",
    "    #w=k*v**2\n",
    "    omega=omega0*(1-np.exp(-t/tał))\n",
    "    \n",
    "    ddy=(1/m)*k*v*(y_pr*np.sin(omega)+x_pr*np.cos(omega))- m*g\n",
    "    return ddy"
   ]
  },
  {
   "cell_type": "markdown",
   "metadata": {},
   "source": [
    "the right ones"
   ]
  },
  {
   "cell_type": "code",
   "execution_count": 6,
   "metadata": {},
   "outputs": [],
   "source": [
    "def x_prime2(v,b): #pochodna x\n",
    "    dxdb= lambda y,t: v*np.cos(b) #działa ale to t tak z dupy\n",
    "    return dxdb\n",
    "    \n",
    "def y_prime2(v,b): #pierwsza pochodna y\n",
    "    dydb= lambda y,t: v*np.sin(b)\n",
    "    return dydb"
   ]
  },
  {
   "cell_type": "code",
   "execution_count": 7,
   "metadata": {},
   "outputs": [
    {
     "data": {
      "text/plain": [
       "<function __main__.x_prime2.<locals>.<lambda>(y, t)>"
      ]
     },
     "execution_count": 7,
     "metadata": {},
     "output_type": "execute_result"
    }
   ],
   "source": [
    "x_prime2(2,2)"
   ]
  },
  {
   "cell_type": "code",
   "execution_count": 8,
   "metadata": {},
   "outputs": [],
   "source": [
    "def x_bis2(v,b,k1,k2,omega0,t,tał): #2pochodna x\n",
    "    x_pr=x_prime(v,b)\n",
    "    y_pr=y_prime(v,b)\n",
    "    k=k1+(k2-k1)/(np.cos(omega0))*(-y_prime(v,b)/v)\n",
    "    #w=k*v**2\n",
    "    omega=omega0*(1-np.exp(-t/tał))\n",
    "    \n",
    "    ddx=lambda y,t: -(1/m)*k*v*(x_pr*np.sin(omega)+y_pr*np.cos(omega))\n",
    "    return ddx\n",
    "\n",
    "def y_bis2(v,b,k1,k2,omega0,t,tał): #2pochodna y\n",
    "    x_pr=x_prime(v,b)\n",
    "    y_pr=y_prime(v,b)\n",
    "    g=9.81\n",
    "    k=k1+(k2-k1)/(np.cos(omega0))*(-y_prime(v,b)/v)\n",
    "    #w=k*v**2\n",
    "    omega=omega0*(1-np.exp(-t/tał))\n",
    "    \n",
    "    ddy=(1/m)*k*v*(y_pr*np.sin(omega)+x_pr*np.cos(omega))- m*g\n",
    "    return ddy"
   ]
  },
  {
   "cell_type": "code",
   "execution_count": 15,
   "metadata": {},
   "outputs": [],
   "source": [
    "def x_bis3(x0,v,b,k1,k2,omega0,t,tał):\n",
    "    y_pr=y_prime(v,b)\n",
    "    k=k1+(k2-k1)/(np.cos(omega0))*(-y_prime(v,b)/v)\n",
    "    omega=omega0*(1-np.exp(-t/tał))\n",
    "    \n",
    "    ddx=lambda y,t: -(1/m)*k*v*(x0*np.sin(omega)+y_pr*np.cos(omega))\n",
    "    return ddx"
   ]
  },
  {
   "cell_type": "code",
   "execution_count": 100,
   "metadata": {},
   "outputs": [],
   "source": [
    "def odeEuler(f,y0,t,):\n",
    "    \"\"\"\n",
    "    approximate the solution of y'=f(y,t) by Euler's method\n",
    "    \"\"\"\n",
    "    y=np.zeros(len(t))\n",
    "    y[0]=y0\n",
    "    for n in range(0,len(t)-1):\n",
    "        y[n+1] = y[n] + f(y[n],t[n])*(t[n+1] - t[n])\n",
    "    return y\n",
    "\n",
    "def odeEuler2(u0,t,v,b,k1,k2,omega0,tał): #działa!!!!\n",
    "    \"\"\"\n",
    "    approximate the solution of y'=f(y,t) by Euler's method\n",
    "    \n",
    "    \"\"\"\n",
    "    y_pr=y_prime(v,b)\n",
    "    k=k1+(k2-k1)/(np.cos(omega0))*(-y_prime(v,b)/v)\n",
    "    omega=omega0*(1-np.exp(-t/tał))\n",
    "    #du=lambda y,t: -(1/m)*k*v*(y*np.sin(omega)+y_pr*np.cos(omega))\n",
    "    #du=lambda y,t: y*np.sin(omega0*(1-np.exp(-t/tał)))\n",
    "    du=lambda u,t: -(1/m)*k*v*(u*np.sin(omega0*(1-np.exp(-t/tał)))+y_pr*np.cos(omega0*(1-np.exp(-t/tał))))\n",
    "    #ddy=lambda y,t: y*y_pr\n",
    "    \n",
    "    u=np.zeros(len(t))\n",
    "    u[0]=y0\n",
    "    for n in range(0,len(t)-1):\n",
    "        u[n+1] = u[n] + du(u[n],t[n])*(t[n+1] - t[n])\n",
    "    return u\n",
    "\n",
    "#y_pr=y_prime(v,b)\n",
    "#k=k1+(k2-k1)/(np.cos(omega0))*(-y_prime(v,b)/v)\n",
    "#du=lambda u,t: -(1/m)*k*v*(u*np.sin(omega0*(1-np.exp(-t/tał)))+y_pr*np.cos(omega0*(1-np.exp(-t/tał))))\n",
    "\n",
    "def odeEuler3(du,u0,t,v,b,k1,k2,omega0,tał):\n",
    "    \n",
    "    u=np.zeros(len(t))\n",
    "    u[0]=y0\n",
    "    for n in range(0,len(t)-1):\n",
    "        u[n+1] = u[n] + du(u[n],t[n])*(t[n+1] - t[n])\n",
    "    return u\n",
    "\n",
    "def odeEuler4(ddu,u0,t,v,b,k1,k2,omega0,tał):\n",
    "    y_pr=y_prime(v,b)\n",
    "    k=k1+(k2-k1)/(np.cos(omega0))*(-y_prime(v,b)/v)\n",
    "    omega=omega0*(1-np.exp(-t/tał))\n",
    "    du=lambda u,t: -(1/m)*k*v*(u*np.sin(omega0*(1-np.exp(-t/tał)))+y_pr*np.cos(omega0*(1-np.exp(-t/tał))))\n",
    "    \n",
    "    u=du\n",
    "    u[0]=y0\n",
    "    for n in range(0,len(t)-1):\n",
    "        u[n+1] = u[n] + ddu(u[n],t[n])*(t[n+1] - t[n])\n",
    "    return u"
   ]
  },
  {
   "cell_type": "code",
   "execution_count": 102,
   "metadata": {},
   "outputs": [
    {
     "ename": "TypeError",
     "evalue": "'function' object does not support item assignment",
     "output_type": "error",
     "traceback": [
      "\u001b[1;31m---------------------------------------------------------------------------\u001b[0m",
      "\u001b[1;31mTypeError\u001b[0m                                 Traceback (most recent call last)",
      "\u001b[1;32m<ipython-input-102-c7c1853599b5>\u001b[0m in \u001b[0;36m<module>\u001b[1;34m\u001b[0m\n\u001b[0;32m     11\u001b[0m \u001b[0momega0\u001b[0m\u001b[1;33m=\u001b[0m\u001b[1;36m60\u001b[0m\u001b[1;33m\u001b[0m\u001b[1;33m\u001b[0m\u001b[0m\n\u001b[0;32m     12\u001b[0m \u001b[0mtał\u001b[0m\u001b[1;33m=\u001b[0m\u001b[1;36m1\u001b[0m\u001b[1;33m\u001b[0m\u001b[1;33m\u001b[0m\u001b[0m\n\u001b[1;32m---> 13\u001b[1;33m \u001b[0modeEuler4\u001b[0m\u001b[1;33m(\u001b[0m\u001b[0modeEuler2\u001b[0m\u001b[1;33m(\u001b[0m\u001b[0mu0\u001b[0m\u001b[1;33m,\u001b[0m\u001b[0mt\u001b[0m\u001b[1;33m,\u001b[0m\u001b[0mv\u001b[0m\u001b[1;33m,\u001b[0m\u001b[0mb\u001b[0m\u001b[1;33m,\u001b[0m\u001b[0mk1\u001b[0m\u001b[1;33m,\u001b[0m\u001b[0mk2\u001b[0m\u001b[1;33m,\u001b[0m\u001b[0momega0\u001b[0m\u001b[1;33m,\u001b[0m\u001b[0mtał\u001b[0m\u001b[1;33m)\u001b[0m\u001b[1;33m,\u001b[0m\u001b[0mu0\u001b[0m\u001b[1;33m,\u001b[0m\u001b[0mt\u001b[0m\u001b[1;33m,\u001b[0m\u001b[0mv\u001b[0m\u001b[1;33m,\u001b[0m\u001b[0mb\u001b[0m\u001b[1;33m,\u001b[0m\u001b[0mk1\u001b[0m\u001b[1;33m,\u001b[0m\u001b[0mk2\u001b[0m\u001b[1;33m,\u001b[0m\u001b[0momega0\u001b[0m\u001b[1;33m,\u001b[0m\u001b[0mtał\u001b[0m\u001b[1;33m)\u001b[0m\u001b[1;33m\u001b[0m\u001b[1;33m\u001b[0m\u001b[0m\n\u001b[0m",
      "\u001b[1;32m<ipython-input-100-2acc21aaf854>\u001b[0m in \u001b[0;36modeEuler4\u001b[1;34m(ddu, u0, t, v, b, k1, k2, omega0, tał)\u001b[0m\n\u001b[0;32m     47\u001b[0m \u001b[1;33m\u001b[0m\u001b[0m\n\u001b[0;32m     48\u001b[0m     \u001b[0mu\u001b[0m\u001b[1;33m=\u001b[0m\u001b[0mdu\u001b[0m\u001b[1;33m\u001b[0m\u001b[1;33m\u001b[0m\u001b[0m\n\u001b[1;32m---> 49\u001b[1;33m     \u001b[0mu\u001b[0m\u001b[1;33m[\u001b[0m\u001b[1;36m0\u001b[0m\u001b[1;33m]\u001b[0m\u001b[1;33m=\u001b[0m\u001b[0my0\u001b[0m\u001b[1;33m\u001b[0m\u001b[1;33m\u001b[0m\u001b[0m\n\u001b[0m\u001b[0;32m     50\u001b[0m     \u001b[1;32mfor\u001b[0m \u001b[0mn\u001b[0m \u001b[1;32min\u001b[0m \u001b[0mrange\u001b[0m\u001b[1;33m(\u001b[0m\u001b[1;36m0\u001b[0m\u001b[1;33m,\u001b[0m\u001b[0mlen\u001b[0m\u001b[1;33m(\u001b[0m\u001b[0mt\u001b[0m\u001b[1;33m)\u001b[0m\u001b[1;33m-\u001b[0m\u001b[1;36m1\u001b[0m\u001b[1;33m)\u001b[0m\u001b[1;33m:\u001b[0m\u001b[1;33m\u001b[0m\u001b[1;33m\u001b[0m\u001b[0m\n\u001b[0;32m     51\u001b[0m         \u001b[0mu\u001b[0m\u001b[1;33m[\u001b[0m\u001b[0mn\u001b[0m\u001b[1;33m+\u001b[0m\u001b[1;36m1\u001b[0m\u001b[1;33m]\u001b[0m \u001b[1;33m=\u001b[0m \u001b[0mu\u001b[0m\u001b[1;33m[\u001b[0m\u001b[0mn\u001b[0m\u001b[1;33m]\u001b[0m \u001b[1;33m+\u001b[0m \u001b[0mddu\u001b[0m\u001b[1;33m(\u001b[0m\u001b[0mu\u001b[0m\u001b[1;33m[\u001b[0m\u001b[0mn\u001b[0m\u001b[1;33m]\u001b[0m\u001b[1;33m,\u001b[0m\u001b[0mt\u001b[0m\u001b[1;33m[\u001b[0m\u001b[0mn\u001b[0m\u001b[1;33m]\u001b[0m\u001b[1;33m)\u001b[0m\u001b[1;33m*\u001b[0m\u001b[1;33m(\u001b[0m\u001b[0mt\u001b[0m\u001b[1;33m[\u001b[0m\u001b[0mn\u001b[0m\u001b[1;33m+\u001b[0m\u001b[1;36m1\u001b[0m\u001b[1;33m]\u001b[0m \u001b[1;33m-\u001b[0m \u001b[0mt\u001b[0m\u001b[1;33m[\u001b[0m\u001b[0mn\u001b[0m\u001b[1;33m]\u001b[0m\u001b[1;33m)\u001b[0m\u001b[1;33m\u001b[0m\u001b[1;33m\u001b[0m\u001b[0m\n",
      "\u001b[1;31mTypeError\u001b[0m: 'function' object does not support item assignment"
     ]
    }
   ],
   "source": [
    "\n",
    "time=3\n",
    "t = np.linspace(0,3,21)\n",
    "u0=1\n",
    "m=10\n",
    "amount= 25\n",
    "v=26.5\n",
    "b=0\n",
    "u0=0\n",
    "k1=1\n",
    "k2=2\n",
    "omega0=60\n",
    "tał=1\n",
    "u=odeEuler2(u0,t,v,b,k1,k2,omega0,tał)\n",
    "for i in u:\n",
    "    \n",
    "odeEuler4(u,u0,t,v,b,k1,k2,omega0,tał)"
   ]
  },
  {
   "cell_type": "code",
   "execution_count": 82,
   "metadata": {},
   "outputs": [],
   "source": [
    "def ode2Euler(time,amount,v,b,u0,k1,k2,omega0,tał,m): #czas, ile próbek czasu, prędkość, kąt nachylenia v do poziomu, war początkowy\n",
    "    t=np.linspace(0,time,amount)\n",
    "    f=x_prime(v,b)\n",
    "    u=odeEuler(f,0,t)\n",
    "    \n",
    "    f2=x_bis2(v,b,k1,k2,omega0,t,tał,m)\n",
    "    uu=odeEuler(f2,0,t)\n",
    "    \n",
    "    return uu\n",
    "    "
   ]
  },
  {
   "cell_type": "code",
   "execution_count": 12,
   "metadata": {},
   "outputs": [
    {
     "data": {
      "text/plain": [
       "-35.30332020276987"
      ]
     },
     "execution_count": 12,
     "metadata": {},
     "output_type": "execute_result"
    }
   ],
   "source": [
    "time=3\n",
    "m=10\n",
    "amount= 25\n",
    "v=26.5\n",
    "b=0\n",
    "u0=0\n",
    "k1=1\n",
    "k2=2\n",
    "omega0=60\n",
    "tał=1\n",
    "x_bis(v,b,k1,k2,omega0,time,tał)\n",
    "y_bis(v,b,k1,k2,omega0,time,tał)\n",
    "#ode2Euler(time,amount,v,b,u0,k1,k2,omega0,tał,m)"
   ]
  },
  {
   "cell_type": "markdown",
   "metadata": {},
   "source": [
    "wykres dla pierwszej pochdnej x"
   ]
  },
  {
   "cell_type": "code",
   "execution_count": null,
   "metadata": {},
   "outputs": [],
   "source": [
    "t = np.linspace(0,2,21)\n",
    "y0 = 0\n",
    "v=26.5\n",
    "b=0\n",
    "f = x_prime2(26,0)\n",
    "#f = lambda y,t: y\n",
    "y = odeEuler(f,y0,t)\n",
    "y_true = np.exp(t) #nieistotne jakby co\n",
    "plt.plot(t,y,'b.-',t,y_true,'r-')\n",
    "plt.legend(['Euler','True'])\n",
    "#plt.axis([0,2,0,9])\n",
    "plt.grid(True)\n",
    "#plt.title(\"Solution of $y'=y , y(0)=0$\")\n",
    "plt.show()"
   ]
  },
  {
   "cell_type": "code",
   "execution_count": null,
   "metadata": {},
   "outputs": [],
   "source": [
    "t = np.linspace(0,2,21)\n",
    "y0 = 0\n",
    "v=26.5\n",
    "b=0\n",
    "f = y_prime2(26,0)\n",
    "#f = lambda y,t: y\n",
    "y = odeEuler(f,y0,t)\n",
    "#y_true = np.exp(t) #nieistotne jakby co\n",
    "plt.plot(t,y,'b.-')#,t,y_true,'r-')\n",
    "plt.legend(['Euler','True'])\n",
    "#plt.axis([0,2,0,9])\n",
    "plt.grid(True)\n",
    "#plt.title(\"Solution of $y'=y , y(0)=0$\")\n",
    "plt.show()"
   ]
  },
  {
   "cell_type": "code",
   "execution_count": null,
   "metadata": {},
   "outputs": [],
   "source": []
  },
  {
   "cell_type": "code",
   "execution_count": null,
   "metadata": {},
   "outputs": [],
   "source": []
  },
  {
   "cell_type": "code",
   "execution_count": null,
   "metadata": {},
   "outputs": [],
   "source": []
  }
 ],
 "metadata": {
  "kernelspec": {
   "display_name": "Python 3",
   "language": "python",
   "name": "python3"
  },
  "language_info": {
   "codemirror_mode": {
    "name": "ipython",
    "version": 3
   },
   "file_extension": ".py",
   "mimetype": "text/x-python",
   "name": "python",
   "nbconvert_exporter": "python",
   "pygments_lexer": "ipython3",
   "version": "3.8.5"
  }
 },
 "nbformat": 4,
 "nbformat_minor": 5
}
