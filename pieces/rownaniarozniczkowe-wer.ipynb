{
 "cells": [
  {
   "cell_type": "code",
   "execution_count": 4,
   "id": "unsigned-portuguese",
   "metadata": {},
   "outputs": [],
   "source": [
    "from scipy.integrate import odeint\n",
    "import numpy as np\n",
    "import matplotlib.pyplot as plt"
   ]
  },
  {
   "cell_type": "markdown",
   "id": "smoking-forward",
   "metadata": {},
   "source": [
    "(6)"
   ]
  },
  {
   "cell_type": "code",
   "execution_count": 5,
   "id": "active-scoop",
   "metadata": {},
   "outputs": [],
   "source": [
    "def x_prime(v0,b): #pochodna x\n",
    "    dxdb= v0*np.cos(b)\n",
    "    return dxdb\n",
    "    \n",
    "def y_prime(v0,b): #pierwsza pochodna y\n",
    "    t=np.linspace(0,5,10000)\n",
    "    dydb= v0*np.sin(b)-g*t\n",
    "    return dydb"
   ]
  },
  {
   "cell_type": "code",
   "execution_count": 6,
   "id": "colored-horror",
   "metadata": {},
   "outputs": [],
   "source": [
    "def v_x(v0,b): #pochodna x\n",
    "    v_x= v0*np.cos(b)\n",
    "    return v_x\n",
    "    \n",
    "def v_y(v0,b): #pierwsza pochodna y\n",
    "    t=np.linspace(0,5,10000)\n",
    "    v_y= v0*np.sin(b)-g*t\n",
    "    return v_y"
   ]
  },
  {
   "cell_type": "code",
   "execution_count": 7,
   "id": "pleased-tourism",
   "metadata": {},
   "outputs": [
    {
     "ename": "NameError",
     "evalue": "name 'v0' is not defined",
     "output_type": "error",
     "traceback": [
      "\u001b[1;31m---------------------------------------------------------------------------\u001b[0m",
      "\u001b[1;31mNameError\u001b[0m                                 Traceback (most recent call last)",
      "\u001b[1;32m<ipython-input-7-f094d1b9f343>\u001b[0m in \u001b[0;36m<module>\u001b[1;34m\u001b[0m\n\u001b[1;32m----> 1\u001b[1;33m plt.plot(v_x(v0,b), v_y(v0,b)\n\u001b[0m\u001b[0;32m      2\u001b[0m         )  \n\u001b[0;32m      3\u001b[0m \u001b[0max\u001b[0m \u001b[1;33m=\u001b[0m \u001b[0mplt\u001b[0m\u001b[1;33m.\u001b[0m\u001b[0mgca\u001b[0m\u001b[1;33m(\u001b[0m\u001b[1;33m)\u001b[0m\u001b[1;33m\u001b[0m\u001b[1;33m\u001b[0m\u001b[0m\n\u001b[0;32m      4\u001b[0m \u001b[0max\u001b[0m\u001b[1;33m.\u001b[0m\u001b[0mset_xlim\u001b[0m\u001b[1;33m(\u001b[0m\u001b[1;33m[\u001b[0m\u001b[1;36m0\u001b[0m\u001b[1;33m,\u001b[0m \u001b[1;36m50\u001b[0m\u001b[1;33m]\u001b[0m\u001b[1;33m)\u001b[0m\u001b[1;33m\u001b[0m\u001b[1;33m\u001b[0m\u001b[0m\n\u001b[0;32m      5\u001b[0m \u001b[0max\u001b[0m\u001b[1;33m.\u001b[0m\u001b[0mset_ylim\u001b[0m\u001b[1;33m(\u001b[0m\u001b[1;33m[\u001b[0m\u001b[1;36m0\u001b[0m\u001b[1;33m,\u001b[0m \u001b[1;36m50\u001b[0m\u001b[1;33m]\u001b[0m\u001b[1;33m)\u001b[0m\u001b[1;33m\u001b[0m\u001b[1;33m\u001b[0m\u001b[0m\n",
      "\u001b[1;31mNameError\u001b[0m: name 'v0' is not defined"
     ]
    }
   ],
   "source": [
    "plt.plot(v_x(v0,b), v_y(v0,b)\n",
    "        )  \n",
    "ax = plt.gca()\n",
    "ax.set_xlim([0, 50])\n",
    "ax.set_ylim([0, 50])"
   ]
  },
  {
   "cell_type": "code",
   "execution_count": null,
   "id": "scientific-planner",
   "metadata": {},
   "outputs": [],
   "source": [
    "x_prime(2,2)"
   ]
  },
  {
   "cell_type": "markdown",
   "id": "exotic-jamaica",
   "metadata": {},
   "source": [
    "(7)\n",
    "dlaczego nie k=k1+..."
   ]
  },
  {
   "cell_type": "code",
   "execution_count": null,
   "id": "unavailable-argentina",
   "metadata": {},
   "outputs": [],
   "source": [
    "t = np.linspace(0,2,21)\n",
    "def x_bis(v,b,k1,k2,omega0,t,tał): #2pochodna x\n",
    "    k=k1+(k2-k1)/(np.cos(omega0))*(-y_prime(v,b)/v)    #brak k=k1+...?\n",
    "    w=k*v**2\n",
    "    omega=omega0(1-np.exp(-t/tał))\n",
    "    \n",
    "    ddx=-(1/m)*w*np.cos(omega+b)\n",
    "    return ddx"
   ]
  },
  {
   "cell_type": "code",
   "execution_count": null,
   "id": "appointed-ceiling",
   "metadata": {},
   "outputs": [],
   "source": [
    "def y_bis(v,b,k1,k2,omega0,t,tał): #2pochodna y\n",
    "    g=9.81\n",
    "    k=k1+(k2-k1)/(np.cos(omega0))*(-y_prime(v,b)/v)\n",
    "    w=k*v**2\n",
    "    omega=omega0(1-np.exp(-t/tał))\n",
    "    \n",
    "    ddy=(1/m)*w*np.sin(omega+b)- m*g\n",
    "    return ddy"
   ]
  },
  {
   "cell_type": "markdown",
   "id": "considered-sweden",
   "metadata": {},
   "source": [
    "O co tu wgl chodzi"
   ]
  },
  {
   "cell_type": "code",
   "execution_count": null,
   "id": "exempt-petersburg",
   "metadata": {},
   "outputs": [],
   "source": [
    "def x_prime_fun(v,b): #pochodna x\n",
    "    dxdb= lambda y,t: v*np.cos(b) #działa ale to t tak z dupy\n",
    "    return dxdb\n",
    "    \n",
    "def y_prime_fun(v,b): #pierwsza pochodna y\n",
    "    dydb= lambda y,t: v*np.sin(b)\n",
    "    return dydb"
   ]
  },
  {
   "cell_type": "code",
   "execution_count": null,
   "id": "periodic-spring",
   "metadata": {},
   "outputs": [],
   "source": [
    "x_prime2(2,2)"
   ]
  },
  {
   "cell_type": "markdown",
   "id": "flying-argentina",
   "metadata": {},
   "source": [
    "dalej bląd z k i dlaczego w=k*v a nie **v"
   ]
  },
  {
   "cell_type": "code",
   "execution_count": null,
   "id": "industrial-portland",
   "metadata": {},
   "outputs": [],
   "source": []
  },
  {
   "cell_type": "code",
   "execution_count": null,
   "id": "focal-thompson",
   "metadata": {},
   "outputs": [],
   "source": [
    "f=y_prime(v,b)\n",
    "z=x_prime(v,b)\n",
    "\n",
    "def x_bis_fun(v,b,k1,k2,omega0,t,tał): #2pochodna x\n",
    "\n",
    "    k=k1+(k2-k1)/(np.cos(omega0))*(-1)*(f/ v)\n",
    "    w=k*v**2\n",
    "    omega=omega0*(1-np.exp(-t/tał))\n",
    "    \n",
    "    ddx= lambda y,t: -(1/m)*w*(z*np.cos(omega)+f*np.sin(omega))\n",
    "    return ddx\n",
    "\n",
    "def y_bis_fun(v,b,k1,k2,omega0,t,tał): #2pochodna y\n",
    "    g=9.81\n",
    "    k=k1+(k2-k1)/(np.cos(omega0))*(-1)*(f/v)\n",
    "    w=k*v**2\n",
    "    omega=omega0*(1-np.exp(-t/tał))\n",
    "    \n",
    "    ddy=(1/m)*w*np.sin(omega+b)- m*g\n",
    "    return ddy"
   ]
  },
  {
   "cell_type": "code",
   "execution_count": null,
   "id": "tribal-ground",
   "metadata": {},
   "outputs": [],
   "source": [
    "def odeEuler(f,y0,t):\n",
    "    \"\"\"\n",
    "    approximate the solution of y'=f(y,t) by Euler's method\n",
    "    \"\"\"\n",
    "    y=np.zeros(len(t))\n",
    "    y[0]=y0\n",
    "    for n in range(0,len(t)-1):\n",
    "        y[n+1] = y[n] + f(y[n],t[n])*(t[n+1] - t[n])\n",
    "    return y"
   ]
  },
  {
   "cell_type": "code",
   "execution_count": null,
   "id": "reported-beads",
   "metadata": {},
   "outputs": [],
   "source": [
    "def ode2Euler(time,amount,v,b,u0,k1,k2,omega0,tał): #czas, ile próbek czasu, prędkość, kąt nachylenia v do poziomu, war początkowy\n",
    "    t=np.linspace(0,time,amount)\n",
    "    f=x_prime(v,b)\n",
    "    u=odeEuler(f,0,t)\n",
    "    \n",
    "    f2=x_bis_fun(v,b,k1,k2,omega0,t,tał)\n",
    "    uu=odeEuler(f2,0,t)\n",
    "    \n",
    "    return uu\n",
    "    "
   ]
  },
  {
   "cell_type": "code",
   "execution_count": null,
   "id": "liked-miller",
   "metadata": {},
   "outputs": [],
   "source": [
    "time=3\n",
    "amount= 25\n",
    "v=26.5\n",
    "b=20\n",
    "u0=1\n",
    "k1=0.001\n",
    "k2=0.65\n",
    "omega0=46.5\n",
    "tał=0.32\n",
    "g=9.81\n",
    "ode2Euler(time,amount,v,b,u0,k1,k2,omega0,tał)\n"
   ]
  },
  {
   "cell_type": "markdown",
   "id": "frequent-sociology",
   "metadata": {},
   "source": [
    "wykres dla pierwszej pochdnej x"
   ]
  },
  {
   "cell_type": "code",
   "execution_count": null,
   "id": "facial-harvey",
   "metadata": {},
   "outputs": [],
   "source": [
    "t = np.linspace(0,2,21)\n",
    "\n",
    "y0 = 0\n",
    "v=26.5\n",
    "b=0\n",
    "p = x_prime_fun(v,b)\n",
    "#np.reshape(t,int(f))\n",
    "#f = lambda y,t: y\n",
    "y = odeEuler(p,y0,t)\n",
    "\n",
    "plt.plot(t,y,'b.-')\n",
    "\n",
    "\n",
    "\n",
    "plt.legend(['Euler'])\n",
    "#plt.axis([0,2,0,9])\n",
    "plt.grid(True)\n",
    "#plt.title(\"Solution of $y'=y , y(0)=0$\")\n",
    "plt.show()"
   ]
  },
  {
   "cell_type": "code",
   "execution_count": null,
   "id": "conventional-neutral",
   "metadata": {},
   "outputs": [],
   "source": [
    "t = np.linspace(0,2,21)\n",
    "y0 = 0\n",
    "v=26.5\n",
    "b=0\n",
    "h = y_prime_fun(26,0)\n",
    "#f = lambda y,t: y\n",
    "y = odeEuler(h,y0,t)\n",
    "#y_true = np.exp(t) #nieistotne jakby co\n",
    "plt.plot(t,y,'b.-')#,t,y_true,'r-')\n",
    "plt.legend(['Euler','True'])\n",
    "#plt.axis([0,2,0,9])\n",
    "plt.grid(True)\n",
    "#plt.title(\"Solution of $y'=y , y(0)=0$\")\n",
    "plt.show()"
   ]
  },
  {
   "cell_type": "markdown",
   "id": "beneficial-virginia",
   "metadata": {},
   "source": [
    "**Moje** (powyżej tylko komentarze do madzi):"
   ]
  },
  {
   "cell_type": "code",
   "execution_count": null,
   "id": "loaded-scanning",
   "metadata": {},
   "outputs": [],
   "source": [
    "f = x_prime_fun(v,b)\n",
    "h= y_prime_fun(v,b)\n",
    "\n",
    "plt.plot(odeEuler(f,y0,t), odeEuler(h,y0,t), 0, 6)"
   ]
  },
  {
   "cell_type": "code",
   "execution_count": null,
   "id": "pregnant-trout",
   "metadata": {},
   "outputs": [],
   "source": [
    "def v_x(v,b): #pochodna x\n",
    "    v_x= lambda y,t: dxdb/np.cos(b) #działa ale to t tak z dupy\n",
    "    return \n",
    "\n",
    "    \n",
    "def y_prime2(v,b): #pierwsza pochodna y\n",
    "    dydb= lambda y,t: v*np.sin(b)\n",
    "    return dydb"
   ]
  },
  {
   "cell_type": "code",
   "execution_count": null,
   "id": "polish-floating",
   "metadata": {},
   "outputs": [],
   "source": [
    "m=50"
   ]
  },
  {
   "cell_type": "code",
   "execution_count": 8,
   "id": "harmful-bikini",
   "metadata": {},
   "outputs": [
    {
     "ename": "SyntaxError",
     "evalue": "invalid syntax (<ipython-input-8-0ffad406e130>, line 8)",
     "output_type": "error",
     "traceback": [
      "\u001b[1;36m  File \u001b[1;32m\"<ipython-input-8-0ffad406e130>\"\u001b[1;36m, line \u001b[1;32m8\u001b[0m\n\u001b[1;33m    linewidth = 5.5,\u001b[0m\n\u001b[1;37m    ^\u001b[0m\n\u001b[1;31mSyntaxError\u001b[0m\u001b[1;31m:\u001b[0m invalid syntax\n"
     ]
    }
   ],
   "source": [
    "for i in range(0, 120):\n",
    "\n",
    "    \n",
    "        plt.plot(x_bis2(v,b,k1,k2,omega0,t,tał), y_bis2(v,b,k1,k2,omega0,t,tał), 0, i,\n",
    "            xlabel = \"odległość [m]\", \n",
    "            ylabel = \"wysokość [m]\",\n",
    "            np.reshape(x.shape[0], y.shape[0])\n",
    "            linewidth = 5.5,\n",
    "            aspect_ratio = 2.5,\n",
    "            title = \"tor ruchu\")  \n",
    "\n",
    "\n"
   ]
  },
  {
   "cell_type": "code",
   "execution_count": null,
   "id": "related-gambling",
   "metadata": {},
   "outputs": [],
   "source": [
    "def x_bis_samo(v,b,k1,k2,omega0,t,tał): #2pochodna x\n",
    "    f=y_prime(v,b)\n",
    "    #k=k1+[(k2-k1)/(np.cos(omega0))]*(-1)*(f/ v)\n",
    "    k=k1+(k2-k1)/(np.cos(omega0))*(-1)*(f/ v)\n",
    "    w=k*v**2\n",
    "    omega=omega0*(1-sp.exp(-t/tał))\n",
    "    \n",
    "    t = np.linspace(0,2,21)\n",
    "    dx=np.zeros(t)\n",
    "    \n",
    "    #ddx=-(1/m)*k*(v*dx*np.cos(omega)+v*f*np.sin(omega))\n",
    "    #rozwiązanie\n",
    "    #m*r**2+k*(v*r*np.cos(omega))+k*v*f*np.sin(omega)=0\n",
    "    \n",
    "    ddx= lambda y,t: -(1/m)*k*(v*dx*sp.cos(omega)+v*f*sp.sin(omega))\n",
    "    return ddx"
   ]
  },
  {
   "cell_type": "code",
   "execution_count": 9,
   "id": "pediatric-festival",
   "metadata": {},
   "outputs": [
    {
     "ename": "SyntaxError",
     "evalue": "invalid syntax (<ipython-input-9-02f5ef9af312>, line 16)",
     "output_type": "error",
     "traceback": [
      "\u001b[1;36m  File \u001b[1;32m\"<ipython-input-9-02f5ef9af312>\"\u001b[1;36m, line \u001b[1;32m16\u001b[0m\n\u001b[1;33m    for i in range(0,t-1):\u001b[0m\n\u001b[1;37m                         ^\u001b[0m\n\u001b[1;31mSyntaxError\u001b[0m\u001b[1;31m:\u001b[0m invalid syntax\n"
     ]
    }
   ],
   "source": [
    "t = np.linspace(0,2,21)\n",
    "dt=0.001\n",
    "def x_bis_kolejne(v,b,k1,k2,omega0,t,tał): #2pochodna x\n",
    "    f=y_prime(v,b)\n",
    "    #k=k1+[(k2-k1)/(np.cos(omega0))]*(-1)*(f/ v)\n",
    "    k=k1+(k2-k1)/(np.cos(omega0))*(-1)*(f/ v)\n",
    "    w=k*v**2\n",
    "    omega=omega0*(1-sp.exp(-t/tał))\n",
    "    \n",
    "    \n",
    "    dx=np.zeros(len(t)\n",
    "    \n",
    "    #ddx=-(1/m)*k*(v*dx*np.cos(omega)+v*f*np.sin(omega))\n",
    "    #rozwiązanie\n",
    "    #m*r**2+k*(v*r*np.cos(omega))+k*v*f*np.sin(omega)=0\n",
    "    for i in range(0,t-1):\n",
    "        ddx[t]= -(1/m)*k*(v*dx[t]*sp.cos(omega)+v*f*sp.sin(omega))\n",
    "    return ddx"
   ]
  },
  {
   "cell_type": "code",
   "execution_count": null,
   "id": "liberal-guarantee",
   "metadata": {},
   "outputs": [],
   "source": [
    "def odeEuler2_moje(f,u0,t):\n",
    "    \"\"\"\n",
    "    approximate the solution of y'=f(y,t) by Euler's method\n",
    "    \"\"\"\n",
    "    \n",
    "    u=np.zeros(t)\n",
    "    u[1]=u0\n",
    "    \n",
    "    \n",
    "    for n in range(1,len(t)-1):\n",
    "        u[n+1] = u[n] + f(u[n],t[n])*(t[n+1] - t[n])\n",
    "    return u"
   ]
  },
  {
   "cell_type": "code",
   "execution_count": 10,
   "id": "laughing-cylinder",
   "metadata": {},
   "outputs": [
    {
     "ename": "NameError",
     "evalue": "name 'odeEuler' is not defined",
     "output_type": "error",
     "traceback": [
      "\u001b[1;31m---------------------------------------------------------------------------\u001b[0m",
      "\u001b[1;31mNameError\u001b[0m                                 Traceback (most recent call last)",
      "\u001b[1;32m<ipython-input-10-3c8100d8c745>\u001b[0m in \u001b[0;36m<module>\u001b[1;34m\u001b[0m\n\u001b[0;32m      1\u001b[0m \u001b[1;31m#odeEuler2_moje(x_bis_samo(v,b,k1,k2,omega0,t,tał),0,t)\u001b[0m\u001b[1;33m\u001b[0m\u001b[1;33m\u001b[0m\u001b[1;33m\u001b[0m\u001b[0m\n\u001b[1;32m----> 2\u001b[1;33m \u001b[0modeEuler\u001b[0m\u001b[1;33m(\u001b[0m\u001b[0modeEuler\u001b[0m\u001b[1;33m(\u001b[0m\u001b[0mx_bis_fun\u001b[0m\u001b[1;33m(\u001b[0m\u001b[0mv\u001b[0m\u001b[1;33m,\u001b[0m\u001b[0mb\u001b[0m\u001b[1;33m,\u001b[0m\u001b[0mk1\u001b[0m\u001b[1;33m,\u001b[0m\u001b[0mk2\u001b[0m\u001b[1;33m,\u001b[0m\u001b[0momega0\u001b[0m\u001b[1;33m,\u001b[0m\u001b[0mt\u001b[0m\u001b[1;33m,\u001b[0m\u001b[0mtał\u001b[0m\u001b[1;33m)\u001b[0m\u001b[1;33m,\u001b[0m\u001b[1;36m0\u001b[0m\u001b[1;33m,\u001b[0m\u001b[0mt\u001b[0m\u001b[1;33m)\u001b[0m\u001b[1;33m,\u001b[0m\u001b[1;36m0\u001b[0m\u001b[1;33m,\u001b[0m\u001b[0mt\u001b[0m\u001b[1;33m)\u001b[0m\u001b[1;33m\u001b[0m\u001b[1;33m\u001b[0m\u001b[0m\n\u001b[0m",
      "\u001b[1;31mNameError\u001b[0m: name 'odeEuler' is not defined"
     ]
    }
   ],
   "source": [
    "#odeEuler2_moje(x_bis_samo(v,b,k1,k2,omega0,t,tał),0,t)\n",
    "odeEuler(odeEuler(x_bis_fun(v,b,k1,k2,omega0,t,tał),0,t),0,t)"
   ]
  },
  {
   "cell_type": "code",
   "execution_count": 11,
   "id": "noted-questionnaire",
   "metadata": {},
   "outputs": [],
   "source": [
    "#grr zły sposób chyba bo nie mamy stałych wspólczynników bo omega zalezy od t\n",
    "def x_bis_moje(v,b,k1,k2,omega0,t,tał): #2pochodna x\n",
    "    f=y_prime(v,b)\n",
    "    #k=k1+[(k2-k1)/(np.cos(omega0))]*(-1)*(f/ v)\n",
    "    k=k1+(k2-k1)/(np.cos(omega0))*(-1)*(f/ v)\n",
    "    w=k*v**2\n",
    "    omega=omega0*(1-np.exp(-t/tał))\n",
    "    \n",
    "    #ddx=-(1/m)*k*(v*dx*np.cos(omega)+v*f*np.sin(omega))\n",
    "    #rozwiązanie\n",
    "    #m*r**2+k*(v*r*np.cos(omega))+k*v*f*np.sin(omega)=0\n",
    "    delta=((k*v*np.cos(omega))**2-4*m*v*f*np.sin(omega))\n",
    "    if delta > 0:\n",
    "        r_1=(-k*v*np.cos(omega)-np.sqrt(delta))/2*m\n",
    "        r_2=(-k*v*np.cos(omega)+np.sqrt(delta))/2*m\n",
    "        x[t]=c_1*np.exp(r_1*t)+c_2*np.exp(r_2*t)\n",
    "        x=np.zeros(len(t))\n",
    "        x[0]=0\n",
    "        dx[0]=1 #czy napewno druga poch git ze ma taka wartosc\n",
    "        c_1=-m/(k*v)\n",
    "        c_2=m/(k*v)\n",
    "        \n",
    "        \n",
    "  \n",
    "        #for n in range(0,len(t)-1):\n",
    "         #   x[t]=c_1*np.exp(r_1*t)+c_2*np.exp(r_2*t)\n",
    "        #return x\n",
    "        \n",
    "    x= lambda y,t: c_1*np.exp(r_1*t)+c_2*np.exp(r_2*t)\n",
    "    return x\n",
    "    \n",
    "\n",
    "    \n"
   ]
  },
  {
   "cell_type": "code",
   "execution_count": 12,
   "id": "informational-madison",
   "metadata": {},
   "outputs": [
    {
     "ename": "NameError",
     "evalue": "name 'v' is not defined",
     "output_type": "error",
     "traceback": [
      "\u001b[1;31m---------------------------------------------------------------------------\u001b[0m",
      "\u001b[1;31mNameError\u001b[0m                                 Traceback (most recent call last)",
      "\u001b[1;32m<ipython-input-12-661e91964a1d>\u001b[0m in \u001b[0;36m<module>\u001b[1;34m\u001b[0m\n\u001b[1;32m----> 1\u001b[1;33m \u001b[0mx_bis_moje\u001b[0m\u001b[1;33m(\u001b[0m\u001b[0mv\u001b[0m\u001b[1;33m,\u001b[0m\u001b[0mb\u001b[0m\u001b[1;33m,\u001b[0m\u001b[0mk1\u001b[0m\u001b[1;33m,\u001b[0m\u001b[0mk2\u001b[0m\u001b[1;33m,\u001b[0m\u001b[0momega0\u001b[0m\u001b[1;33m,\u001b[0m\u001b[0mt\u001b[0m\u001b[1;33m,\u001b[0m\u001b[0mtał\u001b[0m\u001b[1;33m)\u001b[0m\u001b[1;33m\u001b[0m\u001b[1;33m\u001b[0m\u001b[0m\n\u001b[0m",
      "\u001b[1;31mNameError\u001b[0m: name 'v' is not defined"
     ]
    }
   ],
   "source": [
    "x_bis_moje(v,b,k1,k2,omega0,t,tał)\n"
   ]
  },
  {
   "cell_type": "code",
   "execution_count": 13,
   "id": "important-timer",
   "metadata": {},
   "outputs": [
    {
     "ename": "SyntaxError",
     "evalue": "invalid character in identifier (<ipython-input-13-3566b94c65d2>, line 2)",
     "output_type": "error",
     "traceback": [
      "\u001b[1;36m  File \u001b[1;32m\"<ipython-input-13-3566b94c65d2>\"\u001b[1;36m, line \u001b[1;32m2\u001b[0m\n\u001b[1;33m    a = float(input(„Podaj punkt poczatkowy: „))\u001b[0m\n\u001b[1;37m                         ^\u001b[0m\n\u001b[1;31mSyntaxError\u001b[0m\u001b[1;31m:\u001b[0m invalid character in identifier\n"
     ]
    }
   ],
   "source": [
    "def calk(a,b,N):\n",
    "    a = float(input(„Podaj punkt poczatkowy: „))\n",
    "\n",
    "b = float(input(„Podaj punkt końcowy: „))\n",
    "\n",
    "N = int(input(„Podaj liczbę iteracji: „))\n",
    "\n",
    "    dl = (b-a)/N\n",
    "\n",
    "    calka = 0\n",
    "\n",
    "    z = a\n",
    "\n",
    "    for i in range(1,N+1):\n",
    "    \n",
    "        z += dl\n",
    "\n",
    "        calka = calka + f(z)*dl\n",
    "\n",
    "    return round(calka,5)"
   ]
  },
  {
   "cell_type": "code",
   "execution_count": null,
   "id": "certified-singing",
   "metadata": {},
   "outputs": [],
   "source": [
    "print(calk())"
   ]
  },
  {
   "cell_type": "code",
   "execution_count": 14,
   "id": "super-shopper",
   "metadata": {},
   "outputs": [
    {
     "ename": "NameError",
     "evalue": "name 'omega0' is not defined",
     "output_type": "error",
     "traceback": [
      "\u001b[1;31m---------------------------------------------------------------------------\u001b[0m",
      "\u001b[1;31mNameError\u001b[0m                                 Traceback (most recent call last)",
      "\u001b[1;32m<ipython-input-14-61649a0dea78>\u001b[0m in \u001b[0;36m<module>\u001b[1;34m\u001b[0m\n\u001b[0;32m      1\u001b[0m \u001b[1;32mimport\u001b[0m \u001b[0msympy\u001b[0m \u001b[1;32mas\u001b[0m \u001b[0msp\u001b[0m\u001b[1;33m\u001b[0m\u001b[1;33m\u001b[0m\u001b[0m\n\u001b[0;32m      2\u001b[0m \u001b[0mt\u001b[0m \u001b[1;33m=\u001b[0m \u001b[0msp\u001b[0m\u001b[1;33m.\u001b[0m\u001b[0mSymbol\u001b[0m\u001b[1;33m(\u001b[0m\u001b[1;34m't'\u001b[0m\u001b[1;33m)\u001b[0m\u001b[1;33m\u001b[0m\u001b[1;33m\u001b[0m\u001b[0m\n\u001b[1;32m----> 3\u001b[1;33m \u001b[0msp\u001b[0m\u001b[1;33m.\u001b[0m\u001b[0mintegrate\u001b[0m\u001b[1;33m(\u001b[0m\u001b[0msp\u001b[0m\u001b[1;33m.\u001b[0m\u001b[0mcos\u001b[0m\u001b[1;33m(\u001b[0m\u001b[0momega0\u001b[0m\u001b[1;33m*\u001b[0m\u001b[1;33m(\u001b[0m\u001b[1;36m1\u001b[0m\u001b[1;33m-\u001b[0m\u001b[0msp\u001b[0m\u001b[1;33m.\u001b[0m\u001b[0mexp\u001b[0m\u001b[1;33m(\u001b[0m\u001b[1;33m-\u001b[0m\u001b[0mt\u001b[0m\u001b[1;33m/\u001b[0m\u001b[0mtał\u001b[0m\u001b[1;33m)\u001b[0m\u001b[1;33m)\u001b[0m\u001b[1;33m)\u001b[0m\u001b[1;33m,\u001b[0m \u001b[0mt\u001b[0m\u001b[1;33m)\u001b[0m \u001b[1;31m#ci i si to integrals wtf\u001b[0m\u001b[1;33m\u001b[0m\u001b[1;33m\u001b[0m\u001b[0m\n\u001b[0m",
      "\u001b[1;31mNameError\u001b[0m: name 'omega0' is not defined"
     ]
    }
   ],
   "source": [
    "import sympy as sp \n",
    "t = sp.Symbol('t') \n",
    "sp.integrate(sp.cos(omega0*(1-sp.exp(-t/tał))), t) #ci i si to integrals wtf"
   ]
  },
  {
   "cell_type": "code",
   "execution_count": null,
   "id": "wanted-decade",
   "metadata": {},
   "outputs": [],
   "source": [
    "#nowy sposób\n",
    "def x_bis_moje_2(v,b,k1,k2,omega0,t,tał): #2pochodna x\n",
    "    f=y_prime(v,b)\n",
    "    #k=k1+[(k2-k1)/(np.cos(omega0))]*(-1)*(f/ v)\n",
    "    k=k1+(k2-k1)/(np.cos(omega0))*(-1)*(f/ v)\n",
    "    w=k*v**2\n",
    "    omega=omega0*(1-np.exp(-t/tał))\n",
    "    \n",
    "    #mddx+k*v*dx*np.cos(omega)+k*v*f*np.sin(omega)=0\n",
    "    #rozwiązanie\n",
    "    #ddx=du\n",
    "    #dx=u\n",
    "    #m*du+k*v*u*np.cos(omega)+k*v*f*np.sin(omega)=0\n",
    "    du=-k*v*u*np.cos(omega)/m-k*v*f*np.sin(omega)/m\n",
    "    #czynnik całk.\n",
    "    T = sp.Symbol('t') \n",
    "    calka_t=sp.integrate(sp.cos(omega0*(1-sp.exp(-T/tał))), T)\n",
    "    p=sp.exp((k*v/m)*calka_t)\n",
    "    a=p*du\n",
    "    b=p*k*v*u*np.cos(omega)/m\n",
    "    c=p*(-k*v*f*np.sin(omega)/m)\n",
    "\n",
    "    return a,b,c"
   ]
  },
  {
   "cell_type": "code",
   "execution_count": null,
   "id": "subjective-progress",
   "metadata": {},
   "outputs": [],
   "source": [
    "print(x_bis_moje_2(v,b,k1,k2,omega0,t,tał))"
   ]
  },
  {
   "cell_type": "code",
   "execution_count": null,
   "id": "furnished-still",
   "metadata": {},
   "outputs": [],
   "source": [
    "def x_bis_moje_3(time,amount,v,b,u0,k1,k2,omega0,tał): #czas, ile próbek czasu, prędkość, kąt nachylenia v do poziomu, war początkowy\n",
    "    t=np.linspace(0,time,amount)\n",
    "    f=x_prime(v,b)\n",
    "    u=odeEuler(f,0,t)\n",
    "    \n",
    "    f2=x_bis_fun(v,b,k1,k2,omega0,t,tał)\n",
    "    uu=odeEuler(f2,0,t)\n",
    "    \n",
    "    return uu"
   ]
  },
  {
   "cell_type": "markdown",
   "id": "pursuant-writing",
   "metadata": {},
   "source": [
    "**coś wychodzi**"
   ]
  },
  {
   "cell_type": "code",
   "execution_count": null,
   "id": "communist-appraisal",
   "metadata": {},
   "outputs": [],
   "source": [
    "b=0"
   ]
  },
  {
   "cell_type": "code",
   "execution_count": 15,
   "id": "accurate-administrator",
   "metadata": {},
   "outputs": [],
   "source": [
    "def x_bis_skrót_fun(v,b,k1,k2,omega0,t,tał): #2pochodna x\n",
    "    f=y_prime(v,b)\n",
    "    #k=k1+[(k2-k1)/(np.cos(omega0))]*(-1)*(f/ v)\n",
    "    k=k1+(k2-k1)/(np.cos(omega0))*(-1)*(f/ v)\n",
    "    w=k*v**2\n",
    "    omega=omega0*(1-np.exp(-t/tał))\n",
    "    \n",
    "    t = np.linspace(0,10,1000)\n",
    "    dx=x_prime(v,b)\n",
    "    \n",
    "    #ddx=-(1/m)*k*(v*dx*np.cos(omega)+v*f*np.sin(omega))\n",
    "    #rozwiązanie\n",
    "    #m*r**2+k*(v*r*np.cos(omega))+k*v*f*np.sin(omega)=0\n",
    "    \n",
    "    ddx= lambda y,t: -(1/m)*k*(v*dx*np.cos(omega)+v*f*np.sin(omega))\n",
    "    return ddx"
   ]
  },
  {
   "cell_type": "code",
   "execution_count": 16,
   "id": "senior-jungle",
   "metadata": {},
   "outputs": [
    {
     "ename": "NameError",
     "evalue": "name 'v' is not defined",
     "output_type": "error",
     "traceback": [
      "\u001b[1;31m---------------------------------------------------------------------------\u001b[0m",
      "\u001b[1;31mNameError\u001b[0m                                 Traceback (most recent call last)",
      "\u001b[1;32m<ipython-input-16-a796c450fe8b>\u001b[0m in \u001b[0;36m<module>\u001b[1;34m\u001b[0m\n\u001b[1;32m----> 1\u001b[1;33m \u001b[0mx_bis_skrót_fun\u001b[0m\u001b[1;33m(\u001b[0m\u001b[0mv\u001b[0m\u001b[1;33m,\u001b[0m\u001b[0mb\u001b[0m\u001b[1;33m,\u001b[0m\u001b[0mk1\u001b[0m\u001b[1;33m,\u001b[0m\u001b[0mk2\u001b[0m\u001b[1;33m,\u001b[0m\u001b[0momega0\u001b[0m\u001b[1;33m,\u001b[0m\u001b[0mt\u001b[0m\u001b[1;33m,\u001b[0m\u001b[0mtał\u001b[0m\u001b[1;33m)\u001b[0m\u001b[1;33m\u001b[0m\u001b[1;33m\u001b[0m\u001b[0m\n\u001b[0m",
      "\u001b[1;31mNameError\u001b[0m: name 'v' is not defined"
     ]
    }
   ],
   "source": [
    "x_bis_skrót_fun(v,b,k1,k2,omega0,t,tał)\n"
   ]
  },
  {
   "cell_type": "code",
   "execution_count": 17,
   "id": "entire-kuwait",
   "metadata": {},
   "outputs": [],
   "source": [
    "def x_bis_skrót(v,b,k1,k2,omega0,t,tał): #2pochodna x\n",
    "    f=y_prime(v,b)\n",
    "    #k=k1+[(k2-k1)/(np.cos(omega0))]*(-1)*(f/ v)\n",
    "    k=k1+(k2-k1)/(np.cos(omega0))*(-1)*(f/ v)\n",
    "    w=k*v**2\n",
    "    omega=omega0*(1-np.exp(-t/tał))\n",
    "    \n",
    "    t = np.linspace(0,10,1000)\n",
    "    dx=x_prime(v,b)\n",
    "    \n",
    "    #ddx=-(1/m)*k*(v*dx*np.cos(omega)+v*f*np.sin(omega))\n",
    "    #rozwiązanie\n",
    "    #m*r**2+k*(v*r*np.cos(omega))+k*v*f*np.sin(omega)=0\n",
    "    \n",
    "    ddx=-(1/m)*k*(v*dx*np.cos(omega)+v*f*np.sin(omega))\n",
    "    return ddx"
   ]
  },
  {
   "cell_type": "code",
   "execution_count": 18,
   "id": "fifth-ceramic",
   "metadata": {},
   "outputs": [
    {
     "ename": "NameError",
     "evalue": "name 'v' is not defined",
     "output_type": "error",
     "traceback": [
      "\u001b[1;31m---------------------------------------------------------------------------\u001b[0m",
      "\u001b[1;31mNameError\u001b[0m                                 Traceback (most recent call last)",
      "\u001b[1;32m<ipython-input-18-84ef6dbd5085>\u001b[0m in \u001b[0;36m<module>\u001b[1;34m\u001b[0m\n\u001b[1;32m----> 1\u001b[1;33m \u001b[0mx_bis_skrót\u001b[0m\u001b[1;33m(\u001b[0m\u001b[0mv\u001b[0m\u001b[1;33m,\u001b[0m\u001b[0mb\u001b[0m\u001b[1;33m,\u001b[0m\u001b[0mk1\u001b[0m\u001b[1;33m,\u001b[0m\u001b[0mk2\u001b[0m\u001b[1;33m,\u001b[0m\u001b[0momega0\u001b[0m\u001b[1;33m,\u001b[0m\u001b[0mt\u001b[0m\u001b[1;33m,\u001b[0m\u001b[0mtał\u001b[0m\u001b[1;33m)\u001b[0m\u001b[1;33m\u001b[0m\u001b[1;33m\u001b[0m\u001b[0m\n\u001b[0m",
      "\u001b[1;31mNameError\u001b[0m: name 'v' is not defined"
     ]
    }
   ],
   "source": [
    "x_bis_skrót(v,b,k1,k2,omega0,t,tał)"
   ]
  },
  {
   "cell_type": "code",
   "execution_count": 19,
   "id": "intermediate-seeker",
   "metadata": {},
   "outputs": [
    {
     "ename": "NameError",
     "evalue": "name 'k1' is not defined",
     "output_type": "error",
     "traceback": [
      "\u001b[1;31m---------------------------------------------------------------------------\u001b[0m",
      "\u001b[1;31mNameError\u001b[0m                                 Traceback (most recent call last)",
      "\u001b[1;32m<ipython-input-19-b31f99724ab8>\u001b[0m in \u001b[0;36m<module>\u001b[1;34m\u001b[0m\n\u001b[0;32m      6\u001b[0m \u001b[1;33m\u001b[0m\u001b[0m\n\u001b[0;32m      7\u001b[0m \u001b[1;31m#f = lambda y,t: y\u001b[0m\u001b[1;33m\u001b[0m\u001b[1;33m\u001b[0m\u001b[1;33m\u001b[0m\u001b[0m\n\u001b[1;32m----> 8\u001b[1;33m \u001b[0my\u001b[0m \u001b[1;33m=\u001b[0m \u001b[0mx_bis_skrót\u001b[0m\u001b[1;33m(\u001b[0m\u001b[0mv\u001b[0m\u001b[1;33m,\u001b[0m\u001b[0mb\u001b[0m\u001b[1;33m,\u001b[0m\u001b[0mk1\u001b[0m\u001b[1;33m,\u001b[0m\u001b[0mk2\u001b[0m\u001b[1;33m,\u001b[0m\u001b[0momega0\u001b[0m\u001b[1;33m,\u001b[0m\u001b[0mt\u001b[0m\u001b[1;33m,\u001b[0m\u001b[0mtał\u001b[0m\u001b[1;33m)\u001b[0m\u001b[1;33m\u001b[0m\u001b[1;33m\u001b[0m\u001b[0m\n\u001b[0m\u001b[0;32m      9\u001b[0m \u001b[1;31m#y_true = np.exp(t) #nieistotne jakby co\u001b[0m\u001b[1;33m\u001b[0m\u001b[1;33m\u001b[0m\u001b[1;33m\u001b[0m\u001b[0m\n\u001b[0;32m     10\u001b[0m \u001b[0mplt\u001b[0m\u001b[1;33m.\u001b[0m\u001b[0mplot\u001b[0m\u001b[1;33m(\u001b[0m\u001b[0mt\u001b[0m\u001b[1;33m,\u001b[0m\u001b[0my\u001b[0m\u001b[1;33m,\u001b[0m\u001b[1;34m'b.-'\u001b[0m\u001b[1;33m)\u001b[0m\u001b[1;31m#,t,y_true,'r-')\u001b[0m\u001b[1;33m\u001b[0m\u001b[1;33m\u001b[0m\u001b[0m\n",
      "\u001b[1;31mNameError\u001b[0m: name 'k1' is not defined"
     ]
    }
   ],
   "source": [
    " t = np.linspace(0,5,10000)\n",
    "y0 = 0\n",
    "v=26.5\n",
    "b=30\n",
    "v0=2.8\n",
    "\n",
    "#f = lambda y,t: y\n",
    "y = x_bis_skrót(v,b,k1,k2,omega0,t,tał)\n",
    "#y_true = np.exp(t) #nieistotne jakby co\n",
    "plt.plot(t,y,'b.-')#,t,y_true,'r-')\n",
    "plt.legend(['Euler','True'])\n",
    "#plt.axis([0,2,0,9])\n",
    "plt.grid(True)\n",
    "#plt.title(\"Solution of $y'=y , y(0)=0$\")\n",
    "plt.show()"
   ]
  },
  {
   "cell_type": "code",
   "execution_count": 20,
   "id": "precious-lingerie",
   "metadata": {},
   "outputs": [],
   "source": [
    "def y_bis_skrót(v,b,k1,k2,omega0,t,tał): #2pochodna x\n",
    "    f=x_prime(v,b)\n",
    "    dy=y_prime(v,b)\n",
    "    #k=k1+[(k2-k1)/(np.cos(omega0))]*(-1)*(f/ v)\n",
    "    k=k1+(k2-k1)/(np.cos(omega0))*(-1)*(dy/ v)\n",
    "    w=k*v**2\n",
    "    omega=omega0*(1-np.exp(-t/tał))\n",
    "    \n",
    "    t = np.linspace(0,10,1000)\n",
    "    \n",
    "    \n",
    "    #ddx=-(1/m)*k*(v*dx*np.cos(omega)+v*f*np.sin(omega))\n",
    "    #rozwiązanie\n",
    "    #m*r**2+k*(v*r*np.cos(omega))+k*v*f*np.sin(omega)=0\n",
    "    \n",
    "    ddy=-(1/m)*(k*(v*dy*np.cos(omega)+v*f*np.sin(omega))-m*g)\n",
    "    return ddy"
   ]
  },
  {
   "cell_type": "code",
   "execution_count": 21,
   "id": "artificial-fancy",
   "metadata": {},
   "outputs": [
    {
     "ename": "NameError",
     "evalue": "name 'k1' is not defined",
     "output_type": "error",
     "traceback": [
      "\u001b[1;31m---------------------------------------------------------------------------\u001b[0m",
      "\u001b[1;31mNameError\u001b[0m                                 Traceback (most recent call last)",
      "\u001b[1;32m<ipython-input-21-4785a580f179>\u001b[0m in \u001b[0;36m<module>\u001b[1;34m\u001b[0m\n\u001b[1;32m----> 1\u001b[1;33m \u001b[0my_bis_skrót\u001b[0m\u001b[1;33m(\u001b[0m\u001b[0mv\u001b[0m\u001b[1;33m,\u001b[0m\u001b[0mb\u001b[0m\u001b[1;33m,\u001b[0m\u001b[0mk1\u001b[0m\u001b[1;33m,\u001b[0m\u001b[0mk2\u001b[0m\u001b[1;33m,\u001b[0m\u001b[0momega0\u001b[0m\u001b[1;33m,\u001b[0m\u001b[0mt\u001b[0m\u001b[1;33m,\u001b[0m\u001b[0mtał\u001b[0m\u001b[1;33m)\u001b[0m\u001b[1;33m\u001b[0m\u001b[1;33m\u001b[0m\u001b[0m\n\u001b[0m",
      "\u001b[1;31mNameError\u001b[0m: name 'k1' is not defined"
     ]
    }
   ],
   "source": [
    "y_bis_skrót(v,b,k1,k2,omega0,t,tał)"
   ]
  },
  {
   "cell_type": "code",
   "execution_count": 22,
   "id": "small-narrow",
   "metadata": {},
   "outputs": [
    {
     "ename": "NameError",
     "evalue": "name 'k1' is not defined",
     "output_type": "error",
     "traceback": [
      "\u001b[1;31m---------------------------------------------------------------------------\u001b[0m",
      "\u001b[1;31mNameError\u001b[0m                                 Traceback (most recent call last)",
      "\u001b[1;32m<ipython-input-22-4787ae38b027>\u001b[0m in \u001b[0;36m<module>\u001b[1;34m\u001b[0m\n\u001b[0;32m      6\u001b[0m \u001b[1;33m\u001b[0m\u001b[0m\n\u001b[0;32m      7\u001b[0m \u001b[1;31m#f = lambda y,t: y\u001b[0m\u001b[1;33m\u001b[0m\u001b[1;33m\u001b[0m\u001b[1;33m\u001b[0m\u001b[0m\n\u001b[1;32m----> 8\u001b[1;33m \u001b[0my\u001b[0m \u001b[1;33m=\u001b[0m \u001b[0my_bis_skrót\u001b[0m\u001b[1;33m(\u001b[0m\u001b[0mv\u001b[0m\u001b[1;33m,\u001b[0m\u001b[0mb\u001b[0m\u001b[1;33m,\u001b[0m\u001b[0mk1\u001b[0m\u001b[1;33m,\u001b[0m\u001b[0mk2\u001b[0m\u001b[1;33m,\u001b[0m\u001b[0momega0\u001b[0m\u001b[1;33m,\u001b[0m\u001b[0mt\u001b[0m\u001b[1;33m,\u001b[0m\u001b[0mtał\u001b[0m\u001b[1;33m)\u001b[0m\u001b[1;33m\u001b[0m\u001b[1;33m\u001b[0m\u001b[0m\n\u001b[0m\u001b[0;32m      9\u001b[0m \u001b[1;31m#y_true = np.exp(t) #nieistotne jakby co\u001b[0m\u001b[1;33m\u001b[0m\u001b[1;33m\u001b[0m\u001b[1;33m\u001b[0m\u001b[0m\n\u001b[0;32m     10\u001b[0m \u001b[0mplt\u001b[0m\u001b[1;33m.\u001b[0m\u001b[0mplot\u001b[0m\u001b[1;33m(\u001b[0m\u001b[0mt\u001b[0m\u001b[1;33m,\u001b[0m\u001b[0my\u001b[0m\u001b[1;33m,\u001b[0m\u001b[1;34m'b.-'\u001b[0m\u001b[1;33m)\u001b[0m\u001b[1;31m#,t,y_true,'r-')\u001b[0m\u001b[1;33m\u001b[0m\u001b[1;33m\u001b[0m\u001b[0m\n",
      "\u001b[1;31mNameError\u001b[0m: name 'k1' is not defined"
     ]
    }
   ],
   "source": [
    " t = np.linspace(0,5,10000)\n",
    "y0 = 0\n",
    "v=26.5\n",
    "b=20\n",
    "v0=2.8\n",
    "\n",
    "#f = lambda y,t: y\n",
    "y = y_bis_skrót(v,b,k1,k2,omega0,t,tał)\n",
    "#y_true = np.exp(t) #nieistotne jakby co\n",
    "plt.plot(t,y,'b.-')#,t,y_true,'r-')\n",
    "plt.legend(['Euler','True'])\n",
    "#plt.axis([0,2,0,9])\n",
    "plt.grid(True)\n",
    "\n",
    "#plt.title(\"Solution of $y'=y , y(0)=0$\")\n",
    "plt.show()"
   ]
  },
  {
   "cell_type": "code",
   "execution_count": 23,
   "id": "female-frontier",
   "metadata": {},
   "outputs": [
    {
     "ename": "NameError",
     "evalue": "name 'k1' is not defined",
     "output_type": "error",
     "traceback": [
      "\u001b[1;31m---------------------------------------------------------------------------\u001b[0m",
      "\u001b[1;31mNameError\u001b[0m                                 Traceback (most recent call last)",
      "\u001b[1;32m<ipython-input-23-b7b4ea83808f>\u001b[0m in \u001b[0;36m<module>\u001b[1;34m\u001b[0m\n\u001b[1;32m----> 1\u001b[1;33m plt.plot(x_bis_skrót(v,b,k1,k2,omega0,t,tał), y_bis_skrót(v,b,k1,k2,omega0,t,tał)\n\u001b[0m\u001b[0;32m      2\u001b[0m         )  \n\u001b[0;32m      3\u001b[0m \u001b[0max\u001b[0m \u001b[1;33m=\u001b[0m \u001b[0mplt\u001b[0m\u001b[1;33m.\u001b[0m\u001b[0mgca\u001b[0m\u001b[1;33m(\u001b[0m\u001b[1;33m)\u001b[0m\u001b[1;33m\u001b[0m\u001b[1;33m\u001b[0m\u001b[0m\n\u001b[0;32m      4\u001b[0m \u001b[0max\u001b[0m\u001b[1;33m.\u001b[0m\u001b[0mset_xlim\u001b[0m\u001b[1;33m(\u001b[0m\u001b[1;33m[\u001b[0m\u001b[1;36m0\u001b[0m\u001b[1;33m,\u001b[0m \u001b[1;36m50\u001b[0m\u001b[1;33m]\u001b[0m\u001b[1;33m)\u001b[0m\u001b[1;33m\u001b[0m\u001b[1;33m\u001b[0m\u001b[0m\n\u001b[0;32m      5\u001b[0m \u001b[0max\u001b[0m\u001b[1;33m.\u001b[0m\u001b[0mset_ylim\u001b[0m\u001b[1;33m(\u001b[0m\u001b[1;33m[\u001b[0m\u001b[1;36m0\u001b[0m\u001b[1;33m,\u001b[0m \u001b[1;36m50\u001b[0m\u001b[1;33m]\u001b[0m\u001b[1;33m)\u001b[0m\u001b[1;33m\u001b[0m\u001b[1;33m\u001b[0m\u001b[0m\n",
      "\u001b[1;31mNameError\u001b[0m: name 'k1' is not defined"
     ]
    }
   ],
   "source": [
    "plt.plot(x_bis_skrót(v,b,k1,k2,omega0,t,tał), y_bis_skrót(v,b,k1,k2,omega0,t,tał)\n",
    "        )  \n",
    "ax = plt.gca()\n",
    "ax.set_xlim([0, 50])\n",
    "ax.set_ylim([0, 50])"
   ]
  },
  {
   "cell_type": "markdown",
   "id": "ideal-adjustment",
   "metadata": {},
   "source": [
    "**Z WIATREM**"
   ]
  },
  {
   "cell_type": "code",
   "execution_count": 24,
   "id": "competitive-assurance",
   "metadata": {},
   "outputs": [],
   "source": [
    "def x_bis2(v,b,k1,k2,omega0,t,tał): #2pochodna x\n",
    "    f=y_prime(v,b)\n",
    "    k=(k2-k1)/(np.cos(omega0))*(-1)*(f/ v)\n",
    "    w=k*v\n",
    "    omega=omega0(1-np.exp(-t/tał))\n",
    "    \n",
    "    ddx= lambda y,t: -(1/m)*w*(x_prime2(v,b)*np.cos(omega)+y_prime2(v,b)*np.sin(omega))\n",
    "    return ddx\n",
    "\n",
    "def y_bis2(v,b,k1,k2,omega0,t,tał): #2pochodna y\n",
    "    g=9.81\n",
    "    k=(k2-k1)/(np.cos(omega0))*(-1)*(y_prime2(v,b)/v)\n",
    "    w=k*v**2\n",
    "    omega=omega0(1-np.exp(-t/tał))\n",
    "    \n",
    "    ddy=(1/m)*w*np.sin(omega+b)- m*g\n",
    "    return ddy"
   ]
  },
  {
   "cell_type": "markdown",
   "id": "closed-exclusion",
   "metadata": {},
   "source": [
    "***do nowego pdf***\n"
   ]
  },
  {
   "cell_type": "code",
   "execution_count": 44,
   "id": "sharing-matter",
   "metadata": {},
   "outputs": [],
   "source": [
    "def v_x(a,b,m,omega0): #2pochodna x\n",
    "    \n",
    "\n",
    "    \n",
    "    v_x=np.zeros(len(t))\n",
    "    v_x[1]=26.5\n",
    "    c=v_x[1]-m*1/(a*np.cos(omega0)+b*np.sin(omega0))\n",
    "   \n",
    "    for n in range(0,len(t)-1):\n",
    "        v_x[n]= (m*n/(a*np.cos(omega0)+b*np.sin(omega0)))+c\n",
    "    return v_x"
   ]
  },
  {
   "cell_type": "code",
   "execution_count": 45,
   "id": "innovative-cookie",
   "metadata": {},
   "outputs": [
    {
     "data": {
      "text/plain": [
       "array([ 9.29666225e+01,  2.65000000e+01, -3.99666225e+01, -1.06433245e+02,\n",
       "       -1.72899867e+02, -2.39366490e+02, -3.05833112e+02, -3.72299735e+02,\n",
       "       -4.38766357e+02, -5.05232980e+02, -5.71699602e+02, -6.38166225e+02,\n",
       "       -7.04632847e+02, -7.71099470e+02, -8.37566092e+02, -9.04032715e+02,\n",
       "       -9.70499337e+02, -1.03696596e+03, -1.10343258e+03, -1.16989920e+03,\n",
       "       -1.23636583e+03, -1.30283245e+03, -1.36929907e+03, -1.43576569e+03,\n",
       "       -1.50223232e+03, -1.56869894e+03, -1.63516556e+03, -1.70163218e+03,\n",
       "       -1.76809881e+03, -1.83456543e+03, -1.90103205e+03, -1.96749867e+03,\n",
       "       -2.03396530e+03, -2.10043192e+03, -2.16689854e+03, -2.23336516e+03,\n",
       "       -2.29983179e+03, -2.36629841e+03, -2.43276503e+03, -2.49923165e+03,\n",
       "       -2.56569828e+03, -2.63216490e+03, -2.69863152e+03, -2.76509814e+03,\n",
       "       -2.83156477e+03, -2.89803139e+03, -2.96449801e+03, -3.03096463e+03,\n",
       "       -3.09743126e+03, -3.16389788e+03, -3.23036450e+03, -3.29683112e+03,\n",
       "       -3.36329775e+03, -3.42976437e+03, -3.49623099e+03, -3.56269761e+03,\n",
       "       -3.62916424e+03, -3.69563086e+03, -3.76209748e+03, -3.82856410e+03,\n",
       "       -3.89503073e+03, -3.96149735e+03, -4.02796397e+03, -4.09443059e+03,\n",
       "       -4.16089722e+03, -4.22736384e+03, -4.29383046e+03, -4.36029708e+03,\n",
       "       -4.42676371e+03, -4.49323033e+03, -4.55969695e+03, -4.62616357e+03,\n",
       "       -4.69263020e+03, -4.75909682e+03, -4.82556344e+03, -4.89203006e+03,\n",
       "       -4.95849669e+03, -5.02496331e+03, -5.09142993e+03, -5.15789655e+03,\n",
       "       -5.22436318e+03, -5.29082980e+03, -5.35729642e+03, -5.42376304e+03,\n",
       "       -5.49022967e+03, -5.55669629e+03, -5.62316291e+03, -5.68962953e+03,\n",
       "       -5.75609616e+03, -5.82256278e+03, -5.88902940e+03, -5.95549602e+03,\n",
       "       -6.02196265e+03, -6.08842927e+03, -6.15489589e+03, -6.22136251e+03,\n",
       "       -6.28782914e+03, -6.35429576e+03, -6.42076238e+03, -6.48722900e+03,\n",
       "       -6.55369563e+03, -6.62016225e+03, -6.68662887e+03, -6.75309549e+03,\n",
       "       -6.81956212e+03, -6.88602874e+03, -6.95249536e+03, -7.01896198e+03,\n",
       "       -7.08542861e+03, -7.15189523e+03, -7.21836185e+03, -7.28482847e+03,\n",
       "       -7.35129510e+03, -7.41776172e+03, -7.48422834e+03, -7.55069496e+03,\n",
       "       -7.61716159e+03, -7.68362821e+03, -7.75009483e+03, -7.81656145e+03,\n",
       "       -7.88302808e+03, -7.94949470e+03, -8.01596132e+03, -8.08242794e+03,\n",
       "       -8.14889457e+03, -8.21536119e+03, -8.28182781e+03, -8.34829443e+03,\n",
       "       -8.41476106e+03, -8.48122768e+03, -8.54769430e+03, -8.61416092e+03,\n",
       "       -8.68062755e+03, -8.74709417e+03, -8.81356079e+03, -8.88002741e+03,\n",
       "       -8.94649404e+03, -9.01296066e+03, -9.07942728e+03, -9.14589390e+03,\n",
       "       -9.21236053e+03, -9.27882715e+03, -9.34529377e+03, -9.41176039e+03,\n",
       "       -9.47822702e+03, -9.54469364e+03, -9.61116026e+03, -9.67762688e+03,\n",
       "       -9.74409351e+03, -9.81056013e+03, -9.87702675e+03, -9.94349337e+03,\n",
       "       -1.00099600e+04, -1.00764266e+04, -1.01428932e+04, -1.02093599e+04,\n",
       "       -1.02758265e+04, -1.03422931e+04, -1.04087597e+04, -1.04752264e+04,\n",
       "       -1.05416930e+04, -1.06081596e+04, -1.06746262e+04, -1.07410928e+04,\n",
       "       -1.08075595e+04, -1.08740261e+04, -1.09404927e+04, -1.10069593e+04,\n",
       "       -1.10734260e+04, -1.11398926e+04, -1.12063592e+04, -1.12728258e+04,\n",
       "       -1.13392924e+04, -1.14057591e+04, -1.14722257e+04, -1.15386923e+04,\n",
       "       -1.16051589e+04, -1.16716256e+04, -1.17380922e+04, -1.18045588e+04,\n",
       "       -1.18710254e+04, -1.19374920e+04, -1.20039587e+04, -1.20704253e+04,\n",
       "       -1.21368919e+04, -1.22033585e+04, -1.22698252e+04, -1.23362918e+04,\n",
       "       -1.24027584e+04, -1.24692250e+04, -1.25356916e+04, -1.26021583e+04,\n",
       "       -1.26686249e+04, -1.27350915e+04, -1.28015581e+04, -1.28680248e+04,\n",
       "       -1.29344914e+04, -1.30009580e+04, -1.30674246e+04, -1.31338913e+04,\n",
       "       -1.32003579e+04, -1.32668245e+04, -1.33332911e+04, -1.33997577e+04,\n",
       "       -1.34662244e+04, -1.35326910e+04, -1.35991576e+04, -1.36656242e+04,\n",
       "       -1.37320909e+04, -1.37985575e+04, -1.38650241e+04, -1.39314907e+04,\n",
       "       -1.39979573e+04, -1.40644240e+04, -1.41308906e+04, -1.41973572e+04,\n",
       "       -1.42638238e+04, -1.43302905e+04, -1.43967571e+04, -1.44632237e+04,\n",
       "       -1.45296903e+04, -1.45961569e+04, -1.46626236e+04, -1.47290902e+04,\n",
       "       -1.47955568e+04, -1.48620234e+04, -1.49284901e+04, -1.49949567e+04,\n",
       "       -1.50614233e+04, -1.51278899e+04, -1.51943565e+04, -1.52608232e+04,\n",
       "       -1.53272898e+04, -1.53937564e+04, -1.54602230e+04, -1.55266897e+04,\n",
       "       -1.55931563e+04, -1.56596229e+04, -1.57260895e+04, -1.57925562e+04,\n",
       "       -1.58590228e+04, -1.59254894e+04, -1.59919560e+04, -1.60584226e+04,\n",
       "       -1.61248893e+04, -1.61913559e+04, -1.62578225e+04, -1.63242891e+04,\n",
       "       -1.63907558e+04, -1.64572224e+04, -1.65236890e+04, -1.65901556e+04,\n",
       "       -1.66566222e+04, -1.67230889e+04, -1.67895555e+04, -1.68560221e+04,\n",
       "       -1.69224887e+04, -1.69889554e+04, -1.70554220e+04, -1.71218886e+04,\n",
       "       -1.71883552e+04, -1.72548218e+04, -1.73212885e+04, -1.73877551e+04,\n",
       "       -1.74542217e+04, -1.75206883e+04, -1.75871550e+04, -1.76536216e+04,\n",
       "       -1.77200882e+04, -1.77865548e+04, -1.78530214e+04, -1.79194881e+04,\n",
       "       -1.79859547e+04, -1.80524213e+04, -1.81188879e+04, -1.81853546e+04,\n",
       "       -1.82518212e+04, -1.83182878e+04, -1.83847544e+04, -1.84512211e+04,\n",
       "       -1.85176877e+04, -1.85841543e+04, -1.86506209e+04, -1.87170875e+04,\n",
       "       -1.87835542e+04, -1.88500208e+04, -1.89164874e+04, -1.89829540e+04,\n",
       "       -1.90494207e+04, -1.91158873e+04, -1.91823539e+04, -1.92488205e+04,\n",
       "       -1.93152871e+04, -1.93817538e+04, -1.94482204e+04, -1.95146870e+04,\n",
       "       -1.95811536e+04, -1.96476203e+04, -1.97140869e+04, -1.97805535e+04,\n",
       "       -1.98470201e+04, -1.99134867e+04, -1.99799534e+04, -2.00464200e+04,\n",
       "       -2.01128866e+04, -2.01793532e+04, -2.02458199e+04, -2.03122865e+04,\n",
       "       -2.03787531e+04, -2.04452197e+04, -2.05116863e+04, -2.05781530e+04,\n",
       "       -2.06446196e+04, -2.07110862e+04, -2.07775528e+04, -2.08440195e+04,\n",
       "       -2.09104861e+04, -2.09769527e+04, -2.10434193e+04, -2.11098859e+04,\n",
       "       -2.11763526e+04, -2.12428192e+04, -2.13092858e+04, -2.13757524e+04,\n",
       "       -2.14422191e+04, -2.15086857e+04, -2.15751523e+04, -2.16416189e+04,\n",
       "       -2.17080856e+04, -2.17745522e+04, -2.18410188e+04, -2.19074854e+04,\n",
       "       -2.19739520e+04, -2.20404187e+04, -2.21068853e+04, -2.21733519e+04,\n",
       "       -2.22398185e+04, -2.23062852e+04, -2.23727518e+04, -2.24392184e+04,\n",
       "       -2.25056850e+04, -2.25721516e+04, -2.26386183e+04, -2.27050849e+04,\n",
       "       -2.27715515e+04, -2.28380181e+04, -2.29044848e+04, -2.29709514e+04,\n",
       "       -2.30374180e+04, -2.31038846e+04, -2.31703512e+04, -2.32368179e+04,\n",
       "       -2.33032845e+04, -2.33697511e+04, -2.34362177e+04, -2.35026844e+04,\n",
       "       -2.35691510e+04, -2.36356176e+04, -2.37020842e+04, -2.37685508e+04,\n",
       "       -2.38350175e+04, -2.39014841e+04, -2.39679507e+04, -2.40344173e+04,\n",
       "       -2.41008840e+04, -2.41673506e+04, -2.42338172e+04, -2.43002838e+04,\n",
       "       -2.43667505e+04, -2.44332171e+04, -2.44996837e+04, -2.45661503e+04,\n",
       "       -2.46326169e+04, -2.46990836e+04, -2.47655502e+04, -2.48320168e+04,\n",
       "       -2.48984834e+04, -2.49649501e+04, -2.50314167e+04, -2.50978833e+04,\n",
       "       -2.51643499e+04, -2.52308165e+04, -2.52972832e+04, -2.53637498e+04,\n",
       "       -2.54302164e+04, -2.54966830e+04, -2.55631497e+04, -2.56296163e+04,\n",
       "       -2.56960829e+04, -2.57625495e+04, -2.58290161e+04, -2.58954828e+04,\n",
       "       -2.59619494e+04, -2.60284160e+04, -2.60948826e+04, -2.61613493e+04,\n",
       "       -2.62278159e+04, -2.62942825e+04, -2.63607491e+04, -2.64272157e+04,\n",
       "       -2.64936824e+04, -2.65601490e+04, -2.66266156e+04, -2.66930822e+04,\n",
       "       -2.67595489e+04, -2.68260155e+04, -2.68924821e+04, -2.69589487e+04,\n",
       "       -2.70254154e+04, -2.70918820e+04, -2.71583486e+04, -2.72248152e+04,\n",
       "       -2.72912818e+04, -2.73577485e+04, -2.74242151e+04, -2.74906817e+04,\n",
       "       -2.75571483e+04, -2.76236150e+04, -2.76900816e+04, -2.77565482e+04,\n",
       "       -2.78230148e+04, -2.78894814e+04, -2.79559481e+04, -2.80224147e+04,\n",
       "       -2.80888813e+04, -2.81553479e+04, -2.82218146e+04, -2.82882812e+04,\n",
       "       -2.83547478e+04, -2.84212144e+04, -2.84876810e+04, -2.85541477e+04,\n",
       "       -2.86206143e+04, -2.86870809e+04, -2.87535475e+04, -2.88200142e+04,\n",
       "       -2.88864808e+04, -2.89529474e+04, -2.90194140e+04, -2.90858806e+04,\n",
       "       -2.91523473e+04, -2.92188139e+04, -2.92852805e+04, -2.93517471e+04,\n",
       "       -2.94182138e+04, -2.94846804e+04, -2.95511470e+04, -2.96176136e+04,\n",
       "       -2.96840803e+04, -2.97505469e+04, -2.98170135e+04, -2.98834801e+04,\n",
       "       -2.99499467e+04, -3.00164134e+04, -3.00828800e+04, -3.01493466e+04,\n",
       "       -3.02158132e+04, -3.02822799e+04, -3.03487465e+04, -3.04152131e+04,\n",
       "       -3.04816797e+04, -3.05481463e+04, -3.06146130e+04, -3.06810796e+04,\n",
       "       -3.07475462e+04, -3.08140128e+04, -3.08804795e+04, -3.09469461e+04,\n",
       "       -3.10134127e+04, -3.10798793e+04, -3.11463459e+04, -3.12128126e+04,\n",
       "       -3.12792792e+04, -3.13457458e+04, -3.14122124e+04, -3.14786791e+04,\n",
       "       -3.15451457e+04, -3.16116123e+04, -3.16780789e+04, -3.17445455e+04,\n",
       "       -3.18110122e+04, -3.18774788e+04, -3.19439454e+04, -3.20104120e+04,\n",
       "       -3.20768787e+04, -3.21433453e+04, -3.22098119e+04, -3.22762785e+04,\n",
       "       -3.23427451e+04, -3.24092118e+04, -3.24756784e+04, -3.25421450e+04,\n",
       "       -3.26086116e+04, -3.26750783e+04, -3.27415449e+04, -3.28080115e+04,\n",
       "       -3.28744781e+04, -3.29409448e+04, -3.30074114e+04, -3.30738780e+04,\n",
       "       -3.31403446e+04, -3.32068112e+04, -3.32732779e+04, -3.33397445e+04,\n",
       "       -3.34062111e+04, -3.34726777e+04, -3.35391444e+04, -3.36056110e+04,\n",
       "       -3.36720776e+04, -3.37385442e+04, -3.38050108e+04, -3.38714775e+04,\n",
       "       -3.39379441e+04, -3.40044107e+04, -3.40708773e+04, -3.41373440e+04,\n",
       "       -3.42038106e+04, -3.42702772e+04, -3.43367438e+04, -3.44032104e+04,\n",
       "       -3.44696771e+04, -3.45361437e+04, -3.46026103e+04, -3.46690769e+04,\n",
       "       -3.47355436e+04, -3.48020102e+04, -3.48684768e+04, -3.49349434e+04,\n",
       "       -3.50014100e+04, -3.50678767e+04, -3.51343433e+04, -3.52008099e+04,\n",
       "       -3.52672765e+04, -3.53337432e+04, -3.54002098e+04, -3.54666764e+04,\n",
       "       -3.55331430e+04, -3.55996097e+04, -3.56660763e+04, -3.57325429e+04,\n",
       "       -3.57990095e+04, -3.58654761e+04, -3.59319428e+04, -3.59984094e+04,\n",
       "       -3.60648760e+04, -3.61313426e+04, -3.61978093e+04, -3.62642759e+04,\n",
       "       -3.63307425e+04, -3.63972091e+04, -3.64636757e+04, -3.65301424e+04,\n",
       "       -3.65966090e+04, -3.66630756e+04, -3.67295422e+04, -3.67960089e+04,\n",
       "       -3.68624755e+04, -3.69289421e+04, -3.69954087e+04, -3.70618753e+04,\n",
       "       -3.71283420e+04, -3.71948086e+04, -3.72612752e+04, -3.73277418e+04,\n",
       "       -3.73942085e+04, -3.74606751e+04, -3.75271417e+04, -3.75936083e+04,\n",
       "       -3.76600749e+04, -3.77265416e+04, -3.77930082e+04, -3.78594748e+04,\n",
       "       -3.79259414e+04, -3.79924081e+04, -3.80588747e+04, -3.81253413e+04,\n",
       "       -3.81918079e+04, -3.82582746e+04, -3.83247412e+04, -3.83912078e+04,\n",
       "       -3.84576744e+04, -3.85241410e+04, -3.85906077e+04, -3.86570743e+04,\n",
       "       -3.87235409e+04, -3.87900075e+04, -3.88564742e+04, -3.89229408e+04,\n",
       "       -3.89894074e+04, -3.90558740e+04, -3.91223406e+04, -3.91888073e+04,\n",
       "       -3.92552739e+04, -3.93217405e+04, -3.93882071e+04, -3.94546738e+04,\n",
       "       -3.95211404e+04, -3.95876070e+04, -3.96540736e+04, -3.97205402e+04,\n",
       "       -3.97870069e+04, -3.98534735e+04, -3.99199401e+04, -3.99864067e+04,\n",
       "       -4.00528734e+04, -4.01193400e+04, -4.01858066e+04, -4.02522732e+04,\n",
       "       -4.03187398e+04, -4.03852065e+04, -4.04516731e+04, -4.05181397e+04,\n",
       "       -4.05846063e+04, -4.06510730e+04, -4.07175396e+04, -4.07840062e+04,\n",
       "       -4.08504728e+04, -4.09169394e+04, -4.09834061e+04, -4.10498727e+04,\n",
       "       -4.11163393e+04, -4.11828059e+04, -4.12492726e+04, -4.13157392e+04,\n",
       "       -4.13822058e+04, -4.14486724e+04, -4.15151391e+04, -4.15816057e+04,\n",
       "       -4.16480723e+04, -4.17145389e+04, -4.17810055e+04, -4.18474722e+04,\n",
       "       -4.19139388e+04, -4.19804054e+04, -4.20468720e+04, -4.21133387e+04,\n",
       "       -4.21798053e+04, -4.22462719e+04, -4.23127385e+04, -4.23792051e+04,\n",
       "       -4.24456718e+04, -4.25121384e+04, -4.25786050e+04, -4.26450716e+04,\n",
       "       -4.27115383e+04, -4.27780049e+04, -4.28444715e+04, -4.29109381e+04,\n",
       "       -4.29774047e+04, -4.30438714e+04, -4.31103380e+04, -4.31768046e+04,\n",
       "       -4.32432712e+04, -4.33097379e+04, -4.33762045e+04, -4.34426711e+04,\n",
       "       -4.35091377e+04, -4.35756043e+04, -4.36420710e+04, -4.37085376e+04,\n",
       "       -4.37750042e+04, -4.38414708e+04, -4.39079375e+04, -4.39744041e+04,\n",
       "       -4.40408707e+04, -4.41073373e+04, -4.41738040e+04, -4.42402706e+04,\n",
       "       -4.43067372e+04, -4.43732038e+04, -4.44396704e+04, -4.45061371e+04,\n",
       "       -4.45726037e+04, -4.46390703e+04, -4.47055369e+04, -4.47720036e+04,\n",
       "       -4.48384702e+04, -4.49049368e+04, -4.49714034e+04, -4.50378700e+04,\n",
       "       -4.51043367e+04, -4.51708033e+04, -4.52372699e+04, -4.53037365e+04,\n",
       "       -4.53702032e+04, -4.54366698e+04, -4.55031364e+04, -4.55696030e+04,\n",
       "       -4.56360696e+04, -4.57025363e+04, -4.57690029e+04, -4.58354695e+04,\n",
       "       -4.59019361e+04, -4.59684028e+04, -4.60348694e+04, -4.61013360e+04,\n",
       "       -4.61678026e+04, -4.62342692e+04, -4.63007359e+04, -4.63672025e+04,\n",
       "       -4.64336691e+04, -4.65001357e+04, -4.65666024e+04, -4.66330690e+04,\n",
       "       -4.66995356e+04, -4.67660022e+04, -4.68324689e+04, -4.68989355e+04,\n",
       "       -4.69654021e+04, -4.70318687e+04, -4.70983353e+04, -4.71648020e+04,\n",
       "       -4.72312686e+04, -4.72977352e+04, -4.73642018e+04, -4.74306685e+04,\n",
       "       -4.74971351e+04, -4.75636017e+04, -4.76300683e+04, -4.76965349e+04,\n",
       "       -4.77630016e+04, -4.78294682e+04, -4.78959348e+04, -4.79624014e+04,\n",
       "       -4.80288681e+04, -4.80953347e+04, -4.81618013e+04, -4.82282679e+04,\n",
       "       -4.82947345e+04, -4.83612012e+04, -4.84276678e+04, -4.84941344e+04,\n",
       "       -4.85606010e+04, -4.86270677e+04, -4.86935343e+04, -4.87600009e+04,\n",
       "       -4.88264675e+04, -4.88929341e+04, -4.89594008e+04, -4.90258674e+04,\n",
       "       -4.90923340e+04, -4.91588006e+04, -4.92252673e+04, -4.92917339e+04,\n",
       "       -4.93582005e+04, -4.94246671e+04, -4.94911338e+04, -4.95576004e+04,\n",
       "       -4.96240670e+04, -4.96905336e+04, -4.97570002e+04, -4.98234669e+04,\n",
       "       -4.98899335e+04, -4.99564001e+04, -5.00228667e+04, -5.00893334e+04,\n",
       "       -5.01558000e+04, -5.02222666e+04, -5.02887332e+04, -5.03551998e+04,\n",
       "       -5.04216665e+04, -5.04881331e+04, -5.05545997e+04, -5.06210663e+04,\n",
       "       -5.06875330e+04, -5.07539996e+04, -5.08204662e+04, -5.08869328e+04,\n",
       "       -5.09533994e+04, -5.10198661e+04, -5.10863327e+04, -5.11527993e+04,\n",
       "       -5.12192659e+04, -5.12857326e+04, -5.13521992e+04, -5.14186658e+04,\n",
       "       -5.14851324e+04, -5.15515990e+04, -5.16180657e+04, -5.16845323e+04,\n",
       "       -5.17509989e+04, -5.18174655e+04, -5.18839322e+04, -5.19503988e+04,\n",
       "       -5.20168654e+04, -5.20833320e+04, -5.21497986e+04, -5.22162653e+04,\n",
       "       -5.22827319e+04, -5.23491985e+04, -5.24156651e+04, -5.24821318e+04,\n",
       "       -5.25485984e+04, -5.26150650e+04, -5.26815316e+04, -5.27479983e+04,\n",
       "       -5.28144649e+04, -5.28809315e+04, -5.29473981e+04, -5.30138647e+04,\n",
       "       -5.30803314e+04, -5.31467980e+04, -5.32132646e+04, -5.32797312e+04,\n",
       "       -5.33461979e+04, -5.34126645e+04, -5.34791311e+04, -5.35455977e+04,\n",
       "       -5.36120643e+04, -5.36785310e+04, -5.37449976e+04, -5.38114642e+04,\n",
       "       -5.38779308e+04, -5.39443975e+04, -5.40108641e+04, -5.40773307e+04,\n",
       "       -5.41437973e+04, -5.42102639e+04, -5.42767306e+04, -5.43431972e+04,\n",
       "       -5.44096638e+04, -5.44761304e+04, -5.45425971e+04, -5.46090637e+04,\n",
       "       -5.46755303e+04, -5.47419969e+04, -5.48084635e+04, -5.48749302e+04,\n",
       "       -5.49413968e+04, -5.50078634e+04, -5.50743300e+04, -5.51407967e+04,\n",
       "       -5.52072633e+04, -5.52737299e+04, -5.53401965e+04, -5.54066632e+04,\n",
       "       -5.54731298e+04, -5.55395964e+04, -5.56060630e+04, -5.56725296e+04,\n",
       "       -5.57389963e+04, -5.58054629e+04, -5.58719295e+04, -5.59383961e+04,\n",
       "       -5.60048628e+04, -5.60713294e+04, -5.61377960e+04, -5.62042626e+04,\n",
       "       -5.62707292e+04, -5.63371959e+04, -5.64036625e+04, -5.64701291e+04,\n",
       "       -5.65365957e+04, -5.66030624e+04, -5.66695290e+04, -5.67359956e+04,\n",
       "       -5.68024622e+04, -5.68689288e+04, -5.69353955e+04, -5.70018621e+04,\n",
       "       -5.70683287e+04, -5.71347953e+04, -5.72012620e+04, -5.72677286e+04,\n",
       "       -5.73341952e+04, -5.74006618e+04, -5.74671284e+04, -5.75335951e+04,\n",
       "       -5.76000617e+04, -5.76665283e+04, -5.77329949e+04, -5.77994616e+04,\n",
       "       -5.78659282e+04, -5.79323948e+04, -5.79988614e+04, -5.80653281e+04,\n",
       "       -5.81317947e+04, -5.81982613e+04, -5.82647279e+04, -5.83311945e+04,\n",
       "       -5.83976612e+04, -5.84641278e+04, -5.85305944e+04, -5.85970610e+04,\n",
       "       -5.86635277e+04, -5.87299943e+04, -5.87964609e+04, -5.88629275e+04,\n",
       "       -5.89293941e+04, -5.89958608e+04, -5.90623274e+04, -5.91287940e+04,\n",
       "       -5.91952606e+04, -5.92617273e+04, -5.93281939e+04, -5.93946605e+04,\n",
       "       -5.94611271e+04, -5.95275937e+04, -5.95940604e+04, -5.96605270e+04,\n",
       "       -5.97269936e+04, -5.97934602e+04, -5.98599269e+04, -5.99263935e+04,\n",
       "       -5.99928601e+04, -6.00593267e+04, -6.01257933e+04, -6.01922600e+04,\n",
       "       -6.02587266e+04, -6.03251932e+04, -6.03916598e+04, -6.04581265e+04,\n",
       "       -6.05245931e+04, -6.05910597e+04, -6.06575263e+04, -6.07239929e+04,\n",
       "       -6.07904596e+04, -6.08569262e+04, -6.09233928e+04, -6.09898594e+04,\n",
       "       -6.10563261e+04, -6.11227927e+04, -6.11892593e+04, -6.12557259e+04,\n",
       "       -6.13221926e+04, -6.13886592e+04, -6.14551258e+04, -6.15215924e+04,\n",
       "       -6.15880590e+04, -6.16545257e+04, -6.17209923e+04, -6.17874589e+04,\n",
       "       -6.18539255e+04, -6.19203922e+04, -6.19868588e+04, -6.20533254e+04,\n",
       "       -6.21197920e+04, -6.21862586e+04, -6.22527253e+04, -6.23191919e+04,\n",
       "       -6.23856585e+04, -6.24521251e+04, -6.25185918e+04, -6.25850584e+04,\n",
       "       -6.26515250e+04, -6.27179916e+04, -6.27844582e+04, -6.28509249e+04,\n",
       "       -6.29173915e+04, -6.29838581e+04, -6.30503247e+04, -6.31167914e+04,\n",
       "       -6.31832580e+04, -6.32497246e+04, -6.33161912e+04, -6.33826578e+04,\n",
       "       -6.34491245e+04, -6.35155911e+04, -6.35820577e+04, -6.36485243e+04,\n",
       "       -6.37149910e+04, -6.37814576e+04, -6.38479242e+04, -6.39143908e+04,\n",
       "       -6.39808575e+04, -6.40473241e+04, -6.41137907e+04, -6.41802573e+04,\n",
       "       -6.42467239e+04, -6.43131906e+04, -6.43796572e+04, -6.44461238e+04,\n",
       "       -6.45125904e+04, -6.45790571e+04, -6.46455237e+04, -6.47119903e+04,\n",
       "       -6.47784569e+04, -6.48449235e+04, -6.49113902e+04, -6.49778568e+04,\n",
       "       -6.50443234e+04, -6.51107900e+04, -6.51772567e+04, -6.52437233e+04,\n",
       "       -6.53101899e+04, -6.53766565e+04, -6.54431231e+04, -6.55095898e+04,\n",
       "       -6.55760564e+04, -6.56425230e+04, -6.57089896e+04, -6.57754563e+04,\n",
       "       -6.58419229e+04, -6.59083895e+04, -6.59748561e+04, -6.60413227e+04,\n",
       "       -6.61077894e+04, -6.61742560e+04, -6.62407226e+04,  0.00000000e+00])"
      ]
     },
     "execution_count": 45,
     "metadata": {},
     "output_type": "execute_result"
    }
   ],
   "source": [
    "v_x(5.6,3.7,65,40)"
   ]
  },
  {
   "cell_type": "code",
   "execution_count": 48,
   "id": "green-replacement",
   "metadata": {},
   "outputs": [
    {
     "data": {
      "text/plain": [
       "[<matplotlib.lines.Line2D at 0x172a6feaca0>]"
      ]
     },
     "execution_count": 48,
     "metadata": {},
     "output_type": "execute_result"
    },
    {
     "data": {
      "image/png": "[encoded data removed]",
      "text/plain": [
       "<Figure size 432x288 with 1 Axes>"
      ]
     },
     "metadata": {
      "needs_background": "light"
     },
     "output_type": "display_data"
    }
   ],
   "source": [
    "t = np.linspace(0,5,21)\n",
    "plt.plot(t,v_x(0.21,0.14,65,40))"
   ]
  },
  {
   "cell_type": "code",
   "execution_count": null,
   "id": "painful-match",
   "metadata": {},
   "outputs": [],
   "source": []
  },
  {
   "cell_type": "code",
   "execution_count": null,
   "id": "answering-colonial",
   "metadata": {},
   "outputs": [],
   "source": []
  }
 ],
 "metadata": {
  "kernelspec": {
   "display_name": "Python 3",
   "language": "python",
   "name": "python3"
  },
  "language_info": {
   "codemirror_mode": {
    "name": "ipython",
    "version": 3
   },
   "file_extension": ".py",
   "mimetype": "text/x-python",
   "name": "python",
   "nbconvert_exporter": "python",
   "pygments_lexer": "ipython3",
   "version": "3.8.6"
  }
 },
 "nbformat": 4,
 "nbformat_minor": 5
}
