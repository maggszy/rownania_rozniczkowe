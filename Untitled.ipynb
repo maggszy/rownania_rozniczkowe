{
 "cells": [
  {
   "cell_type": "code",
   "execution_count": 20,
   "id": "considered-creator",
   "metadata": {},
   "outputs": [
    {
     "data": {
      "text/plain": [
       "y_prime (generic function with 1 method)"
      ]
     },
     "execution_count": 20,
     "metadata": {},
     "output_type": "execute_result"
    }
   ],
   "source": [
    "function y_prime(v,b) #pierwsza pochodna y\n",
    "    dydb= v*sin(b)\n",
    "    return dydb\n",
    "end"
   ]
  },
  {
   "cell_type": "code",
   "execution_count": 112,
   "id": "silver-duncan",
   "metadata": {},
   "outputs": [
    {
     "data": {
      "text/plain": [
       "x_prime (generic function with 1 method)"
      ]
     },
     "execution_count": 112,
     "metadata": {},
     "output_type": "execute_result"
    }
   ],
   "source": [
    "function x_prime(v,b) #pochodna x\n",
    "    dxdb= v*cos(b)\n",
    "    return dxdb\n",
    "end"
   ]
  },
  {
   "cell_type": "code",
   "execution_count": 113,
   "id": "reported-substitute",
   "metadata": {},
   "outputs": [
    {
     "data": {
      "text/plain": [
       "x_bis_samo (generic function with 1 method)"
      ]
     },
     "execution_count": 113,
     "metadata": {},
     "output_type": "execute_result"
    }
   ],
   "source": [
    "function x_bis_samo(v,b,k1,k2,omega0,t,tał)\n",
    "    f=y_prime(v,b)\n",
    "    #k=k1+[(k2-k1)/(np.cos(omega0))]*(-1)*(f/ v)\n",
    "    k=k1+(k2-k1)/(cos(omega0))*(-1)*(f/ v)\n",
    "    w=k*v^2\n",
    "    omega=omega0*(1-exp(-t/tał))\n",
    "    \n",
    "   \n",
    "    dx=x_prime(v,b)\n",
    "    #ddx=-(1/m)*k*(v*dx*np.cos(omega)+v*f*np.sin(omega))\n",
    "    #rozwiązanie\n",
    "    #m*r**2+k*(v*r*np.cos(omega))+k*v*f*np.sin(omega)=0\n",
    "     \n",
    "    ddx -> -(1/m)*k*(v*dx*cos(omega)+v*f*sin(omega))\n",
    "    \n",
    "end"
   ]
  },
  {
   "cell_type": "code",
   "execution_count": 134,
   "id": "essential-animal",
   "metadata": {},
   "outputs": [
    {
     "data": {
      "text/plain": [
       "x_bis_again (generic function with 1 method)"
      ]
     },
     "execution_count": 134,
     "metadata": {},
     "output_type": "execute_result"
    }
   ],
   "source": [
    "function x_bis_again(v,b,k1,k2,omega0,t,tał)\n",
    "    f=y_prime(v,b)\n",
    "    #k=k1+[(k2-k1)/(np.cos(omega0))]*(-1)*(f/ v)\n",
    "    k=k1+(k2-k1)/(cos(omega0))*(-1)*(f/ v)\n",
    "    w=k*v^2\n",
    "    omega=omega0*(1-exp(-t/tał))\n",
    "    \n",
    "    ddx = zeros(floor(Int, t / dt), 1)\n",
    "   \n",
    "   \n",
    "    dx=zeros(floor(Int, t / dt), 1)\n",
    "    dx[1]=0\n",
    "    #ddx=-(1/m)*k*(v*dx*np.cos(omega)+v*f*np.sin(omega))\n",
    "    #rozwiązanie\n",
    "    #m*r**2+k*(v*r*np.cos(omega))+k*v*f*np.sin(omega)=0\n",
    "    for i in (1:t)\n",
    "        \n",
    "        ddx[t]=-(1/m)*k*(v*dx[t]*cos(omega)+v*f*sin(omega))\n",
    "    end\n",
    "    return ddx\n",
    "end"
   ]
  },
  {
   "cell_type": "code",
   "execution_count": 171,
   "id": "adult-stationery",
   "metadata": {},
   "outputs": [
    {
     "data": {
      "text/plain": [
       "odeEuler2_moje (generic function with 2 methods)"
      ]
     },
     "execution_count": 171,
     "metadata": {},
     "output_type": "execute_result"
    }
   ],
   "source": [
    "function odeEuler2_moje(f,u0,t)\n",
    "    \n",
    "    \"\"\"\n",
    "    approximate the solution of y'=f(y,t) by Euler's method\n",
    "    \"\"\"\n",
    "\n",
    "    u=zeros(floor(Int, t), 1)\n",
    "    u[1]=u0\n",
    "    \n",
    "    \n",
    "    for n in (1 : t)\n",
    "        u[n+1] = u[n] +f(u[n],t[n])*(t[n+1] - t[n])\n",
    "    end\n",
    "    return u\n",
    "end"
   ]
  },
  {
   "cell_type": "code",
   "execution_count": 172,
   "id": "preceding-ideal",
   "metadata": {},
   "outputs": [
    {
     "data": {
      "text/plain": [
       "50"
      ]
     },
     "execution_count": 172,
     "metadata": {},
     "output_type": "execute_result"
    }
   ],
   "source": [
    "time=3\n",
    "amount= 25\n",
    "v=26.5\n",
    "b=0\n",
    "u0=0\n",
    "k1=1\n",
    "k2=2\n",
    "omega0=60\n",
    "tał=1\n",
    "t=5\n",
    "dt=0.0001\n",
    "m=50"
   ]
  },
  {
   "cell_type": "code",
   "execution_count": 173,
   "id": "secret-count",
   "metadata": {},
   "outputs": [
    {
     "ename": "LoadError",
     "evalue": "\u001b[91mMethodError: objects of type Array{Float64,2} are not callable\u001b[39m\n\u001b[91mUse square brackets [] for indexing an Array.\u001b[39m",
     "output_type": "error",
     "traceback": [
      "\u001b[91mMethodError: objects of type Array{Float64,2} are not callable\u001b[39m\n\u001b[91mUse square brackets [] for indexing an Array.\u001b[39m",
      "",
      "Stacktrace:",
      " [1] odeEuler2_moje(::Array{Float64,2}, ::Int64, ::Int64) at .\\In[171]:12",
      " [2] top-level scope at In[173]:2",
      " [3] include_string(::Function, ::Module, ::String, ::String) at .\\loading.jl:1091"
     ]
    }
   ],
   "source": [
    "\n",
    "odeEuler2_moje(odeEuler2_moje(x_bis_again(v,b,k1,k2,omega0,t,tał),0,t),0,t)\n"
   ]
  },
  {
   "cell_type": "code",
   "execution_count": 117,
   "id": "seven-shipping",
   "metadata": {},
   "outputs": [
    {
     "ename": "LoadError",
     "evalue": "\u001b[91mMethodError: no method matching (::var\"#19#20\"{Float64,Float64,Float64,Float64,Float64})(::Float64, ::Int64)\u001b[39m\n\u001b[91m\u001b[0mClosest candidates are:\u001b[39m\n\u001b[91m\u001b[0m  #19(::Any) at In[113]:14\u001b[39m",
     "output_type": "error",
     "traceback": [
      "\u001b[91mMethodError: no method matching (::var\"#19#20\"{Float64,Float64,Float64,Float64,Float64})(::Float64, ::Int64)\u001b[39m\n\u001b[91m\u001b[0mClosest candidates are:\u001b[39m\n\u001b[91m\u001b[0m  #19(::Any) at In[113]:14\u001b[39m",
      "",
      "Stacktrace:",
      " [1] odeEuler2_moje(::var\"#19#20\"{Float64,Float64,Float64,Float64,Float64}, ::Int64, ::Int64, ::Float64) at .\\In[114]:12",
      " [2] top-level scope at In[117]:1",
      " [3] include_string(::Function, ::Module, ::String, ::String) at .\\loading.jl:1091"
     ]
    }
   ],
   "source": [
    "plot(odeEuler2_moje(x_bis_samo(v,b,k1,k2,omega0,t,tał),0,t,dt),\n",
    "    xlabel = \"czas [ms]\", \n",
    "    ylabel = \"prędkość [m/s]\",\n",
    "    label = \"prędkość w kierunku poziomym z oporami\",\n",
    "    xlim = (0, czas_opor),\n",
    "    legend = :bottomleft,\n",
    "    title = \"prędkość w kierunku poziomym\")"
   ]
  },
  {
   "cell_type": "code",
   "execution_count": null,
   "id": "religious-stomach",
   "metadata": {},
   "outputs": [],
   "source": [
    "function euler_2()\n",
    "    f=y_prime(v,b)\n",
    "  \n",
    "    k=k1+(k2-k1)/(cos(omega0))*(-1)*(f/ v)\n",
    "    w=k*v^2\n",
    "    omega=omega0*(1-exp(-t/tał))\n",
    "    \n",
    "   \n",
    "    dx=x_prime(v,b)\n",
    "    #ddx=-(1/m)*k*(v*dx*np.cos(omega)+v*f*np.sin(omega))\n",
    "    #rozwiązanie\n",
    "    #m*r**2+k*(v*r*np.cos(omega))+k*v*f*np.sin(omega)=0\n",
    "     \n",
    "    \n",
    "    x=t^l\n",
    "    dx=l*t^(l-1)\n",
    "    ddx=l*(l-1)*t^(l-2)\n",
    "    h=m*ddx+k*v*dx*cos(omega)+k*v*f*sin(omega)\n",
    "    r=h/t^l\n",
    "    \n",
    "    \n",
    "    \n",
    "    "
   ]
  },
  {
   "cell_type": "code",
   "execution_count": null,
   "id": "computational-center",
   "metadata": {},
   "outputs": [],
   "source": []
  }
 ],
 "metadata": {
  "kernelspec": {
   "display_name": "Julia 1.5.3",
   "language": "julia",
   "name": "julia-1.5"
  },
  "language_info": {
   "file_extension": ".jl",
   "mimetype": "application/julia",
   "name": "julia",
   "version": "1.5.3"
  }
 },
 "nbformat": 4,
 "nbformat_minor": 5
}
