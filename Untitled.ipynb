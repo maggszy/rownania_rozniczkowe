{
 "cells": [
  {
   "cell_type": "code",
   "execution_count": 20,
   "id": "pressed-adams",
   "metadata": {},
   "outputs": [
    {
     "data": {
      "text/plain": [
       "y_prime (generic function with 1 method)"
      ]
     },
     "execution_count": 20,
     "metadata": {},
     "output_type": "execute_result"
    }
   ],
   "source": [
    "function y_prime(v,b) #pierwsza pochodna y\n",
    "    dydb= v*sin(b)\n",
    "    return dydb\n",
    "end"
   ]
  },
  {
   "cell_type": "code",
   "execution_count": 89,
   "id": "prostate-gathering",
   "metadata": {},
   "outputs": [
    {
     "data": {
      "text/plain": [
       "x_bis_samo (generic function with 1 method)"
      ]
     },
     "execution_count": 89,
     "metadata": {},
     "output_type": "execute_result"
    }
   ],
   "source": [
    "function x_bis_samo(v,b,k1,k2,omega0,t,tał)\n",
    "    f=y_prime(v,b)\n",
    "    #k=k1+[(k2-k1)/(np.cos(omega0))]*(-1)*(f/ v)\n",
    "    k=k1+(k2-k1)/(cos(omega0))*(-1)*(f/ v)\n",
    "    w=k*v^2\n",
    "    omega=omega0*(1-exp(-t/tał))\n",
    "    \n",
    "   \n",
    "    dx=zeros(t,1)\n",
    "    \n",
    "    #ddx=-(1/m)*k*(v*dx*np.cos(omega)+v*f*np.sin(omega))\n",
    "    #rozwiązanie\n",
    "    #m*r**2+k*(v*r*np.cos(omega))+k*v*f*np.sin(omega)=0\n",
    "     \n",
    "    ddx -> -(1/m)*k*(v*dx*cos(omega)+v*f*sin(omega))\n",
    "    \n",
    "end"
   ]
  },
  {
   "cell_type": "code",
   "execution_count": 90,
   "id": "through-deposit",
   "metadata": {},
   "outputs": [
    {
     "data": {
      "text/plain": [
       "odeEuler2_moje (generic function with 2 methods)"
      ]
     },
     "execution_count": 90,
     "metadata": {},
     "output_type": "execute_result"
    }
   ],
   "source": [
    "function odeEuler2_moje(f,u0,t,dt)\n",
    "    \n",
    "    \"\"\"\n",
    "    approximate the solution of y'=f(y,t) by Euler's method\n",
    "    \"\"\"\n",
    "\n",
    "    u=zeros(floor(Int, t/dt), 1)\n",
    "    u[1]=u0\n",
    "    \n",
    "    \n",
    "    for n in (1 : floor(Int, t / dt))\n",
    "        u[n+1] = u[n] + f(u[n],t[n])*(t[n+1] - t[n])\n",
    "    end\n",
    "    return u\n",
    "end"
   ]
  },
  {
   "cell_type": "code",
   "execution_count": 91,
   "id": "standard-paragraph",
   "metadata": {},
   "outputs": [
    {
     "data": {
      "text/plain": [
       "0.0001"
      ]
     },
     "execution_count": 91,
     "metadata": {},
     "output_type": "execute_result"
    }
   ],
   "source": [
    "time=3\n",
    "amount= 25\n",
    "v=26.5\n",
    "b=0\n",
    "u0=0\n",
    "k1=1\n",
    "k2=2\n",
    "omega0=60\n",
    "tał=1\n",
    "t=5\n",
    "dt=0.0001"
   ]
  },
  {
   "cell_type": "code",
   "execution_count": 92,
   "id": "patent-worker",
   "metadata": {},
   "outputs": [
    {
     "ename": "LoadError",
     "evalue": "\u001b[91mMethodError: no method matching (::var\"#15#16\"{Float64,Float64,Float64,Float64,Array{Float64,2}})(::Float64, ::Int64)\u001b[39m\n\u001b[91m\u001b[0mClosest candidates are:\u001b[39m\n\u001b[91m\u001b[0m  #15(::Any) at In[89]:15\u001b[39m",
     "output_type": "error",
     "traceback": [
      "\u001b[91mMethodError: no method matching (::var\"#15#16\"{Float64,Float64,Float64,Float64,Array{Float64,2}})(::Float64, ::Int64)\u001b[39m\n\u001b[91m\u001b[0mClosest candidates are:\u001b[39m\n\u001b[91m\u001b[0m  #15(::Any) at In[89]:15\u001b[39m",
      "",
      "Stacktrace:",
      " [1] odeEuler2_moje(::var\"#15#16\"{Float64,Float64,Float64,Float64,Array{Float64,2}}, ::Int64, ::Int64, ::Float64) at .\\In[90]:12",
      " [2] top-level scope at In[92]:2",
      " [3] include_string(::Function, ::Module, ::String, ::String) at .\\loading.jl:1091"
     ]
    }
   ],
   "source": [
    "\n",
    "odeEuler2_moje(x_bis_samo(v,b,k1,k2,omega0,t,tał),0,t,dt)\n"
   ]
  },
  {
   "cell_type": "code",
   "execution_count": 93,
   "id": "emotional-silver",
   "metadata": {},
   "outputs": [
    {
     "ename": "LoadError",
     "evalue": "\u001b[91mMethodError: no method matching (::var\"#15#16\"{Float64,Float64,Float64,Float64,Array{Float64,2}})(::Float64, ::Int64)\u001b[39m\n\u001b[91m\u001b[0mClosest candidates are:\u001b[39m\n\u001b[91m\u001b[0m  #15(::Any) at In[89]:15\u001b[39m",
     "output_type": "error",
     "traceback": [
      "\u001b[91mMethodError: no method matching (::var\"#15#16\"{Float64,Float64,Float64,Float64,Array{Float64,2}})(::Float64, ::Int64)\u001b[39m\n\u001b[91m\u001b[0mClosest candidates are:\u001b[39m\n\u001b[91m\u001b[0m  #15(::Any) at In[89]:15\u001b[39m",
      "",
      "Stacktrace:",
      " [1] odeEuler2_moje(::var\"#15#16\"{Float64,Float64,Float64,Float64,Array{Float64,2}}, ::Int64, ::Int64, ::Float64) at .\\In[90]:12",
      " [2] top-level scope at In[93]:1",
      " [3] include_string(::Function, ::Module, ::String, ::String) at .\\loading.jl:1091"
     ]
    }
   ],
   "source": [
    "plot(odeEuler2_moje(x_bis_samo(v,b,k1,k2,omega0,t,tał),0,t,dt),\n",
    "    xlabel = \"czas [ms]\", \n",
    "    ylabel = \"prędkość [m/s]\",\n",
    "    label = \"prędkość w kierunku poziomym z oporami\",\n",
    "    xlim = (0, czas_opor),\n",
    "    legend = :bottomleft,\n",
    "    title = \"prędkość w kierunku poziomym\")"
   ]
  },
  {
   "cell_type": "code",
   "execution_count": null,
   "id": "labeled-preliminary",
   "metadata": {},
   "outputs": [],
   "source": []
  },
  {
   "cell_type": "code",
   "execution_count": null,
   "id": "joint-voltage",
   "metadata": {},
   "outputs": [],
   "source": []
  }
 ],
 "metadata": {
  "kernelspec": {
   "display_name": "Julia 1.5.3",
   "language": "julia",
   "name": "julia-1.5"
  },
  "language_info": {
   "file_extension": ".jl",
   "mimetype": "application/julia",
   "name": "julia",
   "version": "1.5.3"
  }
 },
 "nbformat": 4,
 "nbformat_minor": 5
}
