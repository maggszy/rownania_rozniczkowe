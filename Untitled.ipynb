{
 "cells": [
  {
   "cell_type": "code",
   "execution_count": 25,
   "id": "considered-creator",
   "metadata": {},
   "outputs": [
    {
     "data": {
      "text/plain": [
       "y_prime (generic function with 1 method)"
      ]
     },
     "execution_count": 25,
     "metadata": {},
     "output_type": "execute_result"
    }
   ],
   "source": [
    "function y_prime(v,b) #pierwsza pochodna y\n",
    "    dydb= v*sin(b)\n",
    "    return dydb\n",
    "end"
   ]
  },
  {
   "cell_type": "code",
   "execution_count": 26,
   "id": "silver-duncan",
   "metadata": {},
   "outputs": [
    {
     "data": {
      "text/plain": [
       "x_prime (generic function with 1 method)"
      ]
     },
     "execution_count": 26,
     "metadata": {},
     "output_type": "execute_result"
    }
   ],
   "source": [
    "function x_prime(v,b) #pochodna x\n",
    "    dxdb= v*cos(b)\n",
    "    return dxdb\n",
    "end"
   ]
  },
  {
   "cell_type": "code",
   "execution_count": 27,
   "id": "reported-substitute",
   "metadata": {},
   "outputs": [
    {
     "data": {
      "text/plain": [
       "x_bis_samo (generic function with 1 method)"
      ]
     },
     "execution_count": 27,
     "metadata": {},
     "output_type": "execute_result"
    }
   ],
   "source": [
    "function x_bis_samo(v,b,k1,k2,omega0,t,tał)\n",
    "    f=y_prime(v,b)\n",
    "    #k=k1+[(k2-k1)/(np.cos(omega0))]*(-1)*(f/ v)\n",
    "    k=k1+(k2-k1)/(cos(omega0))*(-1)*(f/ v)\n",
    "    w=k*v^2\n",
    "    omega=omega0*(1-exp(-t/tał))\n",
    "    \n",
    "   \n",
    "    dx=x_prime(v,b)\n",
    "    #ddx=-(1/m)*k*(v*dx*np.cos(omega)+v*f*np.sin(omega))\n",
    "    #rozwiązanie\n",
    "    #m*r**2+k*(v*r*np.cos(omega))+k*v*f*np.sin(omega)=0\n",
    "     \n",
    "    ddx -> -(1/m)*k*(v*dx*cos(omega)+v*f*sin(omega))\n",
    "    \n",
    "end"
   ]
  },
  {
   "cell_type": "code",
   "execution_count": 28,
   "id": "essential-animal",
   "metadata": {},
   "outputs": [
    {
     "data": {
      "text/plain": [
       "x_bis_again (generic function with 1 method)"
      ]
     },
     "execution_count": 28,
     "metadata": {},
     "output_type": "execute_result"
    }
   ],
   "source": [
    "function x_bis_again(v,b,k1,k2,omega0,t,tał)\n",
    "    f=y_prime(v,b)\n",
    "    #k=k1+[(k2-k1)/(np.cos(omega0))]*(-1)*(f/ v)\n",
    "    k=k1+(k2-k1)/(cos(omega0))*(-1)*(f/ v)\n",
    "    w=k*v^2\n",
    "    omega=omega0*(1-exp(-t/tał))\n",
    "    \n",
    "    ddx = zeros(floor(Int, t / dt), 1)\n",
    "   \n",
    "   \n",
    "    dx=zeros(floor(Int, t / dt), 1)\n",
    "    dx[1]=0\n",
    "    #ddx=-(1/m)*k*(v*dx*np.cos(omega)+v*f*np.sin(omega))\n",
    "    #rozwiązanie\n",
    "    #m*r**2+k*(v*r*np.cos(omega))+k*v*f*np.sin(omega)=0\n",
    "    for i in (1:t)\n",
    "        \n",
    "        ddx[t]=-(1/m)*k*(v*dx[t]*cos(omega)+v*f*sin(omega))\n",
    "    end\n",
    "    return ddx\n",
    "end"
   ]
  },
  {
   "cell_type": "code",
   "execution_count": 29,
   "id": "adult-stationery",
   "metadata": {},
   "outputs": [
    {
     "data": {
      "text/plain": [
       "odeEuler2_moje (generic function with 1 method)"
      ]
     },
     "execution_count": 29,
     "metadata": {},
     "output_type": "execute_result"
    }
   ],
   "source": [
    "function odeEuler2_moje(f,u0,t)\n",
    "    \n",
    "    \"\"\"\n",
    "    approximate the solution of y'=f(y,t) by Euler's method\n",
    "    \"\"\"\n",
    "\n",
    "    u=zeros(floor(Int, t), 1)\n",
    "    u[1]=u0\n",
    "    \n",
    "    \n",
    "    for n in (1 : t)\n",
    "        u[n+1] = u[n] +f(u[n],t[n])*(t[n+1] - t[n])\n",
    "    end\n",
    "    return u\n",
    "end"
   ]
  },
  {
   "cell_type": "code",
   "execution_count": 30,
   "id": "preceding-ideal",
   "metadata": {},
   "outputs": [
    {
     "data": {
      "text/plain": [
       "50"
      ]
     },
     "execution_count": 30,
     "metadata": {},
     "output_type": "execute_result"
    }
   ],
   "source": [
    "time=3\n",
    "amount= 25\n",
    "v=26.5\n",
    "b=0\n",
    "u0=0\n",
    "k1=1\n",
    "k2=2\n",
    "omega0=60\n",
    "tał=1\n",
    "t=5\n",
    "dt=0.0001\n",
    "m=50"
   ]
  },
  {
   "cell_type": "code",
   "execution_count": 31,
   "id": "secret-count",
   "metadata": {},
   "outputs": [
    {
     "ename": "LoadError",
     "evalue": "\u001b[91mMethodError: objects of type Array{Float64,2} are not callable\u001b[39m\n\u001b[91mUse square brackets [] for indexing an Array.\u001b[39m",
     "output_type": "error",
     "traceback": [
      "\u001b[91mMethodError: objects of type Array{Float64,2} are not callable\u001b[39m\n\u001b[91mUse square brackets [] for indexing an Array.\u001b[39m",
      "",
      "Stacktrace:",
      " [1] odeEuler2_moje(::Array{Float64,2}, ::Int64, ::Int64) at .\\In[29]:12",
      " [2] top-level scope at In[31]:2",
      " [3] include_string(::Function, ::Module, ::String, ::String) at .\\loading.jl:1091"
     ]
    }
   ],
   "source": [
    "\n",
    "odeEuler2_moje(odeEuler2_moje(x_bis_again(v,b,k1,k2,omega0,t,tał),0,t),0,t)\n"
   ]
  },
  {
   "cell_type": "code",
   "execution_count": 32,
   "id": "seven-shipping",
   "metadata": {},
   "outputs": [
    {
     "ename": "LoadError",
     "evalue": "\u001b[91mMethodError: no method matching odeEuler2_moje(::var\"#7#8\"{Float64,Float64,Float64,Float64,Float64}, ::Int64, ::Int64, ::Float64)\u001b[39m\n\u001b[91m\u001b[0mClosest candidates are:\u001b[39m\n\u001b[91m\u001b[0m  odeEuler2_moje(::Any, ::Any, ::Any) at In[29]:1\u001b[39m",
     "output_type": "error",
     "traceback": [
      "\u001b[91mMethodError: no method matching odeEuler2_moje(::var\"#7#8\"{Float64,Float64,Float64,Float64,Float64}, ::Int64, ::Int64, ::Float64)\u001b[39m\n\u001b[91m\u001b[0mClosest candidates are:\u001b[39m\n\u001b[91m\u001b[0m  odeEuler2_moje(::Any, ::Any, ::Any) at In[29]:1\u001b[39m",
      "",
      "Stacktrace:",
      " [1] top-level scope at In[32]:1",
      " [2] include_string(::Function, ::Module, ::String, ::String) at .\\loading.jl:1091"
     ]
    }
   ],
   "source": [
    "plot(odeEuler2_moje(x_bis_samo(v,b,k1,k2,omega0,t,tał),0,t,dt),\n",
    "    xlabel = \"czas [ms]\", \n",
    "    ylabel = \"prędkość [m/s]\",\n",
    "    label = \"prędkość w kierunku poziomym z oporami\",\n",
    "    xlim = (0, czas_opor),\n",
    "    legend = :bottomleft,\n",
    "    title = \"prędkość w kierunku poziomym\")"
   ]
  },
  {
   "cell_type": "code",
   "execution_count": 33,
   "id": "religious-stomach",
   "metadata": {},
   "outputs": [
    {
     "ename": "LoadError",
     "evalue": "\u001b[91msyntax: incomplete: \"function\" at In[33]:1 requires end\u001b[39m",
     "output_type": "error",
     "traceback": [
      "\u001b[91msyntax: incomplete: \"function\" at In[33]:1 requires end\u001b[39m",
      "",
      "Stacktrace:",
      " [1] top-level scope at In[33]:1",
      " [2] include_string(::Function, ::Module, ::String, ::String) at .\\loading.jl:1091"
     ]
    }
   ],
   "source": [
    "function euler_2()\n",
    "    f=y_prime(v,b)\n",
    "  \n",
    "    k=k1+(k2-k1)/(cos(omega0))*(-1)*(f/ v)\n",
    "    w=k*v^2\n",
    "    omega=omega0*(1-exp(-t/tał))\n",
    "    \n",
    "   \n",
    "    dx=x_prime(v,b)\n",
    "    #ddx=-(1/m)*k*(v*dx*np.cos(omega)+v*f*np.sin(omega))\n",
    "    #rozwiązanie\n",
    "    #m*r**2+k*(v*r*np.cos(omega))+k*v*f*np.sin(omega)=0\n",
    "     \n",
    "    \n",
    "    x=t^l\n",
    "    dx=l*t^(l-1)\n",
    "    ddx=l*(l-1)*t^(l-2)\n",
    "    h=m*ddx+k*v*dx*cos(omega)+k*v*f*sin(omega)\n",
    "    r=h/t^l\n",
    "    \n",
    "    \n",
    "    \n",
    "    "
   ]
  },
  {
   "cell_type": "markdown",
   "id": "pediatric-series",
   "metadata": {},
   "source": [
    "**coś działa**"
   ]
  },
  {
   "cell_type": "code",
   "execution_count": 34,
   "id": "discrete-declaration",
   "metadata": {},
   "outputs": [
    {
     "data": {
      "text/plain": [
       "9.81"
      ]
     },
     "execution_count": 34,
     "metadata": {},
     "output_type": "execute_result"
    }
   ],
   "source": [
    "time=3\n",
    "amount= 25\n",
    "v=26.5\n",
    "b=0\n",
    "u0=0\n",
    "k1=1\n",
    "k2=2\n",
    "omega0=60\n",
    "tał=1\n",
    "g=9.81\n"
   ]
  },
  {
   "cell_type": "code",
   "execution_count": 35,
   "id": "duplicate-australia",
   "metadata": {},
   "outputs": [
    {
     "data": {
      "text/plain": [
       "x_bis_skrót (generic function with 1 method)"
      ]
     },
     "execution_count": 35,
     "metadata": {},
     "output_type": "execute_result"
    }
   ],
   "source": [
    "function x_bis_skrót(v,b,k1,k2,omega0,t,tał) #2pochodna x\n",
    "    f=y_prime(v,b)\n",
    "    #k=k1+[(k2-k1)/(np.cos(omega0))]*(-1)*(f/ v)\n",
    "    k=k1+(k2-k1)/(cos(omega0))*(-1)*(f/ v)\n",
    "    w=k*v^2\n",
    "    omega=omega0*(1-exp(-t/tał))\n",
    "    \n",
    "    t = LinRange(0,10,1000)\n",
    "    dx=x_prime(v,b)\n",
    "    \n",
    "    #ddx=-(1/m)*k*(v*dx*np.cos(omega)+v*f*np.sin(omega))\n",
    "    #rozwiązanie\n",
    "    #m*r**2+k*(v*r*np.cos(omega))+k*v*f*np.sin(omega)=0\n",
    "    \n",
    "    ddx=-(1/m)*k*(v*dx*cos(omega)+v*f*sin(omega))\n",
    "    return ddx\n",
    "end"
   ]
  },
  {
   "cell_type": "code",
   "execution_count": 36,
   "id": "innovative-headset",
   "metadata": {},
   "outputs": [
    {
     "ename": "LoadError",
     "evalue": "\u001b[91mMethodError: no method matching exp(::LinRange{Float64})\u001b[39m\n\u001b[91m\u001b[0mClosest candidates are:\u001b[39m\n\u001b[91m\u001b[0m  exp(\u001b[91m::Complex{Float16}\u001b[39m) at math.jl:1145\u001b[39m\n\u001b[91m\u001b[0m  exp(\u001b[91m::Float16\u001b[39m) at math.jl:1144\u001b[39m\n\u001b[91m\u001b[0m  exp(\u001b[91m::Missing\u001b[39m) at math.jl:1197\u001b[39m\n\u001b[91m\u001b[0m  ...\u001b[39m",
     "output_type": "error",
     "traceback": [
      "\u001b[91mMethodError: no method matching exp(::LinRange{Float64})\u001b[39m\n\u001b[91m\u001b[0mClosest candidates are:\u001b[39m\n\u001b[91m\u001b[0m  exp(\u001b[91m::Complex{Float16}\u001b[39m) at math.jl:1145\u001b[39m\n\u001b[91m\u001b[0m  exp(\u001b[91m::Float16\u001b[39m) at math.jl:1144\u001b[39m\n\u001b[91m\u001b[0m  exp(\u001b[91m::Missing\u001b[39m) at math.jl:1197\u001b[39m\n\u001b[91m\u001b[0m  ...\u001b[39m",
      "",
      "Stacktrace:",
      " [1] x_bis_skrót(::Float64, ::Int64, ::Int64, ::Int64, ::Int64, ::LinRange{Float64}, ::Int64) at .\\In[35]:6",
      " [2] top-level scope at In[36]:7",
      " [3] include_string(::Function, ::Module, ::String, ::String) at .\\loading.jl:1091"
     ]
    }
   ],
   "source": [
    " t = LinRange(0,10,10000)\n",
    "y0 = 0\n",
    "v=26.5\n",
    "b=20\n",
    "\n",
    "#f = lambda y,t: y\n",
    "y = x_bis_skrót(v,b,k1,k2,omega0,t,tał)\n",
    "#y_true = np.exp(t) #nieistotne jakby co\n",
    "plot(t,y,'b.-')#,t,y_true,'r-')\n",
    "legend(['Euler','True'])\n",
    "#plt.axis([0,2,0,9])\n",
    "grid(True)\n",
    "#plt.title(\"Solution of $y'=y , y(0)=0$\")\n",
    "show()"
   ]
  },
  {
   "cell_type": "code",
   "execution_count": 51,
   "id": "therapeutic-laser",
   "metadata": {},
   "outputs": [
    {
     "data": {
      "text/plain": [
       "v_y (generic function with 1 method)"
      ]
     },
     "execution_count": 51,
     "metadata": {},
     "output_type": "execute_result"
    }
   ],
   "source": [
    "function v_x(v₀, α)\n",
    "    t -> v₀ * cos(α)\n",
    "end\n",
    "\n",
    "function v_y(v₀, α, g)\n",
    "    t -> v₀ * sin(α) - g * t\n",
    "end\n"
   ]
  },
  {
   "cell_type": "code",
   "execution_count": 7,
   "id": "certain-sculpture",
   "metadata": {},
   "outputs": [],
   "source": [
    "using Plots\n",
    "\n"
   ]
  },
  {
   "cell_type": "code",
   "execution_count": 60,
   "id": "individual-switch",
   "metadata": {},
   "outputs": [
    {
     "data": {
      "image/svg+xml": [
       "<?xml version=\"1.0\" encoding=\"utf-8\"?>\n",
       "<svg xmlns=\"http://www.w3.org/2000/svg\" xmlns:xlink=\"http://www.w3.org/1999/xlink\" width=\"600\" height=\"400\" viewBox=\"0 0 2400 1600\">\n",
       "<defs>\n",
       "  <clipPath id=\"clip410\">\n",
       "    <rect x=\"0\" y=\"0\" width=\"2400\" height=\"1600\"/>\n",
       "  </clipPath>\n",
       "</defs>\n",
       "<path clip-path=\"url(#clip410)\" d=\"\n",
       "M0 1600 L2400 1600 L2400 0 L0 0  Z\n",
       "  \" fill=\"#ffffff\" fill-rule=\"evenodd\" fill-opacity=\"1\"/>\n",
       "<defs>\n",
       "  <clipPath id=\"clip411\">\n",
       "    <rect x=\"480\" y=\"0\" width=\"1681\" height=\"1600\"/>\n",
       "  </clipPath>\n",
       "</defs>\n",
       "<path clip-path=\"url(#clip410)\" d=\"\n",
       "M170.047 686.448 L1152.19 686.448 L1152.19 47.2441 L170.047 47.2441  Z\n",
       "  \" fill=\"#ffffff\" fill-rule=\"evenodd\" fill-opacity=\"1\"/>\n",
       "<defs>\n",
       "  <clipPath id=\"clip412\">\n",
       "    <rect x=\"170\" y=\"47\" width=\"983\" height=\"640\"/>\n",
       "  </clipPath>\n",
       "</defs>\n",
       "<polyline clip-path=\"url(#clip412)\" style=\"stroke:#000000; stroke-width:2; stroke-opacity:0.1; fill:none\" points=\"\n",
       "  197.844,686.448 197.844,47.2441 \n",
       "  \"/>\n",
       "<polyline clip-path=\"url(#clip412)\" style=\"stroke:#000000; stroke-width:2; stroke-opacity:0.1; fill:none\" points=\"\n",
       "  429.481,686.448 429.481,47.2441 \n",
       "  \"/>\n",
       "<polyline clip-path=\"url(#clip412)\" style=\"stroke:#000000; stroke-width:2; stroke-opacity:0.1; fill:none\" points=\"\n",
       "  661.118,686.448 661.118,47.2441 \n",
       "  \"/>\n",
       "<polyline clip-path=\"url(#clip412)\" style=\"stroke:#000000; stroke-width:2; stroke-opacity:0.1; fill:none\" points=\"\n",
       "  892.755,686.448 892.755,47.2441 \n",
       "  \"/>\n",
       "<polyline clip-path=\"url(#clip412)\" style=\"stroke:#000000; stroke-width:2; stroke-opacity:0.1; fill:none\" points=\"\n",
       "  1124.39,686.448 1124.39,47.2441 \n",
       "  \"/>\n",
       "<polyline clip-path=\"url(#clip410)\" style=\"stroke:#000000; stroke-width:4; stroke-opacity:1; fill:none\" points=\"\n",
       "  170.047,686.448 1152.19,686.448 \n",
       "  \"/>\n",
       "<polyline clip-path=\"url(#clip410)\" style=\"stroke:#000000; stroke-width:4; stroke-opacity:1; fill:none\" points=\"\n",
       "  197.844,686.448 197.844,678.777 \n",
       "  \"/>\n",
       "<polyline clip-path=\"url(#clip410)\" style=\"stroke:#000000; stroke-width:4; stroke-opacity:1; fill:none\" points=\"\n",
       "  429.481,686.448 429.481,678.777 \n",
       "  \"/>\n",
       "<polyline clip-path=\"url(#clip410)\" style=\"stroke:#000000; stroke-width:4; stroke-opacity:1; fill:none\" points=\"\n",
       "  661.118,686.448 661.118,678.777 \n",
       "  \"/>\n",
       "<polyline clip-path=\"url(#clip410)\" style=\"stroke:#000000; stroke-width:4; stroke-opacity:1; fill:none\" points=\"\n",
       "  892.755,686.448 892.755,678.777 \n",
       "  \"/>\n",
       "<polyline clip-path=\"url(#clip410)\" style=\"stroke:#000000; stroke-width:4; stroke-opacity:1; fill:none\" points=\"\n",
       "  1124.39,686.448 1124.39,678.777 \n",
       "  \"/>\n",
       "<path clip-path=\"url(#clip410)\" d=\"M 0 0 M179.36 715.639 Q175.749 715.639 173.92 719.203 Q172.115 722.745 172.115 729.875 Q172.115 736.981 173.92 740.546 Q175.749 744.087 179.36 744.087 Q182.994 744.087 184.8 740.546 Q186.628 736.981 186.628 729.875 Q186.628 722.745 184.8 719.203 Q182.994 715.639 179.36 715.639 M179.36 711.935 Q185.17 711.935 188.226 716.541 Q191.304 721.125 191.304 729.875 Q191.304 738.601 188.226 743.208 Q185.17 747.791 179.36 747.791 Q173.55 747.791 170.471 743.208 Q167.416 738.601 167.416 729.875 Q167.416 721.125 170.471 716.541 Q173.55 711.935 179.36 711.935 Z\" fill=\"#000000\" fill-rule=\"evenodd\" fill-opacity=\"1\" /><path clip-path=\"url(#clip410)\" d=\"M 0 0 M196.374 741.24 L201.258 741.24 L201.258 747.12 L196.374 747.12 L196.374 741.24 Z\" fill=\"#000000\" fill-rule=\"evenodd\" fill-opacity=\"1\" /><path clip-path=\"url(#clip410)\" d=\"M 0 0 M216.327 715.639 Q212.716 715.639 210.888 719.203 Q209.082 722.745 209.082 729.875 Q209.082 736.981 210.888 740.546 Q212.716 744.087 216.327 744.087 Q219.962 744.087 221.767 740.546 Q223.596 736.981 223.596 729.875 Q223.596 722.745 221.767 719.203 Q219.962 715.639 216.327 715.639 M216.327 711.935 Q222.138 711.935 225.193 716.541 Q228.272 721.125 228.272 729.875 Q228.272 738.601 225.193 743.208 Q222.138 747.791 216.327 747.791 Q210.517 747.791 207.439 743.208 Q204.383 738.601 204.383 729.875 Q204.383 721.125 207.439 716.541 Q210.517 711.935 216.327 711.935 Z\" fill=\"#000000\" fill-rule=\"evenodd\" fill-opacity=\"1\" /><path clip-path=\"url(#clip410)\" d=\"M 0 0 M406.148 743.185 L422.467 743.185 L422.467 747.12 L400.523 747.12 L400.523 743.185 Q403.185 740.43 407.768 735.8 Q412.374 731.148 413.555 729.805 Q415.8 727.282 416.68 725.546 Q417.583 723.787 417.583 722.097 Q417.583 719.342 415.638 717.606 Q413.717 715.87 410.615 715.87 Q408.416 715.87 405.962 716.634 Q403.532 717.398 400.754 718.949 L400.754 714.227 Q403.578 713.092 406.032 712.514 Q408.486 711.935 410.523 711.935 Q415.893 711.935 419.087 714.62 Q422.282 717.305 422.282 721.796 Q422.282 723.926 421.472 725.847 Q420.685 727.745 418.578 730.338 Q417.999 731.009 414.898 734.226 Q411.796 737.421 406.148 743.185 Z\" fill=\"#000000\" fill-rule=\"evenodd\" fill-opacity=\"1\" /><path clip-path=\"url(#clip410)\" d=\"M 0 0 M427.536 741.24 L432.421 741.24 L432.421 747.12 L427.536 747.12 L427.536 741.24 Z\" fill=\"#000000\" fill-rule=\"evenodd\" fill-opacity=\"1\" /><path clip-path=\"url(#clip410)\" d=\"M 0 0 M437.536 712.56 L455.893 712.56 L455.893 716.495 L441.819 716.495 L441.819 724.967 Q442.837 724.62 443.856 724.458 Q444.874 724.273 445.893 724.273 Q451.68 724.273 455.059 727.444 Q458.439 730.615 458.439 736.032 Q458.439 741.611 454.967 744.712 Q451.495 747.791 445.175 747.791 Q442.999 747.791 440.731 747.421 Q438.485 747.05 436.078 746.31 L436.078 741.611 Q438.161 742.745 440.384 743.3 Q442.606 743.856 445.083 743.856 Q449.087 743.856 451.425 741.75 Q453.763 739.643 453.763 736.032 Q453.763 732.421 451.425 730.314 Q449.087 728.208 445.083 728.208 Q443.208 728.208 441.333 728.625 Q439.481 729.041 437.536 729.921 L437.536 712.56 Z\" fill=\"#000000\" fill-rule=\"evenodd\" fill-opacity=\"1\" /><path clip-path=\"url(#clip410)\" d=\"M 0 0 M632.912 712.56 L651.269 712.56 L651.269 716.495 L637.195 716.495 L637.195 724.967 Q638.213 724.62 639.232 724.458 Q640.25 724.273 641.269 724.273 Q647.056 724.273 650.435 727.444 Q653.815 730.615 653.815 736.032 Q653.815 741.611 650.343 744.712 Q646.87 747.791 640.551 747.791 Q638.375 747.791 636.107 747.421 Q633.861 747.05 631.454 746.31 L631.454 741.611 Q633.537 742.745 635.759 743.3 Q637.982 743.856 640.458 743.856 Q644.463 743.856 646.801 741.75 Q649.139 739.643 649.139 736.032 Q649.139 732.421 646.801 730.314 Q644.463 728.208 640.458 728.208 Q638.583 728.208 636.708 728.625 Q634.857 729.041 632.912 729.921 L632.912 712.56 Z\" fill=\"#000000\" fill-rule=\"evenodd\" fill-opacity=\"1\" /><path clip-path=\"url(#clip410)\" d=\"M 0 0 M658.884 741.24 L663.768 741.24 L663.768 747.12 L658.884 747.12 L658.884 741.24 Z\" fill=\"#000000\" fill-rule=\"evenodd\" fill-opacity=\"1\" /><path clip-path=\"url(#clip410)\" d=\"M 0 0 M678.838 715.639 Q675.227 715.639 673.398 719.203 Q671.592 722.745 671.592 729.875 Q671.592 736.981 673.398 740.546 Q675.227 744.087 678.838 744.087 Q682.472 744.087 684.278 740.546 Q686.106 736.981 686.106 729.875 Q686.106 722.745 684.278 719.203 Q682.472 715.639 678.838 715.639 M678.838 711.935 Q684.648 711.935 687.704 716.541 Q690.782 721.125 690.782 729.875 Q690.782 738.601 687.704 743.208 Q684.648 747.791 678.838 747.791 Q673.028 747.791 669.949 743.208 Q666.893 738.601 666.893 729.875 Q666.893 721.125 669.949 716.541 Q673.028 711.935 678.838 711.935 Z\" fill=\"#000000\" fill-rule=\"evenodd\" fill-opacity=\"1\" /><path clip-path=\"url(#clip410)\" d=\"M 0 0 M863.658 712.56 L885.88 712.56 L885.88 714.551 L873.334 747.12 L868.45 747.12 L880.255 716.495 L863.658 716.495 L863.658 712.56 Z\" fill=\"#000000\" fill-rule=\"evenodd\" fill-opacity=\"1\" /><path clip-path=\"url(#clip410)\" d=\"M 0 0 M890.95 741.24 L895.834 741.24 L895.834 747.12 L890.95 747.12 L890.95 741.24 Z\" fill=\"#000000\" fill-rule=\"evenodd\" fill-opacity=\"1\" /><path clip-path=\"url(#clip410)\" d=\"M 0 0 M900.95 712.56 L919.306 712.56 L919.306 716.495 L905.232 716.495 L905.232 724.967 Q906.25 724.62 907.269 724.458 Q908.287 724.273 909.306 724.273 Q915.093 724.273 918.473 727.444 Q921.852 730.615 921.852 736.032 Q921.852 741.611 918.38 744.712 Q914.908 747.791 908.588 747.791 Q906.412 747.791 904.144 747.421 Q901.899 747.05 899.491 746.31 L899.491 741.611 Q901.575 742.745 903.797 743.3 Q906.019 743.856 908.496 743.856 Q912.5 743.856 914.838 741.75 Q917.176 739.643 917.176 736.032 Q917.176 732.421 914.838 730.314 Q912.5 728.208 908.496 728.208 Q906.621 728.208 904.746 728.625 Q902.894 729.041 900.95 729.921 L900.95 712.56 Z\" fill=\"#000000\" fill-rule=\"evenodd\" fill-opacity=\"1\" /><path clip-path=\"url(#clip410)\" d=\"M 0 0 M1082.78 743.185 L1090.42 743.185 L1090.42 716.819 L1082.11 718.486 L1082.11 714.227 L1090.38 712.56 L1095.05 712.56 L1095.05 743.185 L1102.69 743.185 L1102.69 747.12 L1082.78 747.12 L1082.78 743.185 Z\" fill=\"#000000\" fill-rule=\"evenodd\" fill-opacity=\"1\" /><path clip-path=\"url(#clip410)\" d=\"M 0 0 M1117.76 715.639 Q1114.15 715.639 1112.32 719.203 Q1110.52 722.745 1110.52 729.875 Q1110.52 736.981 1112.32 740.546 Q1114.15 744.087 1117.76 744.087 Q1121.39 744.087 1123.2 740.546 Q1125.03 736.981 1125.03 729.875 Q1125.03 722.745 1123.2 719.203 Q1121.39 715.639 1117.76 715.639 M1117.76 711.935 Q1123.57 711.935 1126.63 716.541 Q1129.7 721.125 1129.7 729.875 Q1129.7 738.601 1126.63 743.208 Q1123.57 747.791 1117.76 747.791 Q1111.95 747.791 1108.87 743.208 Q1105.82 738.601 1105.82 729.875 Q1105.82 721.125 1108.87 716.541 Q1111.95 711.935 1117.76 711.935 Z\" fill=\"#000000\" fill-rule=\"evenodd\" fill-opacity=\"1\" /><path clip-path=\"url(#clip410)\" d=\"M 0 0 M1134.77 741.24 L1139.66 741.24 L1139.66 747.12 L1134.77 747.12 L1134.77 741.24 Z\" fill=\"#000000\" fill-rule=\"evenodd\" fill-opacity=\"1\" /><path clip-path=\"url(#clip410)\" d=\"M 0 0 M1154.73 715.639 Q1151.12 715.639 1149.29 719.203 Q1147.48 722.745 1147.48 729.875 Q1147.48 736.981 1149.29 740.546 Q1151.12 744.087 1154.73 744.087 Q1158.36 744.087 1160.17 740.546 Q1162 736.981 1162 729.875 Q1162 722.745 1160.17 719.203 Q1158.36 715.639 1154.73 715.639 M1154.73 711.935 Q1160.54 711.935 1163.59 716.541 Q1166.67 721.125 1166.67 729.875 Q1166.67 738.601 1163.59 743.208 Q1160.54 747.791 1154.73 747.791 Q1148.92 747.791 1145.84 743.208 Q1142.78 738.601 1142.78 729.875 Q1142.78 721.125 1145.84 716.541 Q1148.92 711.935 1154.73 711.935 Z\" fill=\"#000000\" fill-rule=\"evenodd\" fill-opacity=\"1\" /><polyline clip-path=\"url(#clip412)\" style=\"stroke:#000000; stroke-width:2; stroke-opacity:0.1; fill:none\" points=\"\n",
       "  170.047,633.762 1152.19,633.762 \n",
       "  \"/>\n",
       "<polyline clip-path=\"url(#clip412)\" style=\"stroke:#000000; stroke-width:2; stroke-opacity:0.1; fill:none\" points=\"\n",
       "  170.047,513.157 1152.19,513.157 \n",
       "  \"/>\n",
       "<polyline clip-path=\"url(#clip412)\" style=\"stroke:#000000; stroke-width:2; stroke-opacity:0.1; fill:none\" points=\"\n",
       "  170.047,392.553 1152.19,392.553 \n",
       "  \"/>\n",
       "<polyline clip-path=\"url(#clip412)\" style=\"stroke:#000000; stroke-width:2; stroke-opacity:0.1; fill:none\" points=\"\n",
       "  170.047,271.948 1152.19,271.948 \n",
       "  \"/>\n",
       "<polyline clip-path=\"url(#clip412)\" style=\"stroke:#000000; stroke-width:2; stroke-opacity:0.1; fill:none\" points=\"\n",
       "  170.047,151.344 1152.19,151.344 \n",
       "  \"/>\n",
       "<polyline clip-path=\"url(#clip410)\" style=\"stroke:#000000; stroke-width:4; stroke-opacity:1; fill:none\" points=\"\n",
       "  170.047,686.448 170.047,47.2441 \n",
       "  \"/>\n",
       "<polyline clip-path=\"url(#clip410)\" style=\"stroke:#000000; stroke-width:4; stroke-opacity:1; fill:none\" points=\"\n",
       "  170.047,633.762 181.833,633.762 \n",
       "  \"/>\n",
       "<polyline clip-path=\"url(#clip410)\" style=\"stroke:#000000; stroke-width:4; stroke-opacity:1; fill:none\" points=\"\n",
       "  170.047,513.157 181.833,513.157 \n",
       "  \"/>\n",
       "<polyline clip-path=\"url(#clip410)\" style=\"stroke:#000000; stroke-width:4; stroke-opacity:1; fill:none\" points=\"\n",
       "  170.047,392.553 181.833,392.553 \n",
       "  \"/>\n",
       "<polyline clip-path=\"url(#clip410)\" style=\"stroke:#000000; stroke-width:4; stroke-opacity:1; fill:none\" points=\"\n",
       "  170.047,271.948 181.833,271.948 \n",
       "  \"/>\n",
       "<polyline clip-path=\"url(#clip410)\" style=\"stroke:#000000; stroke-width:4; stroke-opacity:1; fill:none\" points=\"\n",
       "  170.047,151.344 181.833,151.344 \n",
       "  \"/>\n",
       "<path clip-path=\"url(#clip410)\" d=\"M 0 0 M78.7698 647.107 L86.4086 647.107 L86.4086 620.741 L78.0985 622.408 L78.0985 618.148 L86.3623 616.482 L91.0382 616.482 L91.0382 647.107 L98.6771 647.107 L98.6771 651.042 L78.7698 651.042 L78.7698 647.107 Z\" fill=\"#000000\" fill-rule=\"evenodd\" fill-opacity=\"1\" /><path clip-path=\"url(#clip410)\" d=\"M 0 0 M103.746 645.162 L108.631 645.162 L108.631 651.042 L103.746 651.042 L103.746 645.162 Z\" fill=\"#000000\" fill-rule=\"evenodd\" fill-opacity=\"1\" /><path clip-path=\"url(#clip410)\" d=\"M 0 0 M117.728 647.107 L134.047 647.107 L134.047 651.042 L112.103 651.042 L112.103 647.107 Q114.765 644.352 119.348 639.722 Q123.955 635.07 125.135 633.727 Q127.381 631.204 128.26 629.468 Q129.163 627.708 129.163 626.019 Q129.163 623.264 127.219 621.528 Q125.297 619.792 122.195 619.792 Q119.996 619.792 117.543 620.556 Q115.112 621.32 112.334 622.871 L112.334 618.148 Q115.158 617.014 117.612 616.435 Q120.066 615.857 122.103 615.857 Q127.473 615.857 130.668 618.542 Q133.862 621.227 133.862 625.718 Q133.862 627.847 133.052 629.769 Q132.265 631.667 130.158 634.259 Q129.58 634.931 126.478 638.148 Q123.376 641.343 117.728 647.107 Z\" fill=\"#000000\" fill-rule=\"evenodd\" fill-opacity=\"1\" /><path clip-path=\"url(#clip410)\" d=\"M 0 0 M76.6864 526.502 L84.3253 526.502 L84.3253 500.136 L76.0151 501.803 L76.0151 497.544 L84.279 495.877 L88.9549 495.877 L88.9549 526.502 L96.5937 526.502 L96.5937 530.437 L76.6864 530.437 L76.6864 526.502 Z\" fill=\"#000000\" fill-rule=\"evenodd\" fill-opacity=\"1\" /><path clip-path=\"url(#clip410)\" d=\"M 0 0 M101.663 524.558 L106.547 524.558 L106.547 530.437 L101.663 530.437 L101.663 524.558 Z\" fill=\"#000000\" fill-rule=\"evenodd\" fill-opacity=\"1\" /><path clip-path=\"url(#clip410)\" d=\"M 0 0 M124.464 499.951 L112.658 518.4 L124.464 518.4 L124.464 499.951 M123.237 495.877 L129.117 495.877 L129.117 518.4 L134.047 518.4 L134.047 522.289 L129.117 522.289 L129.117 530.437 L124.464 530.437 L124.464 522.289 L108.862 522.289 L108.862 517.775 L123.237 495.877 Z\" fill=\"#000000\" fill-rule=\"evenodd\" fill-opacity=\"1\" /><path clip-path=\"url(#clip410)\" d=\"M 0 0 M77.0105 405.898 L84.6494 405.898 L84.6494 379.532 L76.3392 381.199 L76.3392 376.939 L84.6031 375.273 L89.279 375.273 L89.279 405.898 L96.9178 405.898 L96.9178 409.833 L77.0105 409.833 L77.0105 405.898 Z\" fill=\"#000000\" fill-rule=\"evenodd\" fill-opacity=\"1\" /><path clip-path=\"url(#clip410)\" d=\"M 0 0 M101.987 403.953 L106.871 403.953 L106.871 409.833 L101.987 409.833 L101.987 403.953 Z\" fill=\"#000000\" fill-rule=\"evenodd\" fill-opacity=\"1\" /><path clip-path=\"url(#clip410)\" d=\"M 0 0 M122.52 390.689 Q119.371 390.689 117.52 392.842 Q115.691 394.995 115.691 398.745 Q115.691 402.472 117.52 404.648 Q119.371 406.8 122.52 406.8 Q125.668 406.8 127.496 404.648 Q129.348 402.472 129.348 398.745 Q129.348 394.995 127.496 392.842 Q125.668 390.689 122.52 390.689 M131.802 376.037 L131.802 380.296 Q130.043 379.462 128.237 379.023 Q126.455 378.583 124.695 378.583 Q120.066 378.583 117.612 381.708 Q115.182 384.833 114.834 391.152 Q116.2 389.138 118.26 388.074 Q120.32 386.986 122.797 386.986 Q128.006 386.986 131.015 390.157 Q134.047 393.305 134.047 398.745 Q134.047 404.069 130.899 407.286 Q127.751 410.504 122.52 410.504 Q116.524 410.504 113.353 405.921 Q110.182 401.314 110.182 392.587 Q110.182 384.393 114.07 379.532 Q117.959 374.648 124.51 374.648 Q126.27 374.648 128.052 374.995 Q129.857 375.342 131.802 376.037 Z\" fill=\"#000000\" fill-rule=\"evenodd\" fill-opacity=\"1\" /><path clip-path=\"url(#clip410)\" d=\"M 0 0 M77.2651 285.293 L84.904 285.293 L84.904 258.927 L76.5938 260.594 L76.5938 256.335 L84.8577 254.668 L89.5336 254.668 L89.5336 285.293 L97.1724 285.293 L97.1724 289.228 L77.2651 289.228 L77.2651 285.293 Z\" fill=\"#000000\" fill-rule=\"evenodd\" fill-opacity=\"1\" /><path clip-path=\"url(#clip410)\" d=\"M 0 0 M102.242 283.349 L107.126 283.349 L107.126 289.228 L102.242 289.228 L102.242 283.349 Z\" fill=\"#000000\" fill-rule=\"evenodd\" fill-opacity=\"1\" /><path clip-path=\"url(#clip410)\" d=\"M 0 0 M122.195 272.816 Q118.862 272.816 116.941 274.599 Q115.043 276.381 115.043 279.506 Q115.043 282.631 116.941 284.413 Q118.862 286.196 122.195 286.196 Q125.529 286.196 127.45 284.413 Q129.371 282.608 129.371 279.506 Q129.371 276.381 127.45 274.599 Q125.552 272.816 122.195 272.816 M117.52 270.826 Q114.51 270.085 112.82 268.025 Q111.154 265.964 111.154 263.001 Q111.154 258.858 114.094 256.451 Q117.057 254.043 122.195 254.043 Q127.357 254.043 130.297 256.451 Q133.237 258.858 133.237 263.001 Q133.237 265.964 131.547 268.025 Q129.881 270.085 126.894 270.826 Q130.274 271.613 132.149 273.904 Q134.047 276.196 134.047 279.506 Q134.047 284.529 130.969 287.214 Q127.913 289.899 122.195 289.899 Q116.478 289.899 113.399 287.214 Q110.344 284.529 110.344 279.506 Q110.344 276.196 112.242 273.904 Q114.14 271.613 117.52 270.826 M115.807 263.441 Q115.807 266.126 117.473 267.631 Q119.163 269.136 122.195 269.136 Q125.205 269.136 126.894 267.631 Q128.607 266.126 128.607 263.441 Q128.607 260.756 126.894 259.252 Q125.205 257.747 122.195 257.747 Q119.163 257.747 117.473 259.252 Q115.807 260.756 115.807 263.441 Z\" fill=\"#000000\" fill-rule=\"evenodd\" fill-opacity=\"1\" /><path clip-path=\"url(#clip410)\" d=\"M 0 0 M80.7605 164.689 L97.0798 164.689 L97.0798 168.624 L75.1355 168.624 L75.1355 164.689 Q77.7975 161.934 82.3808 157.304 Q86.9873 152.652 88.1679 151.309 Q90.4132 148.786 91.2928 147.05 Q92.1956 145.291 92.1956 143.601 Q92.1956 140.846 90.2512 139.11 Q88.3299 137.374 85.2281 137.374 Q83.029 137.374 80.5753 138.138 Q78.1448 138.902 75.367 140.453 L75.367 135.73 Q78.1911 134.596 80.6447 134.017 Q83.0984 133.439 85.1355 133.439 Q90.5058 133.439 93.7002 136.124 Q96.8947 138.809 96.8947 143.3 Q96.8947 145.429 96.0845 147.351 Q95.2974 149.249 93.191 151.841 Q92.6123 152.513 89.5104 155.73 Q86.4086 158.925 80.7605 164.689 Z\" fill=\"#000000\" fill-rule=\"evenodd\" fill-opacity=\"1\" /><path clip-path=\"url(#clip410)\" d=\"M 0 0 M102.149 162.744 L107.033 162.744 L107.033 168.624 L102.149 168.624 L102.149 162.744 Z\" fill=\"#000000\" fill-rule=\"evenodd\" fill-opacity=\"1\" /><path clip-path=\"url(#clip410)\" d=\"M 0 0 M122.103 137.142 Q118.492 137.142 116.663 140.707 Q114.858 144.249 114.858 151.378 Q114.858 158.485 116.663 162.05 Q118.492 165.591 122.103 165.591 Q125.737 165.591 127.543 162.05 Q129.371 158.485 129.371 151.378 Q129.371 144.249 127.543 140.707 Q125.737 137.142 122.103 137.142 M122.103 133.439 Q127.913 133.439 130.969 138.045 Q134.047 142.628 134.047 151.378 Q134.047 160.105 130.969 164.712 Q127.913 169.295 122.103 169.295 Q116.293 169.295 113.214 164.712 Q110.158 160.105 110.158 151.378 Q110.158 142.628 113.214 138.045 Q116.293 133.439 122.103 133.439 Z\" fill=\"#000000\" fill-rule=\"evenodd\" fill-opacity=\"1\" /><polyline clip-path=\"url(#clip412)\" style=\"stroke:#009af9; stroke-width:4; stroke-opacity:1; fill:none\" points=\"\n",
       "  197.844,668.357 206.892,668.357 290.559,668.357 340.839,668.357 383.35,668.357 429.529,668.357 472.102,668.357 517.745,668.357 570.626,668.357 617.621,668.357 \n",
       "  658.832,668.357 703.762,668.357 748.959,668.357 798.931,668.357 846.477,668.357 895.915,668.357 937.53,668.357 988.339,668.357 1036.1,668.357 1112.62,668.357 \n",
       "  1124.39,668.357 \n",
       "  \"/>\n",
       "<path clip-path=\"url(#clip410)\" d=\"\n",
       "M959.306 189.511 L1119.45 189.511 L1119.45 68.5509 L959.306 68.5509  Z\n",
       "  \" fill=\"#ffffff\" fill-rule=\"evenodd\" fill-opacity=\"1\"/>\n",
       "<polyline clip-path=\"url(#clip410)\" style=\"stroke:#000000; stroke-width:4; stroke-opacity:1; fill:none\" points=\"\n",
       "  959.306,189.511 1119.45,189.511 1119.45,68.5509 959.306,68.5509 959.306,189.511 \n",
       "  \"/>\n",
       "<polyline clip-path=\"url(#clip410)\" style=\"stroke:#009af9; stroke-width:4; stroke-opacity:1; fill:none\" points=\"\n",
       "  970.218,129.031 1035.69,129.031 \n",
       "  \"/>\n",
       "<path clip-path=\"url(#clip410)\" d=\"M 0 0 M1060.45 148.718 Q1058.64 153.348 1056.93 154.76 Q1055.22 156.172 1052.35 156.172 L1048.95 156.172 L1048.95 152.607 L1051.45 152.607 Q1053.2 152.607 1054.18 151.774 Q1055.15 150.94 1056.33 147.839 L1057.09 145.894 L1046.61 120.385 L1051.12 120.385 L1059.22 140.663 L1067.32 120.385 L1071.84 120.385 L1060.45 148.718 Z\" fill=\"#000000\" fill-rule=\"evenodd\" fill-opacity=\"1\" /><path clip-path=\"url(#clip410)\" d=\"M 0 0 M1077.72 142.376 L1085.36 142.376 L1085.36 116.01 L1077.05 117.677 L1077.05 113.418 L1085.31 111.751 L1089.99 111.751 L1089.99 142.376 L1097.63 142.376 L1097.63 146.311 L1077.72 146.311 L1077.72 142.376 Z\" fill=\"#000000\" fill-rule=\"evenodd\" fill-opacity=\"1\" /><path clip-path=\"url(#clip410)\" d=\"\n",
       "M1370.61 686.448 L2352.76 686.448 L2352.76 47.2441 L1370.61 47.2441  Z\n",
       "  \" fill=\"#ffffff\" fill-rule=\"evenodd\" fill-opacity=\"1\"/>\n",
       "<defs>\n",
       "  <clipPath id=\"clip413\">\n",
       "    <rect x=\"1370\" y=\"47\" width=\"983\" height=\"640\"/>\n",
       "  </clipPath>\n",
       "</defs>\n",
       "<polyline clip-path=\"url(#clip413)\" style=\"stroke:#000000; stroke-width:2; stroke-opacity:0.1; fill:none\" points=\"\n",
       "  1398.41,686.448 1398.41,47.2441 \n",
       "  \"/>\n",
       "<polyline clip-path=\"url(#clip413)\" style=\"stroke:#000000; stroke-width:2; stroke-opacity:0.1; fill:none\" points=\"\n",
       "  1630.05,686.448 1630.05,47.2441 \n",
       "  \"/>\n",
       "<polyline clip-path=\"url(#clip413)\" style=\"stroke:#000000; stroke-width:2; stroke-opacity:0.1; fill:none\" points=\"\n",
       "  1861.69,686.448 1861.69,47.2441 \n",
       "  \"/>\n",
       "<polyline clip-path=\"url(#clip413)\" style=\"stroke:#000000; stroke-width:2; stroke-opacity:0.1; fill:none\" points=\"\n",
       "  2093.32,686.448 2093.32,47.2441 \n",
       "  \"/>\n",
       "<polyline clip-path=\"url(#clip413)\" style=\"stroke:#000000; stroke-width:2; stroke-opacity:0.1; fill:none\" points=\"\n",
       "  2324.96,686.448 2324.96,47.2441 \n",
       "  \"/>\n",
       "<polyline clip-path=\"url(#clip410)\" style=\"stroke:#000000; stroke-width:4; stroke-opacity:1; fill:none\" points=\"\n",
       "  1370.61,686.448 2352.76,686.448 \n",
       "  \"/>\n",
       "<polyline clip-path=\"url(#clip410)\" style=\"stroke:#000000; stroke-width:4; stroke-opacity:1; fill:none\" points=\"\n",
       "  1398.41,686.448 1398.41,678.777 \n",
       "  \"/>\n",
       "<polyline clip-path=\"url(#clip410)\" style=\"stroke:#000000; stroke-width:4; stroke-opacity:1; fill:none\" points=\"\n",
       "  1630.05,686.448 1630.05,678.777 \n",
       "  \"/>\n",
       "<polyline clip-path=\"url(#clip410)\" style=\"stroke:#000000; stroke-width:4; stroke-opacity:1; fill:none\" points=\"\n",
       "  1861.69,686.448 1861.69,678.777 \n",
       "  \"/>\n",
       "<polyline clip-path=\"url(#clip410)\" style=\"stroke:#000000; stroke-width:4; stroke-opacity:1; fill:none\" points=\"\n",
       "  2093.32,686.448 2093.32,678.777 \n",
       "  \"/>\n",
       "<polyline clip-path=\"url(#clip410)\" style=\"stroke:#000000; stroke-width:4; stroke-opacity:1; fill:none\" points=\"\n",
       "  2324.96,686.448 2324.96,678.777 \n",
       "  \"/>\n",
       "<path clip-path=\"url(#clip410)\" d=\"M 0 0 M1379.93 715.639 Q1376.32 715.639 1374.49 719.203 Q1372.68 722.745 1372.68 729.875 Q1372.68 736.981 1374.49 740.546 Q1376.32 744.087 1379.93 744.087 Q1383.56 744.087 1385.37 740.546 Q1387.2 736.981 1387.2 729.875 Q1387.2 722.745 1385.37 719.203 Q1383.56 715.639 1379.93 715.639 M1379.93 711.935 Q1385.74 711.935 1388.79 716.541 Q1391.87 721.125 1391.87 729.875 Q1391.87 738.601 1388.79 743.208 Q1385.74 747.791 1379.93 747.791 Q1374.12 747.791 1371.04 743.208 Q1367.98 738.601 1367.98 729.875 Q1367.98 721.125 1371.04 716.541 Q1374.12 711.935 1379.93 711.935 Z\" fill=\"#000000\" fill-rule=\"evenodd\" fill-opacity=\"1\" /><path clip-path=\"url(#clip410)\" d=\"M 0 0 M1396.94 741.24 L1401.83 741.24 L1401.83 747.12 L1396.94 747.12 L1396.94 741.24 Z\" fill=\"#000000\" fill-rule=\"evenodd\" fill-opacity=\"1\" /><path clip-path=\"url(#clip410)\" d=\"M 0 0 M1416.89 715.639 Q1413.28 715.639 1411.45 719.203 Q1409.65 722.745 1409.65 729.875 Q1409.65 736.981 1411.45 740.546 Q1413.28 744.087 1416.89 744.087 Q1420.53 744.087 1422.33 740.546 Q1424.16 736.981 1424.16 729.875 Q1424.16 722.745 1422.33 719.203 Q1420.53 715.639 1416.89 715.639 M1416.89 711.935 Q1422.7 711.935 1425.76 716.541 Q1428.84 721.125 1428.84 729.875 Q1428.84 738.601 1425.76 743.208 Q1422.7 747.791 1416.89 747.791 Q1411.08 747.791 1408.01 743.208 Q1404.95 738.601 1404.95 729.875 Q1404.95 721.125 1408.01 716.541 Q1411.08 711.935 1416.89 711.935 Z\" fill=\"#000000\" fill-rule=\"evenodd\" fill-opacity=\"1\" /><path clip-path=\"url(#clip410)\" d=\"M 0 0 M1606.71 743.185 L1623.03 743.185 L1623.03 747.12 L1601.09 747.12 L1601.09 743.185 Q1603.75 740.43 1608.34 735.8 Q1612.94 731.148 1614.12 729.805 Q1616.37 727.282 1617.25 725.546 Q1618.15 723.787 1618.15 722.097 Q1618.15 719.342 1616.21 717.606 Q1614.28 715.87 1611.18 715.87 Q1608.98 715.87 1606.53 716.634 Q1604.1 717.398 1601.32 718.949 L1601.32 714.227 Q1604.15 713.092 1606.6 712.514 Q1609.05 711.935 1611.09 711.935 Q1616.46 711.935 1619.65 714.62 Q1622.85 717.305 1622.85 721.796 Q1622.85 723.926 1622.04 725.847 Q1621.25 727.745 1619.15 730.338 Q1618.57 731.009 1615.46 734.226 Q1612.36 737.421 1606.71 743.185 Z\" fill=\"#000000\" fill-rule=\"evenodd\" fill-opacity=\"1\" /><path clip-path=\"url(#clip410)\" d=\"M 0 0 M1628.1 741.24 L1632.99 741.24 L1632.99 747.12 L1628.1 747.12 L1628.1 741.24 Z\" fill=\"#000000\" fill-rule=\"evenodd\" fill-opacity=\"1\" /><path clip-path=\"url(#clip410)\" d=\"M 0 0 M1638.1 712.56 L1656.46 712.56 L1656.46 716.495 L1642.39 716.495 L1642.39 724.967 Q1643.4 724.62 1644.42 724.458 Q1645.44 724.273 1646.46 724.273 Q1652.25 724.273 1655.63 727.444 Q1659.01 730.615 1659.01 736.032 Q1659.01 741.611 1655.53 744.712 Q1652.06 747.791 1645.74 747.791 Q1643.57 747.791 1641.3 747.421 Q1639.05 747.05 1636.65 746.31 L1636.65 741.611 Q1638.73 742.745 1640.95 743.3 Q1643.17 743.856 1645.65 743.856 Q1649.65 743.856 1651.99 741.75 Q1654.33 739.643 1654.33 736.032 Q1654.33 732.421 1651.99 730.314 Q1649.65 728.208 1645.65 728.208 Q1643.77 728.208 1641.9 728.625 Q1640.05 729.041 1638.1 729.921 L1638.1 712.56 Z\" fill=\"#000000\" fill-rule=\"evenodd\" fill-opacity=\"1\" /><path clip-path=\"url(#clip410)\" d=\"M 0 0 M1833.48 712.56 L1851.84 712.56 L1851.84 716.495 L1837.76 716.495 L1837.76 724.967 Q1838.78 724.62 1839.8 724.458 Q1840.82 724.273 1841.84 724.273 Q1847.62 724.273 1851 727.444 Q1854.38 730.615 1854.38 736.032 Q1854.38 741.611 1850.91 744.712 Q1847.44 747.791 1841.12 747.791 Q1838.94 747.791 1836.67 747.421 Q1834.43 747.05 1832.02 746.31 L1832.02 741.611 Q1834.1 742.745 1836.33 743.3 Q1838.55 743.856 1841.03 743.856 Q1845.03 743.856 1847.37 741.75 Q1849.71 739.643 1849.71 736.032 Q1849.71 732.421 1847.37 730.314 Q1845.03 728.208 1841.03 728.208 Q1839.15 728.208 1837.28 728.625 Q1835.42 729.041 1833.48 729.921 L1833.48 712.56 Z\" fill=\"#000000\" fill-rule=\"evenodd\" fill-opacity=\"1\" /><path clip-path=\"url(#clip410)\" d=\"M 0 0 M1859.45 741.24 L1864.34 741.24 L1864.34 747.12 L1859.45 747.12 L1859.45 741.24 Z\" fill=\"#000000\" fill-rule=\"evenodd\" fill-opacity=\"1\" /><path clip-path=\"url(#clip410)\" d=\"M 0 0 M1879.4 715.639 Q1875.79 715.639 1873.97 719.203 Q1872.16 722.745 1872.16 729.875 Q1872.16 736.981 1873.97 740.546 Q1875.79 744.087 1879.4 744.087 Q1883.04 744.087 1884.84 740.546 Q1886.67 736.981 1886.67 729.875 Q1886.67 722.745 1884.84 719.203 Q1883.04 715.639 1879.4 715.639 M1879.4 711.935 Q1885.22 711.935 1888.27 716.541 Q1891.35 721.125 1891.35 729.875 Q1891.35 738.601 1888.27 743.208 Q1885.22 747.791 1879.4 747.791 Q1873.59 747.791 1870.52 743.208 Q1867.46 738.601 1867.46 729.875 Q1867.46 721.125 1870.52 716.541 Q1873.59 711.935 1879.4 711.935 Z\" fill=\"#000000\" fill-rule=\"evenodd\" fill-opacity=\"1\" /><path clip-path=\"url(#clip410)\" d=\"M 0 0 M2064.23 712.56 L2086.45 712.56 L2086.45 714.551 L2073.9 747.12 L2069.02 747.12 L2080.82 716.495 L2064.23 716.495 L2064.23 712.56 Z\" fill=\"#000000\" fill-rule=\"evenodd\" fill-opacity=\"1\" /><path clip-path=\"url(#clip410)\" d=\"M 0 0 M2091.52 741.24 L2096.4 741.24 L2096.4 747.12 L2091.52 747.12 L2091.52 741.24 Z\" fill=\"#000000\" fill-rule=\"evenodd\" fill-opacity=\"1\" /><path clip-path=\"url(#clip410)\" d=\"M 0 0 M2101.52 712.56 L2119.87 712.56 L2119.87 716.495 L2105.8 716.495 L2105.8 724.967 Q2106.82 724.62 2107.84 724.458 Q2108.85 724.273 2109.87 724.273 Q2115.66 724.273 2119.04 727.444 Q2122.42 730.615 2122.42 736.032 Q2122.42 741.611 2118.95 744.712 Q2115.47 747.791 2109.16 747.791 Q2106.98 747.791 2104.71 747.421 Q2102.47 747.05 2100.06 746.31 L2100.06 741.611 Q2102.14 742.745 2104.36 743.3 Q2106.59 743.856 2109.06 743.856 Q2113.07 743.856 2115.41 741.75 Q2117.74 739.643 2117.74 736.032 Q2117.74 732.421 2115.41 730.314 Q2113.07 728.208 2109.06 728.208 Q2107.19 728.208 2105.31 728.625 Q2103.46 729.041 2101.52 729.921 L2101.52 712.56 Z\" fill=\"#000000\" fill-rule=\"evenodd\" fill-opacity=\"1\" /><path clip-path=\"url(#clip410)\" d=\"M 0 0 M2283.35 743.185 L2290.99 743.185 L2290.99 716.819 L2282.68 718.486 L2282.68 714.227 L2290.94 712.56 L2295.62 712.56 L2295.62 743.185 L2303.26 743.185 L2303.26 747.12 L2283.35 747.12 L2283.35 743.185 Z\" fill=\"#000000\" fill-rule=\"evenodd\" fill-opacity=\"1\" /><path clip-path=\"url(#clip410)\" d=\"M 0 0 M2318.33 715.639 Q2314.72 715.639 2312.89 719.203 Q2311.08 722.745 2311.08 729.875 Q2311.08 736.981 2312.89 740.546 Q2314.72 744.087 2318.33 744.087 Q2321.96 744.087 2323.77 740.546 Q2325.6 736.981 2325.6 729.875 Q2325.6 722.745 2323.77 719.203 Q2321.96 715.639 2318.33 715.639 M2318.33 711.935 Q2324.14 711.935 2327.19 716.541 Q2330.27 721.125 2330.27 729.875 Q2330.27 738.601 2327.19 743.208 Q2324.14 747.791 2318.33 747.791 Q2312.52 747.791 2309.44 743.208 Q2306.38 738.601 2306.38 729.875 Q2306.38 721.125 2309.44 716.541 Q2312.52 711.935 2318.33 711.935 Z\" fill=\"#000000\" fill-rule=\"evenodd\" fill-opacity=\"1\" /><path clip-path=\"url(#clip410)\" d=\"M 0 0 M2335.34 741.24 L2340.23 741.24 L2340.23 747.12 L2335.34 747.12 L2335.34 741.24 Z\" fill=\"#000000\" fill-rule=\"evenodd\" fill-opacity=\"1\" /><path clip-path=\"url(#clip410)\" d=\"M 0 0 M2355.29 715.639 Q2351.68 715.639 2349.86 719.203 Q2348.05 722.745 2348.05 729.875 Q2348.05 736.981 2349.86 740.546 Q2351.68 744.087 2355.29 744.087 Q2358.93 744.087 2360.73 740.546 Q2362.56 736.981 2362.56 729.875 Q2362.56 722.745 2360.73 719.203 Q2358.93 715.639 2355.29 715.639 M2355.29 711.935 Q2361.11 711.935 2364.16 716.541 Q2367.24 721.125 2367.24 729.875 Q2367.24 738.601 2364.16 743.208 Q2361.11 747.791 2355.29 747.791 Q2349.48 747.791 2346.41 743.208 Q2343.35 738.601 2343.35 729.875 Q2343.35 721.125 2346.41 716.541 Q2349.48 711.935 2355.29 711.935 Z\" fill=\"#000000\" fill-rule=\"evenodd\" fill-opacity=\"1\" /><polyline clip-path=\"url(#clip413)\" style=\"stroke:#000000; stroke-width:2; stroke-opacity:0.1; fill:none\" points=\"\n",
       "  1370.61,572.809 2352.76,572.809 \n",
       "  \"/>\n",
       "<polyline clip-path=\"url(#clip413)\" style=\"stroke:#000000; stroke-width:2; stroke-opacity:0.1; fill:none\" points=\"\n",
       "  1370.61,449.869 2352.76,449.869 \n",
       "  \"/>\n",
       "<polyline clip-path=\"url(#clip413)\" style=\"stroke:#000000; stroke-width:2; stroke-opacity:0.1; fill:none\" points=\"\n",
       "  1370.61,326.929 2352.76,326.929 \n",
       "  \"/>\n",
       "<polyline clip-path=\"url(#clip413)\" style=\"stroke:#000000; stroke-width:2; stroke-opacity:0.1; fill:none\" points=\"\n",
       "  1370.61,203.988 2352.76,203.988 \n",
       "  \"/>\n",
       "<polyline clip-path=\"url(#clip413)\" style=\"stroke:#000000; stroke-width:2; stroke-opacity:0.1; fill:none\" points=\"\n",
       "  1370.61,81.0481 2352.76,81.0481 \n",
       "  \"/>\n",
       "<polyline clip-path=\"url(#clip410)\" style=\"stroke:#000000; stroke-width:4; stroke-opacity:1; fill:none\" points=\"\n",
       "  1370.61,686.448 1370.61,47.2441 \n",
       "  \"/>\n",
       "<polyline clip-path=\"url(#clip410)\" style=\"stroke:#000000; stroke-width:4; stroke-opacity:1; fill:none\" points=\"\n",
       "  1370.61,572.809 1382.4,572.809 \n",
       "  \"/>\n",
       "<polyline clip-path=\"url(#clip410)\" style=\"stroke:#000000; stroke-width:4; stroke-opacity:1; fill:none\" points=\"\n",
       "  1370.61,449.869 1382.4,449.869 \n",
       "  \"/>\n",
       "<polyline clip-path=\"url(#clip410)\" style=\"stroke:#000000; stroke-width:4; stroke-opacity:1; fill:none\" points=\"\n",
       "  1370.61,326.929 1382.4,326.929 \n",
       "  \"/>\n",
       "<polyline clip-path=\"url(#clip410)\" style=\"stroke:#000000; stroke-width:4; stroke-opacity:1; fill:none\" points=\"\n",
       "  1370.61,203.988 1382.4,203.988 \n",
       "  \"/>\n",
       "<polyline clip-path=\"url(#clip410)\" style=\"stroke:#000000; stroke-width:4; stroke-opacity:1; fill:none\" points=\"\n",
       "  1370.61,81.0481 1382.4,81.0481 \n",
       "  \"/>\n",
       "<path clip-path=\"url(#clip410)\" d=\"M 0 0 M1251 573.261 L1280.68 573.261 L1280.68 577.196 L1251 577.196 L1251 573.261 Z\" fill=\"#000000\" fill-rule=\"evenodd\" fill-opacity=\"1\" /><path clip-path=\"url(#clip410)\" d=\"M 0 0 M1295.75 573.678 Q1292.42 573.678 1290.49 575.46 Q1288.6 577.242 1288.6 580.367 Q1288.6 583.492 1290.49 585.275 Q1292.42 587.057 1295.75 587.057 Q1299.08 587.057 1301 585.275 Q1302.92 583.469 1302.92 580.367 Q1302.92 577.242 1301 575.46 Q1299.11 573.678 1295.75 573.678 M1291.07 571.687 Q1288.06 570.946 1286.37 568.886 Q1284.71 566.826 1284.71 563.863 Q1284.71 559.719 1287.65 557.312 Q1290.61 554.904 1295.75 554.904 Q1300.91 554.904 1303.85 557.312 Q1306.79 559.719 1306.79 563.863 Q1306.79 566.826 1305.1 568.886 Q1303.43 570.946 1300.45 571.687 Q1303.83 572.474 1305.7 574.765 Q1307.6 577.057 1307.6 580.367 Q1307.6 585.39 1304.52 588.076 Q1301.47 590.761 1295.75 590.761 Q1290.03 590.761 1286.95 588.076 Q1283.9 585.39 1283.9 580.367 Q1283.9 577.057 1285.8 574.765 Q1287.69 572.474 1291.07 571.687 M1289.36 564.303 Q1289.36 566.988 1291.03 568.492 Q1292.72 569.997 1295.75 569.997 Q1298.76 569.997 1300.45 568.492 Q1302.16 566.988 1302.16 564.303 Q1302.16 561.617 1300.45 560.113 Q1298.76 558.608 1295.75 558.608 Q1292.72 558.608 1291.03 560.113 Q1289.36 561.617 1289.36 564.303 Z\" fill=\"#000000\" fill-rule=\"evenodd\" fill-opacity=\"1\" /><path clip-path=\"url(#clip410)\" d=\"M 0 0 M1322.67 558.608 Q1319.06 558.608 1317.23 562.173 Q1315.42 565.715 1315.42 572.844 Q1315.42 579.951 1317.23 583.515 Q1319.06 587.057 1322.67 587.057 Q1326.3 587.057 1328.11 583.515 Q1329.94 579.951 1329.94 572.844 Q1329.94 565.715 1328.11 562.173 Q1326.3 558.608 1322.67 558.608 M1322.67 554.904 Q1328.48 554.904 1331.54 559.511 Q1334.61 564.094 1334.61 572.844 Q1334.61 581.571 1331.54 586.177 Q1328.48 590.761 1322.67 590.761 Q1316.86 590.761 1313.78 586.177 Q1310.73 581.571 1310.73 572.844 Q1310.73 564.094 1313.78 559.511 Q1316.86 554.904 1322.67 554.904 Z\" fill=\"#000000\" fill-rule=\"evenodd\" fill-opacity=\"1\" /><path clip-path=\"url(#clip410)\" d=\"M 0 0 M1250.75 450.321 L1280.42 450.321 L1280.42 454.256 L1250.75 454.256 L1250.75 450.321 Z\" fill=\"#000000\" fill-rule=\"evenodd\" fill-opacity=\"1\" /><path clip-path=\"url(#clip410)\" d=\"M 0 0 M1296.07 448.006 Q1292.92 448.006 1291.07 450.158 Q1289.24 452.311 1289.24 456.061 Q1289.24 459.788 1291.07 461.964 Q1292.92 464.117 1296.07 464.117 Q1299.22 464.117 1301.05 461.964 Q1302.9 459.788 1302.9 456.061 Q1302.9 452.311 1301.05 450.158 Q1299.22 448.006 1296.07 448.006 M1305.36 433.353 L1305.36 437.612 Q1303.6 436.779 1301.79 436.339 Q1300.01 435.899 1298.25 435.899 Q1293.62 435.899 1291.17 439.024 Q1288.73 442.149 1288.39 448.469 Q1289.75 446.455 1291.81 445.39 Q1293.87 444.302 1296.35 444.302 Q1301.56 444.302 1304.57 447.473 Q1307.6 450.621 1307.6 456.061 Q1307.6 461.385 1304.45 464.603 Q1301.3 467.82 1296.07 467.82 Q1290.08 467.82 1286.91 463.237 Q1283.74 458.631 1283.74 449.904 Q1283.74 441.709 1287.62 436.848 Q1291.51 431.964 1298.06 431.964 Q1299.82 431.964 1301.61 432.311 Q1303.41 432.659 1305.36 433.353 Z\" fill=\"#000000\" fill-rule=\"evenodd\" fill-opacity=\"1\" /><path clip-path=\"url(#clip410)\" d=\"M 0 0 M1322.67 435.668 Q1319.06 435.668 1317.23 439.233 Q1315.42 442.774 1315.42 449.904 Q1315.42 457.01 1317.23 460.575 Q1319.06 464.117 1322.67 464.117 Q1326.3 464.117 1328.11 460.575 Q1329.94 457.01 1329.94 449.904 Q1329.94 442.774 1328.11 439.233 Q1326.3 435.668 1322.67 435.668 M1322.67 431.964 Q1328.48 431.964 1331.54 436.571 Q1334.61 441.154 1334.61 449.904 Q1334.61 458.631 1331.54 463.237 Q1328.48 467.82 1322.67 467.82 Q1316.86 467.82 1313.78 463.237 Q1310.73 458.631 1310.73 449.904 Q1310.73 441.154 1313.78 436.571 Q1316.86 431.964 1322.67 431.964 Z\" fill=\"#000000\" fill-rule=\"evenodd\" fill-opacity=\"1\" /><path clip-path=\"url(#clip410)\" d=\"M 0 0 M1250.42 327.38 L1280.1 327.38 L1280.1 331.315 L1250.42 331.315 L1250.42 327.38 Z\" fill=\"#000000\" fill-rule=\"evenodd\" fill-opacity=\"1\" /><path clip-path=\"url(#clip410)\" d=\"M 0 0 M1298.02 313.723 L1286.21 332.172 L1298.02 332.172 L1298.02 313.723 M1296.79 309.649 L1302.67 309.649 L1302.67 332.172 L1307.6 332.172 L1307.6 336.061 L1302.67 336.061 L1302.67 344.209 L1298.02 344.209 L1298.02 336.061 L1282.42 336.061 L1282.42 331.547 L1296.79 309.649 Z\" fill=\"#000000\" fill-rule=\"evenodd\" fill-opacity=\"1\" /><path clip-path=\"url(#clip410)\" d=\"M 0 0 M1322.67 312.727 Q1319.06 312.727 1317.23 316.292 Q1315.42 319.834 1315.42 326.963 Q1315.42 334.07 1317.23 337.635 Q1319.06 341.176 1322.67 341.176 Q1326.3 341.176 1328.11 337.635 Q1329.94 334.07 1329.94 326.963 Q1329.94 319.834 1328.11 316.292 Q1326.3 312.727 1322.67 312.727 M1322.67 309.024 Q1328.48 309.024 1331.54 313.63 Q1334.61 318.214 1334.61 326.963 Q1334.61 335.69 1331.54 340.297 Q1328.48 344.88 1322.67 344.88 Q1316.86 344.88 1313.78 340.297 Q1310.73 335.69 1310.73 326.963 Q1310.73 318.214 1313.78 313.63 Q1316.86 309.024 1322.67 309.024 Z\" fill=\"#000000\" fill-rule=\"evenodd\" fill-opacity=\"1\" /><path clip-path=\"url(#clip410)\" d=\"M 0 0 M1252.51 204.44 L1282.18 204.44 L1282.18 208.375 L1252.51 208.375 L1252.51 204.44 Z\" fill=\"#000000\" fill-rule=\"evenodd\" fill-opacity=\"1\" /><path clip-path=\"url(#clip410)\" d=\"M 0 0 M1291.28 217.333 L1307.6 217.333 L1307.6 221.268 L1285.66 221.268 L1285.66 217.333 Q1288.32 214.579 1292.9 209.949 Q1297.51 205.296 1298.69 203.954 Q1300.93 201.431 1301.81 199.694 Q1302.72 197.935 1302.72 196.245 Q1302.72 193.491 1300.77 191.755 Q1298.85 190.019 1295.75 190.019 Q1293.55 190.019 1291.1 190.782 Q1288.67 191.546 1285.89 193.097 L1285.89 188.375 Q1288.71 187.241 1291.17 186.662 Q1293.62 186.083 1295.66 186.083 Q1301.03 186.083 1304.22 188.769 Q1307.42 191.454 1307.42 195.944 Q1307.42 198.074 1306.61 199.995 Q1305.82 201.894 1303.71 204.486 Q1303.13 205.157 1300.03 208.375 Q1296.93 211.569 1291.28 217.333 Z\" fill=\"#000000\" fill-rule=\"evenodd\" fill-opacity=\"1\" /><path clip-path=\"url(#clip410)\" d=\"M 0 0 M1322.67 189.787 Q1319.06 189.787 1317.23 193.352 Q1315.42 196.894 1315.42 204.023 Q1315.42 211.13 1317.23 214.694 Q1319.06 218.236 1322.67 218.236 Q1326.3 218.236 1328.11 214.694 Q1329.94 211.13 1329.94 204.023 Q1329.94 196.894 1328.11 193.352 Q1326.3 189.787 1322.67 189.787 M1322.67 186.083 Q1328.48 186.083 1331.54 190.69 Q1334.61 195.273 1334.61 204.023 Q1334.61 212.75 1331.54 217.356 Q1328.48 221.94 1322.67 221.94 Q1316.86 221.94 1313.78 217.356 Q1310.73 212.75 1310.73 204.023 Q1310.73 195.273 1313.78 190.69 Q1316.86 186.083 1322.67 186.083 Z\" fill=\"#000000\" fill-rule=\"evenodd\" fill-opacity=\"1\" /><path clip-path=\"url(#clip410)\" d=\"M 0 0 M1322.67 66.8467 Q1319.06 66.8467 1317.23 70.4115 Q1315.42 73.9532 1315.42 81.0828 Q1315.42 88.1892 1317.23 91.754 Q1319.06 95.2957 1322.67 95.2957 Q1326.3 95.2957 1328.11 91.754 Q1329.94 88.1892 1329.94 81.0828 Q1329.94 73.9532 1328.11 70.4115 Q1326.3 66.8467 1322.67 66.8467 M1322.67 63.1431 Q1328.48 63.1431 1331.54 67.7495 Q1334.61 72.3328 1334.61 81.0828 Q1334.61 89.8096 1331.54 94.416 Q1328.48 98.9994 1322.67 98.9994 Q1316.86 98.9994 1313.78 94.416 Q1310.73 89.8096 1310.73 81.0828 Q1310.73 72.3328 1313.78 67.7495 Q1316.86 63.1431 1322.67 63.1431 Z\" fill=\"#000000\" fill-rule=\"evenodd\" fill-opacity=\"1\" /><polyline clip-path=\"url(#clip413)\" style=\"stroke:#009af9; stroke-width:4; stroke-opacity:1; fill:none\" points=\"\n",
       "  1398.41,65.3348 1407.46,71.2238 1491.13,125.676 1541.41,158.4 1583.92,186.067 1630.1,216.122 1672.67,243.829 1718.31,273.535 1771.19,307.952 1818.19,338.537 \n",
       "  1859.4,365.358 1904.33,394.6 1949.53,424.015 1999.5,456.538 2047.04,487.483 2096.48,519.658 2138.1,546.743 2188.91,579.81 2236.67,610.894 2313.18,660.693 \n",
       "  2324.96,668.357 \n",
       "  \"/>\n",
       "<path clip-path=\"url(#clip410)\" d=\"\n",
       "M2159.87 189.511 L2320.02 189.511 L2320.02 68.5509 L2159.87 68.5509  Z\n",
       "  \" fill=\"#ffffff\" fill-rule=\"evenodd\" fill-opacity=\"1\"/>\n",
       "<polyline clip-path=\"url(#clip410)\" style=\"stroke:#000000; stroke-width:4; stroke-opacity:1; fill:none\" points=\"\n",
       "  2159.87,189.511 2320.02,189.511 2320.02,68.5509 2159.87,68.5509 2159.87,189.511 \n",
       "  \"/>\n",
       "<polyline clip-path=\"url(#clip410)\" style=\"stroke:#009af9; stroke-width:4; stroke-opacity:1; fill:none\" points=\"\n",
       "  2170.79,129.031 2236.26,129.031 \n",
       "  \"/>\n",
       "<path clip-path=\"url(#clip410)\" d=\"M 0 0 M2261.02 148.718 Q2259.21 153.348 2257.5 154.76 Q2255.79 156.172 2252.91 156.172 L2249.51 156.172 L2249.51 152.607 L2252.01 152.607 Q2253.77 152.607 2254.74 151.774 Q2255.72 150.94 2256.9 147.839 L2257.66 145.894 L2247.17 120.385 L2251.69 120.385 L2259.79 140.663 L2267.89 120.385 L2272.41 120.385 L2261.02 148.718 Z\" fill=\"#000000\" fill-rule=\"evenodd\" fill-opacity=\"1\" /><path clip-path=\"url(#clip410)\" d=\"M 0 0 M2278.29 142.376 L2285.92 142.376 L2285.92 116.01 L2277.61 117.677 L2277.61 113.418 L2285.88 111.751 L2290.55 111.751 L2290.55 142.376 L2298.19 142.376 L2298.19 146.311 L2278.29 146.311 L2278.29 142.376 Z\" fill=\"#000000\" fill-rule=\"evenodd\" fill-opacity=\"1\" /><path clip-path=\"url(#clip410)\" d=\"\n",
       "M170.047 1486.45 L1152.19 1486.45 L1152.19 847.244 L170.047 847.244  Z\n",
       "  \" fill=\"#ffffff\" fill-rule=\"evenodd\" fill-opacity=\"1\"/>\n",
       "<defs>\n",
       "  <clipPath id=\"clip414\">\n",
       "    <rect x=\"170\" y=\"847\" width=\"983\" height=\"640\"/>\n",
       "  </clipPath>\n",
       "</defs>\n",
       "<polyline clip-path=\"url(#clip414)\" style=\"stroke:#000000; stroke-width:2; stroke-opacity:0.1; fill:none\" points=\"\n",
       "  251,1486.45 251,847.244 \n",
       "  \"/>\n",
       "<polyline clip-path=\"url(#clip414)\" style=\"stroke:#000000; stroke-width:2; stroke-opacity:0.1; fill:none\" points=\"\n",
       "  436.31,1486.45 436.31,847.244 \n",
       "  \"/>\n",
       "<polyline clip-path=\"url(#clip414)\" style=\"stroke:#000000; stroke-width:2; stroke-opacity:0.1; fill:none\" points=\"\n",
       "  621.619,1486.45 621.619,847.244 \n",
       "  \"/>\n",
       "<polyline clip-path=\"url(#clip414)\" style=\"stroke:#000000; stroke-width:2; stroke-opacity:0.1; fill:none\" points=\"\n",
       "  806.929,1486.45 806.929,847.244 \n",
       "  \"/>\n",
       "<polyline clip-path=\"url(#clip414)\" style=\"stroke:#000000; stroke-width:2; stroke-opacity:0.1; fill:none\" points=\"\n",
       "  992.239,1486.45 992.239,847.244 \n",
       "  \"/>\n",
       "<polyline clip-path=\"url(#clip410)\" style=\"stroke:#000000; stroke-width:4; stroke-opacity:1; fill:none\" points=\"\n",
       "  170.047,1486.45 1152.19,1486.45 \n",
       "  \"/>\n",
       "<polyline clip-path=\"url(#clip410)\" style=\"stroke:#000000; stroke-width:4; stroke-opacity:1; fill:none\" points=\"\n",
       "  251,1486.45 251,1478.78 \n",
       "  \"/>\n",
       "<polyline clip-path=\"url(#clip410)\" style=\"stroke:#000000; stroke-width:4; stroke-opacity:1; fill:none\" points=\"\n",
       "  436.31,1486.45 436.31,1478.78 \n",
       "  \"/>\n",
       "<polyline clip-path=\"url(#clip410)\" style=\"stroke:#000000; stroke-width:4; stroke-opacity:1; fill:none\" points=\"\n",
       "  621.619,1486.45 621.619,1478.78 \n",
       "  \"/>\n",
       "<polyline clip-path=\"url(#clip410)\" style=\"stroke:#000000; stroke-width:4; stroke-opacity:1; fill:none\" points=\"\n",
       "  806.929,1486.45 806.929,1478.78 \n",
       "  \"/>\n",
       "<polyline clip-path=\"url(#clip410)\" style=\"stroke:#000000; stroke-width:4; stroke-opacity:1; fill:none\" points=\"\n",
       "  992.239,1486.45 992.239,1478.78 \n",
       "  \"/>\n",
       "<path clip-path=\"url(#clip410)\" d=\"M 0 0 M223.697 1543.18 L231.336 1543.18 L231.336 1516.82 L223.026 1518.49 L223.026 1514.23 L231.289 1512.56 L235.965 1512.56 L235.965 1543.18 L243.604 1543.18 L243.604 1547.12 L223.697 1547.12 L223.697 1543.18 Z\" fill=\"#000000\" fill-rule=\"evenodd\" fill-opacity=\"1\" /><path clip-path=\"url(#clip410)\" d=\"M 0 0 M248.674 1541.24 L253.558 1541.24 L253.558 1547.12 L248.674 1547.12 L248.674 1541.24 Z\" fill=\"#000000\" fill-rule=\"evenodd\" fill-opacity=\"1\" /><path clip-path=\"url(#clip410)\" d=\"M 0 0 M262.655 1543.18 L278.974 1543.18 L278.974 1547.12 L257.03 1547.12 L257.03 1543.18 Q259.692 1540.43 264.275 1535.8 Q268.882 1531.15 270.062 1529.81 Q272.308 1527.28 273.187 1525.55 Q274.09 1523.79 274.09 1522.1 Q274.09 1519.34 272.146 1517.61 Q270.224 1515.87 267.123 1515.87 Q264.924 1515.87 262.47 1516.63 Q260.039 1517.4 257.262 1518.95 L257.262 1514.23 Q260.086 1513.09 262.539 1512.51 Q264.993 1511.93 267.03 1511.93 Q272.4 1511.93 275.595 1514.62 Q278.789 1517.31 278.789 1521.8 Q278.789 1523.93 277.979 1525.85 Q277.192 1527.74 275.086 1530.34 Q274.507 1531.01 271.405 1534.23 Q268.303 1537.42 262.655 1543.18 Z\" fill=\"#000000\" fill-rule=\"evenodd\" fill-opacity=\"1\" /><path clip-path=\"url(#clip410)\" d=\"M 0 0 M407.965 1543.18 L415.604 1543.18 L415.604 1516.82 L407.294 1518.49 L407.294 1514.23 L415.558 1512.56 L420.233 1512.56 L420.233 1543.18 L427.872 1543.18 L427.872 1547.12 L407.965 1547.12 L407.965 1543.18 Z\" fill=\"#000000\" fill-rule=\"evenodd\" fill-opacity=\"1\" /><path clip-path=\"url(#clip410)\" d=\"M 0 0 M432.942 1541.24 L437.826 1541.24 L437.826 1547.12 L432.942 1547.12 L432.942 1541.24 Z\" fill=\"#000000\" fill-rule=\"evenodd\" fill-opacity=\"1\" /><path clip-path=\"url(#clip410)\" d=\"M 0 0 M455.742 1516.63 L443.937 1535.08 L455.742 1535.08 L455.742 1516.63 M454.516 1512.56 L460.395 1512.56 L460.395 1535.08 L465.326 1535.08 L465.326 1538.97 L460.395 1538.97 L460.395 1547.12 L455.742 1547.12 L455.742 1538.97 L440.141 1538.97 L440.141 1534.46 L454.516 1512.56 Z\" fill=\"#000000\" fill-rule=\"evenodd\" fill-opacity=\"1\" /><path clip-path=\"url(#clip410)\" d=\"M 0 0 M593.437 1543.18 L601.076 1543.18 L601.076 1516.82 L592.765 1518.49 L592.765 1514.23 L601.029 1512.56 L605.705 1512.56 L605.705 1543.18 L613.344 1543.18 L613.344 1547.12 L593.437 1547.12 L593.437 1543.18 Z\" fill=\"#000000\" fill-rule=\"evenodd\" fill-opacity=\"1\" /><path clip-path=\"url(#clip410)\" d=\"M 0 0 M618.413 1541.24 L623.298 1541.24 L623.298 1547.12 L618.413 1547.12 L618.413 1541.24 Z\" fill=\"#000000\" fill-rule=\"evenodd\" fill-opacity=\"1\" /><path clip-path=\"url(#clip410)\" d=\"M 0 0 M638.946 1527.98 Q635.798 1527.98 633.946 1530.13 Q632.117 1532.28 632.117 1536.03 Q632.117 1539.76 633.946 1541.93 Q635.798 1544.09 638.946 1544.09 Q642.094 1544.09 643.923 1541.93 Q645.774 1539.76 645.774 1536.03 Q645.774 1532.28 643.923 1530.13 Q642.094 1527.98 638.946 1527.98 M648.228 1513.32 L648.228 1517.58 Q646.469 1516.75 644.663 1516.31 Q642.881 1515.87 641.122 1515.87 Q636.492 1515.87 634.038 1519 Q631.608 1522.12 631.261 1528.44 Q632.626 1526.43 634.687 1525.36 Q636.747 1524.27 639.224 1524.27 Q644.432 1524.27 647.441 1527.44 Q650.473 1530.59 650.473 1536.03 Q650.473 1541.36 647.325 1544.57 Q644.177 1547.79 638.946 1547.79 Q632.95 1547.79 629.779 1543.21 Q626.608 1538.6 626.608 1529.87 Q626.608 1521.68 630.497 1516.82 Q634.386 1511.93 640.936 1511.93 Q642.696 1511.93 644.478 1512.28 Q646.284 1512.63 648.228 1513.32 Z\" fill=\"#000000\" fill-rule=\"evenodd\" fill-opacity=\"1\" /><path clip-path=\"url(#clip410)\" d=\"M 0 0 M778.874 1543.18 L786.513 1543.18 L786.513 1516.82 L778.202 1518.49 L778.202 1514.23 L786.466 1512.56 L791.142 1512.56 L791.142 1543.18 L798.781 1543.18 L798.781 1547.12 L778.874 1547.12 L778.874 1543.18 Z\" fill=\"#000000\" fill-rule=\"evenodd\" fill-opacity=\"1\" /><path clip-path=\"url(#clip410)\" d=\"M 0 0 M803.85 1541.24 L808.735 1541.24 L808.735 1547.12 L803.85 1547.12 L803.85 1541.24 Z\" fill=\"#000000\" fill-rule=\"evenodd\" fill-opacity=\"1\" /><path clip-path=\"url(#clip410)\" d=\"M 0 0 M823.804 1530.71 Q820.471 1530.71 818.549 1532.49 Q816.651 1534.27 816.651 1537.4 Q816.651 1540.52 818.549 1542.31 Q820.471 1544.09 823.804 1544.09 Q827.137 1544.09 829.059 1542.31 Q830.98 1540.5 830.98 1537.4 Q830.98 1534.27 829.059 1532.49 Q827.161 1530.71 823.804 1530.71 M819.128 1528.72 Q816.119 1527.98 814.429 1525.92 Q812.762 1523.86 812.762 1520.89 Q812.762 1516.75 815.702 1514.34 Q818.665 1511.93 823.804 1511.93 Q828.966 1511.93 831.906 1514.34 Q834.846 1516.75 834.846 1520.89 Q834.846 1523.86 833.156 1525.92 Q831.489 1527.98 828.503 1528.72 Q831.883 1529.5 833.758 1531.8 Q835.656 1534.09 835.656 1537.4 Q835.656 1542.42 832.577 1545.11 Q829.522 1547.79 823.804 1547.79 Q818.087 1547.79 815.008 1545.11 Q811.952 1542.42 811.952 1537.4 Q811.952 1534.09 813.85 1531.8 Q815.749 1529.5 819.128 1528.72 M817.415 1521.33 Q817.415 1524.02 819.082 1525.52 Q820.772 1527.03 823.804 1527.03 Q826.813 1527.03 828.503 1525.52 Q830.216 1524.02 830.216 1521.33 Q830.216 1518.65 828.503 1517.14 Q826.813 1515.64 823.804 1515.64 Q820.772 1515.64 819.082 1517.14 Q817.415 1518.65 817.415 1521.33 Z\" fill=\"#000000\" fill-rule=\"evenodd\" fill-opacity=\"1\" /><path clip-path=\"url(#clip410)\" d=\"M 0 0 M968.408 1543.18 L984.727 1543.18 L984.727 1547.12 L962.783 1547.12 L962.783 1543.18 Q965.445 1540.43 970.028 1535.8 Q974.635 1531.15 975.815 1529.81 Q978.061 1527.28 978.94 1525.55 Q979.843 1523.79 979.843 1522.1 Q979.843 1519.34 977.899 1517.61 Q975.977 1515.87 972.876 1515.87 Q970.677 1515.87 968.223 1516.63 Q965.792 1517.4 963.015 1518.95 L963.015 1514.23 Q965.839 1513.09 968.292 1512.51 Q970.746 1511.93 972.783 1511.93 Q978.153 1511.93 981.348 1514.62 Q984.542 1517.31 984.542 1521.8 Q984.542 1523.93 983.732 1525.85 Q982.945 1527.74 980.838 1530.34 Q980.26 1531.01 977.158 1534.23 Q974.056 1537.42 968.408 1543.18 Z\" fill=\"#000000\" fill-rule=\"evenodd\" fill-opacity=\"1\" /><path clip-path=\"url(#clip410)\" d=\"M 0 0 M989.797 1541.24 L994.681 1541.24 L994.681 1547.12 L989.797 1547.12 L989.797 1541.24 Z\" fill=\"#000000\" fill-rule=\"evenodd\" fill-opacity=\"1\" /><path clip-path=\"url(#clip410)\" d=\"M 0 0 M1009.75 1515.64 Q1006.14 1515.64 1004.31 1519.2 Q1002.51 1522.75 1002.51 1529.87 Q1002.51 1536.98 1004.31 1540.55 Q1006.14 1544.09 1009.75 1544.09 Q1013.38 1544.09 1015.19 1540.55 Q1017.02 1536.98 1017.02 1529.87 Q1017.02 1522.75 1015.19 1519.2 Q1013.38 1515.64 1009.75 1515.64 M1009.75 1511.93 Q1015.56 1511.93 1018.62 1516.54 Q1021.69 1521.12 1021.69 1529.87 Q1021.69 1538.6 1018.62 1543.21 Q1015.56 1547.79 1009.75 1547.79 Q1003.94 1547.79 1000.86 1543.21 Q997.806 1538.6 997.806 1529.87 Q997.806 1521.12 1000.86 1516.54 Q1003.94 1511.93 1009.75 1511.93 Z\" fill=\"#000000\" fill-rule=\"evenodd\" fill-opacity=\"1\" /><polyline clip-path=\"url(#clip414)\" style=\"stroke:#000000; stroke-width:2; stroke-opacity:0.1; fill:none\" points=\"\n",
       "  170.047,1365.64 1152.19,1365.64 \n",
       "  \"/>\n",
       "<polyline clip-path=\"url(#clip414)\" style=\"stroke:#000000; stroke-width:2; stroke-opacity:0.1; fill:none\" points=\"\n",
       "  170.047,1211.97 1152.19,1211.97 \n",
       "  \"/>\n",
       "<polyline clip-path=\"url(#clip414)\" style=\"stroke:#000000; stroke-width:2; stroke-opacity:0.1; fill:none\" points=\"\n",
       "  170.047,1058.29 1152.19,1058.29 \n",
       "  \"/>\n",
       "<polyline clip-path=\"url(#clip414)\" style=\"stroke:#000000; stroke-width:2; stroke-opacity:0.1; fill:none\" points=\"\n",
       "  170.047,904.618 1152.19,904.618 \n",
       "  \"/>\n",
       "<polyline clip-path=\"url(#clip410)\" style=\"stroke:#000000; stroke-width:4; stroke-opacity:1; fill:none\" points=\"\n",
       "  170.047,1486.45 170.047,847.244 \n",
       "  \"/>\n",
       "<polyline clip-path=\"url(#clip410)\" style=\"stroke:#000000; stroke-width:4; stroke-opacity:1; fill:none\" points=\"\n",
       "  170.047,1365.64 181.833,1365.64 \n",
       "  \"/>\n",
       "<polyline clip-path=\"url(#clip410)\" style=\"stroke:#000000; stroke-width:4; stroke-opacity:1; fill:none\" points=\"\n",
       "  170.047,1211.97 181.833,1211.97 \n",
       "  \"/>\n",
       "<polyline clip-path=\"url(#clip410)\" style=\"stroke:#000000; stroke-width:4; stroke-opacity:1; fill:none\" points=\"\n",
       "  170.047,1058.29 181.833,1058.29 \n",
       "  \"/>\n",
       "<polyline clip-path=\"url(#clip410)\" style=\"stroke:#000000; stroke-width:4; stroke-opacity:1; fill:none\" points=\"\n",
       "  170.047,904.618 181.833,904.618 \n",
       "  \"/>\n",
       "<path clip-path=\"url(#clip410)\" d=\"M 0 0 M50.9921 1366.1 L80.6679 1366.1 L80.6679 1370.03 L50.9921 1370.03 L50.9921 1366.1 Z\" fill=\"#000000\" fill-rule=\"evenodd\" fill-opacity=\"1\" /><path clip-path=\"url(#clip410)\" d=\"M 0 0 M99.9039 1364.29 Q103.26 1365.01 105.135 1367.28 Q107.033 1369.54 107.033 1372.88 Q107.033 1377.99 103.515 1380.79 Q99.9965 1383.6 93.515 1383.6 Q91.3391 1383.6 89.0243 1383.16 Q86.7327 1382.74 84.279 1381.88 L84.279 1377.37 Q86.2234 1378.5 88.5382 1379.08 Q90.853 1379.66 93.3762 1379.66 Q97.7743 1379.66 100.066 1377.92 Q102.381 1376.19 102.381 1372.88 Q102.381 1369.82 100.228 1368.11 Q98.0984 1366.37 94.2789 1366.37 L90.2512 1366.37 L90.2512 1362.53 L94.4641 1362.53 Q97.9132 1362.53 99.7419 1361.17 Q101.571 1359.78 101.571 1357.18 Q101.571 1354.52 99.6724 1353.11 Q97.7974 1351.67 94.2789 1351.67 Q92.3576 1351.67 90.1586 1352.09 Q87.9595 1352.51 85.3206 1353.39 L85.3206 1349.22 Q87.9827 1348.48 90.2975 1348.11 Q92.6354 1347.74 94.6956 1347.74 Q100.02 1347.74 103.121 1350.17 Q106.223 1352.58 106.223 1356.7 Q106.223 1359.57 104.58 1361.56 Q102.936 1363.53 99.9039 1364.29 Z\" fill=\"#000000\" fill-rule=\"evenodd\" fill-opacity=\"1\" /><path clip-path=\"url(#clip410)\" d=\"M 0 0 M122.103 1351.44 Q118.492 1351.44 116.663 1355.01 Q114.858 1358.55 114.858 1365.68 Q114.858 1372.79 116.663 1376.35 Q118.492 1379.89 122.103 1379.89 Q125.737 1379.89 127.543 1376.35 Q129.371 1372.79 129.371 1365.68 Q129.371 1358.55 127.543 1355.01 Q125.737 1351.44 122.103 1351.44 M122.103 1347.74 Q127.913 1347.74 130.969 1352.35 Q134.047 1356.93 134.047 1365.68 Q134.047 1374.41 130.969 1379.01 Q127.913 1383.6 122.103 1383.6 Q116.293 1383.6 113.214 1379.01 Q110.158 1374.41 110.158 1365.68 Q110.158 1356.93 113.214 1352.35 Q116.293 1347.74 122.103 1347.74 Z\" fill=\"#000000\" fill-rule=\"evenodd\" fill-opacity=\"1\" /><path clip-path=\"url(#clip410)\" d=\"M 0 0 M51.9412 1212.42 L81.617 1212.42 L81.617 1216.36 L51.9412 1216.36 L51.9412 1212.42 Z\" fill=\"#000000\" fill-rule=\"evenodd\" fill-opacity=\"1\" /><path clip-path=\"url(#clip410)\" d=\"M 0 0 M90.7141 1225.31 L107.033 1225.31 L107.033 1229.25 L85.0892 1229.25 L85.0892 1225.31 Q87.7512 1222.56 92.3345 1217.93 Q96.941 1213.28 98.1215 1211.93 Q100.367 1209.41 101.246 1207.67 Q102.149 1205.92 102.149 1204.23 Q102.149 1201.47 100.205 1199.74 Q98.2835 1198 95.1817 1198 Q92.9826 1198 90.529 1198.76 Q88.0984 1199.53 85.3206 1201.08 L85.3206 1196.36 Q88.1447 1195.22 90.5984 1194.64 Q93.0521 1194.06 95.0891 1194.06 Q100.459 1194.06 103.654 1196.75 Q106.848 1199.43 106.848 1203.92 Q106.848 1206.05 106.038 1207.98 Q105.251 1209.87 103.145 1212.47 Q102.566 1213.14 99.4641 1216.36 Q96.3623 1219.55 90.7141 1225.31 Z\" fill=\"#000000\" fill-rule=\"evenodd\" fill-opacity=\"1\" /><path clip-path=\"url(#clip410)\" d=\"M 0 0 M122.103 1197.77 Q118.492 1197.77 116.663 1201.33 Q114.858 1204.87 114.858 1212 Q114.858 1219.11 116.663 1222.67 Q118.492 1226.22 122.103 1226.22 Q125.737 1226.22 127.543 1222.67 Q129.371 1219.11 129.371 1212 Q129.371 1204.87 127.543 1201.33 Q125.737 1197.77 122.103 1197.77 M122.103 1194.06 Q127.913 1194.06 130.969 1198.67 Q134.047 1203.25 134.047 1212 Q134.047 1220.73 130.969 1225.34 Q127.913 1229.92 122.103 1229.92 Q116.293 1229.92 113.214 1225.34 Q110.158 1220.73 110.158 1212 Q110.158 1203.25 113.214 1198.67 Q116.293 1194.06 122.103 1194.06 Z\" fill=\"#000000\" fill-rule=\"evenodd\" fill-opacity=\"1\" /><path clip-path=\"url(#clip410)\" d=\"M 0 0 M51.5708 1058.74 L81.2466 1058.74 L81.2466 1062.68 L51.5708 1062.68 L51.5708 1058.74 Z\" fill=\"#000000\" fill-rule=\"evenodd\" fill-opacity=\"1\" /><path clip-path=\"url(#clip410)\" d=\"M 0 0 M87.1262 1071.64 L94.765 1071.64 L94.765 1045.27 L86.4549 1046.94 L86.4549 1042.68 L94.7187 1041.01 L99.3946 1041.01 L99.3946 1071.64 L107.033 1071.64 L107.033 1075.57 L87.1262 1075.57 L87.1262 1071.64 Z\" fill=\"#000000\" fill-rule=\"evenodd\" fill-opacity=\"1\" /><path clip-path=\"url(#clip410)\" d=\"M 0 0 M122.103 1044.09 Q118.492 1044.09 116.663 1047.66 Q114.858 1051.2 114.858 1058.33 Q114.858 1065.43 116.663 1069 Q118.492 1072.54 122.103 1072.54 Q125.737 1072.54 127.543 1069 Q129.371 1065.43 129.371 1058.33 Q129.371 1051.2 127.543 1047.66 Q125.737 1044.09 122.103 1044.09 M122.103 1040.39 Q127.913 1040.39 130.969 1044.99 Q134.047 1049.58 134.047 1058.33 Q134.047 1067.05 130.969 1071.66 Q127.913 1076.24 122.103 1076.24 Q116.293 1076.24 113.214 1071.66 Q110.158 1067.05 110.158 1058.33 Q110.158 1049.58 113.214 1044.99 Q116.293 1040.39 122.103 1040.39 Z\" fill=\"#000000\" fill-rule=\"evenodd\" fill-opacity=\"1\" /><path clip-path=\"url(#clip410)\" d=\"M 0 0 M122.103 890.417 Q118.492 890.417 116.663 893.981 Q114.858 897.523 114.858 904.653 Q114.858 911.759 116.663 915.324 Q118.492 918.866 122.103 918.866 Q125.737 918.866 127.543 915.324 Q129.371 911.759 129.371 904.653 Q129.371 897.523 127.543 893.981 Q125.737 890.417 122.103 890.417 M122.103 886.713 Q127.913 886.713 130.969 891.319 Q134.047 895.903 134.047 904.653 Q134.047 913.38 130.969 917.986 Q127.913 922.569 122.103 922.569 Q116.293 922.569 113.214 917.986 Q110.158 913.38 110.158 904.653 Q110.158 895.903 113.214 891.319 Q116.293 886.713 122.103 886.713 Z\" fill=\"#000000\" fill-rule=\"evenodd\" fill-opacity=\"1\" /><polyline clip-path=\"url(#clip414)\" style=\"stroke:#009af9; stroke-width:4; stroke-opacity:1; fill:none\" points=\"\n",
       "  197.844,865.335 197.844,868.365 197.844,871.395 197.844,874.426 197.844,877.456 197.844,880.486 197.844,883.516 197.844,886.547 197.844,889.577 197.844,892.607 \n",
       "  197.844,895.637 197.844,898.668 197.844,901.698 197.844,904.728 197.844,907.758 197.844,910.789 197.844,913.819 197.844,916.849 197.844,919.88 197.844,922.91 \n",
       "  197.844,925.94 197.844,928.97 197.844,932.001 197.844,935.031 197.844,938.061 197.844,941.091 197.844,944.122 197.844,947.152 197.844,950.182 197.844,953.212 \n",
       "  197.844,956.243 197.844,959.273 197.844,962.303 197.844,965.333 197.844,968.364 197.844,971.394 197.844,974.424 197.844,977.455 197.844,980.485 197.844,983.515 \n",
       "  197.844,986.545 197.844,989.576 197.844,992.606 197.844,995.636 197.844,998.666 197.844,1001.7 197.844,1004.73 197.844,1007.76 197.844,1010.79 197.844,1013.82 \n",
       "  197.844,1016.85 197.844,1019.88 197.844,1022.91 197.844,1025.94 197.844,1028.97 197.844,1032 197.844,1035.03 197.844,1038.06 197.844,1041.09 197.844,1044.12 \n",
       "  197.844,1047.15 197.844,1050.18 197.844,1053.21 197.844,1056.24 197.844,1059.27 197.844,1062.3 197.844,1065.33 197.844,1068.36 197.844,1071.39 197.844,1074.42 \n",
       "  197.844,1077.45 197.844,1080.48 197.844,1083.51 197.844,1086.54 197.844,1089.57 197.844,1092.6 197.844,1095.63 197.844,1098.67 197.844,1101.7 197.844,1104.73 \n",
       "  197.844,1107.76 197.844,1110.79 197.844,1113.82 197.844,1116.85 197.844,1119.88 197.844,1122.91 197.844,1125.94 197.844,1128.97 197.844,1132 197.844,1135.03 \n",
       "  197.844,1138.06 197.844,1141.09 197.844,1144.12 197.844,1147.15 197.844,1150.18 197.844,1153.21 197.844,1156.24 197.844,1159.27 197.844,1162.3 197.844,1165.33 \n",
       "  197.844,1168.36 197.844,1171.39 197.844,1174.42 197.844,1177.45 197.844,1180.48 197.844,1183.51 197.844,1186.54 197.844,1189.57 197.844,1192.6 197.844,1195.63 \n",
       "  197.844,1198.66 197.844,1201.69 197.844,1204.72 197.844,1207.75 197.844,1210.78 197.844,1213.82 197.844,1216.85 197.844,1219.88 197.844,1222.91 197.844,1225.94 \n",
       "  197.844,1228.97 197.844,1232 197.844,1235.03 197.844,1238.06 197.844,1241.09 197.844,1244.12 197.844,1247.15 197.844,1250.18 197.844,1253.21 197.844,1256.24 \n",
       "  197.844,1259.27 197.844,1262.3 197.844,1265.33 197.844,1268.36 197.844,1271.39 197.844,1274.42 197.844,1277.45 197.844,1280.48 197.844,1283.51 197.844,1286.54 \n",
       "  197.844,1289.57 197.844,1292.6 197.844,1295.63 197.844,1298.66 197.844,1301.69 197.844,1304.72 197.844,1307.75 197.844,1310.78 197.844,1313.81 197.844,1316.84 \n",
       "  197.844,1319.87 197.844,1322.9 197.844,1325.93 197.844,1328.97 197.844,1332 197.844,1335.03 197.844,1338.06 197.844,1341.09 197.844,1344.12 197.844,1347.15 \n",
       "  197.844,1350.18 197.844,1353.21 197.844,1356.24 197.844,1359.27 197.844,1362.3 197.844,1365.33 197.844,1368.36 197.844,1371.39 197.844,1374.42 197.844,1377.45 \n",
       "  197.844,1380.48 197.844,1383.51 197.844,1386.54 197.844,1389.57 197.844,1392.6 197.844,1395.63 197.844,1398.66 197.844,1401.69 197.844,1404.72 197.844,1407.75 \n",
       "  197.844,1410.78 197.844,1413.81 197.844,1416.84 197.844,1419.87 197.844,1422.9 197.844,1425.93 197.844,1428.96 197.844,1431.99 197.844,1435.02 197.844,1438.05 \n",
       "  197.844,1441.08 197.844,1444.12 197.844,1447.15 197.844,1450.18 197.844,1453.21 197.844,1456.24 197.844,1459.27 197.844,1462.3 197.844,1465.33 197.844,1468.36 \n",
       "  \n",
       "  \"/>\n",
       "<path clip-path=\"url(#clip410)\" d=\"\n",
       "M959.306 989.511 L1119.45 989.511 L1119.45 868.551 L959.306 868.551  Z\n",
       "  \" fill=\"#ffffff\" fill-rule=\"evenodd\" fill-opacity=\"1\"/>\n",
       "<polyline clip-path=\"url(#clip410)\" style=\"stroke:#000000; stroke-width:4; stroke-opacity:1; fill:none\" points=\"\n",
       "  959.306,989.511 1119.45,989.511 1119.45,868.551 959.306,868.551 959.306,989.511 \n",
       "  \"/>\n",
       "<polyline clip-path=\"url(#clip410)\" style=\"stroke:#009af9; stroke-width:4; stroke-opacity:1; fill:none\" points=\"\n",
       "  970.218,929.031 1035.69,929.031 \n",
       "  \"/>\n",
       "<path clip-path=\"url(#clip410)\" d=\"M 0 0 M1060.45 948.718 Q1058.64 953.348 1056.93 954.76 Q1055.22 956.172 1052.35 956.172 L1048.95 956.172 L1048.95 952.607 L1051.45 952.607 Q1053.2 952.607 1054.18 951.774 Q1055.15 950.94 1056.33 947.839 L1057.09 945.894 L1046.61 920.385 L1051.12 920.385 L1059.22 940.663 L1067.32 920.385 L1071.84 920.385 L1060.45 948.718 Z\" fill=\"#000000\" fill-rule=\"evenodd\" fill-opacity=\"1\" /><path clip-path=\"url(#clip410)\" d=\"M 0 0 M1077.72 942.376 L1085.36 942.376 L1085.36 916.01 L1077.05 917.677 L1077.05 913.418 L1085.31 911.751 L1089.99 911.751 L1089.99 942.376 L1097.63 942.376 L1097.63 946.311 L1077.72 946.311 L1077.72 942.376 Z\" fill=\"#000000\" fill-rule=\"evenodd\" fill-opacity=\"1\" /></svg>\n"
      ]
     },
     "execution_count": 60,
     "metadata": {},
     "output_type": "execute_result"
    }
   ],
   "source": [
    "v₀=2.8\n",
    "α=20\n",
    "plot(v_x(v₀, α), 0, 10)\n",
    "plot(v_y(v₀, α,9.81), 0, 10)\n",
    "\n",
    "plot(plot(v_x(v₀, α), 0, 10),\n",
    "plot(v_y(v₀, α,9.81), 0, 10),\n",
    "plot(v_x(v₀, α),v_y(v₀, α,9.81),0,4))"
   ]
  },
  {
   "cell_type": "code",
   "execution_count": 26,
   "id": "suitable-scroll",
   "metadata": {},
   "outputs": [
    {
     "data": {
      "text/plain": [
       "v_x (generic function with 2 methods)"
      ]
     },
     "execution_count": 26,
     "metadata": {},
     "output_type": "execute_result"
    }
   ],
   "source": [
    "function v_x(a,b,m,omega0)\n",
    "    c=26.5-m*1/(a*cos(omega0)+b*sin(omega0))\n",
    "    t ->(m*t/(a*cos(omega0)+b*sin(omega0)))+c\n",
    "end\n"
   ]
  },
  {
   "cell_type": "code",
   "execution_count": 53,
   "id": "documentary-nation",
   "metadata": {},
   "outputs": [
    {
     "data": {
      "text/plain": [
       "v_x_again (generic function with 1 method)"
      ]
     },
     "execution_count": 53,
     "metadata": {},
     "output_type": "execute_result"
    }
   ],
   "source": [
    "function v_x_again(a,b,m,omega0)\n",
    "    c=26.5-m*1/(a*cos(omega0)+b*sin(omega0))\n",
    "    t=5\n",
    "    dt=0.001\n",
    "    v_x = zeros(floor(Int, t / dt), 1)\n",
    "    v_x[1]=26.5\n",
    "\n",
    "    for n in (2:floor(Int, t / dt), 1)\n",
    "        v_x[n]= (m*n/(a*cos(omega0)+b*sin(omega0)))+c\n",
    "    return v_x\n",
    "    end\n",
    "end"
   ]
  },
  {
   "cell_type": "code",
   "execution_count": 54,
   "id": "challenging-fundamentals",
   "metadata": {},
   "outputs": [
    {
     "data": {
      "image/svg+xml": [
       "<?xml version=\"1.0\" encoding=\"utf-8\"?>\n",
       "<svg xmlns=\"http://www.w3.org/2000/svg\" xmlns:xlink=\"http://www.w3.org/1999/xlink\" width=\"600\" height=\"400\" viewBox=\"0 0 2400 1600\">\n",
       "<defs>\n",
       "  <clipPath id=\"clip020\">\n",
       "    <rect x=\"0\" y=\"0\" width=\"2400\" height=\"1600\"/>\n",
       "  </clipPath>\n",
       "</defs>\n",
       "<path clip-path=\"url(#clip020)\" d=\"\n",
       "M0 1600 L2400 1600 L2400 0 L0 0  Z\n",
       "  \" fill=\"#ffffff\" fill-rule=\"evenodd\" fill-opacity=\"1\"/>\n",
       "<defs>\n",
       "  <clipPath id=\"clip021\">\n",
       "    <rect x=\"480\" y=\"0\" width=\"1681\" height=\"1600\"/>\n",
       "  </clipPath>\n",
       "</defs>\n",
       "<path clip-path=\"url(#clip020)\" d=\"\n",
       "M198.195 1486.45 L2352.76 1486.45 L2352.76 47.2441 L198.195 47.2441  Z\n",
       "  \" fill=\"#ffffff\" fill-rule=\"evenodd\" fill-opacity=\"1\"/>\n",
       "<defs>\n",
       "  <clipPath id=\"clip022\">\n",
       "    <rect x=\"198\" y=\"47\" width=\"2156\" height=\"1440\"/>\n",
       "  </clipPath>\n",
       "</defs>\n",
       "<polyline clip-path=\"url(#clip022)\" style=\"stroke:#000000; stroke-width:2; stroke-opacity:0.1; fill:none\" points=\"\n",
       "  259.173,1486.45 259.173,47.2441 \n",
       "  \"/>\n",
       "<polyline clip-path=\"url(#clip022)\" style=\"stroke:#000000; stroke-width:2; stroke-opacity:0.1; fill:none\" points=\"\n",
       "  767.324,1486.45 767.324,47.2441 \n",
       "  \"/>\n",
       "<polyline clip-path=\"url(#clip022)\" style=\"stroke:#000000; stroke-width:2; stroke-opacity:0.1; fill:none\" points=\"\n",
       "  1275.48,1486.45 1275.48,47.2441 \n",
       "  \"/>\n",
       "<polyline clip-path=\"url(#clip022)\" style=\"stroke:#000000; stroke-width:2; stroke-opacity:0.1; fill:none\" points=\"\n",
       "  1783.63,1486.45 1783.63,47.2441 \n",
       "  \"/>\n",
       "<polyline clip-path=\"url(#clip022)\" style=\"stroke:#000000; stroke-width:2; stroke-opacity:0.1; fill:none\" points=\"\n",
       "  2291.78,1486.45 2291.78,47.2441 \n",
       "  \"/>\n",
       "<polyline clip-path=\"url(#clip020)\" style=\"stroke:#000000; stroke-width:4; stroke-opacity:1; fill:none\" points=\"\n",
       "  198.195,1486.45 2352.76,1486.45 \n",
       "  \"/>\n",
       "<polyline clip-path=\"url(#clip020)\" style=\"stroke:#000000; stroke-width:4; stroke-opacity:1; fill:none\" points=\"\n",
       "  259.173,1486.45 259.173,1469.18 \n",
       "  \"/>\n",
       "<polyline clip-path=\"url(#clip020)\" style=\"stroke:#000000; stroke-width:4; stroke-opacity:1; fill:none\" points=\"\n",
       "  767.324,1486.45 767.324,1469.18 \n",
       "  \"/>\n",
       "<polyline clip-path=\"url(#clip020)\" style=\"stroke:#000000; stroke-width:4; stroke-opacity:1; fill:none\" points=\"\n",
       "  1275.48,1486.45 1275.48,1469.18 \n",
       "  \"/>\n",
       "<polyline clip-path=\"url(#clip020)\" style=\"stroke:#000000; stroke-width:4; stroke-opacity:1; fill:none\" points=\"\n",
       "  1783.63,1486.45 1783.63,1469.18 \n",
       "  \"/>\n",
       "<polyline clip-path=\"url(#clip020)\" style=\"stroke:#000000; stroke-width:4; stroke-opacity:1; fill:none\" points=\"\n",
       "  2291.78,1486.45 2291.78,1469.18 \n",
       "  \"/>\n",
       "<path clip-path=\"url(#clip020)\" d=\"M 0 0 M240.69 1515.64 Q237.079 1515.64 235.25 1519.2 Q233.444 1522.75 233.444 1529.87 Q233.444 1536.98 235.25 1540.55 Q237.079 1544.09 240.69 1544.09 Q244.324 1544.09 246.129 1540.55 Q247.958 1536.98 247.958 1529.87 Q247.958 1522.75 246.129 1519.2 Q244.324 1515.64 240.69 1515.64 M240.69 1511.93 Q246.5 1511.93 249.555 1516.54 Q252.634 1521.12 252.634 1529.87 Q252.634 1538.6 249.555 1543.21 Q246.5 1547.79 240.69 1547.79 Q234.88 1547.79 231.801 1543.21 Q228.745 1538.6 228.745 1529.87 Q228.745 1521.12 231.801 1516.54 Q234.88 1511.93 240.69 1511.93 Z\" fill=\"#000000\" fill-rule=\"evenodd\" fill-opacity=\"1\" /><path clip-path=\"url(#clip020)\" d=\"M 0 0 M257.703 1541.24 L262.588 1541.24 L262.588 1547.12 L257.703 1547.12 L257.703 1541.24 Z\" fill=\"#000000\" fill-rule=\"evenodd\" fill-opacity=\"1\" /><path clip-path=\"url(#clip020)\" d=\"M 0 0 M277.657 1515.64 Q274.046 1515.64 272.217 1519.2 Q270.412 1522.75 270.412 1529.87 Q270.412 1536.98 272.217 1540.55 Q274.046 1544.09 277.657 1544.09 Q281.291 1544.09 283.097 1540.55 Q284.926 1536.98 284.926 1529.87 Q284.926 1522.75 283.097 1519.2 Q281.291 1515.64 277.657 1515.64 M277.657 1511.93 Q283.467 1511.93 286.523 1516.54 Q289.601 1521.12 289.601 1529.87 Q289.601 1538.6 286.523 1543.21 Q283.467 1547.79 277.657 1547.79 Q271.847 1547.79 268.768 1543.21 Q265.713 1538.6 265.713 1529.87 Q265.713 1521.12 268.768 1516.54 Q271.847 1511.93 277.657 1511.93 Z\" fill=\"#000000\" fill-rule=\"evenodd\" fill-opacity=\"1\" /><path clip-path=\"url(#clip020)\" d=\"M 0 0 M743.991 1543.18 L760.311 1543.18 L760.311 1547.12 L738.366 1547.12 L738.366 1543.18 Q741.028 1540.43 745.612 1535.8 Q750.218 1531.15 751.399 1529.81 Q753.644 1527.28 754.524 1525.55 Q755.426 1523.79 755.426 1522.1 Q755.426 1519.34 753.482 1517.61 Q751.561 1515.87 748.459 1515.87 Q746.26 1515.87 743.806 1516.63 Q741.376 1517.4 738.598 1518.95 L738.598 1514.23 Q741.422 1513.09 743.876 1512.51 Q746.329 1511.93 748.366 1511.93 Q753.737 1511.93 756.931 1514.62 Q760.125 1517.31 760.125 1521.8 Q760.125 1523.93 759.315 1525.85 Q758.528 1527.74 756.422 1530.34 Q755.843 1531.01 752.741 1534.23 Q749.639 1537.42 743.991 1543.18 Z\" fill=\"#000000\" fill-rule=\"evenodd\" fill-opacity=\"1\" /><path clip-path=\"url(#clip020)\" d=\"M 0 0 M765.38 1541.24 L770.264 1541.24 L770.264 1547.12 L765.38 1547.12 L765.38 1541.24 Z\" fill=\"#000000\" fill-rule=\"evenodd\" fill-opacity=\"1\" /><path clip-path=\"url(#clip020)\" d=\"M 0 0 M775.38 1512.56 L793.736 1512.56 L793.736 1516.5 L779.662 1516.5 L779.662 1524.97 Q780.681 1524.62 781.699 1524.46 Q782.718 1524.27 783.736 1524.27 Q789.523 1524.27 792.903 1527.44 Q796.283 1530.62 796.283 1536.03 Q796.283 1541.61 792.81 1544.71 Q789.338 1547.79 783.019 1547.79 Q780.843 1547.79 778.574 1547.42 Q776.329 1547.05 773.922 1546.31 L773.922 1541.61 Q776.005 1542.74 778.227 1543.3 Q780.449 1543.86 782.926 1543.86 Q786.931 1543.86 789.269 1541.75 Q791.607 1539.64 791.607 1536.03 Q791.607 1532.42 789.269 1530.31 Q786.931 1528.21 782.926 1528.21 Q781.051 1528.21 779.176 1528.62 Q777.324 1529.04 775.38 1529.92 L775.38 1512.56 Z\" fill=\"#000000\" fill-rule=\"evenodd\" fill-opacity=\"1\" /><path clip-path=\"url(#clip020)\" d=\"M 0 0 M1247.27 1512.56 L1265.63 1512.56 L1265.63 1516.5 L1251.55 1516.5 L1251.55 1524.97 Q1252.57 1524.62 1253.59 1524.46 Q1254.61 1524.27 1255.63 1524.27 Q1261.41 1524.27 1264.79 1527.44 Q1268.17 1530.62 1268.17 1536.03 Q1268.17 1541.61 1264.7 1544.71 Q1261.23 1547.79 1254.91 1547.79 Q1252.73 1547.79 1250.46 1547.42 Q1248.22 1547.05 1245.81 1546.31 L1245.81 1541.61 Q1247.89 1542.74 1250.12 1543.3 Q1252.34 1543.86 1254.82 1543.86 Q1258.82 1543.86 1261.16 1541.75 Q1263.5 1539.64 1263.5 1536.03 Q1263.5 1532.42 1261.16 1530.31 Q1258.82 1528.21 1254.82 1528.21 Q1252.94 1528.21 1251.07 1528.62 Q1249.21 1529.04 1247.27 1529.92 L1247.27 1512.56 Z\" fill=\"#000000\" fill-rule=\"evenodd\" fill-opacity=\"1\" /><path clip-path=\"url(#clip020)\" d=\"M 0 0 M1273.24 1541.24 L1278.13 1541.24 L1278.13 1547.12 L1273.24 1547.12 L1273.24 1541.24 Z\" fill=\"#000000\" fill-rule=\"evenodd\" fill-opacity=\"1\" /><path clip-path=\"url(#clip020)\" d=\"M 0 0 M1293.2 1515.64 Q1289.58 1515.64 1287.76 1519.2 Q1285.95 1522.75 1285.95 1529.87 Q1285.95 1536.98 1287.76 1540.55 Q1289.58 1544.09 1293.2 1544.09 Q1296.83 1544.09 1298.64 1540.55 Q1300.46 1536.98 1300.46 1529.87 Q1300.46 1522.75 1298.64 1519.2 Q1296.83 1515.64 1293.2 1515.64 M1293.2 1511.93 Q1299.01 1511.93 1302.06 1516.54 Q1305.14 1521.12 1305.14 1529.87 Q1305.14 1538.6 1302.06 1543.21 Q1299.01 1547.79 1293.2 1547.79 Q1287.39 1547.79 1284.31 1543.21 Q1281.25 1538.6 1281.25 1529.87 Q1281.25 1521.12 1284.31 1516.54 Q1287.39 1511.93 1293.2 1511.93 Z\" fill=\"#000000\" fill-rule=\"evenodd\" fill-opacity=\"1\" /><path clip-path=\"url(#clip020)\" d=\"M 0 0 M1754.53 1512.56 L1776.75 1512.56 L1776.75 1514.55 L1764.21 1547.12 L1759.32 1547.12 L1771.13 1516.5 L1754.53 1516.5 L1754.53 1512.56 Z\" fill=\"#000000\" fill-rule=\"evenodd\" fill-opacity=\"1\" /><path clip-path=\"url(#clip020)\" d=\"M 0 0 M1781.82 1541.24 L1786.71 1541.24 L1786.71 1547.12 L1781.82 1547.12 L1781.82 1541.24 Z\" fill=\"#000000\" fill-rule=\"evenodd\" fill-opacity=\"1\" /><path clip-path=\"url(#clip020)\" d=\"M 0 0 M1791.82 1512.56 L1810.18 1512.56 L1810.18 1516.5 L1796.1 1516.5 L1796.1 1524.97 Q1797.12 1524.62 1798.14 1524.46 Q1799.16 1524.27 1800.18 1524.27 Q1805.96 1524.27 1809.34 1527.44 Q1812.72 1530.62 1812.72 1536.03 Q1812.72 1541.61 1809.25 1544.71 Q1805.78 1547.79 1799.46 1547.79 Q1797.28 1547.79 1795.02 1547.42 Q1792.77 1547.05 1790.36 1546.31 L1790.36 1541.61 Q1792.45 1542.74 1794.67 1543.3 Q1796.89 1543.86 1799.37 1543.86 Q1803.37 1543.86 1805.71 1541.75 Q1808.05 1539.64 1808.05 1536.03 Q1808.05 1532.42 1805.71 1530.31 Q1803.37 1528.21 1799.37 1528.21 Q1797.49 1528.21 1795.62 1528.62 Q1793.77 1529.04 1791.82 1529.92 L1791.82 1512.56 Z\" fill=\"#000000\" fill-rule=\"evenodd\" fill-opacity=\"1\" /><path clip-path=\"url(#clip020)\" d=\"M 0 0 M2250.17 1543.18 L2257.81 1543.18 L2257.81 1516.82 L2249.5 1518.49 L2249.5 1514.23 L2257.76 1512.56 L2262.44 1512.56 L2262.44 1543.18 L2270.08 1543.18 L2270.08 1547.12 L2250.17 1547.12 L2250.17 1543.18 Z\" fill=\"#000000\" fill-rule=\"evenodd\" fill-opacity=\"1\" /><path clip-path=\"url(#clip020)\" d=\"M 0 0 M2285.15 1515.64 Q2281.53 1515.64 2279.71 1519.2 Q2277.9 1522.75 2277.9 1529.87 Q2277.9 1536.98 2279.71 1540.55 Q2281.53 1544.09 2285.15 1544.09 Q2288.78 1544.09 2290.59 1540.55 Q2292.41 1536.98 2292.41 1529.87 Q2292.41 1522.75 2290.59 1519.2 Q2288.78 1515.64 2285.15 1515.64 M2285.15 1511.93 Q2290.96 1511.93 2294.01 1516.54 Q2297.09 1521.12 2297.09 1529.87 Q2297.09 1538.6 2294.01 1543.21 Q2290.96 1547.79 2285.15 1547.79 Q2279.34 1547.79 2276.26 1543.21 Q2273.2 1538.6 2273.2 1529.87 Q2273.2 1521.12 2276.26 1516.54 Q2279.34 1511.93 2285.15 1511.93 Z\" fill=\"#000000\" fill-rule=\"evenodd\" fill-opacity=\"1\" /><path clip-path=\"url(#clip020)\" d=\"M 0 0 M2302.16 1541.24 L2307.04 1541.24 L2307.04 1547.12 L2302.16 1547.12 L2302.16 1541.24 Z\" fill=\"#000000\" fill-rule=\"evenodd\" fill-opacity=\"1\" /><path clip-path=\"url(#clip020)\" d=\"M 0 0 M2322.11 1515.64 Q2318.5 1515.64 2316.67 1519.2 Q2314.87 1522.75 2314.87 1529.87 Q2314.87 1536.98 2316.67 1540.55 Q2318.5 1544.09 2322.11 1544.09 Q2325.75 1544.09 2327.55 1540.55 Q2329.38 1536.98 2329.38 1529.87 Q2329.38 1522.75 2327.55 1519.2 Q2325.75 1515.64 2322.11 1515.64 M2322.11 1511.93 Q2327.92 1511.93 2330.98 1516.54 Q2334.06 1521.12 2334.06 1529.87 Q2334.06 1538.6 2330.98 1543.21 Q2327.92 1547.79 2322.11 1547.79 Q2316.3 1547.79 2313.22 1543.21 Q2310.17 1538.6 2310.17 1529.87 Q2310.17 1521.12 2313.22 1516.54 Q2316.3 1511.93 2322.11 1511.93 Z\" fill=\"#000000\" fill-rule=\"evenodd\" fill-opacity=\"1\" /><polyline clip-path=\"url(#clip022)\" style=\"stroke:#000000; stroke-width:2; stroke-opacity:0.1; fill:none\" points=\"\n",
       "  198.195,1299.25 2352.76,1299.25 \n",
       "  \"/>\n",
       "<polyline clip-path=\"url(#clip022)\" style=\"stroke:#000000; stroke-width:2; stroke-opacity:0.1; fill:none\" points=\"\n",
       "  198.195,1094.98 2352.76,1094.98 \n",
       "  \"/>\n",
       "<polyline clip-path=\"url(#clip022)\" style=\"stroke:#000000; stroke-width:2; stroke-opacity:0.1; fill:none\" points=\"\n",
       "  198.195,890.704 2352.76,890.704 \n",
       "  \"/>\n",
       "<polyline clip-path=\"url(#clip022)\" style=\"stroke:#000000; stroke-width:2; stroke-opacity:0.1; fill:none\" points=\"\n",
       "  198.195,686.431 2352.76,686.431 \n",
       "  \"/>\n",
       "<polyline clip-path=\"url(#clip022)\" style=\"stroke:#000000; stroke-width:2; stroke-opacity:0.1; fill:none\" points=\"\n",
       "  198.195,482.157 2352.76,482.157 \n",
       "  \"/>\n",
       "<polyline clip-path=\"url(#clip022)\" style=\"stroke:#000000; stroke-width:2; stroke-opacity:0.1; fill:none\" points=\"\n",
       "  198.195,277.883 2352.76,277.883 \n",
       "  \"/>\n",
       "<polyline clip-path=\"url(#clip022)\" style=\"stroke:#000000; stroke-width:2; stroke-opacity:0.1; fill:none\" points=\"\n",
       "  198.195,73.6089 2352.76,73.6089 \n",
       "  \"/>\n",
       "<polyline clip-path=\"url(#clip020)\" style=\"stroke:#000000; stroke-width:4; stroke-opacity:1; fill:none\" points=\"\n",
       "  198.195,1486.45 198.195,47.2441 \n",
       "  \"/>\n",
       "<polyline clip-path=\"url(#clip020)\" style=\"stroke:#000000; stroke-width:4; stroke-opacity:1; fill:none\" points=\"\n",
       "  198.195,1299.25 224.05,1299.25 \n",
       "  \"/>\n",
       "<polyline clip-path=\"url(#clip020)\" style=\"stroke:#000000; stroke-width:4; stroke-opacity:1; fill:none\" points=\"\n",
       "  198.195,1094.98 224.05,1094.98 \n",
       "  \"/>\n",
       "<polyline clip-path=\"url(#clip020)\" style=\"stroke:#000000; stroke-width:4; stroke-opacity:1; fill:none\" points=\"\n",
       "  198.195,890.704 224.05,890.704 \n",
       "  \"/>\n",
       "<polyline clip-path=\"url(#clip020)\" style=\"stroke:#000000; stroke-width:4; stroke-opacity:1; fill:none\" points=\"\n",
       "  198.195,686.431 224.05,686.431 \n",
       "  \"/>\n",
       "<polyline clip-path=\"url(#clip020)\" style=\"stroke:#000000; stroke-width:4; stroke-opacity:1; fill:none\" points=\"\n",
       "  198.195,482.157 224.05,482.157 \n",
       "  \"/>\n",
       "<polyline clip-path=\"url(#clip020)\" style=\"stroke:#000000; stroke-width:4; stroke-opacity:1; fill:none\" points=\"\n",
       "  198.195,277.883 224.05,277.883 \n",
       "  \"/>\n",
       "<polyline clip-path=\"url(#clip020)\" style=\"stroke:#000000; stroke-width:4; stroke-opacity:1; fill:none\" points=\"\n",
       "  198.195,73.6089 224.05,73.6089 \n",
       "  \"/>\n",
       "<path clip-path=\"url(#clip020)\" d=\"M 0 0 M52.4736 1299.7 L82.1494 1299.7 L82.1494 1303.64 L52.4736 1303.64 L52.4736 1299.7 Z\" fill=\"#000000\" fill-rule=\"evenodd\" fill-opacity=\"1\" /><path clip-path=\"url(#clip020)\" d=\"M 0 0 M87.2651 1281.97 L105.621 1281.97 L105.621 1285.91 L91.5475 1285.91 L91.5475 1294.38 Q92.566 1294.03 93.5845 1293.87 Q94.603 1293.69 95.6215 1293.69 Q101.409 1293.69 104.788 1296.86 Q108.168 1300.03 108.168 1305.44 Q108.168 1311.02 104.696 1314.12 Q101.223 1317.2 94.9039 1317.2 Q92.728 1317.2 90.4595 1316.83 Q88.2141 1316.46 85.8068 1315.72 L85.8068 1311.02 Q87.8901 1312.16 90.1123 1312.71 Q92.3345 1313.27 94.8113 1313.27 Q98.8159 1313.27 101.154 1311.16 Q103.492 1309.06 103.492 1305.44 Q103.492 1301.83 101.154 1299.73 Q98.8159 1297.62 94.8113 1297.62 Q92.9363 1297.62 91.0614 1298.04 Q89.2095 1298.45 87.2651 1299.33 L87.2651 1281.97 Z\" fill=\"#000000\" fill-rule=\"evenodd\" fill-opacity=\"1\" /><path clip-path=\"url(#clip020)\" d=\"M 0 0 M123.237 1285.05 Q119.626 1285.05 117.797 1288.62 Q115.992 1292.16 115.992 1299.29 Q115.992 1306.39 117.797 1309.96 Q119.626 1313.5 123.237 1313.5 Q126.871 1313.5 128.677 1309.96 Q130.506 1306.39 130.506 1299.29 Q130.506 1292.16 128.677 1288.62 Q126.871 1285.05 123.237 1285.05 M123.237 1281.35 Q129.047 1281.35 132.103 1285.95 Q135.181 1290.54 135.181 1299.29 Q135.181 1308.01 132.103 1312.62 Q129.047 1317.2 123.237 1317.2 Q117.427 1317.2 114.348 1312.62 Q111.293 1308.01 111.293 1299.29 Q111.293 1290.54 114.348 1285.95 Q117.427 1281.35 123.237 1281.35 Z\" fill=\"#000000\" fill-rule=\"evenodd\" fill-opacity=\"1\" /><path clip-path=\"url(#clip020)\" d=\"M 0 0 M150.251 1285.05 Q146.64 1285.05 144.811 1288.62 Q143.006 1292.16 143.006 1299.29 Q143.006 1306.39 144.811 1309.96 Q146.64 1313.5 150.251 1313.5 Q153.885 1313.5 155.691 1309.96 Q157.519 1306.39 157.519 1299.29 Q157.519 1292.16 155.691 1288.62 Q153.885 1285.05 150.251 1285.05 M150.251 1281.35 Q156.061 1281.35 159.117 1285.95 Q162.195 1290.54 162.195 1299.29 Q162.195 1308.01 159.117 1312.62 Q156.061 1317.2 150.251 1317.2 Q144.441 1317.2 141.362 1312.62 Q138.306 1308.01 138.306 1299.29 Q138.306 1290.54 141.362 1285.95 Q144.441 1281.35 150.251 1281.35 Z\" fill=\"#000000\" fill-rule=\"evenodd\" fill-opacity=\"1\" /><path clip-path=\"url(#clip020)\" d=\"M 0 0 M50.9921 1095.43 L80.6679 1095.43 L80.6679 1099.36 L50.9921 1099.36 L50.9921 1095.43 Z\" fill=\"#000000\" fill-rule=\"evenodd\" fill-opacity=\"1\" /><path clip-path=\"url(#clip020)\" d=\"M 0 0 M98.5845 1081.77 L86.779 1100.22 L98.5845 1100.22 L98.5845 1081.77 M97.3576 1077.7 L103.237 1077.7 L103.237 1100.22 L108.168 1100.22 L108.168 1104.11 L103.237 1104.11 L103.237 1112.26 L98.5845 1112.26 L98.5845 1104.11 L82.9827 1104.11 L82.9827 1099.6 L97.3576 1077.7 Z\" fill=\"#000000\" fill-rule=\"evenodd\" fill-opacity=\"1\" /><path clip-path=\"url(#clip020)\" d=\"M 0 0 M123.237 1080.78 Q119.626 1080.78 117.797 1084.34 Q115.992 1087.88 115.992 1095.01 Q115.992 1102.12 117.797 1105.68 Q119.626 1109.23 123.237 1109.23 Q126.871 1109.23 128.677 1105.68 Q130.506 1102.12 130.506 1095.01 Q130.506 1087.88 128.677 1084.34 Q126.871 1080.78 123.237 1080.78 M123.237 1077.07 Q129.047 1077.07 132.103 1081.68 Q135.181 1086.26 135.181 1095.01 Q135.181 1103.74 132.103 1108.35 Q129.047 1112.93 123.237 1112.93 Q117.427 1112.93 114.348 1108.35 Q111.293 1103.74 111.293 1095.01 Q111.293 1086.26 114.348 1081.68 Q117.427 1077.07 123.237 1077.07 Z\" fill=\"#000000\" fill-rule=\"evenodd\" fill-opacity=\"1\" /><path clip-path=\"url(#clip020)\" d=\"M 0 0 M150.251 1080.78 Q146.64 1080.78 144.811 1084.34 Q143.006 1087.88 143.006 1095.01 Q143.006 1102.12 144.811 1105.68 Q146.64 1109.23 150.251 1109.23 Q153.885 1109.23 155.691 1105.68 Q157.519 1102.12 157.519 1095.01 Q157.519 1087.88 155.691 1084.34 Q153.885 1080.78 150.251 1080.78 M150.251 1077.07 Q156.061 1077.07 159.117 1081.68 Q162.195 1086.26 162.195 1095.01 Q162.195 1103.74 159.117 1108.35 Q156.061 1112.93 150.251 1112.93 Q144.441 1112.93 141.362 1108.35 Q138.306 1103.74 138.306 1095.01 Q138.306 1086.26 141.362 1081.68 Q144.441 1077.07 150.251 1077.07 Z\" fill=\"#000000\" fill-rule=\"evenodd\" fill-opacity=\"1\" /><path clip-path=\"url(#clip020)\" d=\"M 0 0 M52.1264 891.156 L81.8021 891.156 L81.8021 895.091 L52.1264 895.091 L52.1264 891.156 Z\" fill=\"#000000\" fill-rule=\"evenodd\" fill-opacity=\"1\" /><path clip-path=\"url(#clip020)\" d=\"M 0 0 M101.038 889.35 Q104.395 890.068 106.27 892.336 Q108.168 894.605 108.168 897.938 Q108.168 903.054 104.649 905.855 Q101.131 908.656 94.6493 908.656 Q92.4734 908.656 90.1586 908.216 Q87.8669 907.799 85.4132 906.943 L85.4132 902.429 Q87.3577 903.563 89.6725 904.142 Q91.9873 904.721 94.5104 904.721 Q98.9085 904.721 101.2 902.984 Q103.515 901.248 103.515 897.938 Q103.515 894.883 101.362 893.17 Q99.2326 891.434 95.4132 891.434 L91.3854 891.434 L91.3854 887.591 L95.5984 887.591 Q99.0474 887.591 100.876 886.225 Q102.705 884.836 102.705 882.244 Q102.705 879.582 100.807 878.17 Q98.9317 876.735 95.4132 876.735 Q93.4919 876.735 91.2928 877.151 Q89.0938 877.568 86.4549 878.448 L86.4549 874.281 Q89.1169 873.54 91.4317 873.17 Q93.7697 872.799 95.8298 872.799 Q101.154 872.799 104.256 875.23 Q107.358 877.637 107.358 881.758 Q107.358 884.628 105.714 886.619 Q104.071 888.586 101.038 889.35 Z\" fill=\"#000000\" fill-rule=\"evenodd\" fill-opacity=\"1\" /><path clip-path=\"url(#clip020)\" d=\"M 0 0 M123.237 876.503 Q119.626 876.503 117.797 880.068 Q115.992 883.61 115.992 890.739 Q115.992 897.846 117.797 901.41 Q119.626 904.952 123.237 904.952 Q126.871 904.952 128.677 901.41 Q130.506 897.846 130.506 890.739 Q130.506 883.61 128.677 880.068 Q126.871 876.503 123.237 876.503 M123.237 872.799 Q129.047 872.799 132.103 877.406 Q135.181 881.989 135.181 890.739 Q135.181 899.466 132.103 904.072 Q129.047 908.656 123.237 908.656 Q117.427 908.656 114.348 904.072 Q111.293 899.466 111.293 890.739 Q111.293 881.989 114.348 877.406 Q117.427 872.799 123.237 872.799 Z\" fill=\"#000000\" fill-rule=\"evenodd\" fill-opacity=\"1\" /><path clip-path=\"url(#clip020)\" d=\"M 0 0 M150.251 876.503 Q146.64 876.503 144.811 880.068 Q143.006 883.61 143.006 890.739 Q143.006 897.846 144.811 901.41 Q146.64 904.952 150.251 904.952 Q153.885 904.952 155.691 901.41 Q157.519 897.846 157.519 890.739 Q157.519 883.61 155.691 880.068 Q153.885 876.503 150.251 876.503 M150.251 872.799 Q156.061 872.799 159.117 877.406 Q162.195 881.989 162.195 890.739 Q162.195 899.466 159.117 904.072 Q156.061 908.656 150.251 908.656 Q144.441 908.656 141.362 904.072 Q138.306 899.466 138.306 890.739 Q138.306 881.989 141.362 877.406 Q144.441 872.799 150.251 872.799 Z\" fill=\"#000000\" fill-rule=\"evenodd\" fill-opacity=\"1\" /><path clip-path=\"url(#clip020)\" d=\"M 0 0 M53.0754 686.882 L82.7512 686.882 L82.7512 690.817 L53.0754 690.817 L53.0754 686.882 Z\" fill=\"#000000\" fill-rule=\"evenodd\" fill-opacity=\"1\" /><path clip-path=\"url(#clip020)\" d=\"M 0 0 M91.8484 699.775 L108.168 699.775 L108.168 703.711 L86.2234 703.711 L86.2234 699.775 Q88.8854 697.021 93.4688 692.391 Q98.0752 687.738 99.2558 686.396 Q101.501 683.873 102.381 682.137 Q103.284 680.377 103.284 678.688 Q103.284 675.933 101.339 674.197 Q99.4178 672.461 96.316 672.461 Q94.1169 672.461 91.6632 673.225 Q89.2327 673.988 86.4549 675.539 L86.4549 670.817 Q89.279 669.683 91.7326 669.104 Q94.1863 668.526 96.2234 668.526 Q101.594 668.526 104.788 671.211 Q107.983 673.896 107.983 678.387 Q107.983 680.516 107.172 682.437 Q106.385 684.336 104.279 686.928 Q103.7 687.6 100.598 690.817 Q97.4965 694.012 91.8484 699.775 Z\" fill=\"#000000\" fill-rule=\"evenodd\" fill-opacity=\"1\" /><path clip-path=\"url(#clip020)\" d=\"M 0 0 M123.237 672.229 Q119.626 672.229 117.797 675.794 Q115.992 679.336 115.992 686.465 Q115.992 693.572 117.797 697.136 Q119.626 700.678 123.237 700.678 Q126.871 700.678 128.677 697.136 Q130.506 693.572 130.506 686.465 Q130.506 679.336 128.677 675.794 Q126.871 672.229 123.237 672.229 M123.237 668.526 Q129.047 668.526 132.103 673.132 Q135.181 677.715 135.181 686.465 Q135.181 695.192 132.103 699.799 Q129.047 704.382 123.237 704.382 Q117.427 704.382 114.348 699.799 Q111.293 695.192 111.293 686.465 Q111.293 677.715 114.348 673.132 Q117.427 668.526 123.237 668.526 Z\" fill=\"#000000\" fill-rule=\"evenodd\" fill-opacity=\"1\" /><path clip-path=\"url(#clip020)\" d=\"M 0 0 M150.251 672.229 Q146.64 672.229 144.811 675.794 Q143.006 679.336 143.006 686.465 Q143.006 693.572 144.811 697.136 Q146.64 700.678 150.251 700.678 Q153.885 700.678 155.691 697.136 Q157.519 693.572 157.519 686.465 Q157.519 679.336 155.691 675.794 Q153.885 672.229 150.251 672.229 M150.251 668.526 Q156.061 668.526 159.117 673.132 Q162.195 677.715 162.195 686.465 Q162.195 695.192 159.117 699.799 Q156.061 704.382 150.251 704.382 Q144.441 704.382 141.362 699.799 Q138.306 695.192 138.306 686.465 Q138.306 677.715 141.362 673.132 Q144.441 668.526 150.251 668.526 Z\" fill=\"#000000\" fill-rule=\"evenodd\" fill-opacity=\"1\" /><path clip-path=\"url(#clip020)\" d=\"M 0 0 M52.7051 482.608 L82.3808 482.608 L82.3808 486.543 L52.7051 486.543 L52.7051 482.608 Z\" fill=\"#000000\" fill-rule=\"evenodd\" fill-opacity=\"1\" /><path clip-path=\"url(#clip020)\" d=\"M 0 0 M88.2604 495.501 L95.8993 495.501 L95.8993 469.136 L87.5892 470.803 L87.5892 466.543 L95.853 464.877 L100.529 464.877 L100.529 495.501 L108.168 495.501 L108.168 499.437 L88.2604 499.437 L88.2604 495.501 Z\" fill=\"#000000\" fill-rule=\"evenodd\" fill-opacity=\"1\" /><path clip-path=\"url(#clip020)\" d=\"M 0 0 M123.237 467.955 Q119.626 467.955 117.797 471.52 Q115.992 475.062 115.992 482.191 Q115.992 489.298 117.797 492.863 Q119.626 496.404 123.237 496.404 Q126.871 496.404 128.677 492.863 Q130.506 489.298 130.506 482.191 Q130.506 475.062 128.677 471.52 Q126.871 467.955 123.237 467.955 M123.237 464.252 Q129.047 464.252 132.103 468.858 Q135.181 473.441 135.181 482.191 Q135.181 490.918 132.103 495.525 Q129.047 500.108 123.237 500.108 Q117.427 500.108 114.348 495.525 Q111.293 490.918 111.293 482.191 Q111.293 473.441 114.348 468.858 Q117.427 464.252 123.237 464.252 Z\" fill=\"#000000\" fill-rule=\"evenodd\" fill-opacity=\"1\" /><path clip-path=\"url(#clip020)\" d=\"M 0 0 M150.251 467.955 Q146.64 467.955 144.811 471.52 Q143.006 475.062 143.006 482.191 Q143.006 489.298 144.811 492.863 Q146.64 496.404 150.251 496.404 Q153.885 496.404 155.691 492.863 Q157.519 489.298 157.519 482.191 Q157.519 475.062 155.691 471.52 Q153.885 467.955 150.251 467.955 M150.251 464.252 Q156.061 464.252 159.117 468.858 Q162.195 473.441 162.195 482.191 Q162.195 490.918 159.117 495.525 Q156.061 500.108 150.251 500.108 Q144.441 500.108 141.362 495.525 Q138.306 490.918 138.306 482.191 Q138.306 473.441 141.362 468.858 Q144.441 464.252 150.251 464.252 Z\" fill=\"#000000\" fill-rule=\"evenodd\" fill-opacity=\"1\" /><path clip-path=\"url(#clip020)\" d=\"M 0 0 M150.251 263.681 Q146.64 263.681 144.811 267.246 Q143.006 270.788 143.006 277.918 Q143.006 285.024 144.811 288.589 Q146.64 292.13 150.251 292.13 Q153.885 292.13 155.691 288.589 Q157.519 285.024 157.519 277.918 Q157.519 270.788 155.691 267.246 Q153.885 263.681 150.251 263.681 M150.251 259.978 Q156.061 259.978 159.117 264.584 Q162.195 269.168 162.195 277.918 Q162.195 286.644 159.117 291.251 Q156.061 295.834 150.251 295.834 Q144.441 295.834 141.362 291.251 Q138.306 286.644 138.306 277.918 Q138.306 269.168 141.362 264.584 Q144.441 259.978 150.251 259.978 Z\" fill=\"#000000\" fill-rule=\"evenodd\" fill-opacity=\"1\" /><path clip-path=\"url(#clip020)\" d=\"M 0 0 M88.2604 86.9538 L95.8993 86.9538 L95.8993 60.5882 L87.5892 62.2548 L87.5892 57.9956 L95.853 56.3289 L100.529 56.3289 L100.529 86.9538 L108.168 86.9538 L108.168 90.8889 L88.2604 90.8889 L88.2604 86.9538 Z\" fill=\"#000000\" fill-rule=\"evenodd\" fill-opacity=\"1\" /><path clip-path=\"url(#clip020)\" d=\"M 0 0 M123.237 59.4076 Q119.626 59.4076 117.797 62.9724 Q115.992 66.5141 115.992 73.6436 Q115.992 80.7501 117.797 84.3149 Q119.626 87.8565 123.237 87.8565 Q126.871 87.8565 128.677 84.3149 Q130.506 80.7501 130.506 73.6436 Q130.506 66.5141 128.677 62.9724 Q126.871 59.4076 123.237 59.4076 M123.237 55.7039 Q129.047 55.7039 132.103 60.3104 Q135.181 64.8937 135.181 73.6436 Q135.181 82.3705 132.103 86.9769 Q129.047 91.5602 123.237 91.5602 Q117.427 91.5602 114.348 86.9769 Q111.293 82.3705 111.293 73.6436 Q111.293 64.8937 114.348 60.3104 Q117.427 55.7039 123.237 55.7039 Z\" fill=\"#000000\" fill-rule=\"evenodd\" fill-opacity=\"1\" /><path clip-path=\"url(#clip020)\" d=\"M 0 0 M150.251 59.4076 Q146.64 59.4076 144.811 62.9724 Q143.006 66.5141 143.006 73.6436 Q143.006 80.7501 144.811 84.3149 Q146.64 87.8565 150.251 87.8565 Q153.885 87.8565 155.691 84.3149 Q157.519 80.7501 157.519 73.6436 Q157.519 66.5141 155.691 62.9724 Q153.885 59.4076 150.251 59.4076 M150.251 55.7039 Q156.061 55.7039 159.117 60.3104 Q162.195 64.8937 162.195 73.6436 Q162.195 82.3705 159.117 86.9769 Q156.061 91.5602 150.251 91.5602 Q144.441 91.5602 141.362 86.9769 Q138.306 82.3705 138.306 73.6436 Q138.306 64.8937 141.362 60.3104 Q144.441 55.7039 150.251 55.7039 Z\" fill=\"#000000\" fill-rule=\"evenodd\" fill-opacity=\"1\" /><polyline clip-path=\"url(#clip022)\" style=\"stroke:#009af9; stroke-width:4; stroke-opacity:1; fill:none\" points=\"\n",
       "  259.173,87.9763 279.023,101.236 462.566,223.838 572.867,297.517 666.125,359.812 767.43,427.482 860.824,489.867 960.952,556.751 1076.96,634.242 1180.06,703.107 \n",
       "  1270.46,763.496 1369.03,829.335 1468.18,895.566 1577.8,968.793 1682.11,1038.47 1790.56,1110.91 1881.85,1171.89 1993.31,1246.35 2098.09,1316.33 2265.95,1428.46 \n",
       "  2291.78,1445.72 \n",
       "  \"/>\n",
       "<path clip-path=\"url(#clip020)\" d=\"\n",
       "M1990.52 216.178 L2280.94 216.178 L2280.94 95.2176 L1990.52 95.2176  Z\n",
       "  \" fill=\"#ffffff\" fill-rule=\"evenodd\" fill-opacity=\"1\"/>\n",
       "<polyline clip-path=\"url(#clip020)\" style=\"stroke:#000000; stroke-width:4; stroke-opacity:1; fill:none\" points=\"\n",
       "  1990.52,216.178 2280.94,216.178 2280.94,95.2176 1990.52,95.2176 1990.52,216.178 \n",
       "  \"/>\n",
       "<polyline clip-path=\"url(#clip020)\" style=\"stroke:#009af9; stroke-width:4; stroke-opacity:1; fill:none\" points=\"\n",
       "  2014.46,155.698 2158.1,155.698 \n",
       "  \"/>\n",
       "<path clip-path=\"url(#clip020)\" d=\"M 0 0 M2195.88 175.385 Q2194.08 180.015 2192.36 181.427 Q2190.65 182.839 2187.78 182.839 L2184.38 182.839 L2184.38 179.274 L2186.88 179.274 Q2188.64 179.274 2189.61 178.44 Q2190.58 177.607 2191.76 174.505 L2192.53 172.561 L2182.04 147.052 L2186.55 147.052 L2194.66 167.329 L2202.76 147.052 L2207.27 147.052 L2195.88 175.385 Z\" fill=\"#000000\" fill-rule=\"evenodd\" fill-opacity=\"1\" /><path clip-path=\"url(#clip020)\" d=\"M 0 0 M2213.15 169.042 L2220.79 169.042 L2220.79 142.677 L2212.48 144.343 L2212.48 140.084 L2220.74 138.418 L2225.42 138.418 L2225.42 169.042 L2233.06 169.042 L2233.06 172.978 L2213.15 172.978 L2213.15 169.042 Z\" fill=\"#000000\" fill-rule=\"evenodd\" fill-opacity=\"1\" /></svg>\n"
      ]
     },
     "execution_count": 54,
     "metadata": {},
     "output_type": "execute_result"
    }
   ],
   "source": [
    "plot(v_x(5.6,3.7,65,40),0,10)"
   ]
  },
  {
   "cell_type": "code",
   "execution_count": 55,
   "id": "transsexual-purchase",
   "metadata": {},
   "outputs": [
    {
     "ename": "LoadError",
     "evalue": "\u001b[91mMethodError: no method matching +(::StepRangeLen{Float64,Base.TwicePrecision{Float64},Base.TwicePrecision{Float64}}, ::Float64)\u001b[39m\n\u001b[91mFor element-wise addition, use broadcasting with dot syntax: array .+ scalar\u001b[39m\n\u001b[91m\u001b[0mClosest candidates are:\u001b[39m\n\u001b[91m\u001b[0m  +(::Any, ::Any, \u001b[91m::Any\u001b[39m, \u001b[91m::Any...\u001b[39m) at operators.jl:538\u001b[39m\n\u001b[91m\u001b[0m  +(\u001b[91m::Bool\u001b[39m, ::T) where T<:AbstractFloat at bool.jl:103\u001b[39m\n\u001b[91m\u001b[0m  +(\u001b[91m::Complex{Bool}\u001b[39m, ::Real) at complex.jl:301\u001b[39m\n\u001b[91m\u001b[0m  ...\u001b[39m",
     "output_type": "error",
     "traceback": [
      "\u001b[91mMethodError: no method matching +(::StepRangeLen{Float64,Base.TwicePrecision{Float64},Base.TwicePrecision{Float64}}, ::Float64)\u001b[39m\n\u001b[91mFor element-wise addition, use broadcasting with dot syntax: array .+ scalar\u001b[39m\n\u001b[91m\u001b[0mClosest candidates are:\u001b[39m\n\u001b[91m\u001b[0m  +(::Any, ::Any, \u001b[91m::Any\u001b[39m, \u001b[91m::Any...\u001b[39m) at operators.jl:538\u001b[39m\n\u001b[91m\u001b[0m  +(\u001b[91m::Bool\u001b[39m, ::T) where T<:AbstractFloat at bool.jl:103\u001b[39m\n\u001b[91m\u001b[0m  +(\u001b[91m::Complex{Bool}\u001b[39m, ::Real) at complex.jl:301\u001b[39m\n\u001b[91m\u001b[0m  ...\u001b[39m",
      "",
      "Stacktrace:",
      " [1] v_x_again(::Float64, ::Float64, ::Int64, ::Int64) at .\\In[53]:9",
      " [2] top-level scope at In[55]:1",
      " [3] include_string(::Function, ::Module, ::String, ::String) at .\\loading.jl:1091"
     ]
    }
   ],
   "source": [
    "plot(v_x_again(5.6,3.7,65,40))"
   ]
  },
  {
   "cell_type": "code",
   "execution_count": null,
   "id": "binary-grass",
   "metadata": {},
   "outputs": [],
   "source": []
  },
  {
   "cell_type": "code",
   "execution_count": null,
   "id": "correct-furniture",
   "metadata": {},
   "outputs": [],
   "source": []
  }
 ],
 "metadata": {
  "kernelspec": {
   "display_name": "Julia 1.5.3",
   "language": "julia",
   "name": "julia-1.5"
  },
  "language_info": {
   "file_extension": ".jl",
   "mimetype": "application/julia",
   "name": "julia",
   "version": "1.5.3"
  }
 },
 "nbformat": 4,
 "nbformat_minor": 5
}
