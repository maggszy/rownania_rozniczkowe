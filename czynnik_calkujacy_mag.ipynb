{
 "cells": [
  {
   "cell_type": "markdown",
   "metadata": {},
   "source": [
    "do wyjebania będzie,bo się nie sprawdza"
   ]
  },
  {
   "cell_type": "code",
   "execution_count": 4,
   "metadata": {},
   "outputs": [],
   "source": [
    "from scipy.integrate import odeint\n",
    "import numpy as np\n",
    "import matplotlib.pyplot as plt\n",
    "import sympy as sp"
   ]
  },
  {
   "cell_type": "code",
   "execution_count": 29,
   "metadata": {},
   "outputs": [
    {
     "data": {
      "text/latex": [
       "$\\displaystyle - \\cos{\\left(60 \\right)} \\operatorname{Ci}{\\left(60 e^{- t} \\right)} - \\sin{\\left(60 \\right)} \\operatorname{Si}{\\left(60 e^{- t} \\right)}$"
      ],
      "text/plain": [
       "-cos(60)*Ci(60*exp(-t)) - sin(60)*Si(60*exp(-t))"
      ]
     },
     "execution_count": 29,
     "metadata": {},
     "output_type": "execute_result"
    }
   ],
   "source": [
    "t=sp.Symbol('t')\n",
    "sp.integrate(sp.cos(omega0*(1-sp.exp(-t/tał))),t)"
   ]
  },
  {
   "cell_type": "code",
   "execution_count": 14,
   "metadata": {},
   "outputs": [],
   "source": [
    "def x_prime(v,b): #pochodna x\n",
    "    dxdb= v*sp.cos(b)\n",
    "    return dxdb\n",
    "    \n",
    "def y_prime(v,b): #pierwsza pochodna y\n",
    "    dydb= v*sp.sin(b)\n",
    "    return dydb"
   ]
  },
  {
   "cell_type": "code",
   "execution_count": null,
   "metadata": {},
   "outputs": [],
   "source": [
    "time=3\n",
    "amount= 25\n",
    "v=26.5\n",
    "b=0.5\n",
    "u0=0\n",
    "k1=1\n",
    "k2=2\n",
    "omega0=60\n",
    "tał=1\n",
    "dt=0.0001\n",
    "m=50\n",
    "x_bis(v,b,k1,k2,omega0,tał)"
   ]
  },
  {
   "cell_type": "code",
   "execution_count": 34,
   "metadata": {},
   "outputs": [
    {
     "data": {
      "text/latex": [
       "$\\displaystyle 0$"
      ],
      "text/plain": [
       "0"
      ]
     },
     "execution_count": 34,
     "metadata": {},
     "output_type": "execute_result"
    }
   ],
   "source": [
    "y_pr=y_prime(v,b)\n",
    "k=k1+(k2-k1)/(sp.cos(omega0))*(-y_prime(v,b)/v)\n",
    "omega=omega0*(1-sp.exp(-t/tał))\n",
    "s=k*v/m\n",
    "mi=sp.integrate(sp.cos(omega0*(1-sp.exp(-t/tał))),t)\n",
    "di=sp.integrate(y_pr*sp.sin(omega),t)\n",
    "sp.integrate((1/sp.exp(s*mi))*(-1)*s*di,t)"
   ]
  },
  {
   "cell_type": "code",
   "execution_count": 35,
   "metadata": {},
   "outputs": [],
   "source": [
    "def x_bis(v,b,k1,k2,omega0,tał):\n",
    "    \n",
    "    y_pr=y_prime(v,b)\n",
    "    k=k1+(k2-k1)/(sp.cos(omega0))*(-y_prime(v,b)/v)\n",
    "    omega=omega0*(1-sp.exp(-t/tał))\n",
    "    s=k*v/m\n",
    "    mi=sp.integrate(sp.cos(omega),t)\n",
    "    di = sp.integrate(y_pr*sp.sin(omega),t)\n",
    "    \n",
    "    x = sp.integrate((1/sp.exp(s*mi))*(-1)*s*di,t)\n",
    "    return x"
   ]
  },
  {
   "cell_type": "code",
   "execution_count": null,
   "metadata": {},
   "outputs": [],
   "source": []
  }
 ],
 "metadata": {
  "kernelspec": {
   "display_name": "Python 3",
   "language": "python",
   "name": "python3"
  },
  "language_info": {
   "codemirror_mode": {
    "name": "ipython",
    "version": 3
   },
   "file_extension": ".py",
   "mimetype": "text/x-python",
   "name": "python",
   "nbconvert_exporter": "python",
   "pygments_lexer": "ipython3",
   "version": "3.8.5"
  }
 },
 "nbformat": 4,
 "nbformat_minor": 4
}
