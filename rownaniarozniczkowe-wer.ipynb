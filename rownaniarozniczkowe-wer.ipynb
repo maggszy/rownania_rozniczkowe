{
 "cells": [
  {
   "cell_type": "code",
   "execution_count": 24,
   "id": "unsigned-portuguese",
   "metadata": {},
   "outputs": [],
   "source": [
    "from scipy.integrate import odeint\n",
    "import numpy as np\n",
    "import matplotlib.pyplot as plt"
   ]
  },
  {
   "cell_type": "markdown",
   "id": "smoking-forward",
   "metadata": {},
   "source": [
    "(6)"
   ]
  },
  {
   "cell_type": "code",
   "execution_count": 25,
   "id": "active-scoop",
   "metadata": {},
   "outputs": [],
   "source": [
    "def x_prime(v,b): #pochodna x\n",
    "    dxdb= v*np.cos(b)\n",
    "    return dxdb\n",
    "    \n",
    "def y_prime(v,b): #pierwsza pochodna y\n",
    "    dydb= v*np.sin(b)\n",
    "    return dydb"
   ]
  },
  {
   "cell_type": "code",
   "execution_count": 26,
   "id": "scientific-planner",
   "metadata": {},
   "outputs": [
    {
     "data": {
      "text/plain": [
       "-0.8322936730942848"
      ]
     },
     "execution_count": 26,
     "metadata": {},
     "output_type": "execute_result"
    }
   ],
   "source": [
    "x_prime(2,2)"
   ]
  },
  {
   "cell_type": "markdown",
   "id": "exotic-jamaica",
   "metadata": {},
   "source": [
    "(7)\n",
    "dlaczego nie k=k1+..."
   ]
  },
  {
   "cell_type": "code",
   "execution_count": 146,
   "id": "unavailable-argentina",
   "metadata": {},
   "outputs": [],
   "source": [
    "t = np.linspace(0,2,21)\n",
    "def x_bis(v,b,k1,k2,omega0,t,tał): #2pochodna x\n",
    "    k=k1+(k2-k1)/(np.cos(omega0))*(-y_prime(v,b)/v)    #brak k=k1+...?\n",
    "    w=k*v**2\n",
    "    omega=omega0(1-np.exp(-t/tał))\n",
    "    \n",
    "    ddx=-(1/m)*w*np.cos(omega+b)\n",
    "    return ddx"
   ]
  },
  {
   "cell_type": "code",
   "execution_count": 28,
   "id": "appointed-ceiling",
   "metadata": {},
   "outputs": [],
   "source": [
    "def y_bis(v,b,k1,k2,omega0,t,tał): #2pochodna y\n",
    "    g=9.81\n",
    "    k=k1+(k2-k1)/(np.cos(omega0))*(-y_prime(v,b)/v)\n",
    "    w=k*v**2\n",
    "    omega=omega0(1-np.exp(-t/tał))\n",
    "    \n",
    "    ddy=(1/m)*w*np.sin(omega+b)- m*g\n",
    "    return ddy"
   ]
  },
  {
   "cell_type": "markdown",
   "id": "considered-sweden",
   "metadata": {},
   "source": [
    "O co tu wgl chodzi"
   ]
  },
  {
   "cell_type": "code",
   "execution_count": 29,
   "id": "exempt-petersburg",
   "metadata": {},
   "outputs": [],
   "source": [
    "def x_prime_fun(v,b): #pochodna x\n",
    "    dxdb= lambda y,t: v*np.cos(b) #działa ale to t tak z dupy\n",
    "    return dxdb\n",
    "    \n",
    "def y_prime_fun(v,b): #pierwsza pochodna y\n",
    "    dydb= lambda y,t: v*np.sin(b)\n",
    "    return dydb"
   ]
  },
  {
   "cell_type": "code",
   "execution_count": 30,
   "id": "periodic-spring",
   "metadata": {},
   "outputs": [
    {
     "ename": "NameError",
     "evalue": "name 'x_prime2' is not defined",
     "output_type": "error",
     "traceback": [
      "\u001b[1;31m---------------------------------------------------------------------------\u001b[0m",
      "\u001b[1;31mNameError\u001b[0m                                 Traceback (most recent call last)",
      "\u001b[1;32m<ipython-input-30-969d0c2061ec>\u001b[0m in \u001b[0;36m<module>\u001b[1;34m\u001b[0m\n\u001b[1;32m----> 1\u001b[1;33m \u001b[0mx_prime2\u001b[0m\u001b[1;33m(\u001b[0m\u001b[1;36m2\u001b[0m\u001b[1;33m,\u001b[0m\u001b[1;36m2\u001b[0m\u001b[1;33m)\u001b[0m\u001b[1;33m\u001b[0m\u001b[1;33m\u001b[0m\u001b[0m\n\u001b[0m",
      "\u001b[1;31mNameError\u001b[0m: name 'x_prime2' is not defined"
     ]
    }
   ],
   "source": [
    "x_prime2(2,2)"
   ]
  },
  {
   "cell_type": "markdown",
   "id": "flying-argentina",
   "metadata": {},
   "source": [
    "dalej bląd z k i dlaczego w=k*v a nie **v"
   ]
  },
  {
   "cell_type": "code",
   "execution_count": null,
   "id": "industrial-portland",
   "metadata": {},
   "outputs": [],
   "source": []
  },
  {
   "cell_type": "code",
   "execution_count": 150,
   "id": "focal-thompson",
   "metadata": {},
   "outputs": [],
   "source": [
    "f=y_prime(v,b)\n",
    "z=x_prime(v,b)\n",
    "\n",
    "def x_bis_fun(v,b,k1,k2,omega0,t,tał): #2pochodna x\n",
    "\n",
    "    k=k1+(k2-k1)/(np.cos(omega0))*(-1)*(f/ v)\n",
    "    w=k*v**2\n",
    "    omega=omega0*(1-np.exp(-t/tał))\n",
    "    \n",
    "    ddx= lambda y,t: -(1/m)*w*(z*np.cos(omega)+f*np.sin(omega))\n",
    "    return ddx\n",
    "\n",
    "def y_bis_fun(v,b,k1,k2,omega0,t,tał): #2pochodna y\n",
    "    g=9.81\n",
    "    k=k1+(k2-k1)/(np.cos(omega0))*(-1)*(f/v)\n",
    "    w=k*v**2\n",
    "    omega=omega0*(1-np.exp(-t/tał))\n",
    "    \n",
    "    ddy=(1/m)*w*np.sin(omega+b)- m*g\n",
    "    return ddy"
   ]
  },
  {
   "cell_type": "code",
   "execution_count": 43,
   "id": "tribal-ground",
   "metadata": {},
   "outputs": [],
   "source": [
    "def odeEuler(f,y0,t):\n",
    "    \"\"\"\n",
    "    approximate the solution of y'=f(y,t) by Euler's method\n",
    "    \"\"\"\n",
    "    y=np.zeros(len(t))\n",
    "    y[0]=y0\n",
    "    for n in range(0,len(t)-1):\n",
    "        y[n+1] = y[n] + f(y[n],t[n])*(t[n+1] - t[n])\n",
    "    return y"
   ]
  },
  {
   "cell_type": "code",
   "execution_count": 93,
   "id": "reported-beads",
   "metadata": {},
   "outputs": [],
   "source": [
    "def ode2Euler(time,amount,v,b,u0,k1,k2,omega0,tał): #czas, ile próbek czasu, prędkość, kąt nachylenia v do poziomu, war początkowy\n",
    "    t=np.linspace(0,time,amount)\n",
    "    f=x_prime(v,b)\n",
    "    u=odeEuler(f,0,t)\n",
    "    \n",
    "    f2=x_bis_fun(v,b,k1,k2,omega0,t,tał)\n",
    "    uu=odeEuler(f2,0,t)\n",
    "    \n",
    "    return uu\n",
    "    "
   ]
  },
  {
   "cell_type": "code",
   "execution_count": 94,
   "id": "liked-miller",
   "metadata": {},
   "outputs": [
    {
     "ename": "TypeError",
     "evalue": "'numpy.float64' object is not callable",
     "output_type": "error",
     "traceback": [
      "\u001b[1;31m---------------------------------------------------------------------------\u001b[0m",
      "\u001b[1;31mTypeError\u001b[0m                                 Traceback (most recent call last)",
      "\u001b[1;32m<ipython-input-94-24eee9f60aa5>\u001b[0m in \u001b[0;36m<module>\u001b[1;34m\u001b[0m\n\u001b[0;32m      8\u001b[0m \u001b[0momega0\u001b[0m\u001b[1;33m=\u001b[0m\u001b[1;36m60\u001b[0m\u001b[1;33m\u001b[0m\u001b[1;33m\u001b[0m\u001b[0m\n\u001b[0;32m      9\u001b[0m \u001b[0mtał\u001b[0m\u001b[1;33m=\u001b[0m\u001b[1;36m1\u001b[0m\u001b[1;33m\u001b[0m\u001b[1;33m\u001b[0m\u001b[0m\n\u001b[1;32m---> 10\u001b[1;33m \u001b[0mode2Euler\u001b[0m\u001b[1;33m(\u001b[0m\u001b[0mtime\u001b[0m\u001b[1;33m,\u001b[0m\u001b[0mamount\u001b[0m\u001b[1;33m,\u001b[0m\u001b[0mv\u001b[0m\u001b[1;33m,\u001b[0m\u001b[0mb\u001b[0m\u001b[1;33m,\u001b[0m\u001b[0mu0\u001b[0m\u001b[1;33m,\u001b[0m\u001b[0mk1\u001b[0m\u001b[1;33m,\u001b[0m\u001b[0mk2\u001b[0m\u001b[1;33m,\u001b[0m\u001b[0momega0\u001b[0m\u001b[1;33m,\u001b[0m\u001b[0mtał\u001b[0m\u001b[1;33m)\u001b[0m\u001b[1;33m\u001b[0m\u001b[1;33m\u001b[0m\u001b[0m\n\u001b[0m",
      "\u001b[1;32m<ipython-input-93-f8b876c5ac55>\u001b[0m in \u001b[0;36mode2Euler\u001b[1;34m(time, amount, v, b, u0, k1, k2, omega0, tał)\u001b[0m\n\u001b[0;32m      2\u001b[0m     \u001b[0mt\u001b[0m\u001b[1;33m=\u001b[0m\u001b[0mnp\u001b[0m\u001b[1;33m.\u001b[0m\u001b[0mlinspace\u001b[0m\u001b[1;33m(\u001b[0m\u001b[1;36m0\u001b[0m\u001b[1;33m,\u001b[0m\u001b[0mtime\u001b[0m\u001b[1;33m,\u001b[0m\u001b[0mamount\u001b[0m\u001b[1;33m)\u001b[0m\u001b[1;33m\u001b[0m\u001b[1;33m\u001b[0m\u001b[0m\n\u001b[0;32m      3\u001b[0m     \u001b[0mf\u001b[0m\u001b[1;33m=\u001b[0m\u001b[0mx_prime\u001b[0m\u001b[1;33m(\u001b[0m\u001b[0mv\u001b[0m\u001b[1;33m,\u001b[0m\u001b[0mb\u001b[0m\u001b[1;33m)\u001b[0m\u001b[1;33m\u001b[0m\u001b[1;33m\u001b[0m\u001b[0m\n\u001b[1;32m----> 4\u001b[1;33m     \u001b[0mu\u001b[0m\u001b[1;33m=\u001b[0m\u001b[0modeEuler\u001b[0m\u001b[1;33m(\u001b[0m\u001b[0mf\u001b[0m\u001b[1;33m,\u001b[0m\u001b[1;36m0\u001b[0m\u001b[1;33m,\u001b[0m\u001b[0mt\u001b[0m\u001b[1;33m)\u001b[0m\u001b[1;33m\u001b[0m\u001b[1;33m\u001b[0m\u001b[0m\n\u001b[0m\u001b[0;32m      5\u001b[0m \u001b[1;33m\u001b[0m\u001b[0m\n\u001b[0;32m      6\u001b[0m     \u001b[0mf2\u001b[0m\u001b[1;33m=\u001b[0m\u001b[0mx_bis_fun\u001b[0m\u001b[1;33m(\u001b[0m\u001b[0mv\u001b[0m\u001b[1;33m,\u001b[0m\u001b[0mb\u001b[0m\u001b[1;33m,\u001b[0m\u001b[0mk1\u001b[0m\u001b[1;33m,\u001b[0m\u001b[0mk2\u001b[0m\u001b[1;33m,\u001b[0m\u001b[0momega0\u001b[0m\u001b[1;33m,\u001b[0m\u001b[0mt\u001b[0m\u001b[1;33m,\u001b[0m\u001b[0mtał\u001b[0m\u001b[1;33m)\u001b[0m\u001b[1;33m\u001b[0m\u001b[1;33m\u001b[0m\u001b[0m\n",
      "\u001b[1;32m<ipython-input-43-f07bdda9de4d>\u001b[0m in \u001b[0;36modeEuler\u001b[1;34m(f, y0, t)\u001b[0m\n\u001b[0;32m      6\u001b[0m     \u001b[0my\u001b[0m\u001b[1;33m[\u001b[0m\u001b[1;36m0\u001b[0m\u001b[1;33m]\u001b[0m\u001b[1;33m=\u001b[0m\u001b[0my0\u001b[0m\u001b[1;33m\u001b[0m\u001b[1;33m\u001b[0m\u001b[0m\n\u001b[0;32m      7\u001b[0m     \u001b[1;32mfor\u001b[0m \u001b[0mn\u001b[0m \u001b[1;32min\u001b[0m \u001b[0mrange\u001b[0m\u001b[1;33m(\u001b[0m\u001b[1;36m0\u001b[0m\u001b[1;33m,\u001b[0m\u001b[0mlen\u001b[0m\u001b[1;33m(\u001b[0m\u001b[0mt\u001b[0m\u001b[1;33m)\u001b[0m\u001b[1;33m-\u001b[0m\u001b[1;36m1\u001b[0m\u001b[1;33m)\u001b[0m\u001b[1;33m:\u001b[0m\u001b[1;33m\u001b[0m\u001b[1;33m\u001b[0m\u001b[0m\n\u001b[1;32m----> 8\u001b[1;33m         \u001b[0my\u001b[0m\u001b[1;33m[\u001b[0m\u001b[0mn\u001b[0m\u001b[1;33m+\u001b[0m\u001b[1;36m1\u001b[0m\u001b[1;33m]\u001b[0m \u001b[1;33m=\u001b[0m \u001b[0my\u001b[0m\u001b[1;33m[\u001b[0m\u001b[0mn\u001b[0m\u001b[1;33m]\u001b[0m \u001b[1;33m+\u001b[0m \u001b[0mf\u001b[0m\u001b[1;33m(\u001b[0m\u001b[0my\u001b[0m\u001b[1;33m[\u001b[0m\u001b[0mn\u001b[0m\u001b[1;33m]\u001b[0m\u001b[1;33m,\u001b[0m\u001b[0mt\u001b[0m\u001b[1;33m[\u001b[0m\u001b[0mn\u001b[0m\u001b[1;33m]\u001b[0m\u001b[1;33m)\u001b[0m\u001b[1;33m*\u001b[0m\u001b[1;33m(\u001b[0m\u001b[0mt\u001b[0m\u001b[1;33m[\u001b[0m\u001b[0mn\u001b[0m\u001b[1;33m+\u001b[0m\u001b[1;36m1\u001b[0m\u001b[1;33m]\u001b[0m \u001b[1;33m-\u001b[0m \u001b[0mt\u001b[0m\u001b[1;33m[\u001b[0m\u001b[0mn\u001b[0m\u001b[1;33m]\u001b[0m\u001b[1;33m)\u001b[0m\u001b[1;33m\u001b[0m\u001b[1;33m\u001b[0m\u001b[0m\n\u001b[0m\u001b[0;32m      9\u001b[0m     \u001b[1;32mreturn\u001b[0m \u001b[0my\u001b[0m\u001b[1;33m\u001b[0m\u001b[1;33m\u001b[0m\u001b[0m\n",
      "\u001b[1;31mTypeError\u001b[0m: 'numpy.float64' object is not callable"
     ]
    }
   ],
   "source": [
    "time=3\n",
    "amount= 25\n",
    "v=26.5\n",
    "b=0\n",
    "u0=0\n",
    "k1=1\n",
    "k2=2\n",
    "omega0=60\n",
    "tał=1\n",
    "ode2Euler(time,amount,v,b,u0,k1,k2,omega0,tał)\n"
   ]
  },
  {
   "cell_type": "markdown",
   "id": "frequent-sociology",
   "metadata": {},
   "source": [
    "wykres dla pierwszej pochdnej x"
   ]
  },
  {
   "cell_type": "code",
   "execution_count": 46,
   "id": "facial-harvey",
   "metadata": {},
   "outputs": [
    {
     "data": {
      "image/png": "[encoded data removed]",
      "text/plain": [
       "<Figure size 432x288 with 1 Axes>"
      ]
     },
     "metadata": {
      "needs_background": "light"
     },
     "output_type": "display_data"
    }
   ],
   "source": [
    "t = np.linspace(0,2,21)\n",
    "\n",
    "y0 = 0\n",
    "v=26.5\n",
    "b=0\n",
    "p = x_prime_fun(v,b)\n",
    "#np.reshape(t,int(f))\n",
    "#f = lambda y,t: y\n",
    "y = odeEuler(p,y0,t)\n",
    "\n",
    "plt.plot(t,y,'b.-')\n",
    "\n",
    "\n",
    "\n",
    "plt.legend(['Euler'])\n",
    "#plt.axis([0,2,0,9])\n",
    "plt.grid(True)\n",
    "#plt.title(\"Solution of $y'=y , y(0)=0$\")\n",
    "plt.show()"
   ]
  },
  {
   "cell_type": "code",
   "execution_count": 47,
   "id": "conventional-neutral",
   "metadata": {},
   "outputs": [
    {
     "data": {
      "image/png": "[encoded data removed]",
      "text/plain": [
       "<Figure size 432x288 with 1 Axes>"
      ]
     },
     "metadata": {
      "needs_background": "light"
     },
     "output_type": "display_data"
    }
   ],
   "source": [
    "t = np.linspace(0,2,21)\n",
    "y0 = 0\n",
    "v=26.5\n",
    "b=0\n",
    "h = y_prime_fun(26,0)\n",
    "#f = lambda y,t: y\n",
    "y = odeEuler(h,y0,t)\n",
    "#y_true = np.exp(t) #nieistotne jakby co\n",
    "plt.plot(t,y,'b.-')#,t,y_true,'r-')\n",
    "plt.legend(['Euler','True'])\n",
    "#plt.axis([0,2,0,9])\n",
    "plt.grid(True)\n",
    "#plt.title(\"Solution of $y'=y , y(0)=0$\")\n",
    "plt.show()"
   ]
  },
  {
   "cell_type": "markdown",
   "id": "beneficial-virginia",
   "metadata": {},
   "source": [
    "**Moje** (powyżej tylko komentarze do madzi):"
   ]
  },
  {
   "cell_type": "code",
   "execution_count": 48,
   "id": "loaded-scanning",
   "metadata": {},
   "outputs": [
    {
     "data": {
      "text/plain": [
       "[<matplotlib.lines.Line2D at 0x29667b40340>,\n",
       " <matplotlib.lines.Line2D at 0x29667b40370>]"
      ]
     },
     "execution_count": 48,
     "metadata": {},
     "output_type": "execute_result"
    },
    {
     "data": {
      "image/png": "[encoded data removed]",
      "text/plain": [
       "<Figure size 432x288 with 1 Axes>"
      ]
     },
     "metadata": {
      "needs_background": "light"
     },
     "output_type": "display_data"
    }
   ],
   "source": [
    "f = x_prime_fun(v,b)\n",
    "h= y_prime_fun(v,b)\n",
    "\n",
    "plt.plot(odeEuler(f,y0,t), odeEuler(h,y0,t), 0, 6)"
   ]
  },
  {
   "cell_type": "code",
   "execution_count": 49,
   "id": "pregnant-trout",
   "metadata": {},
   "outputs": [],
   "source": [
    "def v_x(v,b): #pochodna x\n",
    "    v_x= lambda y,t: dxdb/np.cos(b) #działa ale to t tak z dupy\n",
    "    return \n",
    "\n",
    "    \n",
    "def y_prime2(v,b): #pierwsza pochodna y\n",
    "    dydb= lambda y,t: v*np.sin(b)\n",
    "    return dydb"
   ]
  },
  {
   "cell_type": "code",
   "execution_count": 50,
   "id": "polish-floating",
   "metadata": {},
   "outputs": [],
   "source": [
    "m=50"
   ]
  },
  {
   "cell_type": "code",
   "execution_count": 51,
   "id": "harmful-bikini",
   "metadata": {},
   "outputs": [
    {
     "ename": "SyntaxError",
     "evalue": "invalid syntax (<ipython-input-51-0ffad406e130>, line 8)",
     "output_type": "error",
     "traceback": [
      "\u001b[1;36m  File \u001b[1;32m\"<ipython-input-51-0ffad406e130>\"\u001b[1;36m, line \u001b[1;32m8\u001b[0m\n\u001b[1;33m    linewidth = 5.5,\u001b[0m\n\u001b[1;37m    ^\u001b[0m\n\u001b[1;31mSyntaxError\u001b[0m\u001b[1;31m:\u001b[0m invalid syntax\n"
     ]
    }
   ],
   "source": [
    "for i in range(0, 120):\n",
    "\n",
    "    \n",
    "        plt.plot(x_bis2(v,b,k1,k2,omega0,t,tał), y_bis2(v,b,k1,k2,omega0,t,tał), 0, i,\n",
    "            xlabel = \"odległość [m]\", \n",
    "            ylabel = \"wysokość [m]\",\n",
    "            np.reshape(x.shape[0], y.shape[0])\n",
    "            linewidth = 5.5,\n",
    "            aspect_ratio = 2.5,\n",
    "            title = \"tor ruchu\")  \n",
    "\n",
    "\n"
   ]
  },
  {
   "cell_type": "code",
   "execution_count": 122,
   "id": "related-gambling",
   "metadata": {},
   "outputs": [],
   "source": [
    "def x_bis_samo(v,b,k1,k2,omega0,t,tał): #2pochodna x\n",
    "    f=y_prime(v,b)\n",
    "    #k=k1+[(k2-k1)/(np.cos(omega0))]*(-1)*(f/ v)\n",
    "    k=k1+(k2-k1)/(np.cos(omega0))*(-1)*(f/ v)\n",
    "    w=k*v**2\n",
    "    omega=omega0*(1-sp.exp(-t/tał))\n",
    "    \n",
    "    t = np.linspace(0,2,21)\n",
    "    dx=np.zeros(t)\n",
    "    \n",
    "    #ddx=-(1/m)*k*(v*dx*np.cos(omega)+v*f*np.sin(omega))\n",
    "    #rozwiązanie\n",
    "    #m*r**2+k*(v*r*np.cos(omega))+k*v*f*np.sin(omega)=0\n",
    "    \n",
    "    ddx= lambda y,t: -(1/m)*k*(v*dx*sp.cos(omega)+v*f*sp.sin(omega))\n",
    "    return ddx"
   ]
  },
  {
   "cell_type": "code",
   "execution_count": 152,
   "id": "pediatric-festival",
   "metadata": {},
   "outputs": [
    {
     "ename": "SyntaxError",
     "evalue": "invalid syntax (<ipython-input-152-02f5ef9af312>, line 16)",
     "output_type": "error",
     "traceback": [
      "\u001b[1;36m  File \u001b[1;32m\"<ipython-input-152-02f5ef9af312>\"\u001b[1;36m, line \u001b[1;32m16\u001b[0m\n\u001b[1;33m    for i in range(0,t-1):\u001b[0m\n\u001b[1;37m                         ^\u001b[0m\n\u001b[1;31mSyntaxError\u001b[0m\u001b[1;31m:\u001b[0m invalid syntax\n"
     ]
    }
   ],
   "source": [
    "t = np.linspace(0,2,21)\n",
    "dt=0.001\n",
    "def x_bis_kolejne(v,b,k1,k2,omega0,t,tał): #2pochodna x\n",
    "    f=y_prime(v,b)\n",
    "    #k=k1+[(k2-k1)/(np.cos(omega0))]*(-1)*(f/ v)\n",
    "    k=k1+(k2-k1)/(np.cos(omega0))*(-1)*(f/ v)\n",
    "    w=k*v**2\n",
    "    omega=omega0*(1-sp.exp(-t/tał))\n",
    "    \n",
    "    \n",
    "    dx=np.zeros(len(t)\n",
    "    \n",
    "    #ddx=-(1/m)*k*(v*dx*np.cos(omega)+v*f*np.sin(omega))\n",
    "    #rozwiązanie\n",
    "    #m*r**2+k*(v*r*np.cos(omega))+k*v*f*np.sin(omega)=0\n",
    "    for i in range(0,t-1):\n",
    "        ddx[t]= -(1/m)*k*(v*dx[t]*sp.cos(omega)+v*f*sp.sin(omega))\n",
    "    return ddx"
   ]
  },
  {
   "cell_type": "code",
   "execution_count": 131,
   "id": "liberal-guarantee",
   "metadata": {},
   "outputs": [],
   "source": [
    "def odeEuler2_moje(f,u0,t):\n",
    "    \"\"\"\n",
    "    approximate the solution of y'=f(y,t) by Euler's method\n",
    "    \"\"\"\n",
    "    \n",
    "    u=np.zeros(t)\n",
    "    u[1]=u0\n",
    "    \n",
    "    \n",
    "    for n in range(1,len(t)-1):\n",
    "        u[n+1] = u[n] + f(u[n],t[n])*(t[n+1] - t[n])\n",
    "    return u"
   ]
  },
  {
   "cell_type": "code",
   "execution_count": 153,
   "id": "laughing-cylinder",
   "metadata": {},
   "outputs": [
    {
     "ename": "ValueError",
     "evalue": "setting an array element with a sequence.",
     "output_type": "error",
     "traceback": [
      "\u001b[1;31m---------------------------------------------------------------------------\u001b[0m",
      "\u001b[1;31mTypeError\u001b[0m                                 Traceback (most recent call last)",
      "\u001b[1;31mTypeError\u001b[0m: only size-1 arrays can be converted to Python scalars",
      "\nThe above exception was the direct cause of the following exception:\n",
      "\u001b[1;31mValueError\u001b[0m                                Traceback (most recent call last)",
      "\u001b[1;32m<ipython-input-153-3c8100d8c745>\u001b[0m in \u001b[0;36m<module>\u001b[1;34m\u001b[0m\n\u001b[0;32m      1\u001b[0m \u001b[1;31m#odeEuler2_moje(x_bis_samo(v,b,k1,k2,omega0,t,tał),0,t)\u001b[0m\u001b[1;33m\u001b[0m\u001b[1;33m\u001b[0m\u001b[1;33m\u001b[0m\u001b[0m\n\u001b[1;32m----> 2\u001b[1;33m \u001b[0modeEuler\u001b[0m\u001b[1;33m(\u001b[0m\u001b[0modeEuler\u001b[0m\u001b[1;33m(\u001b[0m\u001b[0mx_bis_fun\u001b[0m\u001b[1;33m(\u001b[0m\u001b[0mv\u001b[0m\u001b[1;33m,\u001b[0m\u001b[0mb\u001b[0m\u001b[1;33m,\u001b[0m\u001b[0mk1\u001b[0m\u001b[1;33m,\u001b[0m\u001b[0mk2\u001b[0m\u001b[1;33m,\u001b[0m\u001b[0momega0\u001b[0m\u001b[1;33m,\u001b[0m\u001b[0mt\u001b[0m\u001b[1;33m,\u001b[0m\u001b[0mtał\u001b[0m\u001b[1;33m)\u001b[0m\u001b[1;33m,\u001b[0m\u001b[1;36m0\u001b[0m\u001b[1;33m,\u001b[0m\u001b[0mt\u001b[0m\u001b[1;33m)\u001b[0m\u001b[1;33m,\u001b[0m\u001b[1;36m0\u001b[0m\u001b[1;33m,\u001b[0m\u001b[0mt\u001b[0m\u001b[1;33m)\u001b[0m\u001b[1;33m\u001b[0m\u001b[1;33m\u001b[0m\u001b[0m\n\u001b[0m",
      "\u001b[1;32m<ipython-input-43-f07bdda9de4d>\u001b[0m in \u001b[0;36modeEuler\u001b[1;34m(f, y0, t)\u001b[0m\n\u001b[0;32m      6\u001b[0m     \u001b[0my\u001b[0m\u001b[1;33m[\u001b[0m\u001b[1;36m0\u001b[0m\u001b[1;33m]\u001b[0m\u001b[1;33m=\u001b[0m\u001b[0my0\u001b[0m\u001b[1;33m\u001b[0m\u001b[1;33m\u001b[0m\u001b[0m\n\u001b[0;32m      7\u001b[0m     \u001b[1;32mfor\u001b[0m \u001b[0mn\u001b[0m \u001b[1;32min\u001b[0m \u001b[0mrange\u001b[0m\u001b[1;33m(\u001b[0m\u001b[1;36m0\u001b[0m\u001b[1;33m,\u001b[0m\u001b[0mlen\u001b[0m\u001b[1;33m(\u001b[0m\u001b[0mt\u001b[0m\u001b[1;33m)\u001b[0m\u001b[1;33m-\u001b[0m\u001b[1;36m1\u001b[0m\u001b[1;33m)\u001b[0m\u001b[1;33m:\u001b[0m\u001b[1;33m\u001b[0m\u001b[1;33m\u001b[0m\u001b[0m\n\u001b[1;32m----> 8\u001b[1;33m         \u001b[0my\u001b[0m\u001b[1;33m[\u001b[0m\u001b[0mn\u001b[0m\u001b[1;33m+\u001b[0m\u001b[1;36m1\u001b[0m\u001b[1;33m]\u001b[0m \u001b[1;33m=\u001b[0m \u001b[0my\u001b[0m\u001b[1;33m[\u001b[0m\u001b[0mn\u001b[0m\u001b[1;33m]\u001b[0m \u001b[1;33m+\u001b[0m \u001b[0mf\u001b[0m\u001b[1;33m(\u001b[0m\u001b[0my\u001b[0m\u001b[1;33m[\u001b[0m\u001b[0mn\u001b[0m\u001b[1;33m]\u001b[0m\u001b[1;33m,\u001b[0m\u001b[0mt\u001b[0m\u001b[1;33m[\u001b[0m\u001b[0mn\u001b[0m\u001b[1;33m]\u001b[0m\u001b[1;33m)\u001b[0m\u001b[1;33m*\u001b[0m\u001b[1;33m(\u001b[0m\u001b[0mt\u001b[0m\u001b[1;33m[\u001b[0m\u001b[0mn\u001b[0m\u001b[1;33m+\u001b[0m\u001b[1;36m1\u001b[0m\u001b[1;33m]\u001b[0m \u001b[1;33m-\u001b[0m \u001b[0mt\u001b[0m\u001b[1;33m[\u001b[0m\u001b[0mn\u001b[0m\u001b[1;33m]\u001b[0m\u001b[1;33m)\u001b[0m\u001b[1;33m\u001b[0m\u001b[1;33m\u001b[0m\u001b[0m\n\u001b[0m\u001b[0;32m      9\u001b[0m     \u001b[1;32mreturn\u001b[0m \u001b[0my\u001b[0m\u001b[1;33m\u001b[0m\u001b[1;33m\u001b[0m\u001b[0m\n",
      "\u001b[1;31mValueError\u001b[0m: setting an array element with a sequence."
     ]
    }
   ],
   "source": [
    "#odeEuler2_moje(x_bis_samo(v,b,k1,k2,omega0,t,tał),0,t)\n",
    "odeEuler(odeEuler(x_bis_fun(v,b,k1,k2,omega0,t,tał),0,t),0,t)"
   ]
  },
  {
   "cell_type": "code",
   "execution_count": 136,
   "id": "noted-questionnaire",
   "metadata": {},
   "outputs": [],
   "source": [
    "#grr zły sposób chyba bo nie mamy stałych wspólczynników bo omega zalezy od t\n",
    "def x_bis_moje(v,b,k1,k2,omega0,t,tał): #2pochodna x\n",
    "    f=y_prime(v,b)\n",
    "    #k=k1+[(k2-k1)/(np.cos(omega0))]*(-1)*(f/ v)\n",
    "    k=k1+(k2-k1)/(np.cos(omega0))*(-1)*(f/ v)\n",
    "    w=k*v**2\n",
    "    omega=omega0*(1-np.exp(-t/tał))\n",
    "    \n",
    "    #ddx=-(1/m)*k*(v*dx*np.cos(omega)+v*f*np.sin(omega))\n",
    "    #rozwiązanie\n",
    "    #m*r**2+k*(v*r*np.cos(omega))+k*v*f*np.sin(omega)=0\n",
    "    delta=((k*v*np.cos(omega))**2-4*m*v*f*np.sin(omega))\n",
    "    if delta > 0:\n",
    "        r_1=(-k*v*np.cos(omega)-np.sqrt(delta))/2*m\n",
    "        r_2=(-k*v*np.cos(omega)+np.sqrt(delta))/2*m\n",
    "        x[t]=c_1*np.exp(r_1*t)+c_2*np.exp(r_2*t)\n",
    "        x=np.zeros(len(t))\n",
    "        x[0]=0\n",
    "        dx[0]=1 #czy napewno druga poch git ze ma taka wartosc\n",
    "        c_1=-m/(k*v)\n",
    "        c_2=m/(k*v)\n",
    "        \n",
    "        \n",
    "  \n",
    "        #for n in range(0,len(t)-1):\n",
    "         #   x[t]=c_1*np.exp(r_1*t)+c_2*np.exp(r_2*t)\n",
    "        #return x\n",
    "        \n",
    "    x= lambda y,t: c_1*np.exp(r_1*t)+c_2*np.exp(r_2*t)\n",
    "    return x\n",
    "    \n",
    "\n",
    "    \n"
   ]
  },
  {
   "cell_type": "code",
   "execution_count": 137,
   "id": "informational-madison",
   "metadata": {},
   "outputs": [
    {
     "ename": "UnboundLocalError",
     "evalue": "local variable 'c_1' referenced before assignment",
     "output_type": "error",
     "traceback": [
      "\u001b[1;31m---------------------------------------------------------------------------\u001b[0m",
      "\u001b[1;31mUnboundLocalError\u001b[0m                         Traceback (most recent call last)",
      "\u001b[1;32m<ipython-input-137-661e91964a1d>\u001b[0m in \u001b[0;36m<module>\u001b[1;34m\u001b[0m\n\u001b[1;32m----> 1\u001b[1;33m \u001b[0mx_bis_moje\u001b[0m\u001b[1;33m(\u001b[0m\u001b[0mv\u001b[0m\u001b[1;33m,\u001b[0m\u001b[0mb\u001b[0m\u001b[1;33m,\u001b[0m\u001b[0mk1\u001b[0m\u001b[1;33m,\u001b[0m\u001b[0mk2\u001b[0m\u001b[1;33m,\u001b[0m\u001b[0momega0\u001b[0m\u001b[1;33m,\u001b[0m\u001b[0mt\u001b[0m\u001b[1;33m,\u001b[0m\u001b[0mtał\u001b[0m\u001b[1;33m)\u001b[0m\u001b[1;33m\u001b[0m\u001b[1;33m\u001b[0m\u001b[0m\n\u001b[0m",
      "\u001b[1;32m<ipython-input-136-740cf2ff4515>\u001b[0m in \u001b[0;36mx_bis_moje\u001b[1;34m(v, b, k1, k2, omega0, t, tał)\u001b[0m\n\u001b[0;32m     14\u001b[0m         \u001b[0mr_1\u001b[0m\u001b[1;33m=\u001b[0m\u001b[1;33m(\u001b[0m\u001b[1;33m-\u001b[0m\u001b[0mk\u001b[0m\u001b[1;33m*\u001b[0m\u001b[0mv\u001b[0m\u001b[1;33m*\u001b[0m\u001b[0mnp\u001b[0m\u001b[1;33m.\u001b[0m\u001b[0mcos\u001b[0m\u001b[1;33m(\u001b[0m\u001b[0momega\u001b[0m\u001b[1;33m)\u001b[0m\u001b[1;33m-\u001b[0m\u001b[0mnp\u001b[0m\u001b[1;33m.\u001b[0m\u001b[0msqrt\u001b[0m\u001b[1;33m(\u001b[0m\u001b[0mdelta\u001b[0m\u001b[1;33m)\u001b[0m\u001b[1;33m)\u001b[0m\u001b[1;33m/\u001b[0m\u001b[1;36m2\u001b[0m\u001b[1;33m*\u001b[0m\u001b[0mm\u001b[0m\u001b[1;33m\u001b[0m\u001b[1;33m\u001b[0m\u001b[0m\n\u001b[0;32m     15\u001b[0m         \u001b[0mr_2\u001b[0m\u001b[1;33m=\u001b[0m\u001b[1;33m(\u001b[0m\u001b[1;33m-\u001b[0m\u001b[0mk\u001b[0m\u001b[1;33m*\u001b[0m\u001b[0mv\u001b[0m\u001b[1;33m*\u001b[0m\u001b[0mnp\u001b[0m\u001b[1;33m.\u001b[0m\u001b[0mcos\u001b[0m\u001b[1;33m(\u001b[0m\u001b[0momega\u001b[0m\u001b[1;33m)\u001b[0m\u001b[1;33m+\u001b[0m\u001b[0mnp\u001b[0m\u001b[1;33m.\u001b[0m\u001b[0msqrt\u001b[0m\u001b[1;33m(\u001b[0m\u001b[0mdelta\u001b[0m\u001b[1;33m)\u001b[0m\u001b[1;33m)\u001b[0m\u001b[1;33m/\u001b[0m\u001b[1;36m2\u001b[0m\u001b[1;33m*\u001b[0m\u001b[0mm\u001b[0m\u001b[1;33m\u001b[0m\u001b[1;33m\u001b[0m\u001b[0m\n\u001b[1;32m---> 16\u001b[1;33m         \u001b[0mx\u001b[0m\u001b[1;33m[\u001b[0m\u001b[0mt\u001b[0m\u001b[1;33m]\u001b[0m\u001b[1;33m=\u001b[0m\u001b[0mc_1\u001b[0m\u001b[1;33m*\u001b[0m\u001b[0mnp\u001b[0m\u001b[1;33m.\u001b[0m\u001b[0mexp\u001b[0m\u001b[1;33m(\u001b[0m\u001b[0mr_1\u001b[0m\u001b[1;33m*\u001b[0m\u001b[0mt\u001b[0m\u001b[1;33m)\u001b[0m\u001b[1;33m+\u001b[0m\u001b[0mc_2\u001b[0m\u001b[1;33m*\u001b[0m\u001b[0mnp\u001b[0m\u001b[1;33m.\u001b[0m\u001b[0mexp\u001b[0m\u001b[1;33m(\u001b[0m\u001b[0mr_2\u001b[0m\u001b[1;33m*\u001b[0m\u001b[0mt\u001b[0m\u001b[1;33m)\u001b[0m\u001b[1;33m\u001b[0m\u001b[1;33m\u001b[0m\u001b[0m\n\u001b[0m\u001b[0;32m     17\u001b[0m         \u001b[0mx\u001b[0m\u001b[1;33m=\u001b[0m\u001b[0mnp\u001b[0m\u001b[1;33m.\u001b[0m\u001b[0mzeros\u001b[0m\u001b[1;33m(\u001b[0m\u001b[0mlen\u001b[0m\u001b[1;33m(\u001b[0m\u001b[0mt\u001b[0m\u001b[1;33m)\u001b[0m\u001b[1;33m)\u001b[0m\u001b[1;33m\u001b[0m\u001b[1;33m\u001b[0m\u001b[0m\n\u001b[0;32m     18\u001b[0m         \u001b[0mx\u001b[0m\u001b[1;33m[\u001b[0m\u001b[1;36m0\u001b[0m\u001b[1;33m]\u001b[0m\u001b[1;33m=\u001b[0m\u001b[1;36m0\u001b[0m\u001b[1;33m\u001b[0m\u001b[1;33m\u001b[0m\u001b[0m\n",
      "\u001b[1;31mUnboundLocalError\u001b[0m: local variable 'c_1' referenced before assignment"
     ]
    }
   ],
   "source": [
    "x_bis_moje(v,b,k1,k2,omega0,t,tał)\n"
   ]
  },
  {
   "cell_type": "code",
   "execution_count": 138,
   "id": "important-timer",
   "metadata": {},
   "outputs": [
    {
     "ename": "SyntaxError",
     "evalue": "invalid character in identifier (<ipython-input-138-3566b94c65d2>, line 2)",
     "output_type": "error",
     "traceback": [
      "\u001b[1;36m  File \u001b[1;32m\"<ipython-input-138-3566b94c65d2>\"\u001b[1;36m, line \u001b[1;32m2\u001b[0m\n\u001b[1;33m    a = float(input(„Podaj punkt poczatkowy: „))\u001b[0m\n\u001b[1;37m                         ^\u001b[0m\n\u001b[1;31mSyntaxError\u001b[0m\u001b[1;31m:\u001b[0m invalid character in identifier\n"
     ]
    }
   ],
   "source": [
    "def calk(a,b,N):\n",
    "    a = float(input(„Podaj punkt poczatkowy: „))\n",
    "\n",
    "b = float(input(„Podaj punkt końcowy: „))\n",
    "\n",
    "N = int(input(„Podaj liczbę iteracji: „))\n",
    "\n",
    "    dl = (b-a)/N\n",
    "\n",
    "    calka = 0\n",
    "\n",
    "    z = a\n",
    "\n",
    "    for i in range(1,N+1):\n",
    "    \n",
    "        z += dl\n",
    "\n",
    "        calka = calka + f(z)*dl\n",
    "\n",
    "    return round(calka,5)"
   ]
  },
  {
   "cell_type": "code",
   "execution_count": null,
   "id": "certified-singing",
   "metadata": {},
   "outputs": [],
   "source": [
    "print(calk())"
   ]
  },
  {
   "cell_type": "code",
   "execution_count": 139,
   "id": "super-shopper",
   "metadata": {},
   "outputs": [
    {
     "data": {
      "text/latex": [
       "$\\displaystyle - \\cos{\\left(60 \\right)} \\operatorname{Ci}{\\left(60 e^{- t} \\right)} - \\sin{\\left(60 \\right)} \\operatorname{Si}{\\left(60 e^{- t} \\right)}$"
      ],
      "text/plain": [
       "-cos(60)*Ci(60*exp(-t)) - sin(60)*Si(60*exp(-t))"
      ]
     },
     "execution_count": 139,
     "metadata": {},
     "output_type": "execute_result"
    }
   ],
   "source": [
    "import sympy as sp \n",
    "t = sp.Symbol('t') \n",
    "sp.integrate(sp.cos(omega0*(1-sp.exp(-t/tał))), t) #ci i si to integrals wtf"
   ]
  },
  {
   "cell_type": "code",
   "execution_count": 160,
   "id": "wanted-decade",
   "metadata": {},
   "outputs": [],
   "source": [
    "#nowy sposób\n",
    "def x_bis_moje_2(v,b,k1,k2,omega0,t,tał): #2pochodna x\n",
    "    f=y_prime(v,b)\n",
    "    #k=k1+[(k2-k1)/(np.cos(omega0))]*(-1)*(f/ v)\n",
    "    k=k1+(k2-k1)/(np.cos(omega0))*(-1)*(f/ v)\n",
    "    w=k*v**2\n",
    "    omega=omega0*(1-np.exp(-t/tał))\n",
    "    \n",
    "    #mddx+k*v*dx*np.cos(omega)+k*v*f*np.sin(omega)=0\n",
    "    #rozwiązanie\n",
    "    #ddx=du\n",
    "    #dx=u\n",
    "    #m*du+k*v*u*np.cos(omega)+k*v*f*np.sin(omega)=0\n",
    "    du=-k*v*u*np.cos(omega)/m-k*v*f*np.sin(omega)/m\n",
    "    #czynnik całk.\n",
    "    T = sp.Symbol('t') \n",
    "    calka_t=sp.integrate(sp.cos(omega0*(1-sp.exp(-T/tał))), T)\n",
    "    p=sp.exp((k*v/m)*calka_t)\n",
    "    a=p*du\n",
    "    b=p*k*v*u*np.cos(omega)/m\n",
    "    c=p*(-k*v*f*np.sin(omega)/m)\n",
    "\n",
    "    return a,b,c"
   ]
  },
  {
   "cell_type": "code",
   "execution_count": 161,
   "id": "subjective-progress",
   "metadata": {},
   "outputs": [
    {
     "ename": "NameError",
     "evalue": "name 'u' is not defined",
     "output_type": "error",
     "traceback": [
      "\u001b[1;31m---------------------------------------------------------------------------\u001b[0m",
      "\u001b[1;31mNameError\u001b[0m                                 Traceback (most recent call last)",
      "\u001b[1;32m<ipython-input-161-c24709b346f5>\u001b[0m in \u001b[0;36m<module>\u001b[1;34m\u001b[0m\n\u001b[1;32m----> 1\u001b[1;33m \u001b[0mprint\u001b[0m\u001b[1;33m(\u001b[0m\u001b[0mx_bis_moje_2\u001b[0m\u001b[1;33m(\u001b[0m\u001b[0mv\u001b[0m\u001b[1;33m,\u001b[0m\u001b[0mb\u001b[0m\u001b[1;33m,\u001b[0m\u001b[0mk1\u001b[0m\u001b[1;33m,\u001b[0m\u001b[0mk2\u001b[0m\u001b[1;33m,\u001b[0m\u001b[0momega0\u001b[0m\u001b[1;33m,\u001b[0m\u001b[0mt\u001b[0m\u001b[1;33m,\u001b[0m\u001b[0mtał\u001b[0m\u001b[1;33m)\u001b[0m\u001b[1;33m)\u001b[0m\u001b[1;33m\u001b[0m\u001b[1;33m\u001b[0m\u001b[0m\n\u001b[0m",
      "\u001b[1;32m<ipython-input-160-f014064d6fb3>\u001b[0m in \u001b[0;36mx_bis_moje_2\u001b[1;34m(v, b, k1, k2, omega0, t, tał)\u001b[0m\n\u001b[0;32m     12\u001b[0m     \u001b[1;31m#dx=u\u001b[0m\u001b[1;33m\u001b[0m\u001b[1;33m\u001b[0m\u001b[1;33m\u001b[0m\u001b[0m\n\u001b[0;32m     13\u001b[0m     \u001b[1;31m#m*du+k*v*u*np.cos(omega)+k*v*f*np.sin(omega)=0\u001b[0m\u001b[1;33m\u001b[0m\u001b[1;33m\u001b[0m\u001b[1;33m\u001b[0m\u001b[0m\n\u001b[1;32m---> 14\u001b[1;33m     \u001b[0mdu\u001b[0m\u001b[1;33m=\u001b[0m\u001b[1;33m-\u001b[0m\u001b[0mk\u001b[0m\u001b[1;33m*\u001b[0m\u001b[0mv\u001b[0m\u001b[1;33m*\u001b[0m\u001b[0mu\u001b[0m\u001b[1;33m*\u001b[0m\u001b[0mnp\u001b[0m\u001b[1;33m.\u001b[0m\u001b[0mcos\u001b[0m\u001b[1;33m(\u001b[0m\u001b[0momega\u001b[0m\u001b[1;33m)\u001b[0m\u001b[1;33m/\u001b[0m\u001b[0mm\u001b[0m\u001b[1;33m-\u001b[0m\u001b[0mk\u001b[0m\u001b[1;33m*\u001b[0m\u001b[0mv\u001b[0m\u001b[1;33m*\u001b[0m\u001b[0mf\u001b[0m\u001b[1;33m*\u001b[0m\u001b[0mnp\u001b[0m\u001b[1;33m.\u001b[0m\u001b[0msin\u001b[0m\u001b[1;33m(\u001b[0m\u001b[0momega\u001b[0m\u001b[1;33m)\u001b[0m\u001b[1;33m/\u001b[0m\u001b[0mm\u001b[0m\u001b[1;33m\u001b[0m\u001b[1;33m\u001b[0m\u001b[0m\n\u001b[0m\u001b[0;32m     15\u001b[0m     \u001b[1;31m#czynnik całk.\u001b[0m\u001b[1;33m\u001b[0m\u001b[1;33m\u001b[0m\u001b[1;33m\u001b[0m\u001b[0m\n\u001b[0;32m     16\u001b[0m     \u001b[0mT\u001b[0m \u001b[1;33m=\u001b[0m \u001b[0msp\u001b[0m\u001b[1;33m.\u001b[0m\u001b[0mSymbol\u001b[0m\u001b[1;33m(\u001b[0m\u001b[1;34m't'\u001b[0m\u001b[1;33m)\u001b[0m\u001b[1;33m\u001b[0m\u001b[1;33m\u001b[0m\u001b[0m\n",
      "\u001b[1;31mNameError\u001b[0m: name 'u' is not defined"
     ]
    }
   ],
   "source": [
    "print(x_bis_moje_2(v,b,k1,k2,omega0,t,tał))"
   ]
  },
  {
   "cell_type": "code",
   "execution_count": null,
   "id": "furnished-still",
   "metadata": {},
   "outputs": [],
   "source": [
    "def x_bis_moje_3(time,amount,v,b,u0,k1,k2,omega0,tał): #czas, ile próbek czasu, prędkość, kąt nachylenia v do poziomu, war początkowy\n",
    "    t=np.linspace(0,time,amount)\n",
    "    f=x_prime(v,b)\n",
    "    u=odeEuler(f,0,t)\n",
    "    \n",
    "    f2=x_bis_fun(v,b,k1,k2,omega0,t,tał)\n",
    "    uu=odeEuler(f2,0,t)\n",
    "    \n",
    "    return uu"
   ]
  },
  {
   "cell_type": "markdown",
   "id": "ideal-adjustment",
   "metadata": {},
   "source": [
    "**Z WIATREM**"
   ]
  },
  {
   "cell_type": "code",
   "execution_count": null,
   "id": "competitive-assurance",
   "metadata": {},
   "outputs": [],
   "source": [
    "def x_bis2(v,b,k1,k2,omega0,t,tał): #2pochodna x\n",
    "    f=y_prime(v,b)\n",
    "    k=(k2-k1)/(np.cos(omega0))*(-1)*(f/ v)\n",
    "    w=k*v\n",
    "    omega=omega0(1-np.exp(-t/tał))\n",
    "    \n",
    "    ddx= lambda y,t: -(1/m)*w*(x_prime2(v,b)*np.cos(omega)+y_prime2(v,b)*np.sin(omega))\n",
    "    return ddx\n",
    "\n",
    "def y_bis2(v,b,k1,k2,omega0,t,tał): #2pochodna y\n",
    "    g=9.81\n",
    "    k=(k2-k1)/(np.cos(omega0))*(-1)*(y_prime2(v,b)/v)\n",
    "    w=k*v**2\n",
    "    omega=omega0(1-np.exp(-t/tał))\n",
    "    \n",
    "    ddy=(1/m)*w*np.sin(omega+b)- m*g\n",
    "    return ddy"
   ]
  },
  {
   "cell_type": "code",
   "execution_count": null,
   "id": "harmful-corporation",
   "metadata": {},
   "outputs": [],
   "source": []
  },
  {
   "cell_type": "code",
   "execution_count": null,
   "id": "sharing-matter",
   "metadata": {},
   "outputs": [],
   "source": []
  },
  {
   "cell_type": "code",
   "execution_count": null,
   "id": "innovative-cookie",
   "metadata": {},
   "outputs": [],
   "source": []
  },
  {
   "cell_type": "code",
   "execution_count": null,
   "id": "green-replacement",
   "metadata": {},
   "outputs": [],
   "source": []
  },
  {
   "cell_type": "code",
   "execution_count": null,
   "id": "painful-match",
   "metadata": {},
   "outputs": [],
   "source": []
  }
 ],
 "metadata": {
  "kernelspec": {
   "display_name": "Python 3",
   "language": "python",
   "name": "python3"
  },
  "language_info": {
   "codemirror_mode": {
    "name": "ipython",
    "version": 3
   },
   "file_extension": ".py",
   "mimetype": "text/x-python",
   "name": "python",
   "nbconvert_exporter": "python",
   "pygments_lexer": "ipython3",
   "version": "3.8.6"
  }
 },
 "nbformat": 4,
 "nbformat_minor": 5
}
