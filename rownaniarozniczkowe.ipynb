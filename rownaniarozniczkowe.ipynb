{
 "cells": [
  {
   "cell_type": "code",
   "execution_count": 10,
   "metadata": {},
   "outputs": [],
   "source": [
    "from scipy.integrate import odeint\n",
    "import numpy as np\n",
    "import matplotlib.pyplot as plt"
   ]
  },
  {
   "cell_type": "code",
   "execution_count": 267,
   "metadata": {},
   "outputs": [],
   "source": [
    "def x_prime(v,b): #pochodna x\n",
    "    dxdb= v*np.cos(b)\n",
    "    return dxdb\n",
    "    \n",
    "def y_prime(b,v0=2.8): #pierwsza pochodna y\n",
    "    dydb= v0*np.sin(b)\n",
    "    return dydb\n",
    "\n",
    "def y_prime2(v,b): #pierwsza pochodna y\n",
    "    dydb= lambda y,t: v*np.sin(b)\n",
    "    return dydb"
   ]
  },
  {
   "cell_type": "code",
   "execution_count": 268,
   "metadata": {},
   "outputs": [],
   "source": [
    "def odeEuler2(u0,t,v,b,k1,k2,omega0,tał): #działa!!!!\n",
    "    \"\"\"\n",
    "    approximate the solution of y'=f(y,t) by Euler's method\n",
    "    \n",
    "    \"\"\"\n",
    "    y_pr=y_prime(v,b)\n",
    "    k=k1+(k2-k1)/(np.cos(omega0))*(-y_prime(b)/v)\n",
    "    omega=omega0*(1-np.exp(-t/tał))\n",
    "    du=lambda u,t: -(1/m)*k*v*(u*np.sin(omega0*(1-np.exp(-t/tał)))+y_pr*np.cos(omega0*(1-np.exp(-t/tał))))\n",
    "\n",
    "    \n",
    "    u=np.zeros(len(t))\n",
    "    u[0]=u0\n",
    "    for n in range(0,len(t)-1):\n",
    "        u[n+1] = u[n] + du(u[n],t[n])*(t[n+1] - t[n])\n",
    "    return u\n",
    "\n",
    "def odeEuler3(f,y0,t,):\n",
    "    y=np.zeros(len(t))\n",
    "    y[0]=y0\n",
    "    for n in range(0,len(t)-1):\n",
    "        y[n+1] = y[n] + f(y[n],t[n])*(t[n+1] - t[n])\n",
    "    return y"
   ]
  },
  {
   "cell_type": "code",
   "execution_count": 270,
   "metadata": {},
   "outputs": [
    {
     "data": {
      "text/plain": [
       "array([ 3.06010666e-02, -1.01650548e-01, -2.33902162e-01, ...,\n",
       "       -1.31956510e+02, -1.32088762e+02, -1.32221013e+02])"
      ]
     },
     "execution_count": 270,
     "metadata": {},
     "output_type": "execute_result"
    }
   ],
   "source": [
    "y_pir=odeEuler3(y_prime2(v,b),u0,t)\n",
    "y_pir"
   ]
  },
  {
   "cell_type": "code",
   "execution_count": 73,
   "metadata": {},
   "outputs": [],
   "source": [
    "def odeEuler2_y(u0,t,v,b,k1,k2,omega0,tał): #euler 1st dla y\n",
    "    g=9.81\n",
    "    y_pr=y_prime(b)\n",
    "    k=k1+(k2-k1)/(np.cos(omega0))*(-y_prime(b)/v)\n",
    "    du=lambda u,t: (1/m)*k*v*(y_pr*np.sin(omega0*(1-np.exp(-t/tał)))+u*np.cos(omega0*(1-np.exp(-t/tał))))- m*g\n",
    "    \n",
    "    u=np.zeros(len(t))\n",
    "    u[0]=u0\n",
    "    for n in range(0,len(t)-1):\n",
    "        u[n+1] = u[n] + du(u[n],t[n])*(t[n+1] - t[n])\n",
    "    return u"
   ]
  },
  {
   "cell_type": "code",
   "execution_count": 74,
   "metadata": {},
   "outputs": [
    {
     "data": {
      "text/plain": [
       "array([  1.        ,  -0.1454    ,  -1.32608923, ..., -38.86077228,\n",
       "       -38.86086431, -38.86095523])"
      ]
     },
     "execution_count": 74,
     "metadata": {},
     "output_type": "execute_result"
    }
   ],
   "source": [
    "#odeEuler2_y(u0,t,v,b,k1,k2,omega0,tał)"
   ]
  },
  {
   "cell_type": "code",
   "execution_count": null,
   "metadata": {},
   "outputs": [],
   "source": []
  },
  {
   "cell_type": "code",
   "execution_count": 67,
   "metadata": {},
   "outputs": [],
   "source": [
    "#odeEuler2(u0,t,v,b,k1,k2,omega0,tał)"
   ]
  },
  {
   "cell_type": "code",
   "execution_count": null,
   "metadata": {},
   "outputs": [],
   "source": [
    "def odeEuler_2nd(z0,u0,t,v,b,k1,k2,omega0,tał):  #2nd for x\n",
    "    y_pr=y_prime(b)\n",
    "    k=k1+(k2-k1)/(np.cos(omega0))*(-y_prime(b)/v)\n",
    "    du=lambda u,t: -(1/m)*k*v*(u*np.cos(omega0*(1-np.exp(-t/tał)))+y_pr*np.sin(omega0*(1-np.exp(-t/tał))))\n",
    "\n",
    "    \n",
    "    u=np.zeros(len(t)) #u = x'\n",
    "    z=np.zeros(len(t)) #z = u'= x\"\n",
    "    u[0]=u0\n",
    "    z[0]=z0\n",
    "    for n in range(0,len(t)-1):\n",
    "        z[n+1]= z[n] + u[n]*(t[n+1] - t[n])\n",
    "        u[n+1] = u[n] + du(u[n],t[n])*(t[n+1] - t[n])\n",
    "    return [z,u]"
   ]
  },
  {
   "cell_type": "markdown",
   "metadata": {},
   "source": [
    "druga pochodna dla x"
   ]
  },
  {
   "cell_type": "code",
   "execution_count": 274,
   "metadata": {},
   "outputs": [],
   "source": [
    "def odeEuler_2nd_ex(z0,u0,t,v,b,k1,k2,omega0,tał,y_pir):  #2nd for x ====> ekpreyment z zmieniającym się y_pr\n",
    "    v0=2.8\n",
    "    #y_pr=y_prime(b)\n",
    "    #y_pr=lambda t: v0*np.sin(b)\n",
    "    y_pr=y_pir\n",
    "    #k=k1+(k2-k1)/(np.cos(omega0))*((-1)*y_pr(b)/v)\n",
    "    du=lambda u,t,y_pr: -(1/m)*(k1+(k2-k1)/(np.cos(omega0))*((-1)*y_pr/v))*v*(u*np.cos(omega0*(1-np.exp(-t/tał)))+y_pr*np.sin(omega0*(1-np.exp(-t/tał))))\n",
    "    #dydb= v0*np.sin(b)\n",
    "    \n",
    "    u=np.zeros(len(t)) #u = x'\n",
    "    z=np.zeros(len(t)) #z = u'= x\"\n",
    "    pr=np.zeros(len(t))\n",
    "    u[0]=u0\n",
    "    z[0]=z0\n",
    "    #pr[0]=0\n",
    "    for n in range(0,len(t)-1):\n",
    "        #pr[n+1]= pr[n] + y_pr[n]*(t[n+1] - t[n])\n",
    "        z[n+1]= z[n] + u[n]*(t[n+1] - t[n])\n",
    "        u[n+1] = u[n] + du(u[n],t[n],y_pr[n])*(t[n+1] - t[n])\n",
    "    return [z,u]"
   ]
  },
  {
   "cell_type": "code",
   "execution_count": 285,
   "metadata": {},
   "outputs": [],
   "source": [
    "ex=odeEuler_2nd_ex(z0,u0,t,v,b,k1,k2,omega0,tał,y_pir)"
   ]
  },
  {
   "cell_type": "code",
   "execution_count": 286,
   "metadata": {},
   "outputs": [
    {
     "data": {
      "text/plain": [
       "[<matplotlib.lines.Line2D at 0x211babdbbe0>]"
      ]
     },
     "execution_count": 286,
     "metadata": {},
     "output_type": "execute_result"
    },
    {
     "data": {
      "image/png": "[encoded data removed]",
      "text/plain": [
       "<Figure size 432x288 with 1 Axes>"
      ]
     },
     "metadata": {
      "needs_background": "light"
     },
     "output_type": "display_data"
    }
   ],
   "source": [
    "plt.plot(t,ex[0])"
   ]
  },
  {
   "cell_type": "code",
   "execution_count": 287,
   "metadata": {},
   "outputs": [],
   "source": [
    "def odeEuler_2nd_y(z0,u0,t,v,b,k1,k2,omega0,tał):  #2nd for y\n",
    "    g=9.81\n",
    "    y_pr=y_prime(b)\n",
    "    k=k1+(k2-k1)/(np.cos(omega0))*(-y_prime(b)/v)\n",
    "    #du=lambda u,t: -(1/m)*k*v*(u*np.cos(omega0*(1-np.exp(-t/tał)))+y_pr*np.sin(omega0*(1-np.exp(-t/tał))))\n",
    "    du=lambda u,t: -(1/m)*k*v*(y_pr*np.cos(omega0*(1-np.exp(-t/tał)))+u*np.sin(omega0*(1-np.exp(-t/tał))))- m*g\n",
    "\n",
    "    \n",
    "    u=np.zeros(len(t)) #u = x'\n",
    "    z=np.zeros(len(t)) #z = u'= x\"\n",
    "    u[0]=u0\n",
    "    z[0]=z0\n",
    "    for n in range(0,len(t)-1):\n",
    "        z[n+1]= z[n] + u[n]*(t[n+1] - t[n])\n",
    "        u[n+1] = u[n] + du(u[n],t[n])*(t[n+1] - t[n])\n",
    "    return [z,u]\n",
    "\n",
    "\n",
    "def odeEuler_2nd_exy(z0,u0,t,v,b,k1,k2,omega0,tał,y_pir):  #2nd for y experiment\n",
    "    g=9.81\n",
    "    y_pr=y_pir\n",
    "    k=k1+(k2-k1)/(np.cos(omega0))*(-y_prime(b)/v)\n",
    "    du=lambda u,t,y_pr: -(1/m)*k*v*(y_pr*np.cos(omega0*(1-np.exp(-t/tał)))+u*np.sin(omega0*(1-np.exp(-t/tał))))- m*g\n",
    "\n",
    "    \n",
    "    u=np.zeros(len(t)) #u = x'\n",
    "    z=np.zeros(len(t)) #z = u'= x\"\n",
    "    u[0]=u0\n",
    "    z[0]=z0\n",
    "    for n in range(0,len(t)-1):\n",
    "        z[n+1]= z[n] + u[n]*(t[n+1] - t[n])\n",
    "        u[n+1] = u[n] + du(u[n],t[n],y_pr[n])*(t[n+1] - t[n])\n",
    "    return [z,u]"
   ]
  },
  {
   "cell_type": "code",
   "execution_count": 288,
   "metadata": {},
   "outputs": [
    {
     "data": {
      "text/plain": [
       "[<matplotlib.lines.Line2D at 0x211b9b1d190>]"
      ]
     },
     "execution_count": 288,
     "metadata": {},
     "output_type": "execute_result"
    },
    {
     "data": {
      "image/png": "[encoded data removed]",
      "text/plain": [
       "<Figure size 432x288 with 1 Axes>"
      ]
     },
     "metadata": {
      "needs_background": "light"
     },
     "output_type": "display_data"
    }
   ],
   "source": [
    "ex_y=odeEuler_2nd_exy(z0,u0,t,v,b,k1,k2,omega0,tał,y_pir)\n",
    "plt.plot(t,ex_y[0])"
   ]
  },
  {
   "cell_type": "code",
   "execution_count": 289,
   "metadata": {},
   "outputs": [
    {
     "data": {
      "text/plain": [
       "[<matplotlib.lines.Line2D at 0x211bac60040>]"
      ]
     },
     "execution_count": 289,
     "metadata": {},
     "output_type": "execute_result"
    },
    {
     "data": {
      "image/png": "[encoded data removed]",
      "text/plain": [
       "<Figure size 432x288 with 1 Axes>"
      ]
     },
     "metadata": {
      "needs_background": "light"
     },
     "output_type": "display_data"
    }
   ],
   "source": [
    "plt.plot(ex[0],ex_y[0])\n",
    "plt.plot(ex[1],ex_y[1])"
   ]
  },
  {
   "cell_type": "code",
   "execution_count": 284,
   "metadata": {},
   "outputs": [],
   "source": [
    "z0=0\n",
    "t = np.linspace(0,5,1001)\n",
    "u0=2.8\n",
    "#m=60\n",
    "m=abs(k*v**2/9.81)\n",
    "v=26.5 #nie ma za dużo znaczenia, tylko zwiększa się wartości y\n",
    "b=17.34#0.05 #dla beta 1 psuje się, dopiero dla małych wartośi jak 0.05 jest okk \n",
    "#u0=0.5*np.cos(b)\n",
    "k1=0.001\n",
    "k2=0.65\n",
    "omega0=46.5\n",
    "tał=0.32\n",
    "sol=odeEuler_2nd(z0,u0,t,v,b,k1,k2,omega0,tał)\n",
    "sol_y=odeEuler_2nd_y(z0,u0,t,v,b,k1,k2,omega0,tał)\n",
    "k=k1+(k2-k1)/(np.cos(omega0))*(-y_prime(v,b)/v)\n",
    "#print(k*v**2/9.81)"
   ]
  },
  {
   "cell_type": "code",
   "execution_count": 245,
   "metadata": {},
   "outputs": [
    {
     "data": {
      "image/png": "[encoded data removed]",
      "text/plain": [
       "<Figure size 432x288 with 1 Axes>"
      ]
     },
     "metadata": {
      "needs_background": "light"
     },
     "output_type": "display_data"
    }
   ],
   "source": [
    "#plt.plot(sol[0],t,label='odwrócone')\n",
    "plt.plot(t,sol[0], label='git')\n",
    "plt.legend()\n",
    "plt.show()"
   ]
  },
  {
   "cell_type": "code",
   "execution_count": 229,
   "metadata": {},
   "outputs": [
    {
     "data": {
      "image/png": "[encoded data removed]",
      "text/plain": [
       "<Figure size 432x288 with 1 Axes>"
      ]
     },
     "metadata": {
      "needs_background": "light"
     },
     "output_type": "display_data"
    }
   ],
   "source": [
    "plt.plot(sol[1],sol_y[1])\n",
    "plt.show()"
   ]
  },
  {
   "cell_type": "code",
   "execution_count": 242,
   "metadata": {},
   "outputs": [
    {
     "data": {
      "image/png": "[encoded data removed]",
      "text/plain": [
       "<Figure size 432x288 with 1 Axes>"
      ]
     },
     "metadata": {
      "needs_background": "light"
     },
     "output_type": "display_data"
    }
   ],
   "source": [
    "plt.plot(t,sol_y[0], label='git')\n",
    "plt.legend()\n",
    "plt.show()"
   ]
  },
  {
   "cell_type": "markdown",
   "metadata": {},
   "source": [
    "złożenie, zobaczmy co z tego wyjdzie xdd"
   ]
  },
  {
   "cell_type": "code",
   "execution_count": 243,
   "metadata": {},
   "outputs": [
    {
     "data": {
      "image/png": "[encoded data removed]",
      "text/plain": [
       "<Figure size 432x288 with 1 Axes>"
      ]
     },
     "metadata": {
      "needs_background": "light"
     },
     "output_type": "display_data"
    }
   ],
   "source": [
    "plt.plot(sol[0],sol_y[0])\n",
    "#plt.ylim(-80,4)\n",
    "plt.grid()\n",
    "plt.show()"
   ]
  },
  {
   "cell_type": "markdown",
   "metadata": {},
   "source": [
    "czas na równania z wiatrem"
   ]
  },
  {
   "cell_type": "code",
   "execution_count": null,
   "metadata": {},
   "outputs": [],
   "source": [
    "def odeEuler_wind(z0,u0,t,v,b,k1,k2,omega0,tał): \n",
    "    g=9.81\n",
    "    y_pr=y_prime(v,b)\n",
    "    k=k1+(k2-k1)/(np.cos(omega0))*(-y_prime(v,b)/v)\n",
    "    du=lambda u,t: (1/m)*k*v*(y_pr*np.sin(omega0*(1-np.exp(-t/tał)))+u*np.cos(omega0*(1-np.exp(-t/tał))))- m*g\n",
    "\n",
    "    \n",
    "    u=np.zeros(len(t)) #u = x'\n",
    "    z=np.zeros(len(t)) #z = u'= x\"\n",
    "    u[0]=u0\n",
    "    z[0]=z0\n",
    "    for n in range(0,len(t)-1):\n",
    "        z[n+1]= z[n] + u[n]*(t[n+1] - t[n])\n",
    "        u[n+1] = u[n] + du(u[n],t[n])*(t[n+1] - t[n])\n",
    "    return [z,u]"
   ]
  }
 ],
 "metadata": {
  "kernelspec": {
   "display_name": "Python 3",
   "language": "python",
   "name": "python3"
  },
  "language_info": {
   "codemirror_mode": {
    "name": "ipython",
    "version": 3
   },
   "file_extension": ".py",
   "mimetype": "text/x-python",
   "name": "python",
   "nbconvert_exporter": "python",
   "pygments_lexer": "ipython3",
   "version": "3.8.5"
  }
 },
 "nbformat": 4,
 "nbformat_minor": 5
}
