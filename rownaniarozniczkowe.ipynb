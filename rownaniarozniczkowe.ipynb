{
 "cells": [
  {
   "cell_type": "code",
   "execution_count": 1,
   "metadata": {},
   "outputs": [],
   "source": [
    "from scipy.integrate import odeint\n",
    "import numpy as np\n",
    "import matplotlib.pyplot as plt"
   ]
  },
  {
   "cell_type": "code",
   "execution_count": 4,
   "metadata": {},
   "outputs": [],
   "source": [
    "def change_x(v,b): #pochodna x\n",
    "    dxdb= v*np.cos(b)\n",
    "    return dxdb\n",
    "    \n",
    "def change_y(v,b): #pierwsza pochodna y\n",
    "    dydb= v*np.sin(b)\n",
    "    return dydb"
   ]
  },
  {
   "cell_type": "code",
   "execution_count": 6,
   "metadata": {},
   "outputs": [
    {
     "data": {
      "text/plain": [
       "-0.8322936730942848"
      ]
     },
     "execution_count": 6,
     "metadata": {},
     "output_type": "execute_result"
    }
   ],
   "source": [
    "change_x(2,2)"
   ]
  },
  {
   "cell_type": "code",
   "execution_count": 2,
   "metadata": {},
   "outputs": [],
   "source": [
    "def change_x_second(v,b,k1,k2,omega0,t,tał):\n",
    "    k=(k2-k1)/(np.cos(omega0))*(-change_y(v,b)/v)\n",
    "    w=k*v**2\n",
    "    omega=omega0(1-np.exp(-t/tał))\n",
    "    \n",
    "    ddx=-(1/m)*w*np.cos(omega+b)\n",
    "    return ddx"
   ]
  },
  {
   "cell_type": "code",
   "execution_count": 3,
   "metadata": {},
   "outputs": [],
   "source": [
    "def change_y_second(v,b,k1,k2,omega0,t,tał):\n",
    "    g=9.81\n",
    "    k=(k2-k1)/(np.cos(omega0))*(-change_y(v,b)/v)\n",
    "    w=k*v**2\n",
    "    omega=omega0(1-np.exp(-t/tał))\n",
    "    \n",
    "    ddy=(1/m)*w*np.sin(omega+b)- m*g\n",
    "    return ddy"
   ]
  },
  {
   "cell_type": "code",
   "execution_count": null,
   "metadata": {},
   "outputs": [],
   "source": [
    "change"
   ]
  }
 ],
 "metadata": {
  "kernelspec": {
   "display_name": "Python 3",
   "language": "python",
   "name": "python3"
  },
  "language_info": {
   "codemirror_mode": {
    "name": "ipython",
    "version": 3
   },
   "file_extension": ".py",
   "mimetype": "text/x-python",
   "name": "python",
   "nbconvert_exporter": "python",
   "pygments_lexer": "ipython3",
   "version": "3.8.5"
  }
 },
 "nbformat": 4,
 "nbformat_minor": 5
}
