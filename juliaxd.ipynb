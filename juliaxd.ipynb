{
 "cells": [
  {
   "cell_type": "code",
   "execution_count": 11,
   "id": "rolled-genre",
   "metadata": {},
   "outputs": [
    {
     "data": {
      "text/plain": [
       "4.324812117348913"
      ]
     },
     "execution_count": 11,
     "metadata": {},
     "output_type": "execute_result"
    }
   ],
   "source": [
    "# dane\n",
    "g = 9.81\n",
    "m = 2\n",
    "vx₀ = 30\n",
    "α = π / 4\n",
    "vy₀=26.5\n",
    "v₀=30\n",
    "# obliczenia\n",
    "czas = (2 * v₀ * sin(α)) / g\n",
    "#zasieg = (v₀ ^ 2 * sin(2 * α)) / g\n",
    "h=80\n",
    "hₘ = h+((v₀ * sin(α)) ^ 2) / (2 * g)\n",
    "czas = (2 * v₀ * sin(α)) / g\n"
   ]
  },
  {
   "cell_type": "code",
   "execution_count": 16,
   "id": "blank-solution",
   "metadata": {},
   "outputs": [
    {
     "data": {
      "text/plain": [
       "x_num (generic function with 1 method)"
      ]
     },
     "execution_count": 16,
     "metadata": {},
     "output_type": "execute_result"
    }
   ],
   "source": [
    "function y_num(v₀, α, k, m, g,h, dt)\n",
    "    vy = zeros(floor(Int, czas / dt), 1)\n",
    "    vy[1] = v₀ * cos(α)\n",
    "    y = zeros(floor(Int, czas / dt), 1)\n",
    "    y[1] = 0\n",
    "    for i in (2 : floor(Int, czas / dt))\n",
    "        vy[i] = vy[i-1] - (g * dt) - (k / m) * vy[i-1] * dt\n",
    "        y[i] = y[i-1] + vy[i-1] * dt - ((1 / 2) * g * dt ^ 2) - (1 / 2) * (k / m) * vy[i-1] * dt ^ 2\n",
    "    end\n",
    "    return y\n",
    "end\n",
    "function x_num(v₀, α, k, m, dt)\n",
    "    vx = zeros(floor(Int, czas / dt), 1)\n",
    "    vx[1] = v₀ * cos(α)\n",
    "    x = zeros(floor(Int, czas / dt), 1)\n",
    "    x[1] = 0\n",
    "    for i in (2 : floor(Int, czas / dt))\n",
    "        vx[i] = vx[i-1] - (k / m) * vx[i-1] * dt\n",
    "        x[i] = x[i-1] + vx[i-1] * dt - (1 / 2) * (k / m) * vx[i-1] * dt ^ 2\n",
    "    end\n",
    "    return x\n",
    "end\n"
   ]
  },
  {
   "cell_type": "code",
   "execution_count": 13,
   "id": "daily-blowing",
   "metadata": {},
   "outputs": [
    {
     "data": {
      "text/plain": [
       "3748"
      ]
     },
     "execution_count": 13,
     "metadata": {},
     "output_type": "execute_result"
    }
   ],
   "source": [
    "dt=0.001\n",
    "k=0.5\n",
    "czas_opor = 0\n",
    "for i in (1 : floor(Int, czas / dt))\n",
    "    if abs(y_num(v₀, α, k, m, g, dt)[i]) < 0.007\n",
    "        czas_opor = i\n",
    "    end\n",
    "end\n",
    "czas_opor"
   ]
  },
  {
   "cell_type": "code",
   "execution_count": 14,
   "id": "unauthorized-guard",
   "metadata": {},
   "outputs": [
    {
     "data": {
      "text/plain": [
       "51.59648732658971"
      ]
     },
     "execution_count": 14,
     "metadata": {},
     "output_type": "execute_result"
    }
   ],
   "source": [
    "zasieg_opor = x_num(v₀, α, k, m, dt)[czas_opor]"
   ]
  },
  {
   "cell_type": "code",
   "execution_count": 21,
   "id": "domestic-massage",
   "metadata": {},
   "outputs": [
    {
     "data": {
      "text/plain": [
       "4324"
      ]
     },
     "execution_count": 21,
     "metadata": {},
     "output_type": "execute_result"
    }
   ],
   "source": [
    "h=80\n",
    "\n",
    "for i in (1 : floor(Int, czas / dt))\n",
    "    czas_opor=0\n",
    "    if abs(y_num(v₀, α, k, m, g, h,dt)[i]) < 80.007\n",
    "        czas_opor = i\n",
    "    end\n",
    "end\n",
    "\n",
    "czas_opor"
   ]
  },
  {
   "cell_type": "code",
   "execution_count": 23,
   "id": "hungarian-intellectual",
   "metadata": {},
   "outputs": [
    {
     "data": {
      "text/plain": [
       "0"
      ]
     },
     "execution_count": 23,
     "metadata": {},
     "output_type": "execute_result"
    }
   ],
   "source": [
    "czas_opor=4324\n",
    "czas_opor_end=0\n",
    "for j in (czas_opor : floor(Int, czas / dt))\n",
    "    if abs(y_num(v₀, α, k, m, g, h,dt)[j]) < 0.007\n",
    "        czas_opor_end = czas_opor+j\n",
    "    end\n",
    "end\n",
    "czas_opor_end"
   ]
  },
  {
   "cell_type": "code",
   "execution_count": null,
   "id": "missing-height",
   "metadata": {},
   "outputs": [],
   "source": []
  }
 ],
 "metadata": {
  "kernelspec": {
   "display_name": "Julia 1.5.3",
   "language": "julia",
   "name": "julia-1.5"
  },
  "language_info": {
   "file_extension": ".jl",
   "mimetype": "application/julia",
   "name": "julia",
   "version": "1.5.3"
  }
 },
 "nbformat": 4,
 "nbformat_minor": 5
}
