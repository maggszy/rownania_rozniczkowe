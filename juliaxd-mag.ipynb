{
 "cells": [
  {
   "cell_type": "code",
   "execution_count": 7,
   "metadata": {},
   "outputs": [
    {
     "data": {
      "text/plain": [
       "4.324812117348913"
      ]
     },
     "execution_count": 7,
     "metadata": {},
     "output_type": "execute_result"
    }
   ],
   "source": [
    "# dane\n",
    "g = 9.81\n",
    "m = 2\n",
    "vx₀ = 30\n",
    "α = π / 4\n",
    "vy₀=26.5\n",
    "v₀=30\n",
    "# obliczenia\n",
    "czas = (2 * v₀ * sin(α)) / g\n",
    "#zasieg = (v₀ ^ 2 * sin(2 * α)) / g\n",
    "h=80\n",
    "hₘ = h+((v₀ * sin(α)) ^ 2) / (2 * g)\n",
    "czas = (2 * v₀ * sin(α)) / g\n"
   ]
  },
  {
   "cell_type": "code",
   "execution_count": 8,
   "metadata": {},
   "outputs": [
    {
     "data": {
      "text/plain": [
       "x_num (generic function with 1 method)"
      ]
     },
     "execution_count": 8,
     "metadata": {},
     "output_type": "execute_result"
    }
   ],
   "source": [
    "function y_num(v₀, α, k, m, g,h, dt)\n",
    "    vy = zeros(floor(Int, czas / dt), 1)\n",
    "    vy[1] = v₀ * cos(α)\n",
    "    y = zeros(floor(Int, czas / dt), 1)\n",
    "    y[1] = 0\n",
    "    for i in (2 : floor(Int, czas / dt))\n",
    "        vy[i] = vy[i-1] - (g * dt) - (k / m) * vy[i-1] * dt\n",
    "        y[i] = y[i-1] + vy[i-1] * dt - ((1 / 2) * g * dt ^ 2) - (1 / 2) * (k / m) * vy[i-1] * dt ^ 2\n",
    "    end\n",
    "    return y\n",
    "end\n",
    "function x_num(v₀, α, k, m, dt)\n",
    "    vx = zeros(floor(Int, czas / dt), 1)\n",
    "    vx[1] = v₀ * cos(α)\n",
    "    x = zeros(floor(Int, czas / dt), 1)\n",
    "    x[1] = 0\n",
    "    for i in (2 : floor(Int, czas / dt))\n",
    "        vx[i] = vx[i-1] - (k / m) * vx[i-1] * dt\n",
    "        x[i] = x[i-1] + vx[i-1] * dt - (1 / 2) * (k / m) * vx[i-1] * dt ^ 2\n",
    "    end\n",
    "    return x\n",
    "end\n"
   ]
  },
  {
   "cell_type": "code",
   "execution_count": 13,
   "metadata": {},
   "outputs": [
    {
     "data": {
      "text/plain": [
       "3748"
      ]
     },
     "execution_count": 13,
     "metadata": {},
     "output_type": "execute_result"
    }
   ],
   "source": [
    "dt=0.001\n",
    "k=0.5\n",
    "czas_opor = 0\n",
    "for i in (1 : floor(Int, czas / dt))\n",
    "    if abs(y_num(v₀, α, k, m, g,h, dt)[i]) < 0.007\n",
    "        czas_opor = i\n",
    "    end\n",
    "end\n",
    "czas_opor"
   ]
  },
  {
   "cell_type": "code",
   "execution_count": 14,
   "metadata": {},
   "outputs": [
    {
     "data": {
      "text/plain": [
       "51.59648732658971"
      ]
     },
     "execution_count": 14,
     "metadata": {},
     "output_type": "execute_result"
    }
   ],
   "source": [
    "zasieg_opor = x_num(v₀, α, k, m, dt)[czas_opor]"
   ]
  },
  {
   "cell_type": "code",
   "execution_count": 11,
   "metadata": {},
   "outputs": [
    {
     "data": {
      "text/plain": [
       "4324"
      ]
     },
     "execution_count": 11,
     "metadata": {},
     "output_type": "execute_result"
    }
   ],
   "source": [
    "h=80\n",
    "\n",
    "for i in (1 : floor(Int, czas / dt))\n",
    "    czas_opor=0\n",
    "    if abs(y_num(v₀, α, k, m, g, h,dt)[i]) < 80.007\n",
    "        czas_opor = i\n",
    "    end\n",
    "end\n",
    "\n",
    "czas_opor"
   ]
  },
  {
   "cell_type": "code",
   "execution_count": 37,
   "metadata": {},
   "outputs": [
    {
     "data": {
      "text/plain": [
       "8648"
      ]
     },
     "execution_count": 37,
     "metadata": {},
     "output_type": "execute_result"
    }
   ],
   "source": [
    "czas_opor=4324\n",
    "#czas_opor_endd=0\n",
    "for j in (czas_opor : floor(Int, czas / dt))\n",
    "    czas_opor_endd=0\n",
    "    if abs(y_num(v₀, α, k, m, g, h,dt)[j]) < 10.07\n",
    "        czas_opor_endd = czas_opor+j\n",
    "    end\n",
    "end\n",
    "czas_opor_endd"
   ]
  },
  {
   "cell_type": "markdown",
   "metadata": {},
   "source": [
    "## wizualizacja "
   ]
  },
  {
   "cell_type": "code",
   "execution_count": 39,
   "metadata": {},
   "outputs": [],
   "source": [
    "using Plots\n",
    "using Printf"
   ]
  },
  {
   "cell_type": "code",
   "execution_count": 5,
   "metadata": {},
   "outputs": [
    {
     "data": {
      "text/plain": [
       "0.5299192642332049"
      ]
     },
     "execution_count": 5,
     "metadata": {},
     "output_type": "execute_result"
    }
   ],
   "source": [
    "#dane\n",
    "g=-9.81\n",
    "height_inrun = 150\n",
    "height_ramp = 100\n",
    "length_ramp = 15\n",
    "distance_max = height_inrun * 2\n",
    "\n",
    "angle_inrun = 35/180 * π\n",
    "angle_slope = 32/180 * π\n",
    "\n",
    "distance_ramp = (height_inrun - height_ramp)/tan(angle_inrun)\n",
    "length_slope = height_ramp / tan(angle_slope)\n",
    "distance_slope= distance_ramp + length_ramp + length_slope\n",
    "tan_inrun = tan(angle_inrun)\n",
    "tan_slope = tan(angle_slope)\n",
    "cos_inrun = cos(angle_inrun)\n",
    "cos_slope = cos(angle_slope)\n",
    "sin_inrun = sin(angle_inrun)\n",
    "sin_slope = sin(angle_slope)"
   ]
  },
  {
   "cell_type": "code",
   "execution_count": 50,
   "metadata": {},
   "outputs": [
    {
     "data": {
      "text/plain": [
       "ski (generic function with 1 method)"
      ]
     },
     "execution_count": 50,
     "metadata": {},
     "output_type": "execute_result"
    }
   ],
   "source": [
    "function draw_track()\n",
    "    axis_x = [0,distance_max] #not sure about these list xd\n",
    "    axis_y = [0,distance_max]\n",
    "    #nie wyświetla tego narazie\n",
    "    #plot(axis_x,axis_y,seriestype = :scatter, leg = false) \n",
    "    \n",
    "    track_x = []\n",
    "    track_y = []\n",
    "    \n",
    "    #draw the in-run\n",
    "    push!(track_x,0.0)\n",
    "    push!(track_y,height_inrun)\n",
    "    push!(track_x,distance_ramp)\n",
    "    push!(track_y,height_ramp)\n",
    "    #draw the ramp\n",
    "    push!(track_x,distance_ramp + length_ramp)\n",
    "    push!(track_y,height_ramp)\n",
    "    #draw the slope\n",
    "    push!(track_x,distance_slope)\n",
    "    push!(track_y,0)\n",
    "    \n",
    "    return track_x,track_y,axis_x,axis_y\n",
    "end\n",
    "\n",
    "function ski_a_bit(posx,posy,vx,vy,timebit)\n",
    "    gy=g\n",
    "    gx=0\n",
    "    \n",
    "    if posx < distance_ramp\n",
    "        gx= -g*sin_inrun*cos_inrun\n",
    "        gy= g*(1-cos_inrun*cos_inrun)\n",
    "        \n",
    "    elseif posx < distance_ramp + length_ramp\n",
    "        gx=0\n",
    "        gy=0\n",
    "\n",
    "        if vy!=0\n",
    "            vx=(vx^2 + vy^2)^0.5\n",
    "            @printf(\"Speed at ramp: %.2f m/s'\", vx)\n",
    "        end\n",
    "        #enforce a zero vertical speed as the ramp is 'flat'\n",
    "        vy=0\n",
    "    elseif posx < distance_slope\n",
    "        slope_height_posx = (distance_slope - posx)* tan_slope\n",
    "        if posy >= slope_height_posx -1.0\n",
    "            gx=gx\n",
    "            gy=gy\n",
    "        else\n",
    "            posy = slope_height_posx + 1 \n",
    "            \n",
    "            gx=-g*sin_slope*cos_slope\n",
    "            gy= g*(1-cos_slope*cos_slope)\n",
    "            angle_landing = atan(-vy/vx) - angle_slope\n",
    "            jumped = ((posx-(distance_ramp+length_ramp))^2 +(posy-height_ramp)^2)^0.5\n",
    "            v_new=(vx^2+vy^2)^0.5 * cos(angle_landing)\n",
    "            \n",
    "            vx= v_new * cos_slope\n",
    "            vy= -v_new * sin_slope\n",
    "            if angle_landing > 0.15\n",
    "                @printf(\"landing as angle %.f, speed at %.2fm/s, jumped %.2fm\",angle_landing,v_new,jumped)\n",
    "            end\n",
    "        end\n",
    "    else\n",
    "        gx=0\n",
    "    end\n",
    "    \n",
    "    if posy <0\n",
    "        gy=0\n",
    "        vx=(vx^2+vy^2)^0.5\n",
    "        vy=0\n",
    "    end\n",
    "    \n",
    "    #now suppose that we have the correct acceleration,speed and position\n",
    "    #calculate new position for x\n",
    "    vx += gx*timebit*0.5\n",
    "    posx += vx*timebit + 0.5*gx*timebit^2\n",
    "    vx += gx*timebit*0.5\n",
    "    #same for y\n",
    "    vy += gy*timebit*0.5\n",
    "    posy += vy*timebit + 0.5*gy*timebit^2\n",
    "    vy += gy*timebit*0.5 \n",
    "    \n",
    "    return posx,posy,vx,vy\n",
    "end\n",
    "\n",
    "function ski()\n",
    "    me_x = 0 \n",
    "    me_y = height_inrun\n",
    "    speed_x = 0\n",
    "    speed_y = 0\n",
    "    timebit = 0.02 #second\n",
    "    counter = 0\n",
    "    \n",
    "    motion_x=[]\n",
    "    motion_y=[]\n",
    "    \n",
    "    while me_x < distance_max\n",
    "        me_x,me_y,speed_x,speed_y= ski_a_bit(me_x,me_y,speed_x,speed_y, timebit)\n",
    "        counter += 1\n",
    "        if counter %10 ==0\n",
    "            push!(motion_x,me_x)\n",
    "            push!(motion_y,me_y)\n",
    "        end\n",
    "    end\n",
    "    \n",
    "    track_x,track_y,axis_x,axis_y=draw_track()\n",
    "    plot(axis_x,axis_y,seriestype = :scatter, leg = false) \n",
    "    plot!(track_x,track_y)\n",
    "    plot!(motion_x,motion_y, seriestype=:scatter)\n",
    "end\n",
    "    "
   ]
  },
  {
   "cell_type": "code",
   "execution_count": 51,
   "metadata": {},
   "outputs": [
    {
     "name": "stdout",
     "output_type": "stream",
     "text": [
      "Speed at ramp: 31.28 m/s'landing as angle 0.341646, speed at 47.43m/s, jumped 147.90m"
     ]
    },
    {
     "data": {
      "image/svg+xml": [
       "<?xml version=\"1.0\" encoding=\"utf-8\"?>\n",
       "<svg xmlns=\"http://www.w3.org/2000/svg\" xmlns:xlink=\"http://www.w3.org/1999/xlink\" width=\"600\" height=\"400\" viewBox=\"0 0 2400 1600\">\n",
       "<defs>\n",
       "  <clipPath id=\"clip020\">\n",
       "    <rect x=\"0\" y=\"0\" width=\"2400\" height=\"1600\"/>\n",
       "  </clipPath>\n",
       "</defs>\n",
       "<path clip-path=\"url(#clip020)\" d=\"\n",
       "M0 1600 L2400 1600 L2400 0 L0 0  Z\n",
       "  \" fill=\"#ffffff\" fill-rule=\"evenodd\" fill-opacity=\"1\"/>\n",
       "<defs>\n",
       "  <clipPath id=\"clip021\">\n",
       "    <rect x=\"480\" y=\"0\" width=\"1681\" height=\"1600\"/>\n",
       "  </clipPath>\n",
       "</defs>\n",
       "<path clip-path=\"url(#clip020)\" d=\"\n",
       "M163.774 1486.45 L2352.76 1486.45 L2352.76 47.2441 L163.774 47.2441  Z\n",
       "  \" fill=\"#ffffff\" fill-rule=\"evenodd\" fill-opacity=\"1\"/>\n",
       "<defs>\n",
       "  <clipPath id=\"clip022\">\n",
       "    <rect x=\"163\" y=\"47\" width=\"2190\" height=\"1440\"/>\n",
       "  </clipPath>\n",
       "</defs>\n",
       "<polyline clip-path=\"url(#clip022)\" style=\"stroke:#000000; stroke-width:2; stroke-opacity:0.1; fill:none\" points=\"\n",
       "  225.726,1486.45 225.726,47.2441 \n",
       "  \"/>\n",
       "<polyline clip-path=\"url(#clip022)\" style=\"stroke:#000000; stroke-width:2; stroke-opacity:0.1; fill:none\" points=\"\n",
       "  914.085,1486.45 914.085,47.2441 \n",
       "  \"/>\n",
       "<polyline clip-path=\"url(#clip022)\" style=\"stroke:#000000; stroke-width:2; stroke-opacity:0.1; fill:none\" points=\"\n",
       "  1602.44,1486.45 1602.44,47.2441 \n",
       "  \"/>\n",
       "<polyline clip-path=\"url(#clip022)\" style=\"stroke:#000000; stroke-width:2; stroke-opacity:0.1; fill:none\" points=\"\n",
       "  2290.8,1486.45 2290.8,47.2441 \n",
       "  \"/>\n",
       "<polyline clip-path=\"url(#clip020)\" style=\"stroke:#000000; stroke-width:4; stroke-opacity:1; fill:none\" points=\"\n",
       "  163.774,1486.45 2352.76,1486.45 \n",
       "  \"/>\n",
       "<polyline clip-path=\"url(#clip020)\" style=\"stroke:#000000; stroke-width:4; stroke-opacity:1; fill:none\" points=\"\n",
       "  225.726,1486.45 225.726,1469.18 \n",
       "  \"/>\n",
       "<polyline clip-path=\"url(#clip020)\" style=\"stroke:#000000; stroke-width:4; stroke-opacity:1; fill:none\" points=\"\n",
       "  914.085,1486.45 914.085,1469.18 \n",
       "  \"/>\n",
       "<polyline clip-path=\"url(#clip020)\" style=\"stroke:#000000; stroke-width:4; stroke-opacity:1; fill:none\" points=\"\n",
       "  1602.44,1486.45 1602.44,1469.18 \n",
       "  \"/>\n",
       "<polyline clip-path=\"url(#clip020)\" style=\"stroke:#000000; stroke-width:4; stroke-opacity:1; fill:none\" points=\"\n",
       "  2290.8,1486.45 2290.8,1469.18 \n",
       "  \"/>\n",
       "<path clip-path=\"url(#clip020)\" d=\"M 0 0 M225.726 1515.64 Q222.115 1515.64 220.287 1519.2 Q218.481 1522.75 218.481 1529.87 Q218.481 1536.98 220.287 1540.55 Q222.115 1544.09 225.726 1544.09 Q229.361 1544.09 231.166 1540.55 Q232.995 1536.98 232.995 1529.87 Q232.995 1522.75 231.166 1519.2 Q229.361 1515.64 225.726 1515.64 M225.726 1511.93 Q231.537 1511.93 234.592 1516.54 Q237.671 1521.12 237.671 1529.87 Q237.671 1538.6 234.592 1543.21 Q231.537 1547.79 225.726 1547.79 Q219.916 1547.79 216.838 1543.21 Q213.782 1538.6 213.782 1529.87 Q213.782 1521.12 216.838 1516.54 Q219.916 1511.93 225.726 1511.93 Z\" fill=\"#000000\" fill-rule=\"evenodd\" fill-opacity=\"1\" /><path clip-path=\"url(#clip020)\" d=\"M 0 0 M877.454 1543.18 L885.093 1543.18 L885.093 1516.82 L876.782 1518.49 L876.782 1514.23 L885.046 1512.56 L889.722 1512.56 L889.722 1543.18 L897.361 1543.18 L897.361 1547.12 L877.454 1547.12 L877.454 1543.18 Z\" fill=\"#000000\" fill-rule=\"evenodd\" fill-opacity=\"1\" /><path clip-path=\"url(#clip020)\" d=\"M 0 0 M912.43 1515.64 Q908.819 1515.64 906.991 1519.2 Q905.185 1522.75 905.185 1529.87 Q905.185 1536.98 906.991 1540.55 Q908.819 1544.09 912.43 1544.09 Q916.065 1544.09 917.87 1540.55 Q919.699 1536.98 919.699 1529.87 Q919.699 1522.75 917.87 1519.2 Q916.065 1515.64 912.43 1515.64 M912.43 1511.93 Q918.241 1511.93 921.296 1516.54 Q924.375 1521.12 924.375 1529.87 Q924.375 1538.6 921.296 1543.21 Q918.241 1547.79 912.43 1547.79 Q906.62 1547.79 903.542 1543.21 Q900.486 1538.6 900.486 1529.87 Q900.486 1521.12 903.542 1516.54 Q906.62 1511.93 912.43 1511.93 Z\" fill=\"#000000\" fill-rule=\"evenodd\" fill-opacity=\"1\" /><path clip-path=\"url(#clip020)\" d=\"M 0 0 M939.444 1515.64 Q935.833 1515.64 934.004 1519.2 Q932.199 1522.75 932.199 1529.87 Q932.199 1536.98 934.004 1540.55 Q935.833 1544.09 939.444 1544.09 Q943.078 1544.09 944.884 1540.55 Q946.713 1536.98 946.713 1529.87 Q946.713 1522.75 944.884 1519.2 Q943.078 1515.64 939.444 1515.64 M939.444 1511.93 Q945.254 1511.93 948.31 1516.54 Q951.389 1521.12 951.389 1529.87 Q951.389 1538.6 948.31 1543.21 Q945.254 1547.79 939.444 1547.79 Q933.634 1547.79 930.555 1543.21 Q927.5 1538.6 927.5 1529.87 Q927.5 1521.12 930.555 1516.54 Q933.634 1511.93 939.444 1511.93 Z\" fill=\"#000000\" fill-rule=\"evenodd\" fill-opacity=\"1\" /><path clip-path=\"url(#clip020)\" d=\"M 0 0 M1570.08 1543.18 L1586.4 1543.18 L1586.4 1547.12 L1564.46 1547.12 L1564.46 1543.18 Q1567.12 1540.43 1571.7 1535.8 Q1576.31 1531.15 1577.49 1529.81 Q1579.74 1527.28 1580.62 1525.55 Q1581.52 1523.79 1581.52 1522.1 Q1581.52 1519.34 1579.57 1517.61 Q1577.65 1515.87 1574.55 1515.87 Q1572.35 1515.87 1569.9 1516.63 Q1567.47 1517.4 1564.69 1518.95 L1564.69 1514.23 Q1567.51 1513.09 1569.97 1512.51 Q1572.42 1511.93 1574.46 1511.93 Q1579.83 1511.93 1583.02 1514.62 Q1586.22 1517.31 1586.22 1521.8 Q1586.22 1523.93 1585.41 1525.85 Q1584.62 1527.74 1582.51 1530.34 Q1581.94 1531.01 1578.83 1534.23 Q1575.73 1537.42 1570.08 1543.18 Z\" fill=\"#000000\" fill-rule=\"evenodd\" fill-opacity=\"1\" /><path clip-path=\"url(#clip020)\" d=\"M 0 0 M1601.47 1515.64 Q1597.86 1515.64 1596.03 1519.2 Q1594.23 1522.75 1594.23 1529.87 Q1594.23 1536.98 1596.03 1540.55 Q1597.86 1544.09 1601.47 1544.09 Q1605.11 1544.09 1606.91 1540.55 Q1608.74 1536.98 1608.74 1529.87 Q1608.74 1522.75 1606.91 1519.2 Q1605.11 1515.64 1601.47 1515.64 M1601.47 1511.93 Q1607.28 1511.93 1610.34 1516.54 Q1613.42 1521.12 1613.42 1529.87 Q1613.42 1538.6 1610.34 1543.21 Q1607.28 1547.79 1601.47 1547.79 Q1595.66 1547.79 1592.58 1543.21 Q1589.53 1538.6 1589.53 1529.87 Q1589.53 1521.12 1592.58 1516.54 Q1595.66 1511.93 1601.47 1511.93 Z\" fill=\"#000000\" fill-rule=\"evenodd\" fill-opacity=\"1\" /><path clip-path=\"url(#clip020)\" d=\"M 0 0 M1628.49 1515.64 Q1624.87 1515.64 1623.05 1519.2 Q1621.24 1522.75 1621.24 1529.87 Q1621.24 1536.98 1623.05 1540.55 Q1624.87 1544.09 1628.49 1544.09 Q1632.12 1544.09 1633.93 1540.55 Q1635.75 1536.98 1635.75 1529.87 Q1635.75 1522.75 1633.93 1519.2 Q1632.12 1515.64 1628.49 1515.64 M1628.49 1511.93 Q1634.3 1511.93 1637.35 1516.54 Q1640.43 1521.12 1640.43 1529.87 Q1640.43 1538.6 1637.35 1543.21 Q1634.3 1547.79 1628.49 1547.79 Q1622.68 1547.79 1619.6 1543.21 Q1616.54 1538.6 1616.54 1529.87 Q1616.54 1521.12 1619.6 1516.54 Q1622.68 1511.93 1628.49 1511.93 Z\" fill=\"#000000\" fill-rule=\"evenodd\" fill-opacity=\"1\" /><path clip-path=\"url(#clip020)\" d=\"M 0 0 M2268.04 1528.49 Q2271.39 1529.2 2273.27 1531.47 Q2275.17 1533.74 2275.17 1537.07 Q2275.17 1542.19 2271.65 1544.99 Q2268.13 1547.79 2261.65 1547.79 Q2259.47 1547.79 2257.16 1547.35 Q2254.87 1546.93 2252.41 1546.08 L2252.41 1541.56 Q2254.36 1542.7 2256.67 1543.28 Q2258.99 1543.86 2261.51 1543.86 Q2265.91 1543.86 2268.2 1542.12 Q2270.51 1540.38 2270.51 1537.07 Q2270.51 1534.02 2268.36 1532.31 Q2266.23 1530.57 2262.41 1530.57 L2258.38 1530.57 L2258.38 1526.73 L2262.6 1526.73 Q2266.05 1526.73 2267.88 1525.36 Q2269.7 1523.97 2269.7 1521.38 Q2269.7 1518.72 2267.81 1517.31 Q2265.93 1515.87 2262.41 1515.87 Q2260.49 1515.87 2258.29 1516.29 Q2256.09 1516.7 2253.45 1517.58 L2253.45 1513.42 Q2256.12 1512.68 2258.43 1512.31 Q2260.77 1511.93 2262.83 1511.93 Q2268.15 1511.93 2271.26 1514.37 Q2274.36 1516.77 2274.36 1520.89 Q2274.36 1523.76 2272.71 1525.75 Q2271.07 1527.72 2268.04 1528.49 Z\" fill=\"#000000\" fill-rule=\"evenodd\" fill-opacity=\"1\" /><path clip-path=\"url(#clip020)\" d=\"M 0 0 M2290.24 1515.64 Q2286.63 1515.64 2284.8 1519.2 Q2282.99 1522.75 2282.99 1529.87 Q2282.99 1536.98 2284.8 1540.55 Q2286.63 1544.09 2290.24 1544.09 Q2293.87 1544.09 2295.68 1540.55 Q2297.5 1536.98 2297.5 1529.87 Q2297.5 1522.75 2295.68 1519.2 Q2293.87 1515.64 2290.24 1515.64 M2290.24 1511.93 Q2296.05 1511.93 2299.1 1516.54 Q2302.18 1521.12 2302.18 1529.87 Q2302.18 1538.6 2299.1 1543.21 Q2296.05 1547.79 2290.24 1547.79 Q2284.43 1547.79 2281.35 1543.21 Q2278.29 1538.6 2278.29 1529.87 Q2278.29 1521.12 2281.35 1516.54 Q2284.43 1511.93 2290.24 1511.93 Z\" fill=\"#000000\" fill-rule=\"evenodd\" fill-opacity=\"1\" /><path clip-path=\"url(#clip020)\" d=\"M 0 0 M2317.25 1515.64 Q2313.64 1515.64 2311.81 1519.2 Q2310 1522.75 2310 1529.87 Q2310 1536.98 2311.81 1540.55 Q2313.64 1544.09 2317.25 1544.09 Q2320.88 1544.09 2322.69 1540.55 Q2324.52 1536.98 2324.52 1529.87 Q2324.52 1522.75 2322.69 1519.2 Q2320.88 1515.64 2317.25 1515.64 M2317.25 1511.93 Q2323.06 1511.93 2326.12 1516.54 Q2329.19 1521.12 2329.19 1529.87 Q2329.19 1538.6 2326.12 1543.21 Q2323.06 1547.79 2317.25 1547.79 Q2311.44 1547.79 2308.36 1543.21 Q2305.31 1538.6 2305.31 1529.87 Q2305.31 1521.12 2308.36 1516.54 Q2311.44 1511.93 2317.25 1511.93 Z\" fill=\"#000000\" fill-rule=\"evenodd\" fill-opacity=\"1\" /><polyline clip-path=\"url(#clip022)\" style=\"stroke:#000000; stroke-width:2; stroke-opacity:0.1; fill:none\" points=\"\n",
       "  163.774,1443.74 2352.76,1443.74 \n",
       "  \"/>\n",
       "<polyline clip-path=\"url(#clip022)\" style=\"stroke:#000000; stroke-width:2; stroke-opacity:0.1; fill:none\" points=\"\n",
       "  163.774,991.82 2352.76,991.82 \n",
       "  \"/>\n",
       "<polyline clip-path=\"url(#clip022)\" style=\"stroke:#000000; stroke-width:2; stroke-opacity:0.1; fill:none\" points=\"\n",
       "  163.774,539.898 2352.76,539.898 \n",
       "  \"/>\n",
       "<polyline clip-path=\"url(#clip022)\" style=\"stroke:#000000; stroke-width:2; stroke-opacity:0.1; fill:none\" points=\"\n",
       "  163.774,87.9763 2352.76,87.9763 \n",
       "  \"/>\n",
       "<polyline clip-path=\"url(#clip020)\" style=\"stroke:#000000; stroke-width:4; stroke-opacity:1; fill:none\" points=\"\n",
       "  163.774,1486.45 163.774,47.2441 \n",
       "  \"/>\n",
       "<polyline clip-path=\"url(#clip020)\" style=\"stroke:#000000; stroke-width:4; stroke-opacity:1; fill:none\" points=\"\n",
       "  163.774,1443.74 190.042,1443.74 \n",
       "  \"/>\n",
       "<polyline clip-path=\"url(#clip020)\" style=\"stroke:#000000; stroke-width:4; stroke-opacity:1; fill:none\" points=\"\n",
       "  163.774,991.82 190.042,991.82 \n",
       "  \"/>\n",
       "<polyline clip-path=\"url(#clip020)\" style=\"stroke:#000000; stroke-width:4; stroke-opacity:1; fill:none\" points=\"\n",
       "  163.774,539.898 190.042,539.898 \n",
       "  \"/>\n",
       "<polyline clip-path=\"url(#clip020)\" style=\"stroke:#000000; stroke-width:4; stroke-opacity:1; fill:none\" points=\"\n",
       "  163.774,87.9763 190.042,87.9763 \n",
       "  \"/>\n",
       "<path clip-path=\"url(#clip020)\" d=\"M 0 0 M115.83 1429.54 Q112.219 1429.54 110.39 1433.1 Q108.584 1436.65 108.584 1443.78 Q108.584 1450.88 110.39 1454.45 Q112.219 1457.99 115.83 1457.99 Q119.464 1457.99 121.27 1454.45 Q123.098 1450.88 123.098 1443.78 Q123.098 1436.65 121.27 1433.1 Q119.464 1429.54 115.83 1429.54 M115.83 1425.84 Q121.64 1425.84 124.695 1430.44 Q127.774 1435.03 127.774 1443.78 Q127.774 1452.5 124.695 1457.11 Q121.64 1461.69 115.83 1461.69 Q110.02 1461.69 106.941 1457.11 Q103.885 1452.5 103.885 1443.78 Q103.885 1435.03 106.941 1430.44 Q110.02 1425.84 115.83 1425.84 Z\" fill=\"#000000\" fill-rule=\"evenodd\" fill-opacity=\"1\" /><path clip-path=\"url(#clip020)\" d=\"M 0 0 M53.8393 1005.16 L61.4782 1005.16 L61.4782 978.799 L53.168 980.465 L53.168 976.206 L61.4319 974.54 L66.1078 974.54 L66.1078 1005.16 L73.7466 1005.16 L73.7466 1009.1 L53.8393 1009.1 L53.8393 1005.16 Z\" fill=\"#000000\" fill-rule=\"evenodd\" fill-opacity=\"1\" /><path clip-path=\"url(#clip020)\" d=\"M 0 0 M88.816 977.618 Q85.2049 977.618 83.3762 981.183 Q81.5707 984.725 81.5707 991.854 Q81.5707 998.961 83.3762 1002.53 Q85.2049 1006.07 88.816 1006.07 Q92.4502 1006.07 94.2558 1002.53 Q96.0845 998.961 96.0845 991.854 Q96.0845 984.725 94.2558 981.183 Q92.4502 977.618 88.816 977.618 M88.816 973.915 Q94.6262 973.915 97.6817 978.521 Q100.76 983.104 100.76 991.854 Q100.76 1000.58 97.6817 1005.19 Q94.6262 1009.77 88.816 1009.77 Q83.0058 1009.77 79.9272 1005.19 Q76.8716 1000.58 76.8716 991.854 Q76.8716 983.104 79.9272 978.521 Q83.0058 973.915 88.816 973.915 Z\" fill=\"#000000\" fill-rule=\"evenodd\" fill-opacity=\"1\" /><path clip-path=\"url(#clip020)\" d=\"M 0 0 M115.83 977.618 Q112.219 977.618 110.39 981.183 Q108.584 984.725 108.584 991.854 Q108.584 998.961 110.39 1002.53 Q112.219 1006.07 115.83 1006.07 Q119.464 1006.07 121.27 1002.53 Q123.098 998.961 123.098 991.854 Q123.098 984.725 121.27 981.183 Q119.464 977.618 115.83 977.618 M115.83 973.915 Q121.64 973.915 124.695 978.521 Q127.774 983.104 127.774 991.854 Q127.774 1000.58 124.695 1005.19 Q121.64 1009.77 115.83 1009.77 Q110.02 1009.77 106.941 1005.19 Q103.885 1000.58 103.885 991.854 Q103.885 983.104 106.941 978.521 Q110.02 973.915 115.83 973.915 Z\" fill=\"#000000\" fill-rule=\"evenodd\" fill-opacity=\"1\" /><path clip-path=\"url(#clip020)\" d=\"M 0 0 M57.4273 553.243 L73.7466 553.243 L73.7466 557.178 L51.8023 557.178 L51.8023 553.243 Q54.4643 550.488 59.0476 545.859 Q63.6541 541.206 64.8346 539.863 Q67.08 537.34 67.9596 535.604 Q68.8624 533.845 68.8624 532.155 Q68.8624 529.4 66.918 527.664 Q64.9967 525.928 61.8948 525.928 Q59.6958 525.928 57.2421 526.692 Q54.8115 527.456 52.0338 529.007 L52.0338 524.285 Q54.8578 523.15 57.3115 522.572 Q59.7652 521.993 61.8023 521.993 Q67.1726 521.993 70.367 524.678 Q73.5614 527.363 73.5614 531.854 Q73.5614 533.984 72.7513 535.905 Q71.9642 537.803 69.8578 540.396 Q69.2791 541.067 66.1772 544.284 Q63.0754 547.479 57.4273 553.243 Z\" fill=\"#000000\" fill-rule=\"evenodd\" fill-opacity=\"1\" /><path clip-path=\"url(#clip020)\" d=\"M 0 0 M88.816 525.697 Q85.2049 525.697 83.3762 529.261 Q81.5707 532.803 81.5707 539.933 Q81.5707 547.039 83.3762 550.604 Q85.2049 554.146 88.816 554.146 Q92.4502 554.146 94.2558 550.604 Q96.0845 547.039 96.0845 539.933 Q96.0845 532.803 94.2558 529.261 Q92.4502 525.697 88.816 525.697 M88.816 521.993 Q94.6262 521.993 97.6817 526.599 Q100.76 531.183 100.76 539.933 Q100.76 548.659 97.6817 553.266 Q94.6262 557.849 88.816 557.849 Q83.0058 557.849 79.9272 553.266 Q76.8716 548.659 76.8716 539.933 Q76.8716 531.183 79.9272 526.599 Q83.0058 521.993 88.816 521.993 Z\" fill=\"#000000\" fill-rule=\"evenodd\" fill-opacity=\"1\" /><path clip-path=\"url(#clip020)\" d=\"M 0 0 M115.83 525.697 Q112.219 525.697 110.39 529.261 Q108.584 532.803 108.584 539.933 Q108.584 547.039 110.39 550.604 Q112.219 554.146 115.83 554.146 Q119.464 554.146 121.27 550.604 Q123.098 547.039 123.098 539.933 Q123.098 532.803 121.27 529.261 Q119.464 525.697 115.83 525.697 M115.83 521.993 Q121.64 521.993 124.695 526.599 Q127.774 531.183 127.774 539.933 Q127.774 548.659 124.695 553.266 Q121.64 557.849 115.83 557.849 Q110.02 557.849 106.941 553.266 Q103.885 548.659 103.885 539.933 Q103.885 531.183 106.941 526.599 Q110.02 521.993 115.83 521.993 Z\" fill=\"#000000\" fill-rule=\"evenodd\" fill-opacity=\"1\" /><path clip-path=\"url(#clip020)\" d=\"M 0 0 M66.617 86.6221 Q69.9735 87.3397 71.8485 89.6082 Q73.7466 91.8767 73.7466 95.21 Q73.7466 100.326 70.2281 103.127 Q66.7096 105.928 60.2282 105.928 Q58.0523 105.928 55.7375 105.488 Q53.4458 105.071 50.9921 104.215 L50.9921 99.7008 Q52.9366 100.835 55.2514 101.414 Q57.5662 101.992 60.0893 101.992 Q64.4874 101.992 66.7791 100.256 Q69.0939 98.5202 69.0939 95.21 Q69.0939 92.1545 66.9411 90.4415 Q64.8115 88.7054 60.9921 88.7054 L56.9643 88.7054 L56.9643 84.8629 L61.1773 84.8629 Q64.6263 84.8629 66.455 83.4971 Q68.2837 82.1083 68.2837 79.5157 Q68.2837 76.8537 66.3856 75.4416 Q64.5106 74.0064 60.9921 74.0064 Q59.0708 74.0064 56.8717 74.4231 Q54.6727 74.8398 52.0338 75.7194 L52.0338 71.5528 Q54.6958 70.812 57.0106 70.4416 Q59.3486 70.0713 61.4087 70.0713 Q66.7328 70.0713 69.8346 72.5018 Q72.9365 74.9092 72.9365 79.0296 Q72.9365 81.8999 71.2929 83.8907 Q69.6494 85.8582 66.617 86.6221 Z\" fill=\"#000000\" fill-rule=\"evenodd\" fill-opacity=\"1\" /><path clip-path=\"url(#clip020)\" d=\"M 0 0 M88.816 73.775 Q85.2049 73.775 83.3762 77.3398 Q81.5707 80.8814 81.5707 88.011 Q81.5707 95.1174 83.3762 98.6822 Q85.2049 102.224 88.816 102.224 Q92.4502 102.224 94.2558 98.6822 Q96.0845 95.1174 96.0845 88.011 Q96.0845 80.8814 94.2558 77.3398 Q92.4502 73.775 88.816 73.775 M88.816 70.0713 Q94.6262 70.0713 97.6817 74.6777 Q100.76 79.261 100.76 88.011 Q100.76 96.7378 97.6817 101.344 Q94.6262 105.928 88.816 105.928 Q83.0058 105.928 79.9272 101.344 Q76.8716 96.7378 76.8716 88.011 Q76.8716 79.261 79.9272 74.6777 Q83.0058 70.0713 88.816 70.0713 Z\" fill=\"#000000\" fill-rule=\"evenodd\" fill-opacity=\"1\" /><path clip-path=\"url(#clip020)\" d=\"M 0 0 M115.83 73.775 Q112.219 73.775 110.39 77.3398 Q108.584 80.8814 108.584 88.011 Q108.584 95.1174 110.39 98.6822 Q112.219 102.224 115.83 102.224 Q119.464 102.224 121.27 98.6822 Q123.098 95.1174 123.098 88.011 Q123.098 80.8814 121.27 77.3398 Q119.464 73.775 115.83 73.775 M115.83 70.0713 Q121.64 70.0713 124.695 74.6777 Q127.774 79.261 127.774 88.011 Q127.774 96.7378 124.695 101.344 Q121.64 105.928 115.83 105.928 Q110.02 105.928 106.941 101.344 Q103.885 96.7378 103.885 88.011 Q103.885 79.261 106.941 74.6777 Q110.02 70.0713 115.83 70.0713 Z\" fill=\"#000000\" fill-rule=\"evenodd\" fill-opacity=\"1\" /><circle clip-path=\"url(#clip022)\" cx=\"225.726\" cy=\"1443.74\" r=\"14\" fill=\"#009af9\" fill-rule=\"evenodd\" fill-opacity=\"1\" stroke=\"#000000\" stroke-opacity=\"1\" stroke-width=\"3.2\"/>\n",
       "<circle clip-path=\"url(#clip022)\" cx=\"2290.8\" cy=\"87.9763\" r=\"14\" fill=\"#009af9\" fill-rule=\"evenodd\" fill-opacity=\"1\" stroke=\"#000000\" stroke-opacity=\"1\" stroke-width=\"3.2\"/>\n",
       "<polyline clip-path=\"url(#clip022)\" style=\"stroke:#e26f46; stroke-width:4; stroke-opacity:1; fill:none\" points=\"\n",
       "  225.726,765.859 717.266,991.82 820.52,991.82 1922.12,1443.74 \n",
       "  \"/>\n",
       "<circle clip-path=\"url(#clip022)\" cx=\"226.424\" cy=\"766.18\" r=\"14\" fill=\"#3da44d\" fill-rule=\"evenodd\" fill-opacity=\"1\" stroke=\"#000000\" stroke-opacity=\"1\" stroke-width=\"3.2\"/>\n",
       "<circle clip-path=\"url(#clip022)\" cx=\"228.392\" cy=\"767.084\" r=\"14\" fill=\"#3da44d\" fill-rule=\"evenodd\" fill-opacity=\"1\" stroke=\"#000000\" stroke-opacity=\"1\" stroke-width=\"3.2\"/>\n",
       "<circle clip-path=\"url(#clip022)\" cx=\"231.628\" cy=\"768.572\" r=\"14\" fill=\"#3da44d\" fill-rule=\"evenodd\" fill-opacity=\"1\" stroke=\"#000000\" stroke-opacity=\"1\" stroke-width=\"3.2\"/>\n",
       "<circle clip-path=\"url(#clip022)\" cx=\"236.133\" cy=\"770.643\" r=\"14\" fill=\"#3da44d\" fill-rule=\"evenodd\" fill-opacity=\"1\" stroke=\"#000000\" stroke-opacity=\"1\" stroke-width=\"3.2\"/>\n",
       "<circle clip-path=\"url(#clip022)\" cx=\"241.908\" cy=\"773.297\" r=\"14\" fill=\"#3da44d\" fill-rule=\"evenodd\" fill-opacity=\"1\" stroke=\"#000000\" stroke-opacity=\"1\" stroke-width=\"3.2\"/>\n",
       "<circle clip-path=\"url(#clip022)\" cx=\"248.951\" cy=\"776.535\" r=\"14\" fill=\"#3da44d\" fill-rule=\"evenodd\" fill-opacity=\"1\" stroke=\"#000000\" stroke-opacity=\"1\" stroke-width=\"3.2\"/>\n",
       "<circle clip-path=\"url(#clip022)\" cx=\"257.264\" cy=\"780.356\" r=\"14\" fill=\"#3da44d\" fill-rule=\"evenodd\" fill-opacity=\"1\" stroke=\"#000000\" stroke-opacity=\"1\" stroke-width=\"3.2\"/>\n",
       "<circle clip-path=\"url(#clip022)\" cx=\"266.846\" cy=\"784.761\" r=\"14\" fill=\"#3da44d\" fill-rule=\"evenodd\" fill-opacity=\"1\" stroke=\"#000000\" stroke-opacity=\"1\" stroke-width=\"3.2\"/>\n",
       "<circle clip-path=\"url(#clip022)\" cx=\"277.697\" cy=\"789.749\" r=\"14\" fill=\"#3da44d\" fill-rule=\"evenodd\" fill-opacity=\"1\" stroke=\"#000000\" stroke-opacity=\"1\" stroke-width=\"3.2\"/>\n",
       "<circle clip-path=\"url(#clip022)\" cx=\"289.817\" cy=\"795.321\" r=\"14\" fill=\"#3da44d\" fill-rule=\"evenodd\" fill-opacity=\"1\" stroke=\"#000000\" stroke-opacity=\"1\" stroke-width=\"3.2\"/>\n",
       "<circle clip-path=\"url(#clip022)\" cx=\"303.206\" cy=\"801.476\" r=\"14\" fill=\"#3da44d\" fill-rule=\"evenodd\" fill-opacity=\"1\" stroke=\"#000000\" stroke-opacity=\"1\" stroke-width=\"3.2\"/>\n",
       "<circle clip-path=\"url(#clip022)\" cx=\"317.864\" cy=\"808.214\" r=\"14\" fill=\"#3da44d\" fill-rule=\"evenodd\" fill-opacity=\"1\" stroke=\"#000000\" stroke-opacity=\"1\" stroke-width=\"3.2\"/>\n",
       "<circle clip-path=\"url(#clip022)\" cx=\"333.791\" cy=\"815.536\" r=\"14\" fill=\"#3da44d\" fill-rule=\"evenodd\" fill-opacity=\"1\" stroke=\"#000000\" stroke-opacity=\"1\" stroke-width=\"3.2\"/>\n",
       "<circle clip-path=\"url(#clip022)\" cx=\"350.988\" cy=\"823.441\" r=\"14\" fill=\"#3da44d\" fill-rule=\"evenodd\" fill-opacity=\"1\" stroke=\"#000000\" stroke-opacity=\"1\" stroke-width=\"3.2\"/>\n",
       "<circle clip-path=\"url(#clip022)\" cx=\"369.453\" cy=\"831.93\" r=\"14\" fill=\"#3da44d\" fill-rule=\"evenodd\" fill-opacity=\"1\" stroke=\"#000000\" stroke-opacity=\"1\" stroke-width=\"3.2\"/>\n",
       "<circle clip-path=\"url(#clip022)\" cx=\"389.188\" cy=\"841.002\" r=\"14\" fill=\"#3da44d\" fill-rule=\"evenodd\" fill-opacity=\"1\" stroke=\"#000000\" stroke-opacity=\"1\" stroke-width=\"3.2\"/>\n",
       "<circle clip-path=\"url(#clip022)\" cx=\"410.192\" cy=\"850.658\" r=\"14\" fill=\"#3da44d\" fill-rule=\"evenodd\" fill-opacity=\"1\" stroke=\"#000000\" stroke-opacity=\"1\" stroke-width=\"3.2\"/>\n",
       "<circle clip-path=\"url(#clip022)\" cx=\"432.465\" cy=\"860.896\" r=\"14\" fill=\"#3da44d\" fill-rule=\"evenodd\" fill-opacity=\"1\" stroke=\"#000000\" stroke-opacity=\"1\" stroke-width=\"3.2\"/>\n",
       "<circle clip-path=\"url(#clip022)\" cx=\"456.007\" cy=\"871.719\" r=\"14\" fill=\"#3da44d\" fill-rule=\"evenodd\" fill-opacity=\"1\" stroke=\"#000000\" stroke-opacity=\"1\" stroke-width=\"3.2\"/>\n",
       "<circle clip-path=\"url(#clip022)\" cx=\"480.818\" cy=\"883.124\" r=\"14\" fill=\"#3da44d\" fill-rule=\"evenodd\" fill-opacity=\"1\" stroke=\"#000000\" stroke-opacity=\"1\" stroke-width=\"3.2\"/>\n",
       "<circle clip-path=\"url(#clip022)\" cx=\"506.898\" cy=\"895.113\" r=\"14\" fill=\"#3da44d\" fill-rule=\"evenodd\" fill-opacity=\"1\" stroke=\"#000000\" stroke-opacity=\"1\" stroke-width=\"3.2\"/>\n",
       "<circle clip-path=\"url(#clip022)\" cx=\"534.247\" cy=\"907.686\" r=\"14\" fill=\"#3da44d\" fill-rule=\"evenodd\" fill-opacity=\"1\" stroke=\"#000000\" stroke-opacity=\"1\" stroke-width=\"3.2\"/>\n",
       "<circle clip-path=\"url(#clip022)\" cx=\"562.866\" cy=\"920.842\" r=\"14\" fill=\"#3da44d\" fill-rule=\"evenodd\" fill-opacity=\"1\" stroke=\"#000000\" stroke-opacity=\"1\" stroke-width=\"3.2\"/>\n",
       "<circle clip-path=\"url(#clip022)\" cx=\"592.754\" cy=\"934.581\" r=\"14\" fill=\"#3da44d\" fill-rule=\"evenodd\" fill-opacity=\"1\" stroke=\"#000000\" stroke-opacity=\"1\" stroke-width=\"3.2\"/>\n",
       "<circle clip-path=\"url(#clip022)\" cx=\"623.91\" cy=\"948.904\" r=\"14\" fill=\"#3da44d\" fill-rule=\"evenodd\" fill-opacity=\"1\" stroke=\"#000000\" stroke-opacity=\"1\" stroke-width=\"3.2\"/>\n",
       "<circle clip-path=\"url(#clip022)\" cx=\"656.336\" cy=\"963.81\" r=\"14\" fill=\"#3da44d\" fill-rule=\"evenodd\" fill-opacity=\"1\" stroke=\"#000000\" stroke-opacity=\"1\" stroke-width=\"3.2\"/>\n",
       "<circle clip-path=\"url(#clip022)\" cx=\"690.031\" cy=\"979.3\" r=\"14\" fill=\"#3da44d\" fill-rule=\"evenodd\" fill-opacity=\"1\" stroke=\"#000000\" stroke-opacity=\"1\" stroke-width=\"3.2\"/>\n",
       "<circle clip-path=\"url(#clip022)\" cx=\"726.515\" cy=\"992.111\" r=\"14\" fill=\"#3da44d\" fill-rule=\"evenodd\" fill-opacity=\"1\" stroke=\"#000000\" stroke-opacity=\"1\" stroke-width=\"3.2\"/>\n",
       "<circle clip-path=\"url(#clip022)\" cx=\"769.585\" cy=\"992.111\" r=\"14\" fill=\"#3da44d\" fill-rule=\"evenodd\" fill-opacity=\"1\" stroke=\"#000000\" stroke-opacity=\"1\" stroke-width=\"3.2\"/>\n",
       "<circle clip-path=\"url(#clip022)\" cx=\"812.656\" cy=\"992.111\" r=\"14\" fill=\"#3da44d\" fill-rule=\"evenodd\" fill-opacity=\"1\" stroke=\"#000000\" stroke-opacity=\"1\" stroke-width=\"3.2\"/>\n",
       "<circle clip-path=\"url(#clip022)\" cx=\"855.726\" cy=\"992.75\" r=\"14\" fill=\"#3da44d\" fill-rule=\"evenodd\" fill-opacity=\"1\" stroke=\"#000000\" stroke-opacity=\"1\" stroke-width=\"3.2\"/>\n",
       "<circle clip-path=\"url(#clip022)\" cx=\"898.797\" cy=\"995.144\" r=\"14\" fill=\"#3da44d\" fill-rule=\"evenodd\" fill-opacity=\"1\" stroke=\"#000000\" stroke-opacity=\"1\" stroke-width=\"3.2\"/>\n",
       "<circle clip-path=\"url(#clip022)\" cx=\"941.867\" cy=\"999.311\" r=\"14\" fill=\"#3da44d\" fill-rule=\"evenodd\" fill-opacity=\"1\" stroke=\"#000000\" stroke-opacity=\"1\" stroke-width=\"3.2\"/>\n",
       "<circle clip-path=\"url(#clip022)\" cx=\"984.938\" cy=\"1005.25\" r=\"14\" fill=\"#3da44d\" fill-rule=\"evenodd\" fill-opacity=\"1\" stroke=\"#000000\" stroke-opacity=\"1\" stroke-width=\"3.2\"/>\n",
       "<circle clip-path=\"url(#clip022)\" cx=\"1028.01\" cy=\"1012.97\" r=\"14\" fill=\"#3da44d\" fill-rule=\"evenodd\" fill-opacity=\"1\" stroke=\"#000000\" stroke-opacity=\"1\" stroke-width=\"3.2\"/>\n",
       "<circle clip-path=\"url(#clip022)\" cx=\"1071.08\" cy=\"1022.45\" r=\"14\" fill=\"#3da44d\" fill-rule=\"evenodd\" fill-opacity=\"1\" stroke=\"#000000\" stroke-opacity=\"1\" stroke-width=\"3.2\"/>\n",
       "<circle clip-path=\"url(#clip022)\" cx=\"1114.15\" cy=\"1033.71\" r=\"14\" fill=\"#3da44d\" fill-rule=\"evenodd\" fill-opacity=\"1\" stroke=\"#000000\" stroke-opacity=\"1\" stroke-width=\"3.2\"/>\n",
       "<circle clip-path=\"url(#clip022)\" cx=\"1157.22\" cy=\"1046.75\" r=\"14\" fill=\"#3da44d\" fill-rule=\"evenodd\" fill-opacity=\"1\" stroke=\"#000000\" stroke-opacity=\"1\" stroke-width=\"3.2\"/>\n",
       "<circle clip-path=\"url(#clip022)\" cx=\"1200.29\" cy=\"1061.56\" r=\"14\" fill=\"#3da44d\" fill-rule=\"evenodd\" fill-opacity=\"1\" stroke=\"#000000\" stroke-opacity=\"1\" stroke-width=\"3.2\"/>\n",
       "<circle clip-path=\"url(#clip022)\" cx=\"1243.36\" cy=\"1078.14\" r=\"14\" fill=\"#3da44d\" fill-rule=\"evenodd\" fill-opacity=\"1\" stroke=\"#000000\" stroke-opacity=\"1\" stroke-width=\"3.2\"/>\n",
       "<circle clip-path=\"url(#clip022)\" cx=\"1286.43\" cy=\"1096.49\" r=\"14\" fill=\"#3da44d\" fill-rule=\"evenodd\" fill-opacity=\"1\" stroke=\"#000000\" stroke-opacity=\"1\" stroke-width=\"3.2\"/>\n",
       "<circle clip-path=\"url(#clip022)\" cx=\"1329.5\" cy=\"1116.62\" r=\"14\" fill=\"#3da44d\" fill-rule=\"evenodd\" fill-opacity=\"1\" stroke=\"#000000\" stroke-opacity=\"1\" stroke-width=\"3.2\"/>\n",
       "<circle clip-path=\"url(#clip022)\" cx=\"1372.57\" cy=\"1138.52\" r=\"14\" fill=\"#3da44d\" fill-rule=\"evenodd\" fill-opacity=\"1\" stroke=\"#000000\" stroke-opacity=\"1\" stroke-width=\"3.2\"/>\n",
       "<circle clip-path=\"url(#clip022)\" cx=\"1415.64\" cy=\"1162.19\" r=\"14\" fill=\"#3da44d\" fill-rule=\"evenodd\" fill-opacity=\"1\" stroke=\"#000000\" stroke-opacity=\"1\" stroke-width=\"3.2\"/>\n",
       "<circle clip-path=\"url(#clip022)\" cx=\"1458.71\" cy=\"1187.64\" r=\"14\" fill=\"#3da44d\" fill-rule=\"evenodd\" fill-opacity=\"1\" stroke=\"#000000\" stroke-opacity=\"1\" stroke-width=\"3.2\"/>\n",
       "<circle clip-path=\"url(#clip022)\" cx=\"1501.78\" cy=\"1214.86\" r=\"14\" fill=\"#3da44d\" fill-rule=\"evenodd\" fill-opacity=\"1\" stroke=\"#000000\" stroke-opacity=\"1\" stroke-width=\"3.2\"/>\n",
       "<circle clip-path=\"url(#clip022)\" cx=\"1544.85\" cy=\"1243.85\" r=\"14\" fill=\"#3da44d\" fill-rule=\"evenodd\" fill-opacity=\"1\" stroke=\"#000000\" stroke-opacity=\"1\" stroke-width=\"3.2\"/>\n",
       "<circle clip-path=\"url(#clip022)\" cx=\"1587.93\" cy=\"1274.62\" r=\"14\" fill=\"#3da44d\" fill-rule=\"evenodd\" fill-opacity=\"1\" stroke=\"#000000\" stroke-opacity=\"1\" stroke-width=\"3.2\"/>\n",
       "<circle clip-path=\"url(#clip022)\" cx=\"1631\" cy=\"1307.16\" r=\"14\" fill=\"#3da44d\" fill-rule=\"evenodd\" fill-opacity=\"1\" stroke=\"#000000\" stroke-opacity=\"1\" stroke-width=\"3.2\"/>\n",
       "<circle clip-path=\"url(#clip022)\" cx=\"1674.07\" cy=\"1341.48\" r=\"14\" fill=\"#3da44d\" fill-rule=\"evenodd\" fill-opacity=\"1\" stroke=\"#000000\" stroke-opacity=\"1\" stroke-width=\"3.2\"/>\n",
       "<circle clip-path=\"url(#clip022)\" cx=\"1725.83\" cy=\"1359.07\" r=\"14\" fill=\"#3da44d\" fill-rule=\"evenodd\" fill-opacity=\"1\" stroke=\"#000000\" stroke-opacity=\"1\" stroke-width=\"3.2\"/>\n",
       "<circle clip-path=\"url(#clip022)\" cx=\"1781.33\" cy=\"1383.87\" r=\"14\" fill=\"#3da44d\" fill-rule=\"evenodd\" fill-opacity=\"1\" stroke=\"#000000\" stroke-opacity=\"1\" stroke-width=\"3.2\"/>\n",
       "<circle clip-path=\"url(#clip022)\" cx=\"1836.83\" cy=\"1410.45\" r=\"14\" fill=\"#3da44d\" fill-rule=\"evenodd\" fill-opacity=\"1\" stroke=\"#000000\" stroke-opacity=\"1\" stroke-width=\"3.2\"/>\n",
       "<circle clip-path=\"url(#clip022)\" cx=\"1893.92\" cy=\"1427.76\" r=\"14\" fill=\"#3da44d\" fill-rule=\"evenodd\" fill-opacity=\"1\" stroke=\"#000000\" stroke-opacity=\"1\" stroke-width=\"3.2\"/>\n",
       "<circle clip-path=\"url(#clip022)\" cx=\"1957.07\" cy=\"1445.72\" r=\"14\" fill=\"#3da44d\" fill-rule=\"evenodd\" fill-opacity=\"1\" stroke=\"#000000\" stroke-opacity=\"1\" stroke-width=\"3.2\"/>\n",
       "<circle clip-path=\"url(#clip022)\" cx=\"2028.7\" cy=\"1445.72\" r=\"14\" fill=\"#3da44d\" fill-rule=\"evenodd\" fill-opacity=\"1\" stroke=\"#000000\" stroke-opacity=\"1\" stroke-width=\"3.2\"/>\n",
       "<circle clip-path=\"url(#clip022)\" cx=\"2100.33\" cy=\"1445.72\" r=\"14\" fill=\"#3da44d\" fill-rule=\"evenodd\" fill-opacity=\"1\" stroke=\"#000000\" stroke-opacity=\"1\" stroke-width=\"3.2\"/>\n",
       "<circle clip-path=\"url(#clip022)\" cx=\"2171.96\" cy=\"1445.72\" r=\"14\" fill=\"#3da44d\" fill-rule=\"evenodd\" fill-opacity=\"1\" stroke=\"#000000\" stroke-opacity=\"1\" stroke-width=\"3.2\"/>\n",
       "<circle clip-path=\"url(#clip022)\" cx=\"2243.59\" cy=\"1445.72\" r=\"14\" fill=\"#3da44d\" fill-rule=\"evenodd\" fill-opacity=\"1\" stroke=\"#000000\" stroke-opacity=\"1\" stroke-width=\"3.2\"/>\n",
       "</svg>\n"
      ]
     },
     "execution_count": 51,
     "metadata": {},
     "output_type": "execute_result"
    }
   ],
   "source": [
    "draw_track()\n",
    "ski_a_bit(2,2,30,24,5)\n",
    "track_x,track_y=draw_track()\n",
    "ski()"
   ]
  },
  {
   "cell_type": "code",
   "execution_count": null,
   "metadata": {},
   "outputs": [],
   "source": []
  }
 ],
 "metadata": {
  "kernelspec": {
   "display_name": "Julia 1.5.3",
   "language": "julia",
   "name": "julia-1.5"
  },
  "language_info": {
   "file_extension": ".jl",
   "mimetype": "application/julia",
   "name": "julia",
   "version": "1.5.3"
  }
 },
 "nbformat": 4,
 "nbformat_minor": 5
}
