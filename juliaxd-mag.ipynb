{
 "cells": [
  {
   "cell_type": "code",
   "execution_count": 23,
   "metadata": {},
   "outputs": [
    {
     "data": {
      "text/plain": [
       "6.743441731108463"
      ]
     },
     "execution_count": 23,
     "metadata": {},
     "output_type": "execute_result"
    }
   ],
   "source": [
    "# dane\n",
    "g = 9.81\n",
    "m = 2\n",
    "vx₀ = 30\n",
    "α = π / 4\n",
    "vy₀=26.5\n",
    "v₀=30\n",
    "h=80\n",
    "\n",
    "\n",
    "hₘ = h+((v₀ * sin(α)) ^ 2) / (2 * g)\n",
    "czas = (2 * v₀ * sin(α)) / g\n",
    "\n",
    "delta1=4*v₀^4*sin(α)*sin(α)*cos(α)*cos(α)+8*g*h*v₀^2*cos(α)*cos(α)\n",
    "zasieg=(-2*v₀^2*sin(α)*cos(α)-sqrt(delta1))/(-2*g)  \n",
    "\n",
    "delta2=v₀^2*sin(α)*sin(α)+2*g*h\n",
    "t1=(-v₀*sin(α)-sqrt(delta2))/(-g)\n"
   ]
  },
  {
   "cell_type": "code",
   "execution_count": 22,
   "metadata": {},
   "outputs": [
    {
     "data": {
      "text/plain": [
       "vy_num (generic function with 1 method)"
      ]
     },
     "execution_count": 22,
     "metadata": {},
     "output_type": "execute_result"
    }
   ],
   "source": [
    "function y_num(v₀, α, k, m, g,h, dt)\n",
    "    vy = zeros(floor(Int, czas / dt), 1)\n",
    "    vy[1] = v₀ * cos(α)\n",
    "    y = zeros(floor(Int, czas / dt), 1)\n",
    "    y[1] = 0\n",
    "    for i in (2 : floor(Int, czas / dt))\n",
    "        vy[i] = vy[i-1] - (g * dt) - (k / m) * vy[i-1] * dt\n",
    "        y[i] = y[i-1] + vy[i-1] * dt - ((1 / 2) * g * dt ^ 2) - (1 / 2) * (k / m) * vy[i-1] * dt ^ 2\n",
    "    end\n",
    "    return y\n",
    "end\n",
    "function x_num(v₀, α, k, m, dt)\n",
    "    vx = zeros(floor(Int, czas / dt), 1)\n",
    "    vx[1] = v₀ * cos(α)\n",
    "    x = zeros(floor(Int, czas / dt), 1)\n",
    "    x[1] = 0\n",
    "    for i in (2 : floor(Int, czas / dt))\n",
    "        vx[i] = vx[i-1] - (k / m) * vx[i-1] * dt\n",
    "        x[i] = x[i-1] + vx[i-1] * dt - (1 / 2) * (k / m) * vx[i-1] * dt ^ 2\n",
    "    end\n",
    "    return x\n",
    "end\n",
    "\n",
    "function vx_num(v₀, α, k, m, dt)\n",
    "    vx = zeros(floor(Int, czas / dt), 1)\n",
    "    vx[1] = v₀ * cos(α)\n",
    "    for i in (2 : floor(Int, czas / dt))\n",
    "        vx[i] = vx[i-1] - (k / m) * vx[i-1] * dt\n",
    "    end\n",
    "    return vx\n",
    "end\n",
    "\n",
    "function vy_num(v₀, α, k, m, g, dt)\n",
    "    vy = zeros(floor(Int, czas / dt), 1)\n",
    "    vy[1] = v₀ * sin(α)\n",
    "    for i in (2 : floor(Int, czas / dt))\n",
    "        vy[i] = vy[i-1] - (g * dt) - (k / m) * vy[i-1] * dt\n",
    "    end\n",
    "    return vy\n",
    "end\n",
    "\n",
    "function x(v₀, α)\n",
    "    t -> v₀ * t * cos(α)\n",
    "end\n",
    "\n",
    "function y(v₀, α, g,h)\n",
    "    t -> h+v₀ * t * sin(α) - (g * t ^ 2) / 2\n",
    "end\n",
    "\n",
    "function v_x(v₀, α)\n",
    "    t -> v₀ * cos(α)\n",
    "end\n",
    "\n",
    "function v_y(v₀, α, g)\n",
    "    t -> v₀ * sin(α) - g * t\n",
    "end"
   ]
  },
  {
   "cell_type": "code",
   "execution_count": null,
   "metadata": {},
   "outputs": [],
   "source": [
    "dt=0.001\n",
    "k=0.5\n",
    "czas_opor = 0\n",
    "for i in (1 : floor(Int, czas / dt))\n",
    "    if abs(y_num(v₀, α, k, m, g,h, dt)[i]) < 0.007\n",
    "        czas_opor = i\n",
    "    end\n",
    "end\n",
    "czas_opor"
   ]
  },
  {
   "cell_type": "code",
   "execution_count": 14,
   "metadata": {},
   "outputs": [
    {
     "data": {
      "text/plain": [
       "51.59648732658971"
      ]
     },
     "execution_count": 14,
     "metadata": {},
     "output_type": "execute_result"
    }
   ],
   "source": [
    "zasieg_opor = x_num(v₀, α, k, m, dt)[czas_opor]"
   ]
  },
  {
   "cell_type": "code",
   "execution_count": 37,
   "metadata": {},
   "outputs": [
    {
     "data": {
      "text/plain": [
       "8648"
      ]
     },
     "execution_count": 37,
     "metadata": {},
     "output_type": "execute_result"
    }
   ],
   "source": [
    "czas_opor=4324\n",
    "#czas_opor_endd=0\n",
    "for j in (czas_opor : floor(Int, czas / dt))\n",
    "    czas_opor_endd=0\n",
    "    if abs(y_num(v₀, α, k, m, g, h,dt)[j]) < 10.07\n",
    "        czas_opor_endd = czas_opor+j\n",
    "    end\n",
    "end\n",
    "czas_opor_endd"
   ]
  },
  {
   "cell_type": "markdown",
   "metadata": {},
   "source": [
    "## wizualizacja (późńiej można się zająć zrobieniem gifa z tego)"
   ]
  },
  {
   "cell_type": "code",
   "execution_count": 4,
   "metadata": {},
   "outputs": [],
   "source": [
    "using Plots\n",
    "using Printf"
   ]
  },
  {
   "cell_type": "code",
   "execution_count": 13,
   "metadata": {},
   "outputs": [
    {
     "data": {
      "text/plain": [
       "0.5299192642332049"
      ]
     },
     "execution_count": 13,
     "metadata": {},
     "output_type": "execute_result"
    }
   ],
   "source": [
    "#dane\n",
    "g=-9.81\n",
    "\n",
    "friction=0.1\n",
    "aerodrag=0.1\n",
    "\n",
    "height_inrun = 130#150\n",
    "height_ramp = 80#100\n",
    "length_ramp = 15\n",
    "distance_max = height_inrun * 2\n",
    "\n",
    "angle_inrun = 28/180 * π #35\n",
    "angle_slope = 32/180 * π\n",
    "\n",
    "distance_ramp = (height_inrun - height_ramp)/tan(angle_inrun)\n",
    "length_slope = height_ramp / tan(angle_slope)\n",
    "distance_slope= distance_ramp + length_ramp + length_slope\n",
    "tan_inrun = tan(angle_inrun)\n",
    "tan_slope = tan(angle_slope)\n",
    "cos_inrun = cos(angle_inrun)\n",
    "cos_slope = cos(angle_slope)\n",
    "sin_inrun = sin(angle_inrun)\n",
    "sin_slope = sin(angle_slope)"
   ]
  },
  {
   "cell_type": "code",
   "execution_count": 18,
   "metadata": {},
   "outputs": [
    {
     "data": {
      "text/plain": [
       "y_num (generic function with 1 method)"
      ]
     },
     "execution_count": 18,
     "metadata": {},
     "output_type": "execute_result"
    }
   ],
   "source": [
    "function vx_num(v₀, α, k, m, dt)\n",
    "    vx = zeros(floor(Int, czas / dt), 1)\n",
    "    vx[1] = v₀ * cos(α)\n",
    "    for i in (2 : floor(Int, czas / dt))\n",
    "        vx[i] = vx[i-1] - (k / m) * vx[i-1] * dt\n",
    "    end\n",
    "    return vx\n",
    "end\n",
    "\n",
    "function vy_num(v₀, α, k, m, g, dt)\n",
    "    vy = zeros(floor(Int, czas / dt), 1)\n",
    "    vy[1] = v₀ * sin(α)\n",
    "    for i in (2 : floor(Int, czas / dt))\n",
    "        vy[i] = vy[i-1] - (g * dt) - (k / m) * vy[i-1] * dt\n",
    "    end\n",
    "    return vy\n",
    "end\n",
    "\n",
    "\n",
    "function x_num(v₀, α, k, m, dt)\n",
    "    vx = zeros(floor(Int, (czas+t1) / dt), 1)\n",
    "    vx[1] = v₀ * cos(α)\n",
    "    x = zeros(floor(Int, (czas+t1) / dt), 1)\n",
    "    x[1] = 0\n",
    "    for i in (2 : floor(Int, (czas+t1) / dt))\n",
    "        vx[i] = vx[i-1] - (k / m) * vx[i-1] * dt\n",
    "        x[i] = x[i-1] + vx[i-1] * dt - (1 / 2) * (k / m) * vx[i-1] * dt ^ 2\n",
    "    end\n",
    "    return x\n",
    "end\n",
    "\n",
    "function y_num(v₀, α, k, m, g,h, dt)\n",
    "    vy = zeros(floor(Int, (czas+t1) / dt), 1)\n",
    "    vy[1] = v₀ * cos(α)\n",
    "    y = zeros(floor(Int, (czas+t1) / dt), 1)\n",
    "    y[1] = 80\n",
    "    for i in (2 : floor(Int, (czas+t1) / dt))\n",
    "        vy[i] = vy[i-1] - (g * dt) - (k / m) * vy[i-1] * dt\n",
    "        y[i] = y[i-1] + vy[i-1] * dt - ((1 / 2) * g * dt ^ 2) - (1 / 2) * (k / m) * vy[i-1] * dt ^ 2\n",
    "    end\n",
    "    return y\n",
    "end\n",
    "\n",
    "\n"
   ]
  },
  {
   "cell_type": "code",
   "execution_count": 14,
   "metadata": {},
   "outputs": [
    {
     "data": {
      "text/plain": [
       "ski (generic function with 1 method)"
      ]
     },
     "execution_count": 14,
     "metadata": {},
     "output_type": "execute_result"
    }
   ],
   "source": [
    "function draw_track()\n",
    "    axis_x = [0,distance_max] #not sure about these list xd\n",
    "    axis_y = [0,distance_max]\n",
    "    #nie wyświetla tego narazie\n",
    "    #plot(axis_x,axis_y,seriestype = :scatter, leg = false) \n",
    "    \n",
    "    track_x = []\n",
    "    track_y = []\n",
    "    \n",
    "    #draw the in-run\n",
    "    push!(track_x,0.0)\n",
    "    push!(track_y,height_inrun)\n",
    "    push!(track_x,distance_ramp)\n",
    "    push!(track_y,height_ramp)\n",
    "    #draw the ramp\n",
    "    push!(track_x,distance_ramp + length_ramp)\n",
    "    push!(track_y,height_ramp)\n",
    "    #draw the slope\n",
    "    push!(track_x,distance_slope)\n",
    "    push!(track_y,0)\n",
    "    \n",
    "    return track_x,track_y,axis_x,axis_y\n",
    "end\n",
    "\n",
    "function ski_a_bit(posx,posy,vx,vy,timebit)\n",
    "    gy=g\n",
    "    gx=0\n",
    "    \n",
    "    if posx < distance_ramp #skier on in-rum\n",
    "        gx= -g*sin_inrun*cos_inrun * (1-friction)\n",
    "        gy= g*(1-cos_inrun*cos_inrun)* (1-friction)\n",
    "        \n",
    "    elseif posx < distance_ramp + length_ramp #skier on ramp\n",
    "        gx=0\n",
    "        gy=0\n",
    "\n",
    "        if vy!=0\n",
    "            vx=(vx^2 + vy^2)^0.5\n",
    "            @printf(\"Speed at ramp: %.2f m/s'\", vx)\n",
    "        end\n",
    "        #enforce a zero vertical speed as the ramp is 'flat'\n",
    "        vy=0\n",
    "    elseif posx < distance_slope #skier on the slope\n",
    "        slope_height_posx = (distance_slope - posx)* tan_slope\n",
    "        if posy >= slope_height_posx -1.0\n",
    "            gx=gx *aerodrag\n",
    "            gy=gy *(1-aerodrag)\n",
    "        else\n",
    "            posy = slope_height_posx + 1 \n",
    "            \n",
    "            gx=-g*sin_slope*cos_slope\n",
    "            gy= g*(1-cos_slope*cos_slope)\n",
    "            angle_landing = atan(-vy/vx) - angle_slope\n",
    "            jumped = ((posx-(distance_ramp+length_ramp))^2 +(posy-height_ramp)^2)^0.5\n",
    "            v_new=(vx^2+vy^2)^0.5 * cos(angle_landing)\n",
    "            \n",
    "            vx= v_new * cos_slope\n",
    "            vy= -v_new * sin_slope\n",
    "            if angle_landing > 0.15\n",
    "                @printf(\"landing as angle %.f, speed at %.2fm/s, jumped %.2fm\",angle_landing,v_new,jumped)\n",
    "            end\n",
    "        end\n",
    "    else #skier on the ground/flat surface\n",
    "        gx=0\n",
    "    end\n",
    "    \n",
    "    if posy <0\n",
    "        gy=0\n",
    "        vx=(vx^2+vy^2)^0.5\n",
    "        vy=0\n",
    "    end\n",
    "    vx += gx*timebit*0.5\n",
    "    posx += vx*timebit + 0.5*gx*timebit^2\n",
    "    vx += gx*timebit*0.5\n",
    "    #same for y\n",
    "    vy += gy*timebit*0.5\n",
    "    posy += vy*timebit + 0.5*gy*timebit^2\n",
    "    vy += gy*timebit*0.5 \n",
    "    \n",
    "    return posx,posy,vx,vy\n",
    "end\n",
    "\n",
    "function ski()\n",
    "    me_x = 0 \n",
    "    me_y = height_inrun\n",
    "    speed_x = 0\n",
    "    speed_y = 0\n",
    "    timebit = 0.02 #second\n",
    "    counter = 0\n",
    "    \n",
    "    motion_x=[]\n",
    "    motion_y=[]\n",
    "    \n",
    "    while me_x < distance_max\n",
    "        me_x,me_y,speed_x,speed_y= ski_a_bit(me_x,me_y,speed_x,speed_y, timebit)\n",
    "        counter += 1\n",
    "        if counter %10 ==0\n",
    "            push!(motion_x,me_x)\n",
    "            push!(motion_y,me_y)\n",
    "        end\n",
    "    end\n",
    "    \n",
    "    track_x,track_y,axis_x,axis_y=draw_track()\n",
    "    plot(axis_x,axis_y,seriestype = :scatter, leg = false) \n",
    "    plot!(track_x,track_y)\n",
    "    plot!(motion_x,motion_y, seriestype=:scatter)\n",
    "end\n",
    " ski()   "
   ]
  },
  {
   "cell_type": "code",
   "execution_count": 20,
   "metadata": {},
   "outputs": [
    {
     "data": {
      "text/plain": [
       "0"
      ]
     },
     "execution_count": 20,
     "metadata": {},
     "output_type": "execute_result"
    }
   ],
   "source": [
    "czas = (2 * v₀ * sin(α)) / g\n",
    "t1=(-v₀*sin(α)-sqrt(delta2))/(-g)\n",
    "h=80\n",
    "\n",
    "czas_opor = 0\n",
    "czas_opor_end=0\n",
    "for i in (1 : floor(Int, (czas+t1) / dt))\n",
    "    if abs(y_num(v₀, α, k, m, g, h,dt)[i]) < 0.007\n",
    "        czas_opor = i\n",
    "       \n",
    "    end\n",
    "end\n",
    "czas_opor\n",
    "zasieg_opor = x_num(v₀, α, k, m, dt)[czas_opor]\n",
    "hₘ_opor = maximum(y_num(v₀, α, k, m, g,h, dt)"
   ]
  },
  {
   "cell_type": "markdown",
   "metadata": {},
   "source": [
    "        # t e o r i a       d o        n o ś n e j"
   ]
  },
  {
   "cell_type": "markdown",
   "metadata": {},
   "source": [
    "W tym przypadku do zaprezentowanych wcześniej równań z oporami powietrza, dokładamy parametry związane z siłą nośną.  \n",
    "\n",
    "$$ v_x(t_{j+1})=v_x(t_j)-\\frac{k}{m}v_x(t_j)\\Delta{t}+\\frac{p}{2m}v_x(t_j)\\Delta{t}  $$\n",
    "\n",
    "$$ v_y(t_{j+1})=v_y(t_j)-g\\Delta{t}-\\frac{k}{m}v_y(t_j)\\Delta{t}+\\frac{p}{2m}v_y(t_j)\\Delta{t} $$\n",
    "\n",
    "$$x(t_{j+1})=x(t_j)+v_x(t_j)\\Delta{t}-\\frac{k}{2m}v_x(t_j)\\Delta{t^2}+\\frac{p}{2m}v_x(t_j)\\Delta{t}  $$\n",
    "\n",
    "$$y(t_{j+1})=y(t_j)+v_y(t_j)\\Delta{t}-\\frac{1}{2}g\\Delta{t^2}-\\frac{k}{2m}v_y(t_j)\\Delta{t^2}+\\frac{p}{2m}v_y(t_j)\\Delta{t}$$\n",
    "\n",
    "\n"
   ]
  },
  {
   "cell_type": "markdown",
   "metadata": {},
   "source": [
    "$P$ jest współczynnikiem siły nośnej. Zależy on głównie od panujących warunków atmosferycznych. W naszej analizie przyjmujemy, że jest on stały. "
   ]
  },
  {
   "cell_type": "markdown",
   "metadata": {},
   "source": [
    "## <span style=\"color:#708090;\">Spis treści: </span>\n",
    "---------------------------------------------------------------\n",
    "(#do dokończenia jak już będziemy miały całość)\n",
    "* [1. Wstęp](#wstep)\n",
    "* [2. Wprowadzenie historyczno-teoretyczne](#wprowadzenie)\n",
    "* [3. Założenia](#zalozenia)\n",
    "* [4. Równania bez uwzględnienia oporów powietrza](#bez_opor)\n",
    "* [5. Rozwiązania analityczne](#analityk) \n",
    "    *  [5.1 Rówania z oporami powietrza](#opor) \n",
    "* 6. [Rozwiązanie analityczne](#opor_analityka)\n",
    " * [Rozwiązanie numeryczne](#opor_numer)\n",
    "* [Równania ruchu z wiatrem](#wiatr)\n",
    " * [Rozwiązania analityczne równań z wiatrem](#wiatr_analityka)\n",
    " * [Rozwiązania numeryczne równań z wiatrem](#wiatr_numer)\n",
    " \n",
    "* [Bibliografia](#bibliografia)\n",
    "\n",
    "\n",
    "\n",
    "-----------------------------------------------------------------"
   ]
  },
  {
   "cell_type": "markdown",
   "metadata": {},
   "source": [
    "## krótka notka historyczna"
   ]
  },
  {
   "cell_type": "markdown",
   "metadata": {},
   "source": [
    "Jeszcze kilkanaście lat wstecz ludzie nie mieli tak ogromnej wiedzy dotyczącej skoków narciarskich. Wracając do początków skoków narciarskich, jesteśmy w stanie zauważyć dużą różnicę i postęp jaki nastąpił w tej dziedzinie sportowej na przestrzeni lat. Szczególną uwagę zwrócimy na stylu latania. Początkowo skoczkowie skakali w *stylu kucznym*, który polegał na podkurczeniu nóg tuż po odbiciu oraz na machaniu rękami w celu \"złapania wiatru\". Szybko jednak został on zastpąiony nowym stylem wymyślonym przez Norwega - Sondre Nordhein'a. To on wprodzaił prostowanie kolan oraz całego ciała podczas skoku, uzyskując pierwszą rekordową odległość 30.5m. Styl ten nazwano *telemarkowym*, po którym do dziś funkcjonuje nazwa lądowania telemarkiem. Kolejną zmianą jaka nastąpiła w stylu była zmiana ruchu rąk. Polegała ona na tym, że ręce były wysuwane przed siebie. \n",
    "Kilka lat później aspekt ten zmienili Finowie, zaczynając trzymać ręce wzdłuż tłuowia. Opracowali także sposób na przejście do ślizgu w drugiej fazie lotu. Nowy styl nazwano *aerodynamicznym*. Na tym etapie narty podczas lotu były ustawiane równolegle. Sprawiło to, że został pobity rekord w skokach mający długość 139m. \n",
    "W dzisiejszych czasach funkcjonuje styl *Boklova*, którego nazwa pochodzi od skoczka Jana Bokolov'a. Był on pierwszym skoczkiem, który ustawił narty w kształt litery \"V\" jednocześnie umożliwiając mu większe na większe pochylenie w ich kierunku."
   ]
  },
  {
   "cell_type": "markdown",
   "metadata": {},
   "source": [
    "\n",
    "[[1]](#historia) Szatkowski W, *Ewolucja stylów w skokach narciarskich - cz. 1*, 2006, https://www.skijumping.pl/wiadomosci/5300/ewolucja-stylow-w-skokach-narciarskich---cz-1/"
   ]
  },
  {
   "cell_type": "markdown",
   "metadata": {},
   "source": [
    "# <span style=\"color:#708090;\">2. Rozwiązanie analityczne</span>"
   ]
  },
  {
   "cell_type": "markdown",
   "metadata": {},
   "source": [
    "Teraz skupimy się na działaniu siły oporu. Z uwagi na to, że skoczek porusza się w powietrzu mamy do czynienia z działaniem oporu aeorydanamicznego:\n",
    "\n",
    "$$D=-\\frac{1}{2}CS{\\rho}v^2,$$ \n",
    "gdzie:\n",
    "<ul>\n",
    "    <li>$C$ - doświadczalnie wyznaczany współczynnik oporu aerodynamicznego,</li> \n",
    "    <li>$S$ - pole przekroju ciała, </li>\n",
    "    <li>$\\rho$ - gęstość powietrza, </li>\n",
    "    <li>$v$ - prędkość względna.</li>\n",
    "</ul>\n",
    "\n",
    "Dla ułatwienia obliczeń przyjmijmy, że siła oporu jest wprost proporcjonalna do prędkości skoczka i definiuje ją wzór:\n",
    "\n",
    "$$D=-kv.$$"
   ]
  },
  {
   "cell_type": "markdown",
   "metadata": {},
   "source": [
    "W pierwszej kolejności postaramy się znaleźć analityczne rozwiązanie toru ruchu skoczka narciarskiego.\n",
    "\n",
    "Siła oporu:\n",
    "\n",
    "$$D=-kv$$\n",
    "\n",
    "Prędkość początkową definują wzory:\n",
    "\n",
    "$$v_x=v_o\\sin{\\alpha}, v_y=v_o\\cos{\\alpha}$$\n",
    "\n",
    "$$\\vec{v_o}=(v_x,v_y)$$\n",
    "\n",
    "\n",
    "\n",
    "\n",
    "Z drugiej zasady dynamiki Newtona wynika, że:\n",
    "$$F=ma,$$\n",
    "stąd ruch ciała opisuje układ równań:\n",
    "\n",
    "$$ ma_x=kv_x$$\n",
    "\n",
    "$$ma_y=-mg-kv_y$$\n",
    "\n",
    "Wiadomo także, że przyśpieszenie to druga pochodna po czasie, zatem:\n",
    "\n",
    "$$ m\\frac{d^2x}{dt^2}=k\\frac{dx}{dt}$$\n",
    "\n",
    "$$m\\frac{dy^2}{dt^2}=-mg-k\\frac{dy}{dt}$$\n",
    "\n",
    "Jest to układ równań liniowych drugiego rzędu. Ustalamy warunki początkowe:\n",
    "\n",
    "$$x(0)=0, y(0)=80$$\n",
    "\n",
    "Dokonując podstawienia:\n",
    "\n",
    "$$u=\\frac{dx}{dt} $$$$z=\\frac{dy}{dt}$$\n",
    "\n",
    "otrzymamy układ równać postaci:\n",
    "$$u(t)=C\\exp{(\\frac{-k}{m}t)}$$\n",
    "$$z(t)=...$$\n",
    "\n",
    "Odpowiednio całkując i wykorzystując warunki początkowe otrzymujemy układ równań opisujących tor lotu skoczka narciarskiego z oporami powietrza:\n",
    "\n",
    "\\begin{equation}\n",
    "\\tag{1}\n",
    "x(t)=(\\frac{m}{k}v_o\\cos{\\alpha})(1-e^{\\frac{-k}{m}{t}}) \n",
    "\\end{equation}\n",
    "\\begin{equation}\n",
    "\\tag{2}\n",
    "y(t)=(\\frac{m}{k}v_o\\sin{\\alpha}+\\frac{m^{2}}{k^{2}}g)(1-e^{\\frac{-k}{m}{t}})-\\frac{m}{k}gt\n",
    "\\end{equation}"
   ]
  },
  {
   "cell_type": "markdown",
   "metadata": {},
   "source": [
    "# <span style=\"color:#708090;\">3. Rozwiązanie numeryczne - metoda Eulera</span>"
   ]
  },
  {
   "cell_type": "markdown",
   "metadata": {},
   "source": [
    "Aby rozwiązać numerycznie nasze równania posłużymy się metodą Eulera. Opiera się ona na zastąpieniu różniczek różnicami:\n",
    "\n",
    "\n",
    "$$\\frac{\\Delta{y}}{\\Delta{t}}=f(y,t),   y(0)=y_o$$\n",
    "\n",
    "$$\\frac{y_{j+1}-y_j}{\\Delta{t}}=f(y_j,t_j)$$\n",
    "\n",
    "Przekształcając powyższe wyrażenie otrzymujemy formułę Eulera:\n",
    "\n",
    "\\begin{equation}\n",
    "\\tag{3}\n",
    "y_{j+1}=y_j+(\\Delta{t})f(y_j,t_j)\n",
    "\\end{equation}"
   ]
  },
  {
   "cell_type": "markdown",
   "metadata": {},
   "source": [
    "# <span style=\"color:#708090;\">a) uwzględniając opory powietrza </span>"
   ]
  },
  {
   "cell_type": "markdown",
   "metadata": {},
   "source": [
    "Wykorzystamy przybliżenie:\n",
    "\n",
    "$$a=\\frac{\\Delta{v}}{\\Delta{t}}$$\n",
    "\n",
    "Korzystając z wcześniej wyprowadzonych równań ruchu (1) i (2)\n",
    "\n",
    "$$ m\\frac{\\Delta{v_x}}{\\Delta{t}}=kv_x$$\n",
    "\n",
    "$$m\\frac{\\Delta{v_y}}{\\Delta{t}}=-mg-kv_y$$\n",
    "\n",
    "Korzystając z warunków początkowych i pręd. oraz metody eulera (3)\n",
    "\n",
    "Stąd otrzymujemy wzory opisujące ruch skoczka z uwzględnieniem oporów powietrza:\n",
    "\n",
    "$$ v_x(t_{j+1})=v_x(t_j)-\\frac{k}{m}v_x(t_j)\\Delta{t} $$\n",
    "\n",
    "$$ v_y(t_{j+1})=v_y(t_j)-g\\Delta{t}-\\frac{k}{m}v_y(t_j)\\Delta{t} $$\n",
    "\n",
    "$$x(t_{j+1})=x(t_j)+v_x(t_j)\\Delta{t}-\\frac{k}{2m}v_x(t_j)\\Delta{t^2}  $$\n",
    "\n",
    "$$y(t_{j+1})=y(t_j)+v_y(t_j)\\Delta{t}-\\frac{1}{2}g\\Delta{t^2}-\\frac{k}{2m}v_y(t_j)\\Delta{t^2}$$"
   ]
  },
  {
   "cell_type": "markdown",
   "metadata": {},
   "source": [
    "### nowe"
   ]
  },
  {
   "cell_type": "code",
   "execution_count": 26,
   "metadata": {},
   "outputs": [
    {
     "data": {
      "text/plain": [
       "90"
      ]
     },
     "execution_count": 26,
     "metadata": {},
     "output_type": "execute_result"
    }
   ],
   "source": [
    "zasieg_opor_wiatr= 145\n",
    "hₘ_opor_wiatr= 90"
   ]
  },
  {
   "cell_type": "code",
   "execution_count": 27,
   "metadata": {},
   "outputs": [
    {
     "ename": "LoadError",
     "evalue": "\u001b[91mUndefVarError: x_wind2 not defined\u001b[39m",
     "output_type": "error",
     "traceback": [
      "\u001b[91mUndefVarError: x_wind2 not defined\u001b[39m",
      "",
      "Stacktrace:",
      " [1] top-level scope at In[27]:2",
      " [2] include_string(::Function, ::Module, ::String, ::String) at .\\loading.jl:1091"
     ]
    }
   ],
   "source": [
    "m=55\n",
    "plot(x_wind2(v₀,vw, α, k, m, dt), y_wind2(v₀, vw, α, k, m, g, h, dt),\n",
    "    xlabel = \"odległość [m]\", \n",
    "    ylabel = \"wysokość [m]\",\n",
    "    label = \"m=55\",\n",
    "    xlim = (0, zasieg_opor_wiatr),\n",
    "    ylim = (0, hₘ_opor_wiatr),\n",
    "    title = \"tor ruchu\")\n",
    "\n",
    "m=65\n",
    "plot!(x_wind2(v₀,vw, α, k, m, dt), y_wind2(v₀, vw, α, k, m, g, h, dt),\n",
    "    xlabel = \"odległość [m]\", \n",
    "    ylabel = \"wysokość [m]\",\n",
    "    label = \"m=65\",\n",
    "    xlim = (0, zasieg_opor_wiatr),\n",
    "    ylim = (0, hₘ_opor_wiatr),\n",
    "    title = \"tor ruchu\")\n",
    "\n",
    "m=75\n",
    "plot!(x_wind2(v₀,vw, α, k, m, dt), y_wind2(v₀, vw, α, k, m, g, h, dt),\n",
    "    xlabel = \"odległość [m]\", \n",
    "    ylabel = \"wysokość [m]\",\n",
    "    label = \"m=75\",\n",
    "    xlim = (0, zasieg_opor_wiatr),\n",
    "    ylim = (0, hₘ_opor_wiatr),\n",
    "    legend = :topright,\n",
    "    title = \"tor ruchu\")"
   ]
  },
  {
   "cell_type": "code",
   "execution_count": null,
   "metadata": {},
   "outputs": [],
   "source": [
    "hₘ_opor_wiatr= 100\n",
    "α = π / 9\n",
    "plot(x_wind2(v₀,vw, α, k, m, dt), y_wind2(v₀, vw, α, k, m, g, h, dt),\n",
    "    xlabel = \"odległość [m]\", \n",
    "    ylabel = \"wysokość [m]\",\n",
    "    label = \"α = π / 9\",\n",
    "    xlim = (0, zasieg_opor_wiatr),\n",
    "    ylim = (0, hₘ_opor_wiatr),\n",
    "    title = \"tor ruchu\")\n",
    "\n",
    "α = π / 6\n",
    "plot!(x_wind2(v₀,vw, α, k, m, dt), y_wind2(v₀, vw, α, k, m, g, h, dt),\n",
    "    xlabel = \"odległość [m]\", \n",
    "    ylabel = \"wysokość [m]\",\n",
    "    label = \"α = π / 6\",\n",
    "    xlim = (0, zasieg_opor_wiatr),\n",
    "    ylim = (0, hₘ_opor_wiatr),\n",
    "    title = \"tor ruchu\")\n",
    "\n",
    "α = π / 4\n",
    "plot!(x_wind2(v₀,vw, α, k, m, dt), y_wind2(v₀, vw, α, k, m, g, h, dt),\n",
    "    xlabel = \"odległość [m]\", \n",
    "    ylabel = \"wysokość [m]\",\n",
    "    label = \"α = π / 4\",\n",
    "    xlim = (0, zasieg_opor_wiatr),\n",
    "    ylim = (0, hₘ_opor_wiatr),\n",
    "    legend = :topright,\n",
    "    title = \"tor ruchu\")\n",
    "\n",
    "α = π / 5\n",
    "plot!(x_wind2(v₀,vw, α, k, m, dt), y_wind2(v₀, vw, α, k, m, g, h, dt),\n",
    "    xlabel = \"odległość [m]\", \n",
    "    ylabel = \"wysokość [m]\",\n",
    "    label = \"α = π / 5\",\n",
    "    xlim = (0, zasieg_opor_wiatr),\n",
    "    ylim = (0, hₘ_opor_wiatr),\n",
    "    legend = :topright,\n",
    "    title = \"tor ruchu\")"
   ]
  },
  {
   "cell_type": "code",
   "execution_count": null,
   "metadata": {},
   "outputs": [],
   "source": [
    "hₘ_opor_wiatr= 100\n",
    "k = 0.5\n",
    "plot(x_wind2(v₀,vw, α, k, m, dt), y_wind2(v₀, vw, α, k, m, g, h, dt),\n",
    "    xlabel = \"odległość [m]\", \n",
    "    ylabel = \"wysokość [m]\",\n",
    "    label = \"k = 0.5\",\n",
    "    xlim = (0, zasieg_opor_wiatr),\n",
    "    ylim = (0, hₘ_opor_wiatr),\n",
    "    title = \"tor ruchu\")\n",
    "\n",
    "k = 1\n",
    "plot!(x_wind2(v₀,vw, α, k, m, dt), y_wind2(v₀, vw, α, k, m, g, h, dt),\n",
    "    xlabel = \"odległość [m]\", \n",
    "    ylabel = \"wysokość [m]\",\n",
    "    label = \"k = 1\",\n",
    "    xlim = (0, zasieg_opor_wiatr),\n",
    "    ylim = (0, hₘ_opor_wiatr),\n",
    "    title = \"tor ruchu\")\n",
    "\n",
    "k = 2\n",
    "plot!(x_wind2(v₀,vw, α, k, m, dt), y_wind2(v₀, vw, α, k, m, g, h, dt),\n",
    "    xlabel = \"odległość [m]\", \n",
    "    ylabel = \"wysokość [m]\",\n",
    "    label = \"k = 2\",\n",
    "    xlim = (0, zasieg_opor_wiatr),\n",
    "    ylim = (0, hₘ_opor_wiatr),\n",
    "    legend = :topright,\n",
    "    title = \"tor ruchu\")\n"
   ]
  },
  {
   "cell_type": "code",
   "execution_count": null,
   "metadata": {},
   "outputs": [],
   "source": [
    "hₘ_opor_wiatr= 100\n",
    "vw = 1\n",
    "plot(x_wind2(v₀,vw, α, k, m, dt), y_wind2(v₀, vw, α, k, m, g, h, dt),\n",
    "    xlabel = \"odległość [m]\", \n",
    "    ylabel = \"wysokość [m]\",\n",
    "    label = \"vw = 1\",\n",
    "    xlim = (0, zasieg_opor_wiatr),\n",
    "    ylim = (0, hₘ_opor_wiatr),\n",
    "    title = \"tor ruchu\")\n",
    "\n",
    "vw = 5\n",
    "plot!(x_wind2(v₀,vw, α, k, m, dt), y_wind2(v₀, vw, α, k, m, g, h, dt),\n",
    "    xlabel = \"odległość [m]\", \n",
    "    ylabel = \"wysokość [m]\",\n",
    "    label = \"vw = 5\",\n",
    "    xlim = (0, zasieg_opor_wiatr),\n",
    "    ylim = (0, hₘ_opor_wiatr),\n",
    "    title = \"tor ruchu\")\n",
    "\n",
    "vw = 10\n",
    "plot!(x_wind2(v₀,vw, α, k, m, dt), y_wind2(v₀, vw, α, k, m, g, h, dt),\n",
    "    xlabel = \"odległość [m]\", \n",
    "    ylabel = \"wysokość [m]\",\n",
    "    label = \"vw = 10\",\n",
    "    xlim = (0, zasieg_opor_wiatr),\n",
    "    ylim = (0, hₘ_opor_wiatr),\n",
    "    legend = :topright,\n",
    "    title = \"tor ruchu\")\n"
   ]
  }
 ],
 "metadata": {
  "kernelspec": {
   "display_name": "Julia 1.5.3",
   "language": "julia",
   "name": "julia-1.5"
  },
  "language_info": {
   "file_extension": ".jl",
   "mimetype": "application/julia",
   "name": "julia",
   "version": "1.5.3"
  }
 },
 "nbformat": 4,
 "nbformat_minor": 5
}
