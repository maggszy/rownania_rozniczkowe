{
 "cells": [
  {
   "cell_type": "code",
   "execution_count": 7,
   "metadata": {},
   "outputs": [
    {
     "data": {
      "text/plain": [
       "4.324812117348913"
      ]
     },
     "execution_count": 7,
     "metadata": {},
     "output_type": "execute_result"
    }
   ],
   "source": [
    "# dane\n",
    "g = 9.81\n",
    "m = 2\n",
    "vx₀ = 30\n",
    "α = π / 4\n",
    "vy₀=26.5\n",
    "v₀=30\n",
    "# obliczenia\n",
    "czas = (2 * v₀ * sin(α)) / g\n",
    "#zasieg = (v₀ ^ 2 * sin(2 * α)) / g\n",
    "h=80\n",
    "hₘ = h+((v₀ * sin(α)) ^ 2) / (2 * g)\n",
    "czas = (2 * v₀ * sin(α)) / g\n"
   ]
  },
  {
   "cell_type": "code",
   "execution_count": 8,
   "metadata": {},
   "outputs": [
    {
     "data": {
      "text/plain": [
       "x_num (generic function with 1 method)"
      ]
     },
     "execution_count": 8,
     "metadata": {},
     "output_type": "execute_result"
    }
   ],
   "source": [
    "function y_num(v₀, α, k, m, g,h, dt)\n",
    "    vy = zeros(floor(Int, czas / dt), 1)\n",
    "    vy[1] = v₀ * cos(α)\n",
    "    y = zeros(floor(Int, czas / dt), 1)\n",
    "    y[1] = 0\n",
    "    for i in (2 : floor(Int, czas / dt))\n",
    "        vy[i] = vy[i-1] - (g * dt) - (k / m) * vy[i-1] * dt\n",
    "        y[i] = y[i-1] + vy[i-1] * dt - ((1 / 2) * g * dt ^ 2) - (1 / 2) * (k / m) * vy[i-1] * dt ^ 2\n",
    "    end\n",
    "    return y\n",
    "end\n",
    "function x_num(v₀, α, k, m, dt)\n",
    "    vx = zeros(floor(Int, czas / dt), 1)\n",
    "    vx[1] = v₀ * cos(α)\n",
    "    x = zeros(floor(Int, czas / dt), 1)\n",
    "    x[1] = 0\n",
    "    for i in (2 : floor(Int, czas / dt))\n",
    "        vx[i] = vx[i-1] - (k / m) * vx[i-1] * dt\n",
    "        x[i] = x[i-1] + vx[i-1] * dt - (1 / 2) * (k / m) * vx[i-1] * dt ^ 2\n",
    "    end\n",
    "    return x\n",
    "end\n"
   ]
  },
  {
   "cell_type": "code",
   "execution_count": 13,
   "metadata": {},
   "outputs": [
    {
     "data": {
      "text/plain": [
       "3748"
      ]
     },
     "execution_count": 13,
     "metadata": {},
     "output_type": "execute_result"
    }
   ],
   "source": [
    "dt=0.001\n",
    "k=0.5\n",
    "czas_opor = 0\n",
    "for i in (1 : floor(Int, czas / dt))\n",
    "    if abs(y_num(v₀, α, k, m, g,h, dt)[i]) < 0.007\n",
    "        czas_opor = i\n",
    "    end\n",
    "end\n",
    "czas_opor"
   ]
  },
  {
   "cell_type": "code",
   "execution_count": 14,
   "metadata": {},
   "outputs": [
    {
     "data": {
      "text/plain": [
       "51.59648732658971"
      ]
     },
     "execution_count": 14,
     "metadata": {},
     "output_type": "execute_result"
    }
   ],
   "source": [
    "zasieg_opor = x_num(v₀, α, k, m, dt)[czas_opor]"
   ]
  },
  {
   "cell_type": "code",
   "execution_count": 11,
   "metadata": {},
   "outputs": [
    {
     "data": {
      "text/plain": [
       "4324"
      ]
     },
     "execution_count": 11,
     "metadata": {},
     "output_type": "execute_result"
    }
   ],
   "source": [
    "h=80\n",
    "\n",
    "for i in (1 : floor(Int, czas / dt))\n",
    "    czas_opor=0\n",
    "    if abs(y_num(v₀, α, k, m, g, h,dt)[i]) < 80.007\n",
    "        czas_opor = i\n",
    "    end\n",
    "end\n",
    "\n",
    "czas_opor"
   ]
  },
  {
   "cell_type": "code",
   "execution_count": 37,
   "metadata": {},
   "outputs": [
    {
     "data": {
      "text/plain": [
       "8648"
      ]
     },
     "execution_count": 37,
     "metadata": {},
     "output_type": "execute_result"
    }
   ],
   "source": [
    "czas_opor=4324\n",
    "#czas_opor_endd=0\n",
    "for j in (czas_opor : floor(Int, czas / dt))\n",
    "    czas_opor_endd=0\n",
    "    if abs(y_num(v₀, α, k, m, g, h,dt)[j]) < 10.07\n",
    "        czas_opor_endd = czas_opor+j\n",
    "    end\n",
    "end\n",
    "czas_opor_endd"
   ]
  },
  {
   "cell_type": "markdown",
   "metadata": {},
   "source": [
    "## wizualizacja "
   ]
  },
  {
   "cell_type": "code",
   "execution_count": 39,
   "metadata": {},
   "outputs": [],
   "source": [
    "using Plots\n",
    "using Printf"
   ]
  },
  {
   "cell_type": "code",
   "execution_count": 52,
   "metadata": {},
   "outputs": [
    {
     "data": {
      "text/plain": [
       "0.5299192642332049"
      ]
     },
     "execution_count": 52,
     "metadata": {},
     "output_type": "execute_result"
    }
   ],
   "source": [
    "#dane\n",
    "g=-9.81\n",
    "\n",
    "friction=0.1\n",
    "aerodrag=0.1\n",
    "\n",
    "height_inrun = 150\n",
    "height_ramp = 100\n",
    "length_ramp = 15\n",
    "distance_max = height_inrun * 2\n",
    "\n",
    "angle_inrun = 35/180 * π\n",
    "angle_slope = 32/180 * π\n",
    "\n",
    "distance_ramp = (height_inrun - height_ramp)/tan(angle_inrun)\n",
    "length_slope = height_ramp / tan(angle_slope)\n",
    "distance_slope= distance_ramp + length_ramp + length_slope\n",
    "tan_inrun = tan(angle_inrun)\n",
    "tan_slope = tan(angle_slope)\n",
    "cos_inrun = cos(angle_inrun)\n",
    "cos_slope = cos(angle_slope)\n",
    "sin_inrun = sin(angle_inrun)\n",
    "sin_slope = sin(angle_slope)"
   ]
  },
  {
   "cell_type": "code",
   "execution_count": 53,
   "metadata": {},
   "outputs": [
    {
     "data": {
      "text/plain": [
       "ski (generic function with 1 method)"
      ]
     },
     "execution_count": 53,
     "metadata": {},
     "output_type": "execute_result"
    }
   ],
   "source": [
    "function draw_track()\n",
    "    axis_x = [0,distance_max] #not sure about these list xd\n",
    "    axis_y = [0,distance_max]\n",
    "    #nie wyświetla tego narazie\n",
    "    #plot(axis_x,axis_y,seriestype = :scatter, leg = false) \n",
    "    \n",
    "    track_x = []\n",
    "    track_y = []\n",
    "    \n",
    "    #draw the in-run\n",
    "    push!(track_x,0.0)\n",
    "    push!(track_y,height_inrun)\n",
    "    push!(track_x,distance_ramp)\n",
    "    push!(track_y,height_ramp)\n",
    "    #draw the ramp\n",
    "    push!(track_x,distance_ramp + length_ramp)\n",
    "    push!(track_y,height_ramp)\n",
    "    #draw the slope\n",
    "    push!(track_x,distance_slope)\n",
    "    push!(track_y,0)\n",
    "    \n",
    "    return track_x,track_y,axis_x,axis_y\n",
    "end\n",
    "\n",
    "function ski_a_bit(posx,posy,vx,vy,timebit)\n",
    "    gy=g\n",
    "    gx=0\n",
    "    \n",
    "    if posx < distance_ramp #skier on in-rum\n",
    "        gx= -g*sin_inrun*cos_inrun * (1-friction)\n",
    "        gy= g*(1-cos_inrun*cos_inrun)* (1-friction)\n",
    "        \n",
    "    elseif posx < distance_ramp + length_ramp #skier on ramp\n",
    "        gx=0\n",
    "        gy=0\n",
    "\n",
    "        if vy!=0\n",
    "            vx=(vx^2 + vy^2)^0.5\n",
    "            @printf(\"Speed at ramp: %.2f m/s'\", vx)\n",
    "        end\n",
    "        #enforce a zero vertical speed as the ramp is 'flat'\n",
    "        vy=0\n",
    "    elseif posx < distance_slope #skier on the slope\n",
    "        slope_height_posx = (distance_slope - posx)* tan_slope\n",
    "        if posy >= slope_height_posx -1.0\n",
    "            gx=gx *aerodrag\n",
    "            gy=gy *(1-aerodrag)\n",
    "        else\n",
    "            posy = slope_height_posx + 1 \n",
    "            \n",
    "            gx=-g*sin_slope*cos_slope\n",
    "            gy= g*(1-cos_slope*cos_slope)\n",
    "            angle_landing = atan(-vy/vx) - angle_slope\n",
    "            jumped = ((posx-(distance_ramp+length_ramp))^2 +(posy-height_ramp)^2)^0.5\n",
    "            v_new=(vx^2+vy^2)^0.5 * cos(angle_landing)\n",
    "            \n",
    "            vx= v_new * cos_slope\n",
    "            vy= -v_new * sin_slope\n",
    "            if angle_landing > 0.15\n",
    "                @printf(\"landing as angle %.f, speed at %.2fm/s, jumped %.2fm\",angle_landing,v_new,jumped)\n",
    "            end\n",
    "        end\n",
    "    else #skier on the ground/flat surface\n",
    "        gx=0\n",
    "    end\n",
    "    \n",
    "    if posy <0\n",
    "        gy=0\n",
    "        vx=(vx^2+vy^2)^0.5\n",
    "        vy=0\n",
    "    end\n",
    "    \n",
    "    #now suppose that we have the correct acceleration,speed and position\n",
    "    #calculate new position for x\n",
    "    #based on second newton's law\n",
    "    vx += gx*timebit*0.5\n",
    "    posx += vx*timebit + 0.5*gx*timebit^2\n",
    "    vx += gx*timebit*0.5\n",
    "    #same for y\n",
    "    vy += gy*timebit*0.5\n",
    "    posy += vy*timebit + 0.5*gy*timebit^2\n",
    "    vy += gy*timebit*0.5 \n",
    "    \n",
    "    return posx,posy,vx,vy\n",
    "end\n",
    "\n",
    "function ski()\n",
    "    me_x = 0 \n",
    "    me_y = height_inrun\n",
    "    speed_x = 0\n",
    "    speed_y = 0\n",
    "    timebit = 0.02 #second\n",
    "    counter = 0\n",
    "    \n",
    "    motion_x=[]\n",
    "    motion_y=[]\n",
    "    \n",
    "    while me_x < distance_max\n",
    "        me_x,me_y,speed_x,speed_y= ski_a_bit(me_x,me_y,speed_x,speed_y, timebit)\n",
    "        counter += 1\n",
    "        if counter %10 ==0\n",
    "            push!(motion_x,me_x)\n",
    "            push!(motion_y,me_y)\n",
    "        end\n",
    "    end\n",
    "    \n",
    "    track_x,track_y,axis_x,axis_y=draw_track()\n",
    "    plot(axis_x,axis_y,seriestype = :scatter, leg = false) \n",
    "    plot!(track_x,track_y)\n",
    "    plot!(motion_x,motion_y, seriestype=:scatter)\n",
    "end\n",
    "    "
   ]
  },
  {
   "cell_type": "code",
   "execution_count": 55,
   "metadata": {},
   "outputs": [
    {
     "name": "stdout",
     "output_type": "stream",
     "text": [
      "Speed at ramp: 29.68 m/s'landing as angle 0.344291, speed at 45.10m/s, jumped 149.12m"
     ]
    },
    {
     "data": {
      "image/svg+xml": [
       "<?xml version=\"1.0\" encoding=\"utf-8\"?>\n",
       "<svg xmlns=\"http://www.w3.org/2000/svg\" xmlns:xlink=\"http://www.w3.org/1999/xlink\" width=\"600\" height=\"400\" viewBox=\"0 0 2400 1600\">\n",
       "<defs>\n",
       "  <clipPath id=\"clip100\">\n",
       "    <rect x=\"0\" y=\"0\" width=\"2400\" height=\"1600\"/>\n",
       "  </clipPath>\n",
       "</defs>\n",
       "<path clip-path=\"url(#clip100)\" d=\"\n",
       "M0 1600 L2400 1600 L2400 0 L0 0  Z\n",
       "  \" fill=\"#ffffff\" fill-rule=\"evenodd\" fill-opacity=\"1\"/>\n",
       "<defs>\n",
       "  <clipPath id=\"clip101\">\n",
       "    <rect x=\"480\" y=\"0\" width=\"1681\" height=\"1600\"/>\n",
       "  </clipPath>\n",
       "</defs>\n",
       "<path clip-path=\"url(#clip100)\" d=\"\n",
       "M163.774 1486.45 L2352.76 1486.45 L2352.76 47.2441 L163.774 47.2441  Z\n",
       "  \" fill=\"#ffffff\" fill-rule=\"evenodd\" fill-opacity=\"1\"/>\n",
       "<defs>\n",
       "  <clipPath id=\"clip102\">\n",
       "    <rect x=\"163\" y=\"47\" width=\"2190\" height=\"1440\"/>\n",
       "  </clipPath>\n",
       "</defs>\n",
       "<polyline clip-path=\"url(#clip102)\" style=\"stroke:#000000; stroke-width:2; stroke-opacity:0.1; fill:none\" points=\"\n",
       "  225.726,1486.45 225.726,47.2441 \n",
       "  \"/>\n",
       "<polyline clip-path=\"url(#clip102)\" style=\"stroke:#000000; stroke-width:2; stroke-opacity:0.1; fill:none\" points=\"\n",
       "  912.469,1486.45 912.469,47.2441 \n",
       "  \"/>\n",
       "<polyline clip-path=\"url(#clip102)\" style=\"stroke:#000000; stroke-width:2; stroke-opacity:0.1; fill:none\" points=\"\n",
       "  1599.21,1486.45 1599.21,47.2441 \n",
       "  \"/>\n",
       "<polyline clip-path=\"url(#clip102)\" style=\"stroke:#000000; stroke-width:2; stroke-opacity:0.1; fill:none\" points=\"\n",
       "  2285.95,1486.45 2285.95,47.2441 \n",
       "  \"/>\n",
       "<polyline clip-path=\"url(#clip100)\" style=\"stroke:#000000; stroke-width:4; stroke-opacity:1; fill:none\" points=\"\n",
       "  163.774,1486.45 2352.76,1486.45 \n",
       "  \"/>\n",
       "<polyline clip-path=\"url(#clip100)\" style=\"stroke:#000000; stroke-width:4; stroke-opacity:1; fill:none\" points=\"\n",
       "  225.726,1486.45 225.726,1469.18 \n",
       "  \"/>\n",
       "<polyline clip-path=\"url(#clip100)\" style=\"stroke:#000000; stroke-width:4; stroke-opacity:1; fill:none\" points=\"\n",
       "  912.469,1486.45 912.469,1469.18 \n",
       "  \"/>\n",
       "<polyline clip-path=\"url(#clip100)\" style=\"stroke:#000000; stroke-width:4; stroke-opacity:1; fill:none\" points=\"\n",
       "  1599.21,1486.45 1599.21,1469.18 \n",
       "  \"/>\n",
       "<polyline clip-path=\"url(#clip100)\" style=\"stroke:#000000; stroke-width:4; stroke-opacity:1; fill:none\" points=\"\n",
       "  2285.95,1486.45 2285.95,1469.18 \n",
       "  \"/>\n",
       "<path clip-path=\"url(#clip100)\" d=\"M 0 0 M225.726 1515.64 Q222.115 1515.64 220.287 1519.2 Q218.481 1522.75 218.481 1529.87 Q218.481 1536.98 220.287 1540.55 Q222.115 1544.09 225.726 1544.09 Q229.361 1544.09 231.166 1540.55 Q232.995 1536.98 232.995 1529.87 Q232.995 1522.75 231.166 1519.2 Q229.361 1515.64 225.726 1515.64 M225.726 1511.93 Q231.537 1511.93 234.592 1516.54 Q237.671 1521.12 237.671 1529.87 Q237.671 1538.6 234.592 1543.21 Q231.537 1547.79 225.726 1547.79 Q219.916 1547.79 216.838 1543.21 Q213.782 1538.6 213.782 1529.87 Q213.782 1521.12 216.838 1516.54 Q219.916 1511.93 225.726 1511.93 Z\" fill=\"#000000\" fill-rule=\"evenodd\" fill-opacity=\"1\" /><path clip-path=\"url(#clip100)\" d=\"M 0 0 M875.838 1543.18 L883.476 1543.18 L883.476 1516.82 L875.166 1518.49 L875.166 1514.23 L883.43 1512.56 L888.106 1512.56 L888.106 1543.18 L895.745 1543.18 L895.745 1547.12 L875.838 1547.12 L875.838 1543.18 Z\" fill=\"#000000\" fill-rule=\"evenodd\" fill-opacity=\"1\" /><path clip-path=\"url(#clip100)\" d=\"M 0 0 M910.814 1515.64 Q907.203 1515.64 905.374 1519.2 Q903.569 1522.75 903.569 1529.87 Q903.569 1536.98 905.374 1540.55 Q907.203 1544.09 910.814 1544.09 Q914.448 1544.09 916.254 1540.55 Q918.083 1536.98 918.083 1529.87 Q918.083 1522.75 916.254 1519.2 Q914.448 1515.64 910.814 1515.64 M910.814 1511.93 Q916.624 1511.93 919.68 1516.54 Q922.759 1521.12 922.759 1529.87 Q922.759 1538.6 919.68 1543.21 Q916.624 1547.79 910.814 1547.79 Q905.004 1547.79 901.925 1543.21 Q898.87 1538.6 898.87 1529.87 Q898.87 1521.12 901.925 1516.54 Q905.004 1511.93 910.814 1511.93 Z\" fill=\"#000000\" fill-rule=\"evenodd\" fill-opacity=\"1\" /><path clip-path=\"url(#clip100)\" d=\"M 0 0 M937.828 1515.64 Q934.217 1515.64 932.388 1519.2 Q930.583 1522.75 930.583 1529.87 Q930.583 1536.98 932.388 1540.55 Q934.217 1544.09 937.828 1544.09 Q941.462 1544.09 943.268 1540.55 Q945.096 1536.98 945.096 1529.87 Q945.096 1522.75 943.268 1519.2 Q941.462 1515.64 937.828 1515.64 M937.828 1511.93 Q943.638 1511.93 946.694 1516.54 Q949.772 1521.12 949.772 1529.87 Q949.772 1538.6 946.694 1543.21 Q943.638 1547.79 937.828 1547.79 Q932.018 1547.79 928.939 1543.21 Q925.884 1538.6 925.884 1529.87 Q925.884 1521.12 928.939 1516.54 Q932.018 1511.93 937.828 1511.93 Z\" fill=\"#000000\" fill-rule=\"evenodd\" fill-opacity=\"1\" /><path clip-path=\"url(#clip100)\" d=\"M 0 0 M1566.85 1543.18 L1583.17 1543.18 L1583.17 1547.12 L1561.23 1547.12 L1561.23 1543.18 Q1563.89 1540.43 1568.47 1535.8 Q1573.08 1531.15 1574.26 1529.81 Q1576.5 1527.28 1577.38 1525.55 Q1578.29 1523.79 1578.29 1522.1 Q1578.29 1519.34 1576.34 1517.61 Q1574.42 1515.87 1571.32 1515.87 Q1569.12 1515.87 1566.67 1516.63 Q1564.24 1517.4 1561.46 1518.95 L1561.46 1514.23 Q1564.28 1513.09 1566.74 1512.51 Q1569.19 1511.93 1571.23 1511.93 Q1576.6 1511.93 1579.79 1514.62 Q1582.99 1517.31 1582.99 1521.8 Q1582.99 1523.93 1582.18 1525.85 Q1581.39 1527.74 1579.28 1530.34 Q1578.7 1531.01 1575.6 1534.23 Q1572.5 1537.42 1566.85 1543.18 Z\" fill=\"#000000\" fill-rule=\"evenodd\" fill-opacity=\"1\" /><path clip-path=\"url(#clip100)\" d=\"M 0 0 M1598.24 1515.64 Q1594.63 1515.64 1592.8 1519.2 Q1590.99 1522.75 1590.99 1529.87 Q1590.99 1536.98 1592.8 1540.55 Q1594.63 1544.09 1598.24 1544.09 Q1601.87 1544.09 1603.68 1540.55 Q1605.51 1536.98 1605.51 1529.87 Q1605.51 1522.75 1603.68 1519.2 Q1601.87 1515.64 1598.24 1515.64 M1598.24 1511.93 Q1604.05 1511.93 1607.11 1516.54 Q1610.18 1521.12 1610.18 1529.87 Q1610.18 1538.6 1607.11 1543.21 Q1604.05 1547.79 1598.24 1547.79 Q1592.43 1547.79 1589.35 1543.21 Q1586.3 1538.6 1586.3 1529.87 Q1586.3 1521.12 1589.35 1516.54 Q1592.43 1511.93 1598.24 1511.93 Z\" fill=\"#000000\" fill-rule=\"evenodd\" fill-opacity=\"1\" /><path clip-path=\"url(#clip100)\" d=\"M 0 0 M1625.25 1515.64 Q1621.64 1515.64 1619.81 1519.2 Q1618.01 1522.75 1618.01 1529.87 Q1618.01 1536.98 1619.81 1540.55 Q1621.64 1544.09 1625.25 1544.09 Q1628.89 1544.09 1630.69 1540.55 Q1632.52 1536.98 1632.52 1529.87 Q1632.52 1522.75 1630.69 1519.2 Q1628.89 1515.64 1625.25 1515.64 M1625.25 1511.93 Q1631.06 1511.93 1634.12 1516.54 Q1637.2 1521.12 1637.2 1529.87 Q1637.2 1538.6 1634.12 1543.21 Q1631.06 1547.79 1625.25 1547.79 Q1619.44 1547.79 1616.36 1543.21 Q1613.31 1538.6 1613.31 1529.87 Q1613.31 1521.12 1616.36 1516.54 Q1619.44 1511.93 1625.25 1511.93 Z\" fill=\"#000000\" fill-rule=\"evenodd\" fill-opacity=\"1\" /><path clip-path=\"url(#clip100)\" d=\"M 0 0 M2263.19 1528.49 Q2266.55 1529.2 2268.42 1531.47 Q2270.32 1533.74 2270.32 1537.07 Q2270.32 1542.19 2266.8 1544.99 Q2263.28 1547.79 2256.8 1547.79 Q2254.62 1547.79 2252.31 1547.35 Q2250.02 1546.93 2247.56 1546.08 L2247.56 1541.56 Q2249.51 1542.7 2251.82 1543.28 Q2254.14 1543.86 2256.66 1543.86 Q2261.06 1543.86 2263.35 1542.12 Q2265.67 1540.38 2265.67 1537.07 Q2265.67 1534.02 2263.51 1532.31 Q2261.38 1530.57 2257.56 1530.57 L2253.54 1530.57 L2253.54 1526.73 L2257.75 1526.73 Q2261.2 1526.73 2263.03 1525.36 Q2264.86 1523.97 2264.86 1521.38 Q2264.86 1518.72 2262.96 1517.31 Q2261.08 1515.87 2257.56 1515.87 Q2255.64 1515.87 2253.44 1516.29 Q2251.24 1516.7 2248.61 1517.58 L2248.61 1513.42 Q2251.27 1512.68 2253.58 1512.31 Q2255.92 1511.93 2257.98 1511.93 Q2263.3 1511.93 2266.41 1514.37 Q2269.51 1516.77 2269.51 1520.89 Q2269.51 1523.76 2267.86 1525.75 Q2266.22 1527.72 2263.19 1528.49 Z\" fill=\"#000000\" fill-rule=\"evenodd\" fill-opacity=\"1\" /><path clip-path=\"url(#clip100)\" d=\"M 0 0 M2285.39 1515.64 Q2281.78 1515.64 2279.95 1519.2 Q2278.14 1522.75 2278.14 1529.87 Q2278.14 1536.98 2279.95 1540.55 Q2281.78 1544.09 2285.39 1544.09 Q2289.02 1544.09 2290.83 1540.55 Q2292.66 1536.98 2292.66 1529.87 Q2292.66 1522.75 2290.83 1519.2 Q2289.02 1515.64 2285.39 1515.64 M2285.39 1511.93 Q2291.2 1511.93 2294.25 1516.54 Q2297.33 1521.12 2297.33 1529.87 Q2297.33 1538.6 2294.25 1543.21 Q2291.2 1547.79 2285.39 1547.79 Q2279.58 1547.79 2276.5 1543.21 Q2273.44 1538.6 2273.44 1529.87 Q2273.44 1521.12 2276.5 1516.54 Q2279.58 1511.93 2285.39 1511.93 Z\" fill=\"#000000\" fill-rule=\"evenodd\" fill-opacity=\"1\" /><path clip-path=\"url(#clip100)\" d=\"M 0 0 M2312.4 1515.64 Q2308.79 1515.64 2306.96 1519.2 Q2305.16 1522.75 2305.16 1529.87 Q2305.16 1536.98 2306.96 1540.55 Q2308.79 1544.09 2312.4 1544.09 Q2316.04 1544.09 2317.84 1540.55 Q2319.67 1536.98 2319.67 1529.87 Q2319.67 1522.75 2317.84 1519.2 Q2316.04 1515.64 2312.4 1515.64 M2312.4 1511.93 Q2318.21 1511.93 2321.27 1516.54 Q2324.35 1521.12 2324.35 1529.87 Q2324.35 1538.6 2321.27 1543.21 Q2318.21 1547.79 2312.4 1547.79 Q2306.59 1547.79 2303.51 1543.21 Q2300.46 1538.6 2300.46 1529.87 Q2300.46 1521.12 2303.51 1516.54 Q2306.59 1511.93 2312.4 1511.93 Z\" fill=\"#000000\" fill-rule=\"evenodd\" fill-opacity=\"1\" /><polyline clip-path=\"url(#clip102)\" style=\"stroke:#000000; stroke-width:2; stroke-opacity:0.1; fill:none\" points=\"\n",
       "  163.774,1444.05 2352.76,1444.05 \n",
       "  \"/>\n",
       "<polyline clip-path=\"url(#clip102)\" style=\"stroke:#000000; stroke-width:2; stroke-opacity:0.1; fill:none\" points=\"\n",
       "  163.774,992.025 2352.76,992.025 \n",
       "  \"/>\n",
       "<polyline clip-path=\"url(#clip102)\" style=\"stroke:#000000; stroke-width:2; stroke-opacity:0.1; fill:none\" points=\"\n",
       "  163.774,540.001 2352.76,540.001 \n",
       "  \"/>\n",
       "<polyline clip-path=\"url(#clip102)\" style=\"stroke:#000000; stroke-width:2; stroke-opacity:0.1; fill:none\" points=\"\n",
       "  163.774,87.9763 2352.76,87.9763 \n",
       "  \"/>\n",
       "<polyline clip-path=\"url(#clip100)\" style=\"stroke:#000000; stroke-width:4; stroke-opacity:1; fill:none\" points=\"\n",
       "  163.774,1486.45 163.774,47.2441 \n",
       "  \"/>\n",
       "<polyline clip-path=\"url(#clip100)\" style=\"stroke:#000000; stroke-width:4; stroke-opacity:1; fill:none\" points=\"\n",
       "  163.774,1444.05 190.042,1444.05 \n",
       "  \"/>\n",
       "<polyline clip-path=\"url(#clip100)\" style=\"stroke:#000000; stroke-width:4; stroke-opacity:1; fill:none\" points=\"\n",
       "  163.774,992.025 190.042,992.025 \n",
       "  \"/>\n",
       "<polyline clip-path=\"url(#clip100)\" style=\"stroke:#000000; stroke-width:4; stroke-opacity:1; fill:none\" points=\"\n",
       "  163.774,540.001 190.042,540.001 \n",
       "  \"/>\n",
       "<polyline clip-path=\"url(#clip100)\" style=\"stroke:#000000; stroke-width:4; stroke-opacity:1; fill:none\" points=\"\n",
       "  163.774,87.9763 190.042,87.9763 \n",
       "  \"/>\n",
       "<path clip-path=\"url(#clip100)\" d=\"M 0 0 M115.83 1429.85 Q112.219 1429.85 110.39 1433.41 Q108.584 1436.96 108.584 1444.08 Q108.584 1451.19 110.39 1454.76 Q112.219 1458.3 115.83 1458.3 Q119.464 1458.3 121.27 1454.76 Q123.098 1451.19 123.098 1444.08 Q123.098 1436.96 121.27 1433.41 Q119.464 1429.85 115.83 1429.85 M115.83 1426.14 Q121.64 1426.14 124.695 1430.75 Q127.774 1435.33 127.774 1444.08 Q127.774 1452.81 124.695 1457.42 Q121.64 1462 115.83 1462 Q110.02 1462 106.941 1457.42 Q103.885 1452.81 103.885 1444.08 Q103.885 1435.33 106.941 1430.75 Q110.02 1426.14 115.83 1426.14 Z\" fill=\"#000000\" fill-rule=\"evenodd\" fill-opacity=\"1\" /><path clip-path=\"url(#clip100)\" d=\"M 0 0 M53.8393 1005.37 L61.4782 1005.37 L61.4782 979.005 L53.168 980.671 L53.168 976.412 L61.4319 974.745 L66.1078 974.745 L66.1078 1005.37 L73.7466 1005.37 L73.7466 1009.31 L53.8393 1009.31 L53.8393 1005.37 Z\" fill=\"#000000\" fill-rule=\"evenodd\" fill-opacity=\"1\" /><path clip-path=\"url(#clip100)\" d=\"M 0 0 M88.816 977.824 Q85.2049 977.824 83.3762 981.389 Q81.5707 984.931 81.5707 992.06 Q81.5707 999.167 83.3762 1002.73 Q85.2049 1006.27 88.816 1006.27 Q92.4502 1006.27 94.2558 1002.73 Q96.0845 999.167 96.0845 992.06 Q96.0845 984.931 94.2558 981.389 Q92.4502 977.824 88.816 977.824 M88.816 974.12 Q94.6262 974.12 97.6817 978.727 Q100.76 983.31 100.76 992.06 Q100.76 1000.79 97.6817 1005.39 Q94.6262 1009.98 88.816 1009.98 Q83.0058 1009.98 79.9272 1005.39 Q76.8716 1000.79 76.8716 992.06 Q76.8716 983.31 79.9272 978.727 Q83.0058 974.12 88.816 974.12 Z\" fill=\"#000000\" fill-rule=\"evenodd\" fill-opacity=\"1\" /><path clip-path=\"url(#clip100)\" d=\"M 0 0 M115.83 977.824 Q112.219 977.824 110.39 981.389 Q108.584 984.931 108.584 992.06 Q108.584 999.167 110.39 1002.73 Q112.219 1006.27 115.83 1006.27 Q119.464 1006.27 121.27 1002.73 Q123.098 999.167 123.098 992.06 Q123.098 984.931 121.27 981.389 Q119.464 977.824 115.83 977.824 M115.83 974.12 Q121.64 974.12 124.695 978.727 Q127.774 983.31 127.774 992.06 Q127.774 1000.79 124.695 1005.39 Q121.64 1009.98 115.83 1009.98 Q110.02 1009.98 106.941 1005.39 Q103.885 1000.79 103.885 992.06 Q103.885 983.31 106.941 978.727 Q110.02 974.12 115.83 974.12 Z\" fill=\"#000000\" fill-rule=\"evenodd\" fill-opacity=\"1\" /><path clip-path=\"url(#clip100)\" d=\"M 0 0 M57.4273 553.346 L73.7466 553.346 L73.7466 557.281 L51.8023 557.281 L51.8023 553.346 Q54.4643 550.591 59.0476 545.961 Q63.6541 541.309 64.8346 539.966 Q67.08 537.443 67.9596 535.707 Q68.8624 533.948 68.8624 532.258 Q68.8624 529.503 66.918 527.767 Q64.9967 526.031 61.8948 526.031 Q59.6958 526.031 57.2421 526.795 Q54.8115 527.559 52.0338 529.11 L52.0338 524.387 Q54.8578 523.253 57.3115 522.675 Q59.7652 522.096 61.8023 522.096 Q67.1726 522.096 70.367 524.781 Q73.5614 527.466 73.5614 531.957 Q73.5614 534.087 72.7513 536.008 Q71.9642 537.906 69.8578 540.499 Q69.2791 541.17 66.1772 544.387 Q63.0754 547.582 57.4273 553.346 Z\" fill=\"#000000\" fill-rule=\"evenodd\" fill-opacity=\"1\" /><path clip-path=\"url(#clip100)\" d=\"M 0 0 M88.816 525.8 Q85.2049 525.8 83.3762 529.364 Q81.5707 532.906 81.5707 540.036 Q81.5707 547.142 83.3762 550.707 Q85.2049 554.248 88.816 554.248 Q92.4502 554.248 94.2558 550.707 Q96.0845 547.142 96.0845 540.036 Q96.0845 532.906 94.2558 529.364 Q92.4502 525.8 88.816 525.8 M88.816 522.096 Q94.6262 522.096 97.6817 526.702 Q100.76 531.286 100.76 540.036 Q100.76 548.762 97.6817 553.369 Q94.6262 557.952 88.816 557.952 Q83.0058 557.952 79.9272 553.369 Q76.8716 548.762 76.8716 540.036 Q76.8716 531.286 79.9272 526.702 Q83.0058 522.096 88.816 522.096 Z\" fill=\"#000000\" fill-rule=\"evenodd\" fill-opacity=\"1\" /><path clip-path=\"url(#clip100)\" d=\"M 0 0 M115.83 525.8 Q112.219 525.8 110.39 529.364 Q108.584 532.906 108.584 540.036 Q108.584 547.142 110.39 550.707 Q112.219 554.248 115.83 554.248 Q119.464 554.248 121.27 550.707 Q123.098 547.142 123.098 540.036 Q123.098 532.906 121.27 529.364 Q119.464 525.8 115.83 525.8 M115.83 522.096 Q121.64 522.096 124.695 526.702 Q127.774 531.286 127.774 540.036 Q127.774 548.762 124.695 553.369 Q121.64 557.952 115.83 557.952 Q110.02 557.952 106.941 553.369 Q103.885 548.762 103.885 540.036 Q103.885 531.286 106.941 526.702 Q110.02 522.096 115.83 522.096 Z\" fill=\"#000000\" fill-rule=\"evenodd\" fill-opacity=\"1\" /><path clip-path=\"url(#clip100)\" d=\"M 0 0 M66.617 86.6221 Q69.9735 87.3397 71.8485 89.6082 Q73.7466 91.8767 73.7466 95.21 Q73.7466 100.326 70.2281 103.127 Q66.7096 105.928 60.2282 105.928 Q58.0523 105.928 55.7375 105.488 Q53.4458 105.071 50.9921 104.215 L50.9921 99.7008 Q52.9366 100.835 55.2514 101.414 Q57.5662 101.992 60.0893 101.992 Q64.4874 101.992 66.7791 100.256 Q69.0939 98.5202 69.0939 95.21 Q69.0939 92.1545 66.9411 90.4415 Q64.8115 88.7054 60.9921 88.7054 L56.9643 88.7054 L56.9643 84.8629 L61.1773 84.8629 Q64.6263 84.8629 66.455 83.4971 Q68.2837 82.1083 68.2837 79.5157 Q68.2837 76.8537 66.3856 75.4416 Q64.5106 74.0064 60.9921 74.0064 Q59.0708 74.0064 56.8717 74.4231 Q54.6727 74.8398 52.0338 75.7194 L52.0338 71.5528 Q54.6958 70.812 57.0106 70.4416 Q59.3486 70.0713 61.4087 70.0713 Q66.7328 70.0713 69.8346 72.5018 Q72.9365 74.9092 72.9365 79.0296 Q72.9365 81.8999 71.2929 83.8907 Q69.6494 85.8582 66.617 86.6221 Z\" fill=\"#000000\" fill-rule=\"evenodd\" fill-opacity=\"1\" /><path clip-path=\"url(#clip100)\" d=\"M 0 0 M88.816 73.775 Q85.2049 73.775 83.3762 77.3398 Q81.5707 80.8814 81.5707 88.011 Q81.5707 95.1174 83.3762 98.6822 Q85.2049 102.224 88.816 102.224 Q92.4502 102.224 94.2558 98.6822 Q96.0845 95.1174 96.0845 88.011 Q96.0845 80.8814 94.2558 77.3398 Q92.4502 73.775 88.816 73.775 M88.816 70.0713 Q94.6262 70.0713 97.6817 74.6777 Q100.76 79.261 100.76 88.011 Q100.76 96.7378 97.6817 101.344 Q94.6262 105.928 88.816 105.928 Q83.0058 105.928 79.9272 101.344 Q76.8716 96.7378 76.8716 88.011 Q76.8716 79.261 79.9272 74.6777 Q83.0058 70.0713 88.816 70.0713 Z\" fill=\"#000000\" fill-rule=\"evenodd\" fill-opacity=\"1\" /><path clip-path=\"url(#clip100)\" d=\"M 0 0 M115.83 73.775 Q112.219 73.775 110.39 77.3398 Q108.584 80.8814 108.584 88.011 Q108.584 95.1174 110.39 98.6822 Q112.219 102.224 115.83 102.224 Q119.464 102.224 121.27 98.6822 Q123.098 95.1174 123.098 88.011 Q123.098 80.8814 121.27 77.3398 Q119.464 73.775 115.83 73.775 M115.83 70.0713 Q121.64 70.0713 124.695 74.6777 Q127.774 79.261 127.774 88.011 Q127.774 96.7378 124.695 101.344 Q121.64 105.928 115.83 105.928 Q110.02 105.928 106.941 101.344 Q103.885 96.7378 103.885 88.011 Q103.885 79.261 106.941 74.6777 Q110.02 70.0713 115.83 70.0713 Z\" fill=\"#000000\" fill-rule=\"evenodd\" fill-opacity=\"1\" /><circle clip-path=\"url(#clip102)\" cx=\"225.726\" cy=\"1444.05\" r=\"14\" fill=\"#009af9\" fill-rule=\"evenodd\" fill-opacity=\"1\" stroke=\"#000000\" stroke-opacity=\"1\" stroke-width=\"3.2\"/>\n",
       "<circle clip-path=\"url(#clip102)\" cx=\"2285.95\" cy=\"87.9763\" r=\"14\" fill=\"#009af9\" fill-rule=\"evenodd\" fill-opacity=\"1\" stroke=\"#000000\" stroke-opacity=\"1\" stroke-width=\"3.2\"/>\n",
       "<polyline clip-path=\"url(#clip102)\" style=\"stroke:#e26f46; stroke-width:4; stroke-opacity:1; fill:none\" points=\"\n",
       "  225.726,766.013 716.112,992.025 819.123,992.025 1918.14,1444.05 \n",
       "  \"/>\n",
       "<circle clip-path=\"url(#clip102)\" cx=\"226.353\" cy=\"766.302\" r=\"14\" fill=\"#3da44d\" fill-rule=\"evenodd\" fill-opacity=\"1\" stroke=\"#000000\" stroke-opacity=\"1\" stroke-width=\"3.2\"/>\n",
       "<circle clip-path=\"url(#clip102)\" cx=\"228.119\" cy=\"767.116\" r=\"14\" fill=\"#3da44d\" fill-rule=\"evenodd\" fill-opacity=\"1\" stroke=\"#000000\" stroke-opacity=\"1\" stroke-width=\"3.2\"/>\n",
       "<circle clip-path=\"url(#clip102)\" cx=\"231.025\" cy=\"768.455\" r=\"14\" fill=\"#3da44d\" fill-rule=\"evenodd\" fill-opacity=\"1\" stroke=\"#000000\" stroke-opacity=\"1\" stroke-width=\"3.2\"/>\n",
       "<circle clip-path=\"url(#clip102)\" cx=\"235.07\" cy=\"770.32\" r=\"14\" fill=\"#3da44d\" fill-rule=\"evenodd\" fill-opacity=\"1\" stroke=\"#000000\" stroke-opacity=\"1\" stroke-width=\"3.2\"/>\n",
       "<circle clip-path=\"url(#clip102)\" cx=\"240.255\" cy=\"772.709\" r=\"14\" fill=\"#3da44d\" fill-rule=\"evenodd\" fill-opacity=\"1\" stroke=\"#000000\" stroke-opacity=\"1\" stroke-width=\"3.2\"/>\n",
       "<circle clip-path=\"url(#clip102)\" cx=\"246.58\" cy=\"775.624\" r=\"14\" fill=\"#3da44d\" fill-rule=\"evenodd\" fill-opacity=\"1\" stroke=\"#000000\" stroke-opacity=\"1\" stroke-width=\"3.2\"/>\n",
       "<circle clip-path=\"url(#clip102)\" cx=\"254.043\" cy=\"779.064\" r=\"14\" fill=\"#3da44d\" fill-rule=\"evenodd\" fill-opacity=\"1\" stroke=\"#000000\" stroke-opacity=\"1\" stroke-width=\"3.2\"/>\n",
       "<circle clip-path=\"url(#clip102)\" cx=\"262.647\" cy=\"783.029\" r=\"14\" fill=\"#3da44d\" fill-rule=\"evenodd\" fill-opacity=\"1\" stroke=\"#000000\" stroke-opacity=\"1\" stroke-width=\"3.2\"/>\n",
       "<circle clip-path=\"url(#clip102)\" cx=\"272.39\" cy=\"787.52\" r=\"14\" fill=\"#3da44d\" fill-rule=\"evenodd\" fill-opacity=\"1\" stroke=\"#000000\" stroke-opacity=\"1\" stroke-width=\"3.2\"/>\n",
       "<circle clip-path=\"url(#clip102)\" cx=\"283.272\" cy=\"792.535\" r=\"14\" fill=\"#3da44d\" fill-rule=\"evenodd\" fill-opacity=\"1\" stroke=\"#000000\" stroke-opacity=\"1\" stroke-width=\"3.2\"/>\n",
       "<circle clip-path=\"url(#clip102)\" cx=\"295.294\" cy=\"798.076\" r=\"14\" fill=\"#3da44d\" fill-rule=\"evenodd\" fill-opacity=\"1\" stroke=\"#000000\" stroke-opacity=\"1\" stroke-width=\"3.2\"/>\n",
       "<circle clip-path=\"url(#clip102)\" cx=\"308.455\" cy=\"804.142\" r=\"14\" fill=\"#3da44d\" fill-rule=\"evenodd\" fill-opacity=\"1\" stroke=\"#000000\" stroke-opacity=\"1\" stroke-width=\"3.2\"/>\n",
       "<circle clip-path=\"url(#clip102)\" cx=\"322.756\" cy=\"810.733\" r=\"14\" fill=\"#3da44d\" fill-rule=\"evenodd\" fill-opacity=\"1\" stroke=\"#000000\" stroke-opacity=\"1\" stroke-width=\"3.2\"/>\n",
       "<circle clip-path=\"url(#clip102)\" cx=\"338.197\" cy=\"817.849\" r=\"14\" fill=\"#3da44d\" fill-rule=\"evenodd\" fill-opacity=\"1\" stroke=\"#000000\" stroke-opacity=\"1\" stroke-width=\"3.2\"/>\n",
       "<circle clip-path=\"url(#clip102)\" cx=\"354.777\" cy=\"825.491\" r=\"14\" fill=\"#3da44d\" fill-rule=\"evenodd\" fill-opacity=\"1\" stroke=\"#000000\" stroke-opacity=\"1\" stroke-width=\"3.2\"/>\n",
       "<circle clip-path=\"url(#clip102)\" cx=\"372.496\" cy=\"833.658\" r=\"14\" fill=\"#3da44d\" fill-rule=\"evenodd\" fill-opacity=\"1\" stroke=\"#000000\" stroke-opacity=\"1\" stroke-width=\"3.2\"/>\n",
       "<circle clip-path=\"url(#clip102)\" cx=\"391.355\" cy=\"842.349\" r=\"14\" fill=\"#3da44d\" fill-rule=\"evenodd\" fill-opacity=\"1\" stroke=\"#000000\" stroke-opacity=\"1\" stroke-width=\"3.2\"/>\n",
       "<circle clip-path=\"url(#clip102)\" cx=\"411.354\" cy=\"851.566\" r=\"14\" fill=\"#3da44d\" fill-rule=\"evenodd\" fill-opacity=\"1\" stroke=\"#000000\" stroke-opacity=\"1\" stroke-width=\"3.2\"/>\n",
       "<circle clip-path=\"url(#clip102)\" cx=\"432.492\" cy=\"861.309\" r=\"14\" fill=\"#3da44d\" fill-rule=\"evenodd\" fill-opacity=\"1\" stroke=\"#000000\" stroke-opacity=\"1\" stroke-width=\"3.2\"/>\n",
       "<circle clip-path=\"url(#clip102)\" cx=\"454.77\" cy=\"871.576\" r=\"14\" fill=\"#3da44d\" fill-rule=\"evenodd\" fill-opacity=\"1\" stroke=\"#000000\" stroke-opacity=\"1\" stroke-width=\"3.2\"/>\n",
       "<circle clip-path=\"url(#clip102)\" cx=\"478.187\" cy=\"882.369\" r=\"14\" fill=\"#3da44d\" fill-rule=\"evenodd\" fill-opacity=\"1\" stroke=\"#000000\" stroke-opacity=\"1\" stroke-width=\"3.2\"/>\n",
       "<circle clip-path=\"url(#clip102)\" cx=\"502.743\" cy=\"893.687\" r=\"14\" fill=\"#3da44d\" fill-rule=\"evenodd\" fill-opacity=\"1\" stroke=\"#000000\" stroke-opacity=\"1\" stroke-width=\"3.2\"/>\n",
       "<circle clip-path=\"url(#clip102)\" cx=\"528.44\" cy=\"905.53\" r=\"14\" fill=\"#3da44d\" fill-rule=\"evenodd\" fill-opacity=\"1\" stroke=\"#000000\" stroke-opacity=\"1\" stroke-width=\"3.2\"/>\n",
       "<circle clip-path=\"url(#clip102)\" cx=\"555.275\" cy=\"917.898\" r=\"14\" fill=\"#3da44d\" fill-rule=\"evenodd\" fill-opacity=\"1\" stroke=\"#000000\" stroke-opacity=\"1\" stroke-width=\"3.2\"/>\n",
       "<circle clip-path=\"url(#clip102)\" cx=\"583.25\" cy=\"930.791\" r=\"14\" fill=\"#3da44d\" fill-rule=\"evenodd\" fill-opacity=\"1\" stroke=\"#000000\" stroke-opacity=\"1\" stroke-width=\"3.2\"/>\n",
       "<circle clip-path=\"url(#clip102)\" cx=\"612.365\" cy=\"944.21\" r=\"14\" fill=\"#3da44d\" fill-rule=\"evenodd\" fill-opacity=\"1\" stroke=\"#000000\" stroke-opacity=\"1\" stroke-width=\"3.2\"/>\n",
       "<circle clip-path=\"url(#clip102)\" cx=\"642.619\" cy=\"958.154\" r=\"14\" fill=\"#3da44d\" fill-rule=\"evenodd\" fill-opacity=\"1\" stroke=\"#000000\" stroke-opacity=\"1\" stroke-width=\"3.2\"/>\n",
       "<circle clip-path=\"url(#clip102)\" cx=\"674.013\" cy=\"972.623\" r=\"14\" fill=\"#3da44d\" fill-rule=\"evenodd\" fill-opacity=\"1\" stroke=\"#000000\" stroke-opacity=\"1\" stroke-width=\"3.2\"/>\n",
       "<circle clip-path=\"url(#clip102)\" cx=\"706.546\" cy=\"987.617\" r=\"14\" fill=\"#3da44d\" fill-rule=\"evenodd\" fill-opacity=\"1\" stroke=\"#000000\" stroke-opacity=\"1\" stroke-width=\"3.2\"/>\n",
       "<circle clip-path=\"url(#clip102)\" cx=\"745.06\" cy=\"992.218\" r=\"14\" fill=\"#3da44d\" fill-rule=\"evenodd\" fill-opacity=\"1\" stroke=\"#000000\" stroke-opacity=\"1\" stroke-width=\"3.2\"/>\n",
       "<circle clip-path=\"url(#clip102)\" cx=\"785.819\" cy=\"992.218\" r=\"14\" fill=\"#3da44d\" fill-rule=\"evenodd\" fill-opacity=\"1\" stroke=\"#000000\" stroke-opacity=\"1\" stroke-width=\"3.2\"/>\n",
       "<circle clip-path=\"url(#clip102)\" cx=\"826.578\" cy=\"992.233\" r=\"14\" fill=\"#3da44d\" fill-rule=\"evenodd\" fill-opacity=\"1\" stroke=\"#000000\" stroke-opacity=\"1\" stroke-width=\"3.2\"/>\n",
       "<circle clip-path=\"url(#clip102)\" cx=\"867.337\" cy=\"993.271\" r=\"14\" fill=\"#3da44d\" fill-rule=\"evenodd\" fill-opacity=\"1\" stroke=\"#000000\" stroke-opacity=\"1\" stroke-width=\"3.2\"/>\n",
       "<circle clip-path=\"url(#clip102)\" cx=\"908.096\" cy=\"995.905\" r=\"14\" fill=\"#3da44d\" fill-rule=\"evenodd\" fill-opacity=\"1\" stroke=\"#000000\" stroke-opacity=\"1\" stroke-width=\"3.2\"/>\n",
       "<circle clip-path=\"url(#clip102)\" cx=\"948.855\" cy=\"1000.14\" r=\"14\" fill=\"#3da44d\" fill-rule=\"evenodd\" fill-opacity=\"1\" stroke=\"#000000\" stroke-opacity=\"1\" stroke-width=\"3.2\"/>\n",
       "<circle clip-path=\"url(#clip102)\" cx=\"989.615\" cy=\"1005.96\" r=\"14\" fill=\"#3da44d\" fill-rule=\"evenodd\" fill-opacity=\"1\" stroke=\"#000000\" stroke-opacity=\"1\" stroke-width=\"3.2\"/>\n",
       "<circle clip-path=\"url(#clip102)\" cx=\"1030.37\" cy=\"1013.39\" r=\"14\" fill=\"#3da44d\" fill-rule=\"evenodd\" fill-opacity=\"1\" stroke=\"#000000\" stroke-opacity=\"1\" stroke-width=\"3.2\"/>\n",
       "<circle clip-path=\"url(#clip102)\" cx=\"1071.13\" cy=\"1022.4\" r=\"14\" fill=\"#3da44d\" fill-rule=\"evenodd\" fill-opacity=\"1\" stroke=\"#000000\" stroke-opacity=\"1\" stroke-width=\"3.2\"/>\n",
       "<circle clip-path=\"url(#clip102)\" cx=\"1111.89\" cy=\"1033.02\" r=\"14\" fill=\"#3da44d\" fill-rule=\"evenodd\" fill-opacity=\"1\" stroke=\"#000000\" stroke-opacity=\"1\" stroke-width=\"3.2\"/>\n",
       "<circle clip-path=\"url(#clip102)\" cx=\"1152.65\" cy=\"1045.23\" r=\"14\" fill=\"#3da44d\" fill-rule=\"evenodd\" fill-opacity=\"1\" stroke=\"#000000\" stroke-opacity=\"1\" stroke-width=\"3.2\"/>\n",
       "<circle clip-path=\"url(#clip102)\" cx=\"1193.41\" cy=\"1059.04\" r=\"14\" fill=\"#3da44d\" fill-rule=\"evenodd\" fill-opacity=\"1\" stroke=\"#000000\" stroke-opacity=\"1\" stroke-width=\"3.2\"/>\n",
       "<circle clip-path=\"url(#clip102)\" cx=\"1234.17\" cy=\"1074.45\" r=\"14\" fill=\"#3da44d\" fill-rule=\"evenodd\" fill-opacity=\"1\" stroke=\"#000000\" stroke-opacity=\"1\" stroke-width=\"3.2\"/>\n",
       "<circle clip-path=\"url(#clip102)\" cx=\"1274.93\" cy=\"1091.45\" r=\"14\" fill=\"#3da44d\" fill-rule=\"evenodd\" fill-opacity=\"1\" stroke=\"#000000\" stroke-opacity=\"1\" stroke-width=\"3.2\"/>\n",
       "<circle clip-path=\"url(#clip102)\" cx=\"1315.69\" cy=\"1110.05\" r=\"14\" fill=\"#3da44d\" fill-rule=\"evenodd\" fill-opacity=\"1\" stroke=\"#000000\" stroke-opacity=\"1\" stroke-width=\"3.2\"/>\n",
       "<circle clip-path=\"url(#clip102)\" cx=\"1356.45\" cy=\"1130.24\" r=\"14\" fill=\"#3da44d\" fill-rule=\"evenodd\" fill-opacity=\"1\" stroke=\"#000000\" stroke-opacity=\"1\" stroke-width=\"3.2\"/>\n",
       "<circle clip-path=\"url(#clip102)\" cx=\"1397.21\" cy=\"1152.03\" r=\"14\" fill=\"#3da44d\" fill-rule=\"evenodd\" fill-opacity=\"1\" stroke=\"#000000\" stroke-opacity=\"1\" stroke-width=\"3.2\"/>\n",
       "<circle clip-path=\"url(#clip102)\" cx=\"1437.96\" cy=\"1175.42\" r=\"14\" fill=\"#3da44d\" fill-rule=\"evenodd\" fill-opacity=\"1\" stroke=\"#000000\" stroke-opacity=\"1\" stroke-width=\"3.2\"/>\n",
       "<circle clip-path=\"url(#clip102)\" cx=\"1478.72\" cy=\"1200.4\" r=\"14\" fill=\"#3da44d\" fill-rule=\"evenodd\" fill-opacity=\"1\" stroke=\"#000000\" stroke-opacity=\"1\" stroke-width=\"3.2\"/>\n",
       "<circle clip-path=\"url(#clip102)\" cx=\"1519.48\" cy=\"1226.98\" r=\"14\" fill=\"#3da44d\" fill-rule=\"evenodd\" fill-opacity=\"1\" stroke=\"#000000\" stroke-opacity=\"1\" stroke-width=\"3.2\"/>\n",
       "<circle clip-path=\"url(#clip102)\" cx=\"1560.24\" cy=\"1255.16\" r=\"14\" fill=\"#3da44d\" fill-rule=\"evenodd\" fill-opacity=\"1\" stroke=\"#000000\" stroke-opacity=\"1\" stroke-width=\"3.2\"/>\n",
       "<circle clip-path=\"url(#clip102)\" cx=\"1601\" cy=\"1284.93\" r=\"14\" fill=\"#3da44d\" fill-rule=\"evenodd\" fill-opacity=\"1\" stroke=\"#000000\" stroke-opacity=\"1\" stroke-width=\"3.2\"/>\n",
       "<circle clip-path=\"url(#clip102)\" cx=\"1641.76\" cy=\"1316.3\" r=\"14\" fill=\"#3da44d\" fill-rule=\"evenodd\" fill-opacity=\"1\" stroke=\"#000000\" stroke-opacity=\"1\" stroke-width=\"3.2\"/>\n",
       "<circle clip-path=\"url(#clip102)\" cx=\"1682.52\" cy=\"1349.26\" r=\"14\" fill=\"#3da44d\" fill-rule=\"evenodd\" fill-opacity=\"1\" stroke=\"#000000\" stroke-opacity=\"1\" stroke-width=\"3.2\"/>\n",
       "<circle clip-path=\"url(#clip102)\" cx=\"1732.79\" cy=\"1363.74\" r=\"14\" fill=\"#3da44d\" fill-rule=\"evenodd\" fill-opacity=\"1\" stroke=\"#000000\" stroke-opacity=\"1\" stroke-width=\"3.2\"/>\n",
       "<circle clip-path=\"url(#clip102)\" cx=\"1785.44\" cy=\"1387.39\" r=\"14\" fill=\"#3da44d\" fill-rule=\"evenodd\" fill-opacity=\"1\" stroke=\"#000000\" stroke-opacity=\"1\" stroke-width=\"3.2\"/>\n",
       "<circle clip-path=\"url(#clip102)\" cx=\"1838.09\" cy=\"1412.64\" r=\"14\" fill=\"#3da44d\" fill-rule=\"evenodd\" fill-opacity=\"1\" stroke=\"#000000\" stroke-opacity=\"1\" stroke-width=\"3.2\"/>\n",
       "<circle clip-path=\"url(#clip102)\" cx=\"1891.89\" cy=\"1428.78\" r=\"14\" fill=\"#3da44d\" fill-rule=\"evenodd\" fill-opacity=\"1\" stroke=\"#000000\" stroke-opacity=\"1\" stroke-width=\"3.2\"/>\n",
       "<circle clip-path=\"url(#clip102)\" cx=\"1951.76\" cy=\"1445.72\" r=\"14\" fill=\"#3da44d\" fill-rule=\"evenodd\" fill-opacity=\"1\" stroke=\"#000000\" stroke-opacity=\"1\" stroke-width=\"3.2\"/>\n",
       "<circle clip-path=\"url(#clip102)\" cx=\"2019.57\" cy=\"1445.72\" r=\"14\" fill=\"#3da44d\" fill-rule=\"evenodd\" fill-opacity=\"1\" stroke=\"#000000\" stroke-opacity=\"1\" stroke-width=\"3.2\"/>\n",
       "<circle clip-path=\"url(#clip102)\" cx=\"2087.38\" cy=\"1445.72\" r=\"14\" fill=\"#3da44d\" fill-rule=\"evenodd\" fill-opacity=\"1\" stroke=\"#000000\" stroke-opacity=\"1\" stroke-width=\"3.2\"/>\n",
       "<circle clip-path=\"url(#clip102)\" cx=\"2155.19\" cy=\"1445.72\" r=\"14\" fill=\"#3da44d\" fill-rule=\"evenodd\" fill-opacity=\"1\" stroke=\"#000000\" stroke-opacity=\"1\" stroke-width=\"3.2\"/>\n",
       "<circle clip-path=\"url(#clip102)\" cx=\"2223\" cy=\"1445.72\" r=\"14\" fill=\"#3da44d\" fill-rule=\"evenodd\" fill-opacity=\"1\" stroke=\"#000000\" stroke-opacity=\"1\" stroke-width=\"3.2\"/>\n",
       "<circle clip-path=\"url(#clip102)\" cx=\"2290.8\" cy=\"1445.72\" r=\"14\" fill=\"#3da44d\" fill-rule=\"evenodd\" fill-opacity=\"1\" stroke=\"#000000\" stroke-opacity=\"1\" stroke-width=\"3.2\"/>\n",
       "</svg>\n"
      ]
     },
     "execution_count": 55,
     "metadata": {},
     "output_type": "execute_result"
    }
   ],
   "source": [
    "draw_track()\n",
    "ski_a_bit(2,2,30,24,5)\n",
    "track_x,track_y=draw_track()\n",
    "ski()"
   ]
  },
  {
   "cell_type": "code",
   "execution_count": null,
   "metadata": {},
   "outputs": [],
   "source": []
  }
 ],
 "metadata": {
  "kernelspec": {
   "display_name": "Julia 1.5.3",
   "language": "julia",
   "name": "julia-1.5"
  },
  "language_info": {
   "file_extension": ".jl",
   "mimetype": "application/julia",
   "name": "julia",
   "version": "1.5.3"
  }
 },
 "nbformat": 4,
 "nbformat_minor": 5
}
